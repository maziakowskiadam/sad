{
 "cells": [
  {
   "cell_type": "markdown",
   "metadata": {},
   "source": [
    "Odświeżenie informacji z podstaw pandasa i numpy"
   ]
  },
  {
   "cell_type": "markdown",
   "metadata": {},
   "source": [
    "1. Zaimportuj pakiety pandas, numpy i matplotlib"
   ]
  },
  {
   "cell_type": "code",
   "execution_count": 1,
   "metadata": {
    "ExecuteTime": {
     "end_time": "2019-03-27T19:38:34.389871Z",
     "start_time": "2019-03-27T19:38:31.015276Z"
    }
   },
   "outputs": [],
   "source": [
    "import numpy as np\n",
    "import pandas as pd"
   ]
  },
  {
   "cell_type": "markdown",
   "metadata": {},
   "source": [
    "## Numpy"
   ]
  },
  {
   "cell_type": "markdown",
   "metadata": {},
   "source": [
    "1. Stwórz dziesięcioelementowy wektor składający się wyłącznie z samych zer "
   ]
  },
  {
   "cell_type": "code",
   "execution_count": null,
   "metadata": {
    "ExecuteTime": {
     "end_time": "2019-03-27T19:38:35.324340Z",
     "start_time": "2019-03-27T19:38:35.319339Z"
    }
   },
   "outputs": [],
   "source": []
  },
  {
   "cell_type": "markdown",
   "metadata": {},
   "source": [
    "2. Stwórz sześcioelementowy wektor składający się z samych jedynek, i zastąp drugi element wartością 4"
   ]
  },
  {
   "cell_type": "code",
   "execution_count": null,
   "metadata": {
    "ExecuteTime": {
     "end_time": "2019-03-27T19:38:56.105357Z",
     "start_time": "2019-03-27T19:38:56.097356Z"
    }
   },
   "outputs": [],
   "source": []
  },
  {
   "cell_type": "markdown",
   "metadata": {},
   "source": [
    "3. Stwórz wektor z wartościami od 1 do 15"
   ]
  },
  {
   "cell_type": "code",
   "execution_count": null,
   "metadata": {
    "ExecuteTime": {
     "end_time": "2019-03-27T19:39:10.974830Z",
     "start_time": "2019-03-27T19:39:10.970829Z"
    }
   },
   "outputs": [],
   "source": []
  },
  {
   "cell_type": "markdown",
   "metadata": {},
   "source": [
    "4. Odwróć kolejność wektora z zad 3."
   ]
  },
  {
   "cell_type": "code",
   "execution_count": null,
   "metadata": {
    "ExecuteTime": {
     "end_time": "2019-03-27T19:39:34.568945Z",
     "start_time": "2019-03-27T19:39:34.564935Z"
    }
   },
   "outputs": [],
   "source": []
  },
  {
   "cell_type": "markdown",
   "metadata": {},
   "source": [
    "5. Stwórz macierz wartości losowych o wymiarze 10 wierszy x 10 kolumn"
   ]
  },
  {
   "cell_type": "code",
   "execution_count": null,
   "metadata": {
    "ExecuteTime": {
     "end_time": "2019-03-27T19:39:56.131668Z",
     "start_time": "2019-03-27T19:39:56.127667Z"
    }
   },
   "outputs": [],
   "source": []
  },
  {
   "cell_type": "markdown",
   "metadata": {},
   "source": [
    "6. Jakim wyrażeniem sprawdzisz wymiary macierzy?"
   ]
  },
  {
   "cell_type": "code",
   "execution_count": null,
   "metadata": {
    "ExecuteTime": {
     "end_time": "2019-03-27T19:40:10.028800Z",
     "start_time": "2019-03-27T19:40:10.024799Z"
    }
   },
   "outputs": [],
   "source": []
  },
  {
   "cell_type": "markdown",
   "metadata": {
    "ExecuteTime": {
     "end_time": "2019-03-21T19:16:26.932631Z",
     "start_time": "2019-03-21T19:16:26.929639Z"
    }
   },
   "source": [
    "7. Stwórz macierz 6x6, wypełnij ją zerami, a diagonalną wypełnij liczbami od 1 do 6"
   ]
  },
  {
   "cell_type": "code",
   "execution_count": null,
   "metadata": {
    "ExecuteTime": {
     "end_time": "2019-03-27T19:43:19.995302Z",
     "start_time": "2019-03-27T19:43:19.988301Z"
    }
   },
   "outputs": [],
   "source": []
  },
  {
   "cell_type": "markdown",
   "metadata": {},
   "source": [
    "8. Stwórz losową macierz o wielkości 8x4, i następnie zestandaryzuj jej kolumny (dla każdej zmiennej, dla każdej jej wartości odejmij wartość średnią, i podziel przez odchylenie standardowe)"
   ]
  },
  {
   "cell_type": "code",
   "execution_count": null,
   "metadata": {
    "ExecuteTime": {
     "end_time": "2019-03-27T19:44:25.152061Z",
     "start_time": "2019-03-27T19:44:25.147059Z"
    }
   },
   "outputs": [],
   "source": []
  },
  {
   "cell_type": "markdown",
   "metadata": {},
   "source": [
    "9. Z losowej macierzy 6x6:\n",
    "    * wskaż element największy i jego indeks\n",
    "    * wskaż element najmniejszy i jego indeks"
   ]
  },
  {
   "cell_type": "code",
   "execution_count": null,
   "metadata": {
    "ExecuteTime": {
     "end_time": "2019-03-27T19:46:38.095825Z",
     "start_time": "2019-03-27T19:46:38.089833Z"
    }
   },
   "outputs": [],
   "source": []
  },
  {
   "cell_type": "markdown",
   "metadata": {},
   "source": [
    "10. Wszytkie elementy z wektora [1,0,2,3,4,0,2,0,0,2,0] będące powyżej zera, zastąp jedynką"
   ]
  },
  {
   "cell_type": "code",
   "execution_count": null,
   "metadata": {
    "ExecuteTime": {
     "end_time": "2019-03-27T19:47:13.775986Z",
     "start_time": "2019-03-27T19:47:13.772987Z"
    }
   },
   "outputs": [],
   "source": []
  },
  {
   "cell_type": "markdown",
   "metadata": {},
   "source": [
    "11. Znajdź niezerowe elementy wektora [0,0,1,2,0,1,13,0,-1]."
   ]
  },
  {
   "cell_type": "code",
   "execution_count": null,
   "metadata": {
    "ExecuteTime": {
     "end_time": "2019-03-27T19:48:11.710717Z",
     "start_time": "2019-03-27T19:48:11.706726Z"
    }
   },
   "outputs": [],
   "source": []
  },
  {
   "cell_type": "markdown",
   "metadata": {},
   "source": [
    "12. Stwórz losowy wektor 40-elementowy i znajdź jego średnią, medianę, odchylenie standardowe, pierwszy decyl, dziewiąty decyl, kwartyl1 i kwartyl3"
   ]
  },
  {
   "cell_type": "code",
   "execution_count": null,
   "metadata": {
    "ExecuteTime": {
     "end_time": "2019-03-27T19:50:41.838623Z",
     "start_time": "2019-03-27T19:50:41.833634Z"
    }
   },
   "outputs": [],
   "source": []
  },
  {
   "cell_type": "markdown",
   "metadata": {},
   "source": [
    "13. Posortuj powyższy wektor"
   ]
  },
  {
   "cell_type": "code",
   "execution_count": null,
   "metadata": {
    "ExecuteTime": {
     "end_time": "2019-03-27T19:50:53.014047Z",
     "start_time": "2019-03-27T19:50:53.011046Z"
    }
   },
   "outputs": [],
   "source": []
  },
  {
   "cell_type": "markdown",
   "metadata": {},
   "source": [
    "14. Stwórz 10-elementowy wektor z wartościami od 0 do 1, mającymi równe odstępy"
   ]
  },
  {
   "cell_type": "code",
   "execution_count": null,
   "metadata": {
    "ExecuteTime": {
     "end_time": "2019-03-27T19:51:02.230890Z",
     "start_time": "2019-03-27T19:51:02.226889Z"
    }
   },
   "outputs": [],
   "source": []
  },
  {
   "cell_type": "markdown",
   "metadata": {},
   "source": [
    "## Pandas"
   ]
  },
  {
   "cell_type": "markdown",
   "metadata": {},
   "source": [
    "Będziemy pracować na ramce danych (pandas.DataFrame):"
   ]
  },
  {
   "cell_type": "code",
   "execution_count": null,
   "metadata": {
    "ExecuteTime": {
     "end_time": "2019-03-27T19:52:58.964556Z",
     "start_time": "2019-03-27T19:52:58.959565Z"
    }
   },
   "outputs": [],
   "source": [
    "dane = {\n",
    "    'gender': ['m'] * 5 + ['f'] * 5,\n",
    "    'age': [23, 24, 25, 28, 32, 54, 21, np.nan, 45, np.nan],\n",
    "    'earnings': [2500, np.nan, 2700, 3400, 2500, 2900, 4300, 3400, 3250, 1100]\n",
    "}\n",
    "indeks = ['a', 'b', 'c', 'd', 'e', 'f', 'g', 'h', 'i', 'j']"
   ]
  },
  {
   "cell_type": "markdown",
   "metadata": {
    "ExecuteTime": {
     "end_time": "2019-03-21T19:43:57.751851Z",
     "start_time": "2019-03-21T19:43:57.743859Z"
    }
   },
   "source": [
    "16. Stwórz ramkę danych, w której dane będą zasilone słownikiem 'dane', a indeksy wierszy to lista 'indeks'"
   ]
  },
  {
   "cell_type": "code",
   "execution_count": null,
   "metadata": {
    "ExecuteTime": {
     "end_time": "2019-03-27T19:53:08.574609Z",
     "start_time": "2019-03-27T19:53:08.567607Z"
    }
   },
   "outputs": [],
   "source": []
  },
  {
   "cell_type": "markdown",
   "metadata": {},
   "source": [
    "17. Wyświetl typy zmiennych w ramce"
   ]
  },
  {
   "cell_type": "code",
   "execution_count": null,
   "metadata": {
    "ExecuteTime": {
     "end_time": "2019-03-27T19:53:28.215680Z",
     "start_time": "2019-03-27T19:53:28.210688Z"
    }
   },
   "outputs": [],
   "source": []
  },
  {
   "cell_type": "code",
   "execution_count": null,
   "metadata": {
    "ExecuteTime": {
     "end_time": "2019-03-27T19:53:34.456448Z",
     "start_time": "2019-03-27T19:53:34.450455Z"
    }
   },
   "outputs": [],
   "source": []
  },
  {
   "cell_type": "markdown",
   "metadata": {},
   "source": [
    "18. Wyświetl podstawowe statystyki opisowe za pomocą odpowiedniej metody"
   ]
  },
  {
   "cell_type": "code",
   "execution_count": null,
   "metadata": {
    "ExecuteTime": {
     "end_time": "2019-03-27T19:53:41.577385Z",
     "start_time": "2019-03-27T19:53:41.563382Z"
    }
   },
   "outputs": [],
   "source": []
  },
  {
   "cell_type": "markdown",
   "metadata": {},
   "source": [
    "19. Wyświetl pierwsze dwie obserwacje z ramki (dwoma sposobami)"
   ]
  },
  {
   "cell_type": "code",
   "execution_count": null,
   "metadata": {
    "ExecuteTime": {
     "end_time": "2019-03-27T19:53:57.332542Z",
     "start_time": "2019-03-27T19:53:57.324540Z"
    }
   },
   "outputs": [],
   "source": []
  },
  {
   "cell_type": "markdown",
   "metadata": {},
   "source": [
    "20. Wyświetl trzy ostatnie obserwacje z podanej ramki (dwoma sposobami)"
   ]
  },
  {
   "cell_type": "code",
   "execution_count": null,
   "metadata": {
    "ExecuteTime": {
     "end_time": "2019-03-27T19:54:15.974724Z",
     "start_time": "2019-03-27T19:54:15.967729Z"
    }
   },
   "outputs": [],
   "source": []
  },
  {
   "cell_type": "markdown",
   "metadata": {},
   "source": [
    "21. Wyświetl kolumnę 'age' i 'earnings' "
   ]
  },
  {
   "cell_type": "code",
   "execution_count": null,
   "metadata": {
    "ExecuteTime": {
     "end_time": "2019-03-27T19:54:38.306186Z",
     "start_time": "2019-03-27T19:54:38.297183Z"
    }
   },
   "outputs": [],
   "source": []
  },
  {
   "cell_type": "markdown",
   "metadata": {},
   "source": [
    "22. Wyświetl ramkę zawierającą obserwacje nr 1,3,5 z kolumn 'gender' i 'earnings'"
   ]
  },
  {
   "cell_type": "code",
   "execution_count": null,
   "metadata": {
    "ExecuteTime": {
     "end_time": "2019-03-27T19:55:06.156979Z",
     "start_time": "2019-03-27T19:55:06.147963Z"
    }
   },
   "outputs": [],
   "source": []
  },
  {
   "cell_type": "markdown",
   "metadata": {
    "ExecuteTime": {
     "end_time": "2019-03-21T19:52:57.810236Z",
     "start_time": "2019-03-21T19:52:57.806236Z"
    }
   },
   "source": [
    "23. Wyświetl obserwacje, w których zarobki są niższe od 3000"
   ]
  },
  {
   "cell_type": "code",
   "execution_count": null,
   "metadata": {
    "ExecuteTime": {
     "end_time": "2019-03-27T19:55:20.046248Z",
     "start_time": "2019-03-27T19:55:20.037246Z"
    }
   },
   "outputs": [],
   "source": []
  },
  {
   "cell_type": "markdown",
   "metadata": {},
   "source": [
    "24. Wyświetl obserwacje, w których znajdują się  braki danych"
   ]
  },
  {
   "cell_type": "code",
   "execution_count": null,
   "metadata": {
    "ExecuteTime": {
     "end_time": "2019-03-27T19:55:36.496555Z",
     "start_time": "2019-03-27T19:55:36.487553Z"
    }
   },
   "outputs": [],
   "source": []
  },
  {
   "cell_type": "markdown",
   "metadata": {
    "ExecuteTime": {
     "end_time": "2019-03-21T19:54:35.011423Z",
     "start_time": "2019-03-21T19:54:35.007423Z"
    }
   },
   "source": [
    "25. Wyświetl obserwacje, w których nie znajdują się żadne braki danych"
   ]
  },
  {
   "cell_type": "code",
   "execution_count": null,
   "metadata": {
    "ExecuteTime": {
     "end_time": "2019-03-27T19:55:43.185254Z",
     "start_time": "2019-03-27T19:55:43.176261Z"
    }
   },
   "outputs": [],
   "source": []
  },
  {
   "cell_type": "markdown",
   "metadata": {},
   "source": [
    "26. Wyświetl obserwacje, gdzie wiek jest niższy od 30, zarobki wyższe od 3000"
   ]
  },
  {
   "cell_type": "code",
   "execution_count": null,
   "metadata": {
    "ExecuteTime": {
     "end_time": "2019-03-27T19:56:13.324837Z",
     "start_time": "2019-03-27T19:56:13.314835Z"
    }
   },
   "outputs": [],
   "source": [
    "\n",
    "\n",
    "# more inspiration for SQL-like queries: https://pandas.pydata.org/pandas-docs/stable/reference/api/pandas.DataFrame.query.html "
   ]
  },
  {
   "cell_type": "markdown",
   "metadata": {},
   "source": [
    "27. Wyświetl obserwacje, w których wiek znajduje się w przedziale [20;25]"
   ]
  },
  {
   "cell_type": "code",
   "execution_count": null,
   "metadata": {
    "ExecuteTime": {
     "end_time": "2019-03-27T19:56:27.878597Z",
     "start_time": "2019-03-27T19:56:27.868603Z"
    }
   },
   "outputs": [],
   "source": []
  },
  {
   "cell_type": "markdown",
   "metadata": {},
   "source": [
    "28. Dodaj nowy wiersz o indeksie 'k' ['f',28, 3300]"
   ]
  },
  {
   "cell_type": "code",
   "execution_count": null,
   "metadata": {
    "ExecuteTime": {
     "end_time": "2019-03-27T19:57:43.417848Z",
     "start_time": "2019-03-27T19:57:43.412847Z"
    }
   },
   "outputs": [],
   "source": []
  },
  {
   "cell_type": "markdown",
   "metadata": {},
   "source": [
    "29. Usuń wiersz 'j' z ramki"
   ]
  },
  {
   "cell_type": "code",
   "execution_count": null,
   "metadata": {
    "ExecuteTime": {
     "end_time": "2019-03-27T19:57:57.610439Z",
     "start_time": "2019-03-27T19:57:57.607437Z"
    }
   },
   "outputs": [],
   "source": []
  },
  {
   "cell_type": "markdown",
   "metadata": {
    "ExecuteTime": {
     "end_time": "2019-03-21T19:59:22.558943Z",
     "start_time": "2019-03-21T19:59:22.555943Z"
    }
   },
   "source": [
    "30. Oblicz średnie wynagrodzenie w tym zbiorze"
   ]
  },
  {
   "cell_type": "code",
   "execution_count": null,
   "metadata": {
    "ExecuteTime": {
     "end_time": "2019-03-27T19:58:22.068805Z",
     "start_time": "2019-03-27T19:58:22.064805Z"
    }
   },
   "outputs": [],
   "source": []
  },
  {
   "cell_type": "markdown",
   "metadata": {},
   "source": [
    "31. Oblicz średnie wynagrodzenie wg płci"
   ]
  },
  {
   "cell_type": "code",
   "execution_count": null,
   "metadata": {
    "ExecuteTime": {
     "end_time": "2019-03-27T19:58:49.911127Z",
     "start_time": "2019-03-27T19:58:49.901125Z"
    }
   },
   "outputs": [],
   "source": []
  },
  {
   "cell_type": "markdown",
   "metadata": {},
   "source": [
    "32. Posortuj ramkę względem wieku malejąco"
   ]
  },
  {
   "cell_type": "code",
   "execution_count": null,
   "metadata": {
    "ExecuteTime": {
     "end_time": "2019-03-27T19:59:16.069383Z",
     "start_time": "2019-03-27T19:59:16.061389Z"
    }
   },
   "outputs": [],
   "source": []
  },
  {
   "cell_type": "markdown",
   "metadata": {},
   "source": [
    "33. Zamień w pierwszej kolumnie wszystkie wartości 'f' na 'female', a 'm' na 'male'"
   ]
  },
  {
   "cell_type": "code",
   "execution_count": null,
   "metadata": {
    "ExecuteTime": {
     "end_time": "2019-03-27T19:59:44.916931Z",
     "start_time": "2019-03-27T19:59:44.912930Z"
    }
   },
   "outputs": [],
   "source": []
  },
  {
   "cell_type": "markdown",
   "metadata": {},
   "source": [
    "34. Wskaż ile jest osób z podziałem na płeć w tym zbiorze"
   ]
  },
  {
   "cell_type": "code",
   "execution_count": null,
   "metadata": {
    "ExecuteTime": {
     "end_time": "2019-03-27T20:00:32.463529Z",
     "start_time": "2019-03-27T20:00:32.453535Z"
    }
   },
   "outputs": [],
   "source": []
  },
  {
   "cell_type": "markdown",
   "metadata": {},
   "source": [
    "35. Dla każdej płci wskaż średnie zarobki, i średni wiek"
   ]
  },
  {
   "cell_type": "code",
   "execution_count": null,
   "metadata": {},
   "outputs": [],
   "source": []
  },
  {
   "cell_type": "markdown",
   "metadata": {},
   "source": [
    "## Korelacja i regresja"
   ]
  },
  {
   "cell_type": "markdown",
   "metadata": {
    "ExecuteTime": {
     "end_time": "2019-03-27T20:00:40.806457Z",
     "start_time": "2019-03-27T20:00:40.798464Z"
    }
   },
   "source": [
    "<font color='blue'>**Korelacja** </font>. Do obliczania poziomu zależności liniowej między dwiema zmiennymi (X,Y) używamy współczynnika korelacji liniowej Pearsona. Przyjmuje on wartości z zakresu $[-1,1]$. \n",
    "\n",
    "$$ r_{xy} = \\frac{\\sum_{i=1}^{n}(x_i - \\overline{X})(y_i - \\overline{Y})}{\\sqrt{\\sum_{i=1}^{n}(x_i - \\overline{X})^2(y_i - \\overline{Y})^2}} $$\n",
    "\n",
    "gdzie: $\\overline{Y}, \\overline{X}$ to średnie wartości zmiennych\n",
    "\n",
    "Dodatnia wartość r mówi o tym, że wzrostowi jednej cechy odpowiada wzrost średnich wartości drugiej cechy. Wartość ujemna - wzrostowi wartości jednej cechy odpowiada spadek średnich wartości drugiej cechy. Wartość bezwzględna współczynnika korelacji Pearsona mówi o sile zależności. W pythonie można uzyskać macierz korelacji za pomocą ``np.corrcoef(x,y)``, a następnie wyciągnąć interesujący nas element macierzy. Alternatywą jest ``scipy.stats.pearsonr(x,y)`` i pierwszy element (czyli ten o indeksie zerowym) zwracanej krotki\n",
    "\n",
    "<font color='blue'>**Regresja**</font>\n",
    "\n",
    "O kształcie zależności mówi nam regresja. Dla cech X i Y, między którymi istnieje liniowa zależność korelacyjna można szacować parametry liniowej funkcji regresji.\n",
    "\n",
    "Regresja Y względem X:\n",
    "\n",
    "$$ \\hat{y} = a_y x + b_y$$\n",
    "\n",
    "$Y$ - cecha zależna, objaśniana\n",
    "$X$ - cecha niezależna, objaśniająca\n",
    "$a_y$ - współczynnik kierunkowy regresji, określa o ile jednostek przeciętnie zmieni się wartość cechy Y, gdy wartość cechy X wzrośnie o jedną jednostkę.\n",
    "\n",
    "$$ a_y = \\frac{\\sum_{i=1}^{n}(x_i - \\overline{X})(y_i - \\overline{Y})}{\\sum_{i=1}^{n}(x_i - \\overline{X})^2} $$ \n",
    "\n",
    "$ b_y $ - wyraz wolny\n",
    "$$ b_y = \\overline{Y} - a_y \\overline{X} $$\n",
    "\n",
    "Do oceny jakości dopasowania funkcji regresji możemy wykorzystać współczynnik determinacji $R^2$. Przyjmuje on wartości z zakresu $[0,1]$. Wyższe wartości oznaczają dobre dopasowanie. Mówi też on o tym jaka część zmienności zmiennej objaśnianej jest wyjaśniana przez model.\n",
    "\n",
    "$$ R^2 = r_{xy}^2 = \\frac{(\\hat{y}_t - \\overline{y})^2}{\\sum_{i=1}^{n}(y_t - \\overline{y})^2}$$\n",
    "\n",
    "Współczynnik zbieżności $\\varphi^2$ przyjmuje wartości z zakresu od $[0,1]$, i w przeciwieństwie do współczynnika determinacji dążymy do jak najmniejszej wartości.\n",
    "\n",
    "$$ \\varphi^2 = 1 - R^2 $$\n",
    "\n",
    "W pythonie możemy skorzystać z ``scipy.stats.linregress(x,y)``"
   ]
  },
  {
   "cell_type": "markdown",
   "metadata": {
    "ExecuteTime": {
     "end_time": "2019-04-03T20:22:53.420879Z",
     "start_time": "2019-04-03T20:22:53.413878Z"
    }
   },
   "source": [
    "<font color='red'>**Korelacja i regresja**</font> Chcąc zbadać zależność między ilością emitowanych dziennie w TV reklam pewnego proszku do prania a wysokością obrotów przeprowadzono badanie. Wyniki podano w poniższej tabeli:\n",
    "\n",
    "|Liczba reklam |\t3| \t4| \t5| \t6| \t5| \t7| \n",
    "| --- | --- | --- | --- | --- | --- |--- |\n",
    "|Obroty [tys. zł]| \t12| 13| 16| 18| 15| 22 |\n",
    "\n",
    "a) Sporządzić wykres rozrzutu. Obliczyć współczynnik korelacji Pearsona. Czy istnieje zależność między ilością reklam a wielkością obrotów? Jeżeli zależność istnieje to jaka jest jej siła? \n",
    "\n",
    "b) Wyznaczyć prostą regresji obrotów względem liczby reklam. Podać interpretację parametrów regresji.\n",
    "\n",
    "c) Wyznaczyć prostą regresji liczby reklam względem obrotów. Podać interpretację parametrów regresji.\n",
    "\n",
    "d) Jeśli zwiększymy ilość reklam do 8 dziennie, to jakie będą spodziewane obroty? \n",
    "\n",
    "e) Otrzymano obroty 17 tys. zł, jaka była przypuszczalna liczba reklam dziennie? \n",
    "\n",
    "f) W jakim procencie liczba reklam jest wyjaśniana przez obroty?\n",
    "\n",
    "g) Obliczyć współczynnik zbieżności. Zinterpretować otrzymany wynik. "
   ]
  },
  {
   "cell_type": "code",
   "execution_count": null,
   "metadata": {
    "ExecuteTime": {
     "end_time": "2019-04-19T17:08:32.853669Z",
     "start_time": "2019-04-19T17:08:32.850669Z"
    },
    "scrolled": true
   },
   "outputs": [],
   "source": [
    "reklamy = np.array([3, 4, 5, 6, 5, 7])\n",
    "obroty = np.array([12, 13, 16, 18, 15, 22])\n",
    "\n",
    "# a) wykres rozrzutu\n"
   ]
  },
  {
   "cell_type": "code",
   "execution_count": null,
   "metadata": {
    "ExecuteTime": {
     "end_time": "2019-04-19T17:10:12.877875Z",
     "start_time": "2019-04-19T17:10:12.875874Z"
    }
   },
   "outputs": [],
   "source": [
    "# pearson"
   ]
  },
  {
   "cell_type": "code",
   "execution_count": null,
   "metadata": {
    "ExecuteTime": {
     "end_time": "2019-04-19T16:51:01.601738Z",
     "start_time": "2019-04-19T16:51:01.596737Z"
    }
   },
   "outputs": [],
   "source": [
    "# reklamy względem obrotów"
   ]
  },
  {
   "cell_type": "code",
   "execution_count": null,
   "metadata": {
    "ExecuteTime": {
     "end_time": "2019-04-19T16:51:21.545871Z",
     "start_time": "2019-04-19T16:51:21.542871Z"
    }
   },
   "outputs": [],
   "source": [
    "# obroty  względem reklam"
   ]
  },
  {
   "cell_type": "code",
   "execution_count": null,
   "metadata": {
    "ExecuteTime": {
     "end_time": "2019-04-19T17:10:47.418213Z",
     "start_time": "2019-04-19T17:10:47.415212Z"
    },
    "scrolled": true
   },
   "outputs": [],
   "source": [
    "# ile wyniosą obroty, gdy reklamy = 5"
   ]
  },
  {
   "cell_type": "code",
   "execution_count": null,
   "metadata": {
    "ExecuteTime": {
     "end_time": "2019-04-19T16:52:58.125532Z",
     "start_time": "2019-04-19T16:52:58.120530Z"
    }
   },
   "outputs": [],
   "source": [
    "# ile było reklam jeśli obroty wyniosły 17"
   ]
  },
  {
   "cell_type": "code",
   "execution_count": null,
   "metadata": {
    "ExecuteTime": {
     "end_time": "2019-04-19T16:56:09.765582Z",
     "start_time": "2019-04-19T16:56:09.761581Z"
    }
   },
   "outputs": [],
   "source": [
    "# w ilu % jest wyjaśniana zmienności"
   ]
  },
  {
   "cell_type": "code",
   "execution_count": null,
   "metadata": {
    "ExecuteTime": {
     "end_time": "2019-04-19T16:56:45.975989Z",
     "start_time": "2019-04-19T16:56:45.972988Z"
    }
   },
   "outputs": [],
   "source": [
    "# współczynnik zbieżności"
   ]
  }
 ],
 "metadata": {
  "kernelspec": {
   "display_name": "Python 3",
   "language": "python",
   "name": "python3"
  },
  "language_info": {
   "codemirror_mode": {
    "name": "ipython",
    "version": 3
   },
   "file_extension": ".py",
   "mimetype": "text/x-python",
   "name": "python",
   "nbconvert_exporter": "python",
   "pygments_lexer": "ipython3",
   "version": "3.7.4"
  },
  "toc": {
   "base_numbering": 1,
   "nav_menu": {},
   "number_sections": true,
   "sideBar": true,
   "skip_h1_title": false,
   "title_cell": "Table of Contents",
   "title_sidebar": "Contents",
   "toc_cell": false,
   "toc_position": {},
   "toc_section_display": true,
   "toc_window_display": true
  },
  "varInspector": {
   "cols": {
    "lenName": 16,
    "lenType": 16,
    "lenVar": 40
   },
   "kernels_config": {
    "python": {
     "delete_cmd_postfix": "",
     "delete_cmd_prefix": "del ",
     "library": "var_list.py",
     "varRefreshCmd": "print(var_dic_list())"
    },
    "r": {
     "delete_cmd_postfix": ") ",
     "delete_cmd_prefix": "rm(",
     "library": "var_list.r",
     "varRefreshCmd": "cat(var_dic_list()) "
    }
   },
   "types_to_exclude": [
    "module",
    "function",
    "builtin_function_or_method",
    "instance",
    "_Feature"
   ],
   "window_display": false
  }
 },
 "nbformat": 4,
 "nbformat_minor": 2
}
