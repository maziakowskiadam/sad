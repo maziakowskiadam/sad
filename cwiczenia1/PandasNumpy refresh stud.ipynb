{
 "cells": [
  {
   "cell_type": "markdown",
   "metadata": {},
   "source": [
    "Odświeżenie informacji z podstaw pandasa i numpy"
   ]
  },
  {
   "cell_type": "markdown",
   "metadata": {},
   "source": [
    "1. Zaimportuj pakiety pandas, numpy i matplotlib"
   ]
  },
  {
   "cell_type": "code",
   "execution_count": 1,
   "metadata": {
    "ExecuteTime": {
     "end_time": "2019-03-27T19:38:34.389871Z",
     "start_time": "2019-03-27T19:38:31.015276Z"
    }
   },
   "outputs": [],
   "source": [
    "import numpy as np\n",
    "import pandas as pd"
   ]
  },
  {
   "cell_type": "markdown",
   "metadata": {},
   "source": [
    "## Numpy"
   ]
  },
  {
   "cell_type": "markdown",
   "metadata": {},
   "source": [
    "1. Stwórz dziesięcioelementowy wektor składający się wyłącznie z samych zer "
   ]
  },
  {
   "cell_type": "code",
   "execution_count": 3,
   "metadata": {
    "ExecuteTime": {
     "end_time": "2019-03-27T19:38:35.324340Z",
     "start_time": "2019-03-27T19:38:35.319339Z"
    }
   },
   "outputs": [
    {
     "data": {
      "text/plain": [
       "array([0., 0., 0., 0., 0., 0., 0., 0., 0., 0.])"
      ]
     },
     "execution_count": 3,
     "metadata": {},
     "output_type": "execute_result"
    }
   ],
   "source": [
    "# np.array([0] * 10)\n",
    "# np.zeros(10)"
   ]
  },
  {
   "cell_type": "markdown",
   "metadata": {},
   "source": [
    "2. Stwórz sześcioelementowy wektor składający się z samych jedynek, i zastąp drugi element wartością 4"
   ]
  },
  {
   "cell_type": "code",
   "execution_count": 5,
   "metadata": {
    "ExecuteTime": {
     "end_time": "2019-03-27T19:38:56.105357Z",
     "start_time": "2019-03-27T19:38:56.097356Z"
    }
   },
   "outputs": [
    {
     "data": {
      "text/plain": [
       "array([1., 4., 1., 1., 1., 1.])"
      ]
     },
     "execution_count": 5,
     "metadata": {},
     "output_type": "execute_result"
    }
   ],
   "source": [
    "wektor = np.ones(6)\n",
    "wektor[1] = 4\n",
    "wektor"
   ]
  },
  {
   "cell_type": "markdown",
   "metadata": {},
   "source": [
    "3. Stwórz wektor z wartościami od 1 do 15"
   ]
  },
  {
   "cell_type": "code",
   "execution_count": 8,
   "metadata": {
    "ExecuteTime": {
     "end_time": "2019-03-27T19:39:10.974830Z",
     "start_time": "2019-03-27T19:39:10.970829Z"
    }
   },
   "outputs": [
    {
     "data": {
      "text/plain": [
       "array([ 1,  2,  3,  4,  5,  6,  7,  8,  9, 10, 11, 12, 13, 14, 15])"
      ]
     },
     "execution_count": 8,
     "metadata": {},
     "output_type": "execute_result"
    }
   ],
   "source": [
    "wektor2 = np.arange(1, 16)\n",
    "wektor2"
   ]
  },
  {
   "cell_type": "markdown",
   "metadata": {},
   "source": [
    "4. Odwróć kolejność wektora z zad 3."
   ]
  },
  {
   "cell_type": "code",
   "execution_count": 12,
   "metadata": {
    "ExecuteTime": {
     "end_time": "2019-03-27T19:39:34.568945Z",
     "start_time": "2019-03-27T19:39:34.564935Z"
    }
   },
   "outputs": [],
   "source": [
    "# np.flip(wektor2)\n",
    "# wektor2[::-1]"
   ]
  },
  {
   "cell_type": "code",
   "execution_count": 13,
   "metadata": {},
   "outputs": [
    {
     "data": {
      "text/plain": [
       "'DASeibul'"
      ]
     },
     "execution_count": 13,
     "metadata": {},
     "output_type": "execute_result"
    }
   ],
   "source": [
    "text = 'lubieSAD'\n",
    "text[::-1]"
   ]
  },
  {
   "cell_type": "markdown",
   "metadata": {},
   "source": [
    "5. Stwórz macierz wartości losowych o wymiarze 10 wierszy x 10 kolumn"
   ]
  },
  {
   "cell_type": "code",
   "execution_count": 14,
   "metadata": {
    "ExecuteTime": {
     "end_time": "2019-03-27T19:39:56.131668Z",
     "start_time": "2019-03-27T19:39:56.127667Z"
    }
   },
   "outputs": [
    {
     "data": {
      "text/plain": [
       "array([[0.7104279 , 0.64905796, 0.73764742, 0.36530306, 0.40114889,\n",
       "        0.75714587, 0.65703398, 0.0399723 , 0.13974331, 0.31698949],\n",
       "       [0.86303696, 0.60307302, 0.36053829, 0.02261983, 0.53971593,\n",
       "        0.66052508, 0.35388766, 0.07142887, 0.88942096, 0.5353342 ],\n",
       "       [0.58289536, 0.4238141 , 0.06218773, 0.71243084, 0.70469255,\n",
       "        0.29261254, 0.76630309, 0.93372781, 0.78866341, 0.60018677],\n",
       "       [0.53630587, 0.41604324, 0.31353979, 0.43267317, 0.06758496,\n",
       "        0.54264283, 0.48316796, 0.49855808, 0.45032099, 0.10338618],\n",
       "       [0.2898574 , 0.45652586, 0.5612976 , 0.33268794, 0.86651123,\n",
       "        0.53250701, 0.79395247, 0.27313924, 0.28814555, 0.94654416],\n",
       "       [0.41775954, 0.25508228, 0.89925964, 0.26295378, 0.43542211,\n",
       "        0.65473767, 0.56414182, 0.24864956, 0.94350388, 0.10281246],\n",
       "       [0.01550635, 0.89696945, 0.13120271, 0.71663245, 0.75110785,\n",
       "        0.2393746 , 0.50922708, 0.73336418, 0.14492561, 0.37282313],\n",
       "       [0.97314437, 0.13907775, 0.78266894, 0.37368333, 0.54087614,\n",
       "        0.77656524, 0.16250695, 0.83301095, 0.53044764, 0.36634751],\n",
       "       [0.82087775, 0.87375201, 0.72619971, 0.25938875, 0.13136753,\n",
       "        0.95632337, 0.55818458, 0.5687838 , 0.72692176, 0.40899752],\n",
       "       [0.55095126, 0.65305091, 0.81459869, 0.01484647, 0.74063442,\n",
       "        0.50200855, 0.26006666, 0.41524717, 0.75269062, 0.04616005]])"
      ]
     },
     "execution_count": 14,
     "metadata": {},
     "output_type": "execute_result"
    }
   ],
   "source": [
    "macierz = np.random.rand(10, 10)\n",
    "macierz"
   ]
  },
  {
   "cell_type": "markdown",
   "metadata": {},
   "source": [
    "6. Jakim wyrażeniem sprawdzisz wymiary macierzy?"
   ]
  },
  {
   "cell_type": "code",
   "execution_count": 15,
   "metadata": {
    "ExecuteTime": {
     "end_time": "2019-03-27T19:40:10.028800Z",
     "start_time": "2019-03-27T19:40:10.024799Z"
    }
   },
   "outputs": [
    {
     "data": {
      "text/plain": [
       "(10, 10)"
      ]
     },
     "execution_count": 15,
     "metadata": {},
     "output_type": "execute_result"
    }
   ],
   "source": [
    "macierz.shape"
   ]
  },
  {
   "cell_type": "markdown",
   "metadata": {
    "ExecuteTime": {
     "end_time": "2019-03-21T19:16:26.932631Z",
     "start_time": "2019-03-21T19:16:26.929639Z"
    }
   },
   "source": [
    "7. Stwórz macierz 6x6, wypełnij ją zerami, a diagonalną wypełnij liczbami od 1 do 6"
   ]
  },
  {
   "cell_type": "code",
   "execution_count": 19,
   "metadata": {
    "ExecuteTime": {
     "end_time": "2019-03-27T19:43:19.995302Z",
     "start_time": "2019-03-27T19:43:19.988301Z"
    }
   },
   "outputs": [
    {
     "data": {
      "text/plain": [
       "array([[0., 0., 0., 0., 0., 0.],\n",
       "       [0., 0., 0., 0., 0., 0.],\n",
       "       [0., 0., 0., 0., 0., 0.],\n",
       "       [0., 0., 0., 0., 0., 0.],\n",
       "       [0., 0., 0., 0., 0., 0.],\n",
       "       [0., 0., 0., 0., 0., 0.]])"
      ]
     },
     "execution_count": 19,
     "metadata": {},
     "output_type": "execute_result"
    }
   ],
   "source": [
    "macierz_zer = np.zeros((6, 6))\n",
    "macierz_zer\n",
    "\n",
    "wektor16 = np.arange(1,7)\n",
    "wektor16\n",
    "\n",
    "np.fill_diagonal(macierz_zer, wektor16)\n",
    "macierz_zer\n",
    "\n",
    "np.diag(wektor16)\n",
    "\n",
    "macierz_zer = np.zeros((6,6))\n",
    "macierz_zer\n",
    "\n",
    "macierz_zer[np.diag_indices_from(macierz_zer)] = wektor16\n",
    "macierz_zer"
   ]
  },
  {
   "cell_type": "markdown",
   "metadata": {},
   "source": [
    "8. Stwórz losową macierz o wielkości 8x4, i następnie zestandaryzuj jej kolumny (dla każdej zmiennej, dla każdej jej wartości odejmij wartość średnią, i podziel przez odchylenie standardowe)"
   ]
  },
  {
   "cell_type": "code",
   "execution_count": 36,
   "metadata": {
    "ExecuteTime": {
     "end_time": "2019-03-27T19:44:25.152061Z",
     "start_time": "2019-03-27T19:44:25.147059Z"
    }
   },
   "outputs": [
    {
     "data": {
      "text/plain": [
       "array([[0.12518313, 0.14647605, 0.32492029, 0.55174204],\n",
       "       [0.80626394, 0.94066744, 0.90837184, 0.11853153],\n",
       "       [0.17399944, 0.90002852, 0.99917525, 0.97921747],\n",
       "       [0.51967563, 0.3559622 , 0.91695633, 0.35059482],\n",
       "       [0.63788494, 0.10636902, 0.25525268, 0.79011573],\n",
       "       [0.11546911, 0.26918279, 0.55301273, 0.63717352],\n",
       "       [0.83452324, 0.30984203, 0.79626906, 0.21247084],\n",
       "       [0.37215559, 0.49810481, 0.15482857, 0.94569446]])"
      ]
     },
     "execution_count": 36,
     "metadata": {},
     "output_type": "execute_result"
    }
   ],
   "source": [
    "macierz = np.random.rand(8, 4)\n",
    "macierz"
   ]
  },
  {
   "cell_type": "code",
   "execution_count": 41,
   "metadata": {},
   "outputs": [],
   "source": [
    "srednie = np.mean(macierz, axis=0) # 0 to kolumna, 1 to wiersz\n",
    "odchylenia = np.std(macierz, axis=0)"
   ]
  },
  {
   "cell_type": "code",
   "execution_count": null,
   "metadata": {},
   "outputs": [],
   "source": [
    "(macierz - srednie) / odchylenia"
   ]
  },
  {
   "cell_type": "markdown",
   "metadata": {},
   "source": [
    "9. Z losowej macierzy 6x6:\n",
    "    * wskaż element największy i jego indeks\n",
    "    * wskaż element najmniejszy i jego indeks"
   ]
  },
  {
   "cell_type": "code",
   "execution_count": 74,
   "metadata": {
    "ExecuteTime": {
     "end_time": "2019-03-27T19:46:38.095825Z",
     "start_time": "2019-03-27T19:46:38.089833Z"
    }
   },
   "outputs": [],
   "source": [
    "macierz_random = np.random.rand(6, 6)"
   ]
  },
  {
   "cell_type": "code",
   "execution_count": 78,
   "metadata": {},
   "outputs": [
    {
     "data": {
      "text/plain": [
       "0.9965228394564889"
      ]
     },
     "execution_count": 78,
     "metadata": {},
     "output_type": "execute_result"
    }
   ],
   "source": [
    "macierz_random.max()\n",
    "np.max(macierz_random)"
   ]
  },
  {
   "cell_type": "code",
   "execution_count": 83,
   "metadata": {},
   "outputs": [
    {
     "data": {
      "text/plain": [
       "(2, 5)"
      ]
     },
     "execution_count": 83,
     "metadata": {},
     "output_type": "execute_result"
    }
   ],
   "source": [
    "np.unravel_index(macierz_random.argmax(), macierz_random.shape)"
   ]
  },
  {
   "cell_type": "code",
   "execution_count": 86,
   "metadata": {},
   "outputs": [
    {
     "data": {
      "text/plain": [
       "(array([2], dtype=int64), array([5], dtype=int64))"
      ]
     },
     "execution_count": 86,
     "metadata": {},
     "output_type": "execute_result"
    }
   ],
   "source": [
    "np.where(macierz_random == macierz_random.max())"
   ]
  },
  {
   "cell_type": "code",
   "execution_count": 89,
   "metadata": {},
   "outputs": [
    {
     "data": {
      "text/plain": [
       "(array([5], dtype=int64), array([4], dtype=int64))"
      ]
     },
     "execution_count": 89,
     "metadata": {},
     "output_type": "execute_result"
    }
   ],
   "source": [
    "np.where(macierz_random == macierz_random.min())"
   ]
  },
  {
   "cell_type": "markdown",
   "metadata": {},
   "source": [
    "10. Wszytkie elementy z wektora [1,0,2,3,4,0,2,0,0,2,0] będące powyżej zera, zastąp jedynką"
   ]
  },
  {
   "cell_type": "code",
   "execution_count": 94,
   "metadata": {
    "ExecuteTime": {
     "end_time": "2019-03-27T19:47:13.775986Z",
     "start_time": "2019-03-27T19:47:13.772987Z"
    }
   },
   "outputs": [
    {
     "data": {
      "text/plain": [
       "array([1, 0, 1, 1, 1, 0, 1, 0, 0, 1, 0])"
      ]
     },
     "execution_count": 94,
     "metadata": {},
     "output_type": "execute_result"
    }
   ],
   "source": [
    "wektor = np.array([1,0,2,3,4,0,2,0,0,2,0])\n",
    "wektor[wektor > 0] = 1\n",
    "wektor"
   ]
  },
  {
   "cell_type": "markdown",
   "metadata": {},
   "source": [
    "11. Znajdź niezerowe elementy wektora [0,0,1,2,0,1,13,0,-1]."
   ]
  },
  {
   "cell_type": "code",
   "execution_count": 98,
   "metadata": {
    "ExecuteTime": {
     "end_time": "2019-03-27T19:48:11.710717Z",
     "start_time": "2019-03-27T19:48:11.706726Z"
    }
   },
   "outputs": [
    {
     "name": "stdout",
     "output_type": "stream",
     "text": [
      "[ 1  2  1 13 -1]\n"
     ]
    }
   ],
   "source": [
    "wektor2 = np.array([0,0,1,2,0,1,13,0,-1])\n",
    "wektor2 != 0\n",
    "print(wektor2[np.nonzero(wektor2)])"
   ]
  },
  {
   "cell_type": "markdown",
   "metadata": {},
   "source": [
    "12. Stwórz losowy wektor 40-elementowy i znajdź jego średnią, medianę, odchylenie standardowe, pierwszy decyl, dziewiąty decyl, kwartyl1 i kwartyl3"
   ]
  },
  {
   "cell_type": "code",
   "execution_count": 100,
   "metadata": {
    "ExecuteTime": {
     "end_time": "2019-03-27T19:50:41.838623Z",
     "start_time": "2019-03-27T19:50:41.833634Z"
    }
   },
   "outputs": [
    {
     "data": {
      "text/plain": [
       "array([0.15455981, 0.09649445, 0.15771663, 0.73387685, 0.80367719,\n",
       "       0.56324427, 0.00419376, 0.537219  , 0.12729846, 0.58870221,\n",
       "       0.41106774, 0.36207606, 0.84501397, 0.80687251, 0.3039614 ,\n",
       "       0.7012263 , 0.12767901, 0.55020133, 0.83310729, 0.01996818,\n",
       "       0.08698258, 0.45909508, 0.48767588, 0.43540605, 0.79392314,\n",
       "       0.05183681, 0.41363209, 0.5895996 , 0.81527398, 0.99657182,\n",
       "       0.32042087, 0.12702154, 0.9238243 , 0.74079754, 0.57180782,\n",
       "       0.76233849, 0.66590954, 0.3880994 , 0.65273001, 0.13885731])"
      ]
     },
     "execution_count": 100,
     "metadata": {},
     "output_type": "execute_result"
    }
   ],
   "source": [
    "wektor = np.random.rand(40)\n",
    "wektor"
   ]
  },
  {
   "cell_type": "code",
   "execution_count": 101,
   "metadata": {},
   "outputs": [
    {
     "data": {
      "text/plain": [
       "0.4787490073338718"
      ]
     },
     "execution_count": 101,
     "metadata": {},
     "output_type": "execute_result"
    }
   ],
   "source": [
    "np.mean(wektor)"
   ]
  },
  {
   "cell_type": "code",
   "execution_count": 108,
   "metadata": {},
   "outputs": [
    {
     "data": {
      "text/plain": [
       "0.5124474393963017"
      ]
     },
     "execution_count": 108,
     "metadata": {},
     "output_type": "execute_result"
    }
   ],
   "source": [
    "np.median(wektor)"
   ]
  },
  {
   "cell_type": "code",
   "execution_count": 110,
   "metadata": {},
   "outputs": [
    {
     "data": {
      "text/plain": [
       "0.28415552301180613"
      ]
     },
     "execution_count": 110,
     "metadata": {},
     "output_type": "execute_result"
    }
   ],
   "source": [
    "np.std(wektor)"
   ]
  },
  {
   "cell_type": "code",
   "execution_count": 111,
   "metadata": {},
   "outputs": [
    {
     "data": {
      "text/plain": [
       "0.1569274290005465"
      ]
     },
     "execution_count": 111,
     "metadata": {},
     "output_type": "execute_result"
    }
   ],
   "source": [
    "np.percentile(wektor, 25) # kwartyl1"
   ]
  },
  {
   "cell_type": "code",
   "execution_count": 113,
   "metadata": {},
   "outputs": [
    {
     "data": {
      "text/plain": [
       "0.735607021496511"
      ]
     },
     "execution_count": 113,
     "metadata": {},
     "output_type": "execute_result"
    }
   ],
   "source": [
    "np.percentile(wektor, 75) # kwartyl3"
   ]
  },
  {
   "cell_type": "code",
   "execution_count": 114,
   "metadata": {},
   "outputs": [
    {
     "data": {
      "text/plain": [
       "array([0.09554327, 0.81705731])"
      ]
     },
     "execution_count": 114,
     "metadata": {},
     "output_type": "execute_result"
    }
   ],
   "source": [
    "np.percentile(wektor, [10, 90]) # pierwszy decyl i dziesiąty decyl"
   ]
  },
  {
   "cell_type": "markdown",
   "metadata": {},
   "source": [
    "13. Posortuj powyższy wektor"
   ]
  },
  {
   "cell_type": "code",
   "execution_count": 117,
   "metadata": {
    "ExecuteTime": {
     "end_time": "2019-03-27T19:50:53.014047Z",
     "start_time": "2019-03-27T19:50:53.011046Z"
    }
   },
   "outputs": [
    {
     "data": {
      "text/plain": [
       "array([0.00419376, 0.01996818, 0.05183681, 0.08698258, 0.09649445,\n",
       "       0.12702154, 0.12729846, 0.12767901, 0.13885731, 0.15455981,\n",
       "       0.15771663, 0.3039614 , 0.32042087, 0.36207606, 0.3880994 ,\n",
       "       0.41106774, 0.41363209, 0.43540605, 0.45909508, 0.48767588,\n",
       "       0.537219  , 0.55020133, 0.56324427, 0.57180782, 0.58870221,\n",
       "       0.5895996 , 0.65273001, 0.66590954, 0.7012263 , 0.73387685,\n",
       "       0.74079754, 0.76233849, 0.79392314, 0.80367719, 0.80687251,\n",
       "       0.81527398, 0.83310729, 0.84501397, 0.9238243 , 0.99657182])"
      ]
     },
     "execution_count": 117,
     "metadata": {},
     "output_type": "execute_result"
    }
   ],
   "source": [
    "wektor.sort()\n",
    "wektor"
   ]
  },
  {
   "cell_type": "markdown",
   "metadata": {},
   "source": [
    "14. Stwórz 10-elementowy wektor z wartościami od 0 do 1, mającymi równe odstępy"
   ]
  },
  {
   "cell_type": "code",
   "execution_count": 118,
   "metadata": {
    "ExecuteTime": {
     "end_time": "2019-03-27T19:51:02.230890Z",
     "start_time": "2019-03-27T19:51:02.226889Z"
    }
   },
   "outputs": [
    {
     "data": {
      "text/plain": [
       "array([0. , 0.1, 0.2, 0.3, 0.4, 0.5, 0.6, 0.7, 0.8, 0.9, 1. ])"
      ]
     },
     "execution_count": 118,
     "metadata": {},
     "output_type": "execute_result"
    }
   ],
   "source": [
    "np.linspace(0, 1, 11)"
   ]
  },
  {
   "cell_type": "markdown",
   "metadata": {},
   "source": [
    "## Pandas"
   ]
  },
  {
   "cell_type": "markdown",
   "metadata": {},
   "source": [
    "Będziemy pracować na ramce danych (pandas.DataFrame):"
   ]
  },
  {
   "cell_type": "code",
   "execution_count": 120,
   "metadata": {
    "ExecuteTime": {
     "end_time": "2019-03-27T19:52:58.964556Z",
     "start_time": "2019-03-27T19:52:58.959565Z"
    }
   },
   "outputs": [],
   "source": [
    "dane = {\n",
    "    'gender': ['m'] * 5 + ['f'] * 5,\n",
    "    'age': [23, 24, 25, 28, 32, 54, 21, np.nan, 45, np.nan],\n",
    "    'earnings': [2500, np.nan, 2700, 3400, 2500, 2900, 4300, 3400, 3250, 1100]\n",
    "}\n",
    "indeks = ['a', 'b', 'c', 'd', 'e', 'f', 'g', 'h', 'i', 'j']"
   ]
  },
  {
   "cell_type": "markdown",
   "metadata": {
    "ExecuteTime": {
     "end_time": "2019-03-21T19:43:57.751851Z",
     "start_time": "2019-03-21T19:43:57.743859Z"
    }
   },
   "source": [
    "16. Stwórz ramkę danych, w której dane będą zasilone słownikiem 'dane', a indeksy wierszy to lista 'indeks'"
   ]
  },
  {
   "cell_type": "code",
   "execution_count": 121,
   "metadata": {
    "ExecuteTime": {
     "end_time": "2019-03-27T19:53:08.574609Z",
     "start_time": "2019-03-27T19:53:08.567607Z"
    }
   },
   "outputs": [
    {
     "data": {
      "text/html": [
       "<div>\n",
       "<style scoped>\n",
       "    .dataframe tbody tr th:only-of-type {\n",
       "        vertical-align: middle;\n",
       "    }\n",
       "\n",
       "    .dataframe tbody tr th {\n",
       "        vertical-align: top;\n",
       "    }\n",
       "\n",
       "    .dataframe thead th {\n",
       "        text-align: right;\n",
       "    }\n",
       "</style>\n",
       "<table border=\"1\" class=\"dataframe\">\n",
       "  <thead>\n",
       "    <tr style=\"text-align: right;\">\n",
       "      <th></th>\n",
       "      <th>gender</th>\n",
       "      <th>age</th>\n",
       "      <th>earnings</th>\n",
       "    </tr>\n",
       "  </thead>\n",
       "  <tbody>\n",
       "    <tr>\n",
       "      <td>a</td>\n",
       "      <td>m</td>\n",
       "      <td>23.0</td>\n",
       "      <td>2500.0</td>\n",
       "    </tr>\n",
       "    <tr>\n",
       "      <td>b</td>\n",
       "      <td>m</td>\n",
       "      <td>24.0</td>\n",
       "      <td>NaN</td>\n",
       "    </tr>\n",
       "    <tr>\n",
       "      <td>c</td>\n",
       "      <td>m</td>\n",
       "      <td>25.0</td>\n",
       "      <td>2700.0</td>\n",
       "    </tr>\n",
       "    <tr>\n",
       "      <td>d</td>\n",
       "      <td>m</td>\n",
       "      <td>28.0</td>\n",
       "      <td>3400.0</td>\n",
       "    </tr>\n",
       "    <tr>\n",
       "      <td>e</td>\n",
       "      <td>m</td>\n",
       "      <td>32.0</td>\n",
       "      <td>2500.0</td>\n",
       "    </tr>\n",
       "    <tr>\n",
       "      <td>f</td>\n",
       "      <td>f</td>\n",
       "      <td>54.0</td>\n",
       "      <td>2900.0</td>\n",
       "    </tr>\n",
       "    <tr>\n",
       "      <td>g</td>\n",
       "      <td>f</td>\n",
       "      <td>21.0</td>\n",
       "      <td>4300.0</td>\n",
       "    </tr>\n",
       "    <tr>\n",
       "      <td>h</td>\n",
       "      <td>f</td>\n",
       "      <td>NaN</td>\n",
       "      <td>3400.0</td>\n",
       "    </tr>\n",
       "    <tr>\n",
       "      <td>i</td>\n",
       "      <td>f</td>\n",
       "      <td>45.0</td>\n",
       "      <td>3250.0</td>\n",
       "    </tr>\n",
       "    <tr>\n",
       "      <td>j</td>\n",
       "      <td>f</td>\n",
       "      <td>NaN</td>\n",
       "      <td>1100.0</td>\n",
       "    </tr>\n",
       "  </tbody>\n",
       "</table>\n",
       "</div>"
      ],
      "text/plain": [
       "  gender   age  earnings\n",
       "a      m  23.0    2500.0\n",
       "b      m  24.0       NaN\n",
       "c      m  25.0    2700.0\n",
       "d      m  28.0    3400.0\n",
       "e      m  32.0    2500.0\n",
       "f      f  54.0    2900.0\n",
       "g      f  21.0    4300.0\n",
       "h      f   NaN    3400.0\n",
       "i      f  45.0    3250.0\n",
       "j      f   NaN    1100.0"
      ]
     },
     "execution_count": 121,
     "metadata": {},
     "output_type": "execute_result"
    }
   ],
   "source": [
    "ramka = pd.DataFrame(dane, indeks)\n",
    "ramka"
   ]
  },
  {
   "cell_type": "markdown",
   "metadata": {},
   "source": [
    "17. Wyświetl typy zmiennych w ramce"
   ]
  },
  {
   "cell_type": "code",
   "execution_count": 124,
   "metadata": {
    "ExecuteTime": {
     "end_time": "2019-03-27T19:53:28.215680Z",
     "start_time": "2019-03-27T19:53:28.210688Z"
    }
   },
   "outputs": [
    {
     "data": {
      "text/plain": [
       "gender       object\n",
       "age         float64\n",
       "earnings    float64\n",
       "dtype: object"
      ]
     },
     "execution_count": 124,
     "metadata": {},
     "output_type": "execute_result"
    }
   ],
   "source": [
    "ramka.dtypes\n",
    "ramka.info()"
   ]
  },
  {
   "cell_type": "markdown",
   "metadata": {},
   "source": [
    "18. Wyświetl podstawowe statystyki opisowe za pomocą odpowiedniej metody"
   ]
  },
  {
   "cell_type": "code",
   "execution_count": 136,
   "metadata": {
    "ExecuteTime": {
     "end_time": "2019-03-27T19:53:41.577385Z",
     "start_time": "2019-03-27T19:53:41.563382Z"
    }
   },
   "outputs": [
    {
     "data": {
      "text/html": [
       "<div>\n",
       "<style scoped>\n",
       "    .dataframe tbody tr th:only-of-type {\n",
       "        vertical-align: middle;\n",
       "    }\n",
       "\n",
       "    .dataframe tbody tr th {\n",
       "        vertical-align: top;\n",
       "    }\n",
       "\n",
       "    .dataframe thead th {\n",
       "        text-align: right;\n",
       "    }\n",
       "</style>\n",
       "<table border=\"1\" class=\"dataframe\">\n",
       "  <thead>\n",
       "    <tr style=\"text-align: right;\">\n",
       "      <th></th>\n",
       "      <th>age</th>\n",
       "      <th>earnings</th>\n",
       "    </tr>\n",
       "  </thead>\n",
       "  <tbody>\n",
       "    <tr>\n",
       "      <td>count</td>\n",
       "      <td>8.000000</td>\n",
       "      <td>9.000000</td>\n",
       "    </tr>\n",
       "    <tr>\n",
       "      <td>mean</td>\n",
       "      <td>31.500000</td>\n",
       "      <td>2894.444444</td>\n",
       "    </tr>\n",
       "    <tr>\n",
       "      <td>std</td>\n",
       "      <td>11.844227</td>\n",
       "      <td>879.077800</td>\n",
       "    </tr>\n",
       "    <tr>\n",
       "      <td>min</td>\n",
       "      <td>21.000000</td>\n",
       "      <td>1100.000000</td>\n",
       "    </tr>\n",
       "    <tr>\n",
       "      <td>25%</td>\n",
       "      <td>23.750000</td>\n",
       "      <td>2500.000000</td>\n",
       "    </tr>\n",
       "    <tr>\n",
       "      <td>50%</td>\n",
       "      <td>26.500000</td>\n",
       "      <td>2900.000000</td>\n",
       "    </tr>\n",
       "    <tr>\n",
       "      <td>75%</td>\n",
       "      <td>35.250000</td>\n",
       "      <td>3400.000000</td>\n",
       "    </tr>\n",
       "    <tr>\n",
       "      <td>max</td>\n",
       "      <td>54.000000</td>\n",
       "      <td>4300.000000</td>\n",
       "    </tr>\n",
       "  </tbody>\n",
       "</table>\n",
       "</div>"
      ],
      "text/plain": [
       "             age     earnings\n",
       "count   8.000000     9.000000\n",
       "mean   31.500000  2894.444444\n",
       "std    11.844227   879.077800\n",
       "min    21.000000  1100.000000\n",
       "25%    23.750000  2500.000000\n",
       "50%    26.500000  2900.000000\n",
       "75%    35.250000  3400.000000\n",
       "max    54.000000  4300.000000"
      ]
     },
     "execution_count": 136,
     "metadata": {},
     "output_type": "execute_result"
    }
   ],
   "source": [
    "ramka.describe()"
   ]
  },
  {
   "cell_type": "markdown",
   "metadata": {},
   "source": [
    "19. Wyświetl pierwsze dwie obserwacje z ramki (dwoma sposobami)"
   ]
  },
  {
   "cell_type": "code",
   "execution_count": 139,
   "metadata": {
    "ExecuteTime": {
     "end_time": "2019-03-27T19:53:57.332542Z",
     "start_time": "2019-03-27T19:53:57.324540Z"
    }
   },
   "outputs": [
    {
     "data": {
      "text/html": [
       "<div>\n",
       "<style scoped>\n",
       "    .dataframe tbody tr th:only-of-type {\n",
       "        vertical-align: middle;\n",
       "    }\n",
       "\n",
       "    .dataframe tbody tr th {\n",
       "        vertical-align: top;\n",
       "    }\n",
       "\n",
       "    .dataframe thead th {\n",
       "        text-align: right;\n",
       "    }\n",
       "</style>\n",
       "<table border=\"1\" class=\"dataframe\">\n",
       "  <thead>\n",
       "    <tr style=\"text-align: right;\">\n",
       "      <th></th>\n",
       "      <th>gender</th>\n",
       "      <th>age</th>\n",
       "      <th>earnings</th>\n",
       "    </tr>\n",
       "  </thead>\n",
       "  <tbody>\n",
       "    <tr>\n",
       "      <td>a</td>\n",
       "      <td>m</td>\n",
       "      <td>23.0</td>\n",
       "      <td>2500.0</td>\n",
       "    </tr>\n",
       "    <tr>\n",
       "      <td>b</td>\n",
       "      <td>m</td>\n",
       "      <td>24.0</td>\n",
       "      <td>NaN</td>\n",
       "    </tr>\n",
       "  </tbody>\n",
       "</table>\n",
       "</div>"
      ],
      "text/plain": [
       "  gender   age  earnings\n",
       "a      m  23.0    2500.0\n",
       "b      m  24.0       NaN"
      ]
     },
     "execution_count": 139,
     "metadata": {},
     "output_type": "execute_result"
    }
   ],
   "source": [
    "ramka.iloc[0:2, :]\n",
    "#ramka.head(2)"
   ]
  },
  {
   "cell_type": "markdown",
   "metadata": {},
   "source": [
    "20. Wyświetl trzy ostatnie obserwacje z podanej ramki (dwoma sposobami)"
   ]
  },
  {
   "cell_type": "code",
   "execution_count": 131,
   "metadata": {
    "ExecuteTime": {
     "end_time": "2019-03-27T19:54:15.974724Z",
     "start_time": "2019-03-27T19:54:15.967729Z"
    }
   },
   "outputs": [
    {
     "data": {
      "text/html": [
       "<div>\n",
       "<style scoped>\n",
       "    .dataframe tbody tr th:only-of-type {\n",
       "        vertical-align: middle;\n",
       "    }\n",
       "\n",
       "    .dataframe tbody tr th {\n",
       "        vertical-align: top;\n",
       "    }\n",
       "\n",
       "    .dataframe thead th {\n",
       "        text-align: right;\n",
       "    }\n",
       "</style>\n",
       "<table border=\"1\" class=\"dataframe\">\n",
       "  <thead>\n",
       "    <tr style=\"text-align: right;\">\n",
       "      <th></th>\n",
       "      <th>gender</th>\n",
       "      <th>age</th>\n",
       "      <th>earnings</th>\n",
       "    </tr>\n",
       "  </thead>\n",
       "  <tbody>\n",
       "    <tr>\n",
       "      <td>h</td>\n",
       "      <td>f</td>\n",
       "      <td>NaN</td>\n",
       "      <td>3400.0</td>\n",
       "    </tr>\n",
       "    <tr>\n",
       "      <td>i</td>\n",
       "      <td>f</td>\n",
       "      <td>45.0</td>\n",
       "      <td>3250.0</td>\n",
       "    </tr>\n",
       "    <tr>\n",
       "      <td>j</td>\n",
       "      <td>f</td>\n",
       "      <td>NaN</td>\n",
       "      <td>1100.0</td>\n",
       "    </tr>\n",
       "  </tbody>\n",
       "</table>\n",
       "</div>"
      ],
      "text/plain": [
       "  gender   age  earnings\n",
       "h      f   NaN    3400.0\n",
       "i      f  45.0    3250.0\n",
       "j      f   NaN    1100.0"
      ]
     },
     "execution_count": 131,
     "metadata": {},
     "output_type": "execute_result"
    }
   ],
   "source": [
    "# ramka.tail(3)\n",
    "# ramka[-3:, :]"
   ]
  },
  {
   "cell_type": "markdown",
   "metadata": {},
   "source": [
    "21. Wyświetl kolumnę 'age' i 'earnings' "
   ]
  },
  {
   "cell_type": "code",
   "execution_count": 142,
   "metadata": {
    "ExecuteTime": {
     "end_time": "2019-03-27T19:54:38.306186Z",
     "start_time": "2019-03-27T19:54:38.297183Z"
    }
   },
   "outputs": [
    {
     "data": {
      "text/html": [
       "<div>\n",
       "<style scoped>\n",
       "    .dataframe tbody tr th:only-of-type {\n",
       "        vertical-align: middle;\n",
       "    }\n",
       "\n",
       "    .dataframe tbody tr th {\n",
       "        vertical-align: top;\n",
       "    }\n",
       "\n",
       "    .dataframe thead th {\n",
       "        text-align: right;\n",
       "    }\n",
       "</style>\n",
       "<table border=\"1\" class=\"dataframe\">\n",
       "  <thead>\n",
       "    <tr style=\"text-align: right;\">\n",
       "      <th></th>\n",
       "      <th>age</th>\n",
       "      <th>earnings</th>\n",
       "    </tr>\n",
       "  </thead>\n",
       "  <tbody>\n",
       "    <tr>\n",
       "      <td>a</td>\n",
       "      <td>23.0</td>\n",
       "      <td>2500.0</td>\n",
       "    </tr>\n",
       "    <tr>\n",
       "      <td>b</td>\n",
       "      <td>24.0</td>\n",
       "      <td>NaN</td>\n",
       "    </tr>\n",
       "    <tr>\n",
       "      <td>c</td>\n",
       "      <td>25.0</td>\n",
       "      <td>2700.0</td>\n",
       "    </tr>\n",
       "    <tr>\n",
       "      <td>d</td>\n",
       "      <td>28.0</td>\n",
       "      <td>3400.0</td>\n",
       "    </tr>\n",
       "    <tr>\n",
       "      <td>e</td>\n",
       "      <td>32.0</td>\n",
       "      <td>2500.0</td>\n",
       "    </tr>\n",
       "    <tr>\n",
       "      <td>f</td>\n",
       "      <td>54.0</td>\n",
       "      <td>2900.0</td>\n",
       "    </tr>\n",
       "    <tr>\n",
       "      <td>g</td>\n",
       "      <td>21.0</td>\n",
       "      <td>4300.0</td>\n",
       "    </tr>\n",
       "    <tr>\n",
       "      <td>h</td>\n",
       "      <td>NaN</td>\n",
       "      <td>3400.0</td>\n",
       "    </tr>\n",
       "    <tr>\n",
       "      <td>i</td>\n",
       "      <td>45.0</td>\n",
       "      <td>3250.0</td>\n",
       "    </tr>\n",
       "    <tr>\n",
       "      <td>j</td>\n",
       "      <td>NaN</td>\n",
       "      <td>1100.0</td>\n",
       "    </tr>\n",
       "  </tbody>\n",
       "</table>\n",
       "</div>"
      ],
      "text/plain": [
       "    age  earnings\n",
       "a  23.0    2500.0\n",
       "b  24.0       NaN\n",
       "c  25.0    2700.0\n",
       "d  28.0    3400.0\n",
       "e  32.0    2500.0\n",
       "f  54.0    2900.0\n",
       "g  21.0    4300.0\n",
       "h   NaN    3400.0\n",
       "i  45.0    3250.0\n",
       "j   NaN    1100.0"
      ]
     },
     "execution_count": 142,
     "metadata": {},
     "output_type": "execute_result"
    }
   ],
   "source": [
    "# ramka[['age','earnings']]\n",
    "ramka.loc[:, ['age', 'earnings']]"
   ]
  },
  {
   "cell_type": "markdown",
   "metadata": {},
   "source": [
    "22. Wyświetl ramkę zawierającą obserwacje nr 1,3,5 z kolumn 'gender' i 'earnings'"
   ]
  },
  {
   "cell_type": "code",
   "execution_count": 145,
   "metadata": {
    "ExecuteTime": {
     "end_time": "2019-03-27T19:55:06.156979Z",
     "start_time": "2019-03-27T19:55:06.147963Z"
    }
   },
   "outputs": [
    {
     "data": {
      "text/html": [
       "<div>\n",
       "<style scoped>\n",
       "    .dataframe tbody tr th:only-of-type {\n",
       "        vertical-align: middle;\n",
       "    }\n",
       "\n",
       "    .dataframe tbody tr th {\n",
       "        vertical-align: top;\n",
       "    }\n",
       "\n",
       "    .dataframe thead th {\n",
       "        text-align: right;\n",
       "    }\n",
       "</style>\n",
       "<table border=\"1\" class=\"dataframe\">\n",
       "  <thead>\n",
       "    <tr style=\"text-align: right;\">\n",
       "      <th></th>\n",
       "      <th>gender</th>\n",
       "      <th>earnings</th>\n",
       "    </tr>\n",
       "  </thead>\n",
       "  <tbody>\n",
       "    <tr>\n",
       "      <td>b</td>\n",
       "      <td>m</td>\n",
       "      <td>NaN</td>\n",
       "    </tr>\n",
       "    <tr>\n",
       "      <td>d</td>\n",
       "      <td>m</td>\n",
       "      <td>3400.0</td>\n",
       "    </tr>\n",
       "    <tr>\n",
       "      <td>f</td>\n",
       "      <td>f</td>\n",
       "      <td>2900.0</td>\n",
       "    </tr>\n",
       "  </tbody>\n",
       "</table>\n",
       "</div>"
      ],
      "text/plain": [
       "  gender  earnings\n",
       "b      m       NaN\n",
       "d      m    3400.0\n",
       "f      f    2900.0"
      ]
     },
     "execution_count": 145,
     "metadata": {},
     "output_type": "execute_result"
    }
   ],
   "source": [
    "ramka.iloc[[1, 3, 5], :].loc[:, ['gender', 'earnings']] "
   ]
  },
  {
   "cell_type": "markdown",
   "metadata": {
    "ExecuteTime": {
     "end_time": "2019-03-21T19:52:57.810236Z",
     "start_time": "2019-03-21T19:52:57.806236Z"
    }
   },
   "source": [
    "23. Wyświetl obserwacje, w których zarobki są niższe od 3000"
   ]
  },
  {
   "cell_type": "raw",
   "metadata": {
    "ExecuteTime": {
     "end_time": "2019-03-27T19:55:20.046248Z",
     "start_time": "2019-03-27T19:55:20.037246Z"
    }
   },
   "source": [
    "ramka[ramka['earnings'] < 3000]"
   ]
  },
  {
   "cell_type": "markdown",
   "metadata": {},
   "source": [
    "24. Wyświetl obserwacje, w których znajdują się  braki danych"
   ]
  },
  {
   "cell_type": "code",
   "execution_count": 154,
   "metadata": {
    "ExecuteTime": {
     "end_time": "2019-03-27T19:55:36.496555Z",
     "start_time": "2019-03-27T19:55:36.487553Z"
    }
   },
   "outputs": [
    {
     "data": {
      "text/html": [
       "<div>\n",
       "<style scoped>\n",
       "    .dataframe tbody tr th:only-of-type {\n",
       "        vertical-align: middle;\n",
       "    }\n",
       "\n",
       "    .dataframe tbody tr th {\n",
       "        vertical-align: top;\n",
       "    }\n",
       "\n",
       "    .dataframe thead th {\n",
       "        text-align: right;\n",
       "    }\n",
       "</style>\n",
       "<table border=\"1\" class=\"dataframe\">\n",
       "  <thead>\n",
       "    <tr style=\"text-align: right;\">\n",
       "      <th></th>\n",
       "      <th>gender</th>\n",
       "      <th>age</th>\n",
       "      <th>earnings</th>\n",
       "    </tr>\n",
       "  </thead>\n",
       "  <tbody>\n",
       "    <tr>\n",
       "      <td>b</td>\n",
       "      <td>m</td>\n",
       "      <td>24.0</td>\n",
       "      <td>NaN</td>\n",
       "    </tr>\n",
       "    <tr>\n",
       "      <td>h</td>\n",
       "      <td>f</td>\n",
       "      <td>NaN</td>\n",
       "      <td>3400.0</td>\n",
       "    </tr>\n",
       "    <tr>\n",
       "      <td>j</td>\n",
       "      <td>f</td>\n",
       "      <td>NaN</td>\n",
       "      <td>1100.0</td>\n",
       "    </tr>\n",
       "  </tbody>\n",
       "</table>\n",
       "</div>"
      ],
      "text/plain": [
       "  gender   age  earnings\n",
       "b      m  24.0       NaN\n",
       "h      f   NaN    3400.0\n",
       "j      f   NaN    1100.0"
      ]
     },
     "execution_count": 154,
     "metadata": {},
     "output_type": "execute_result"
    }
   ],
   "source": [
    "ramka[ramka.isna().any(axis=1)]"
   ]
  },
  {
   "cell_type": "markdown",
   "metadata": {
    "ExecuteTime": {
     "end_time": "2019-03-21T19:54:35.011423Z",
     "start_time": "2019-03-21T19:54:35.007423Z"
    }
   },
   "source": [
    "25. Wyświetl obserwacje, w których nie znajdują się żadne braki danych"
   ]
  },
  {
   "cell_type": "code",
   "execution_count": 156,
   "metadata": {
    "ExecuteTime": {
     "end_time": "2019-03-27T19:55:43.185254Z",
     "start_time": "2019-03-27T19:55:43.176261Z"
    }
   },
   "outputs": [
    {
     "data": {
      "text/html": [
       "<div>\n",
       "<style scoped>\n",
       "    .dataframe tbody tr th:only-of-type {\n",
       "        vertical-align: middle;\n",
       "    }\n",
       "\n",
       "    .dataframe tbody tr th {\n",
       "        vertical-align: top;\n",
       "    }\n",
       "\n",
       "    .dataframe thead th {\n",
       "        text-align: right;\n",
       "    }\n",
       "</style>\n",
       "<table border=\"1\" class=\"dataframe\">\n",
       "  <thead>\n",
       "    <tr style=\"text-align: right;\">\n",
       "      <th></th>\n",
       "      <th>gender</th>\n",
       "      <th>age</th>\n",
       "      <th>earnings</th>\n",
       "    </tr>\n",
       "  </thead>\n",
       "  <tbody>\n",
       "    <tr>\n",
       "      <td>a</td>\n",
       "      <td>m</td>\n",
       "      <td>23.0</td>\n",
       "      <td>2500.0</td>\n",
       "    </tr>\n",
       "    <tr>\n",
       "      <td>c</td>\n",
       "      <td>m</td>\n",
       "      <td>25.0</td>\n",
       "      <td>2700.0</td>\n",
       "    </tr>\n",
       "    <tr>\n",
       "      <td>d</td>\n",
       "      <td>m</td>\n",
       "      <td>28.0</td>\n",
       "      <td>3400.0</td>\n",
       "    </tr>\n",
       "    <tr>\n",
       "      <td>e</td>\n",
       "      <td>m</td>\n",
       "      <td>32.0</td>\n",
       "      <td>2500.0</td>\n",
       "    </tr>\n",
       "    <tr>\n",
       "      <td>f</td>\n",
       "      <td>f</td>\n",
       "      <td>54.0</td>\n",
       "      <td>2900.0</td>\n",
       "    </tr>\n",
       "    <tr>\n",
       "      <td>g</td>\n",
       "      <td>f</td>\n",
       "      <td>21.0</td>\n",
       "      <td>4300.0</td>\n",
       "    </tr>\n",
       "    <tr>\n",
       "      <td>i</td>\n",
       "      <td>f</td>\n",
       "      <td>45.0</td>\n",
       "      <td>3250.0</td>\n",
       "    </tr>\n",
       "  </tbody>\n",
       "</table>\n",
       "</div>"
      ],
      "text/plain": [
       "  gender   age  earnings\n",
       "a      m  23.0    2500.0\n",
       "c      m  25.0    2700.0\n",
       "d      m  28.0    3400.0\n",
       "e      m  32.0    2500.0\n",
       "f      f  54.0    2900.0\n",
       "g      f  21.0    4300.0\n",
       "i      f  45.0    3250.0"
      ]
     },
     "execution_count": 156,
     "metadata": {},
     "output_type": "execute_result"
    }
   ],
   "source": [
    "ramka[~ramka.isna().any(axis=1)]"
   ]
  },
  {
   "cell_type": "markdown",
   "metadata": {},
   "source": [
    "26. Wyświetl obserwacje, gdzie wiek jest niższy od 30, zarobki wyższe od 3000"
   ]
  },
  {
   "cell_type": "code",
   "execution_count": 158,
   "metadata": {
    "ExecuteTime": {
     "end_time": "2019-03-27T19:56:13.324837Z",
     "start_time": "2019-03-27T19:56:13.314835Z"
    }
   },
   "outputs": [
    {
     "data": {
      "text/html": [
       "<div>\n",
       "<style scoped>\n",
       "    .dataframe tbody tr th:only-of-type {\n",
       "        vertical-align: middle;\n",
       "    }\n",
       "\n",
       "    .dataframe tbody tr th {\n",
       "        vertical-align: top;\n",
       "    }\n",
       "\n",
       "    .dataframe thead th {\n",
       "        text-align: right;\n",
       "    }\n",
       "</style>\n",
       "<table border=\"1\" class=\"dataframe\">\n",
       "  <thead>\n",
       "    <tr style=\"text-align: right;\">\n",
       "      <th></th>\n",
       "      <th>gender</th>\n",
       "      <th>age</th>\n",
       "      <th>earnings</th>\n",
       "    </tr>\n",
       "  </thead>\n",
       "  <tbody>\n",
       "    <tr>\n",
       "      <td>d</td>\n",
       "      <td>m</td>\n",
       "      <td>28.0</td>\n",
       "      <td>3400.0</td>\n",
       "    </tr>\n",
       "    <tr>\n",
       "      <td>g</td>\n",
       "      <td>f</td>\n",
       "      <td>21.0</td>\n",
       "      <td>4300.0</td>\n",
       "    </tr>\n",
       "  </tbody>\n",
       "</table>\n",
       "</div>"
      ],
      "text/plain": [
       "  gender   age  earnings\n",
       "d      m  28.0    3400.0\n",
       "g      f  21.0    4300.0"
      ]
     },
     "execution_count": 158,
     "metadata": {},
     "output_type": "execute_result"
    }
   ],
   "source": [
    "ramka[(ramka['age'] < 30) & (ramka['earnings'] > 3000)]\n",
    "\n",
    "# more inspiration for SQL-like queries: https://pandas.pydata.org/pandas-docs/stable/reference/api/pandas.DataFrame.query.html "
   ]
  },
  {
   "cell_type": "markdown",
   "metadata": {},
   "source": [
    "27. Wyświetl obserwacje, w których wiek znajduje się w przedziale [20;25]"
   ]
  },
  {
   "cell_type": "code",
   "execution_count": 160,
   "metadata": {
    "ExecuteTime": {
     "end_time": "2019-03-27T19:56:27.878597Z",
     "start_time": "2019-03-27T19:56:27.868603Z"
    }
   },
   "outputs": [
    {
     "data": {
      "text/html": [
       "<div>\n",
       "<style scoped>\n",
       "    .dataframe tbody tr th:only-of-type {\n",
       "        vertical-align: middle;\n",
       "    }\n",
       "\n",
       "    .dataframe tbody tr th {\n",
       "        vertical-align: top;\n",
       "    }\n",
       "\n",
       "    .dataframe thead th {\n",
       "        text-align: right;\n",
       "    }\n",
       "</style>\n",
       "<table border=\"1\" class=\"dataframe\">\n",
       "  <thead>\n",
       "    <tr style=\"text-align: right;\">\n",
       "      <th></th>\n",
       "      <th>gender</th>\n",
       "      <th>age</th>\n",
       "      <th>earnings</th>\n",
       "    </tr>\n",
       "  </thead>\n",
       "  <tbody>\n",
       "    <tr>\n",
       "      <td>a</td>\n",
       "      <td>m</td>\n",
       "      <td>23.0</td>\n",
       "      <td>2500.0</td>\n",
       "    </tr>\n",
       "    <tr>\n",
       "      <td>b</td>\n",
       "      <td>m</td>\n",
       "      <td>24.0</td>\n",
       "      <td>NaN</td>\n",
       "    </tr>\n",
       "    <tr>\n",
       "      <td>c</td>\n",
       "      <td>m</td>\n",
       "      <td>25.0</td>\n",
       "      <td>2700.0</td>\n",
       "    </tr>\n",
       "    <tr>\n",
       "      <td>g</td>\n",
       "      <td>f</td>\n",
       "      <td>21.0</td>\n",
       "      <td>4300.0</td>\n",
       "    </tr>\n",
       "  </tbody>\n",
       "</table>\n",
       "</div>"
      ],
      "text/plain": [
       "  gender   age  earnings\n",
       "a      m  23.0    2500.0\n",
       "b      m  24.0       NaN\n",
       "c      m  25.0    2700.0\n",
       "g      f  21.0    4300.0"
      ]
     },
     "execution_count": 160,
     "metadata": {},
     "output_type": "execute_result"
    }
   ],
   "source": [
    "ramka[ramka['age'].between(20, 25)]"
   ]
  },
  {
   "cell_type": "markdown",
   "metadata": {},
   "source": [
    "28. Dodaj nowy wiersz o indeksie 'k' ['f',28, 3300]"
   ]
  },
  {
   "cell_type": "code",
   "execution_count": 164,
   "metadata": {
    "ExecuteTime": {
     "end_time": "2019-03-27T19:57:43.417848Z",
     "start_time": "2019-03-27T19:57:43.412847Z"
    }
   },
   "outputs": [
    {
     "data": {
      "text/plain": [
       "gender         f\n",
       "age           28\n",
       "earnings    3300\n",
       "Name: k, dtype: object"
      ]
     },
     "execution_count": 164,
     "metadata": {},
     "output_type": "execute_result"
    }
   ],
   "source": [
    "ramka.loc['k'] = ['f',28, 3300]\n",
    "ramka.loc['k']"
   ]
  },
  {
   "cell_type": "markdown",
   "metadata": {},
   "source": [
    "29. Usuń wiersz 'j' z ramki"
   ]
  },
  {
   "cell_type": "code",
   "execution_count": 168,
   "metadata": {
    "ExecuteTime": {
     "end_time": "2019-03-27T19:57:57.610439Z",
     "start_time": "2019-03-27T19:57:57.607437Z"
    }
   },
   "outputs": [
    {
     "data": {
      "text/html": [
       "<div>\n",
       "<style scoped>\n",
       "    .dataframe tbody tr th:only-of-type {\n",
       "        vertical-align: middle;\n",
       "    }\n",
       "\n",
       "    .dataframe tbody tr th {\n",
       "        vertical-align: top;\n",
       "    }\n",
       "\n",
       "    .dataframe thead th {\n",
       "        text-align: right;\n",
       "    }\n",
       "</style>\n",
       "<table border=\"1\" class=\"dataframe\">\n",
       "  <thead>\n",
       "    <tr style=\"text-align: right;\">\n",
       "      <th></th>\n",
       "      <th>gender</th>\n",
       "      <th>age</th>\n",
       "      <th>earnings</th>\n",
       "    </tr>\n",
       "  </thead>\n",
       "  <tbody>\n",
       "    <tr>\n",
       "      <td>a</td>\n",
       "      <td>m</td>\n",
       "      <td>23.0</td>\n",
       "      <td>2500.0</td>\n",
       "    </tr>\n",
       "    <tr>\n",
       "      <td>b</td>\n",
       "      <td>m</td>\n",
       "      <td>24.0</td>\n",
       "      <td>NaN</td>\n",
       "    </tr>\n",
       "    <tr>\n",
       "      <td>c</td>\n",
       "      <td>m</td>\n",
       "      <td>25.0</td>\n",
       "      <td>2700.0</td>\n",
       "    </tr>\n",
       "    <tr>\n",
       "      <td>d</td>\n",
       "      <td>m</td>\n",
       "      <td>28.0</td>\n",
       "      <td>3400.0</td>\n",
       "    </tr>\n",
       "    <tr>\n",
       "      <td>e</td>\n",
       "      <td>m</td>\n",
       "      <td>32.0</td>\n",
       "      <td>2500.0</td>\n",
       "    </tr>\n",
       "    <tr>\n",
       "      <td>f</td>\n",
       "      <td>f</td>\n",
       "      <td>54.0</td>\n",
       "      <td>2900.0</td>\n",
       "    </tr>\n",
       "    <tr>\n",
       "      <td>g</td>\n",
       "      <td>f</td>\n",
       "      <td>21.0</td>\n",
       "      <td>4300.0</td>\n",
       "    </tr>\n",
       "    <tr>\n",
       "      <td>h</td>\n",
       "      <td>f</td>\n",
       "      <td>NaN</td>\n",
       "      <td>3400.0</td>\n",
       "    </tr>\n",
       "    <tr>\n",
       "      <td>i</td>\n",
       "      <td>f</td>\n",
       "      <td>45.0</td>\n",
       "      <td>3250.0</td>\n",
       "    </tr>\n",
       "    <tr>\n",
       "      <td>k</td>\n",
       "      <td>f</td>\n",
       "      <td>28.0</td>\n",
       "      <td>3300.0</td>\n",
       "    </tr>\n",
       "  </tbody>\n",
       "</table>\n",
       "</div>"
      ],
      "text/plain": [
       "  gender   age  earnings\n",
       "a      m  23.0    2500.0\n",
       "b      m  24.0       NaN\n",
       "c      m  25.0    2700.0\n",
       "d      m  28.0    3400.0\n",
       "e      m  32.0    2500.0\n",
       "f      f  54.0    2900.0\n",
       "g      f  21.0    4300.0\n",
       "h      f   NaN    3400.0\n",
       "i      f  45.0    3250.0\n",
       "k      f  28.0    3300.0"
      ]
     },
     "execution_count": 168,
     "metadata": {},
     "output_type": "execute_result"
    }
   ],
   "source": [
    "ramka = ramka.drop('j')\n",
    "ramka"
   ]
  },
  {
   "cell_type": "markdown",
   "metadata": {
    "ExecuteTime": {
     "end_time": "2019-03-21T19:59:22.558943Z",
     "start_time": "2019-03-21T19:59:22.555943Z"
    }
   },
   "source": [
    "30. Oblicz średnie wynagrodzenie w tym zbiorze"
   ]
  },
  {
   "cell_type": "code",
   "execution_count": null,
   "metadata": {
    "ExecuteTime": {
     "end_time": "2019-03-27T19:58:22.068805Z",
     "start_time": "2019-03-27T19:58:22.064805Z"
    }
   },
   "outputs": [],
   "source": [
    "np.loc"
   ]
  },
  {
   "cell_type": "markdown",
   "metadata": {},
   "source": [
    "31. Oblicz średnie wynagrodzenie wg płci"
   ]
  },
  {
   "cell_type": "code",
   "execution_count": null,
   "metadata": {
    "ExecuteTime": {
     "end_time": "2019-03-27T19:58:49.911127Z",
     "start_time": "2019-03-27T19:58:49.901125Z"
    }
   },
   "outputs": [],
   "source": []
  },
  {
   "cell_type": "markdown",
   "metadata": {},
   "source": [
    "32. Posortuj ramkę względem wieku malejąco"
   ]
  },
  {
   "cell_type": "code",
   "execution_count": null,
   "metadata": {
    "ExecuteTime": {
     "end_time": "2019-03-27T19:59:16.069383Z",
     "start_time": "2019-03-27T19:59:16.061389Z"
    }
   },
   "outputs": [],
   "source": []
  },
  {
   "cell_type": "markdown",
   "metadata": {},
   "source": [
    "33. Zamień w pierwszej kolumnie wszystkie wartości 'f' na 'female', a 'm' na 'male'"
   ]
  },
  {
   "cell_type": "code",
   "execution_count": null,
   "metadata": {
    "ExecuteTime": {
     "end_time": "2019-03-27T19:59:44.916931Z",
     "start_time": "2019-03-27T19:59:44.912930Z"
    }
   },
   "outputs": [],
   "source": []
  },
  {
   "cell_type": "markdown",
   "metadata": {},
   "source": [
    "34. Wskaż ile jest osób z podziałem na płeć w tym zbiorze"
   ]
  },
  {
   "cell_type": "code",
   "execution_count": null,
   "metadata": {
    "ExecuteTime": {
     "end_time": "2019-03-27T20:00:32.463529Z",
     "start_time": "2019-03-27T20:00:32.453535Z"
    }
   },
   "outputs": [],
   "source": []
  },
  {
   "cell_type": "markdown",
   "metadata": {},
   "source": [
    "35. Dla każdej płci wskaż średnie zarobki, i średni wiek"
   ]
  },
  {
   "cell_type": "code",
   "execution_count": null,
   "metadata": {},
   "outputs": [],
   "source": []
  },
  {
   "cell_type": "markdown",
   "metadata": {},
   "source": [
    "## Korelacja i regresja"
   ]
  },
  {
   "cell_type": "markdown",
   "metadata": {
    "ExecuteTime": {
     "end_time": "2019-03-27T20:00:40.806457Z",
     "start_time": "2019-03-27T20:00:40.798464Z"
    }
   },
   "source": [
    "<font color='blue'>**Korelacja** </font>. Do obliczania poziomu zależności liniowej między dwiema zmiennymi (X,Y) używamy współczynnika korelacji liniowej Pearsona. Przyjmuje on wartości z zakresu $[-1,1]$. \n",
    "\n",
    "$$ r_{xy} = \\frac{\\sum_{i=1}^{n}(x_i - \\overline{X})(y_i - \\overline{Y})}{\\sqrt{\\sum_{i=1}^{n}(x_i - \\overline{X})^2(y_i - \\overline{Y})^2}} $$\n",
    "\n",
    "gdzie: $\\overline{Y}, \\overline{X}$ to średnie wartości zmiennych\n",
    "\n",
    "Dodatnia wartość r mówi o tym, że wzrostowi jednej cechy odpowiada wzrost średnich wartości drugiej cechy. Wartość ujemna - wzrostowi wartości jednej cechy odpowiada spadek średnich wartości drugiej cechy. Wartość bezwzględna współczynnika korelacji Pearsona mówi o sile zależności. W pythonie można uzyskać macierz korelacji za pomocą ``np.corrcoef(x,y)``, a następnie wyciągnąć interesujący nas element macierzy. Alternatywą jest ``scipy.stats.pearsonr(x,y)`` i pierwszy element (czyli ten o indeksie zerowym) zwracanej krotki\n",
    "\n",
    "<font color='blue'>**Regresja**</font>\n",
    "\n",
    "O kształcie zależności mówi nam regresja. Dla cech X i Y, między którymi istnieje liniowa zależność korelacyjna można szacować parametry liniowej funkcji regresji.\n",
    "\n",
    "Regresja Y względem X:\n",
    "\n",
    "$$ \\hat{y} = a_y x + b_y$$\n",
    "\n",
    "$Y$ - cecha zależna, objaśniana\n",
    "$X$ - cecha niezależna, objaśniająca\n",
    "$a_y$ - współczynnik kierunkowy regresji, określa o ile jednostek przeciętnie zmieni się wartość cechy Y, gdy wartość cechy X wzrośnie o jedną jednostkę.\n",
    "\n",
    "$$ a_y = \\frac{\\sum_{i=1}^{n}(x_i - \\overline{X})(y_i - \\overline{Y})}{\\sum_{i=1}^{n}(x_i - \\overline{X})^2} $$ \n",
    "\n",
    "$ b_y $ - wyraz wolny\n",
    "$$ b_y = \\overline{Y} - a_y \\overline{X} $$\n",
    "\n",
    "Do oceny jakości dopasowania funkcji regresji możemy wykorzystać współczynnik determinacji $R^2$. Przyjmuje on wartości z zakresu $[0,1]$. Wyższe wartości oznaczają dobre dopasowanie. Mówi też on o tym jaka część zmienności zmiennej objaśnianej jest wyjaśniana przez model.\n",
    "\n",
    "$$ R^2 = r_{xy}^2 = \\frac{(\\hat{y}_t - \\overline{y})^2}{\\sum_{i=1}^{n}(y_t - \\overline{y})^2}$$\n",
    "\n",
    "Współczynnik zbieżności $\\varphi^2$ przyjmuje wartości z zakresu od $[0,1]$, i w przeciwieństwie do współczynnika determinacji dążymy do jak najmniejszej wartości.\n",
    "\n",
    "$$ \\varphi^2 = 1 - R^2 $$\n",
    "\n",
    "W pythonie możemy skorzystać z ``scipy.stats.linregress(x,y)``"
   ]
  },
  {
   "cell_type": "markdown",
   "metadata": {
    "ExecuteTime": {
     "end_time": "2019-04-03T20:22:53.420879Z",
     "start_time": "2019-04-03T20:22:53.413878Z"
    }
   },
   "source": [
    "<font color='red'>**Korelacja i regresja**</font> Chcąc zbadać zależność między ilością emitowanych dziennie w TV reklam pewnego proszku do prania a wysokością obrotów przeprowadzono badanie. Wyniki podano w poniższej tabeli:\n",
    "\n",
    "|Liczba reklam |\t3| \t4| \t5| \t6| \t5| \t7| \n",
    "| --- | --- | --- | --- | --- | --- |--- |\n",
    "|Obroty [tys. zł]| \t12| 13| 16| 18| 15| 22 |\n",
    "\n",
    "a) Sporządzić wykres rozrzutu. Obliczyć współczynnik korelacji Pearsona. Czy istnieje zależność między ilością reklam a wielkością obrotów? Jeżeli zależność istnieje to jaka jest jej siła? \n",
    "\n",
    "b) Wyznaczyć prostą regresji obrotów względem liczby reklam. Podać interpretację parametrów regresji.\n",
    "\n",
    "c) Wyznaczyć prostą regresji liczby reklam względem obrotów. Podać interpretację parametrów regresji.\n",
    "\n",
    "d) Jeśli zwiększymy ilość reklam do 8 dziennie, to jakie będą spodziewane obroty? \n",
    "\n",
    "e) Otrzymano obroty 17 tys. zł, jaka była przypuszczalna liczba reklam dziennie? \n",
    "\n",
    "f) W jakim procencie liczba reklam jest wyjaśniana przez obroty?\n",
    "\n",
    "g) Obliczyć współczynnik zbieżności. Zinterpretować otrzymany wynik. "
   ]
  },
  {
   "cell_type": "code",
   "execution_count": null,
   "metadata": {
    "ExecuteTime": {
     "end_time": "2019-04-19T17:08:32.853669Z",
     "start_time": "2019-04-19T17:08:32.850669Z"
    },
    "scrolled": true
   },
   "outputs": [],
   "source": [
    "reklamy = np.array([3, 4, 5, 6, 5, 7])\n",
    "obroty = np.array([12, 13, 16, 18, 15, 22])\n",
    "\n",
    "# a) wykres rozrzutu\n"
   ]
  },
  {
   "cell_type": "code",
   "execution_count": null,
   "metadata": {
    "ExecuteTime": {
     "end_time": "2019-04-19T17:10:12.877875Z",
     "start_time": "2019-04-19T17:10:12.875874Z"
    }
   },
   "outputs": [],
   "source": [
    "# pearson"
   ]
  },
  {
   "cell_type": "code",
   "execution_count": null,
   "metadata": {
    "ExecuteTime": {
     "end_time": "2019-04-19T16:51:01.601738Z",
     "start_time": "2019-04-19T16:51:01.596737Z"
    }
   },
   "outputs": [],
   "source": [
    "# reklamy względem obrotów"
   ]
  },
  {
   "cell_type": "code",
   "execution_count": null,
   "metadata": {
    "ExecuteTime": {
     "end_time": "2019-04-19T16:51:21.545871Z",
     "start_time": "2019-04-19T16:51:21.542871Z"
    }
   },
   "outputs": [],
   "source": [
    "# obroty  względem reklam"
   ]
  },
  {
   "cell_type": "code",
   "execution_count": null,
   "metadata": {
    "ExecuteTime": {
     "end_time": "2019-04-19T17:10:47.418213Z",
     "start_time": "2019-04-19T17:10:47.415212Z"
    },
    "scrolled": true
   },
   "outputs": [],
   "source": [
    "# ile wyniosą obroty, gdy reklamy = 5"
   ]
  },
  {
   "cell_type": "code",
   "execution_count": null,
   "metadata": {
    "ExecuteTime": {
     "end_time": "2019-04-19T16:52:58.125532Z",
     "start_time": "2019-04-19T16:52:58.120530Z"
    }
   },
   "outputs": [],
   "source": [
    "# ile było reklam jeśli obroty wyniosły 17"
   ]
  },
  {
   "cell_type": "code",
   "execution_count": null,
   "metadata": {
    "ExecuteTime": {
     "end_time": "2019-04-19T16:56:09.765582Z",
     "start_time": "2019-04-19T16:56:09.761581Z"
    }
   },
   "outputs": [],
   "source": [
    "# w ilu % jest wyjaśniana zmienności"
   ]
  },
  {
   "cell_type": "code",
   "execution_count": null,
   "metadata": {
    "ExecuteTime": {
     "end_time": "2019-04-19T16:56:45.975989Z",
     "start_time": "2019-04-19T16:56:45.972988Z"
    }
   },
   "outputs": [],
   "source": [
    "# współczynnik zbieżności"
   ]
  }
 ],
 "metadata": {
  "kernelspec": {
   "display_name": "Python 3",
   "language": "python",
   "name": "python3"
  },
  "language_info": {
   "codemirror_mode": {
    "name": "ipython",
    "version": 3
   },
   "file_extension": ".py",
   "mimetype": "text/x-python",
   "name": "python",
   "nbconvert_exporter": "python",
   "pygments_lexer": "ipython3",
   "version": "3.7.4"
  },
  "toc": {
   "base_numbering": 1,
   "nav_menu": {},
   "number_sections": true,
   "sideBar": true,
   "skip_h1_title": false,
   "title_cell": "Table of Contents",
   "title_sidebar": "Contents",
   "toc_cell": false,
   "toc_position": {},
   "toc_section_display": true,
   "toc_window_display": true
  },
  "varInspector": {
   "cols": {
    "lenName": 16,
    "lenType": 16,
    "lenVar": 40
   },
   "kernels_config": {
    "python": {
     "delete_cmd_postfix": "",
     "delete_cmd_prefix": "del ",
     "library": "var_list.py",
     "varRefreshCmd": "print(var_dic_list())"
    },
    "r": {
     "delete_cmd_postfix": ") ",
     "delete_cmd_prefix": "rm(",
     "library": "var_list.r",
     "varRefreshCmd": "cat(var_dic_list()) "
    }
   },
   "types_to_exclude": [
    "module",
    "function",
    "builtin_function_or_method",
    "instance",
    "_Feature"
   ],
   "window_display": false
  }
 },
 "nbformat": 4,
 "nbformat_minor": 2
}
