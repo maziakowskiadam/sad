{
 "cells": [
  {
   "cell_type": "markdown",
   "metadata": {},
   "source": [
    "# Intro\n",
    "\n",
    "W tym notebooku pokażemy jak w pythonie dokonać klasteryzacji danych numerycznych. Wykorzystamy nieśmiertelny zbiór danych Iris, który opisuje kwiaty z gatunku irysów.\n",
    "Jest to prawdopobnie najpopularniejszy zbiór danych zawarty w literatuze do wykrywania wzorców w danych. Artykuł Fisher'a jest klasykiem w tej dziedzinie, i jest często cytowany po dziś dzień. Zbiór danych posiada 150 obserwacji (3 klasy kwiatów po 50 obserwacji).\n",
    "\n",
    "\n",
    "\n",
    "Zmienne:\n",
    "\n",
    "1. długość kielicha (sepal) w cm\n",
    "2. szerokość kielicha w cm\n",
    "3. długość płatka (petal) w cm\n",
    "4. szerokość płatka in cm\n",
    "5. klasa:\n",
    "-- Iris Setosa\n",
    "-- Iris Versicolour\n",
    "-- Iris Virginica"
   ]
  },
  {
   "cell_type": "markdown",
   "metadata": {},
   "source": [
    "# Import bibliotek"
   ]
  },
  {
   "cell_type": "code",
   "execution_count": 11,
   "metadata": {
    "ExecuteTime": {
     "end_time": "2019-05-07T20:03:52.611616Z",
     "start_time": "2019-05-07T20:03:51.428349Z"
    }
   },
   "outputs": [],
   "source": [
    "import sklearn.cluster as clust\n",
    "import pandas as pd\n",
    "import numpy as np\n",
    "import matplotlib.pyplot as plt\n",
    "\n",
    "from sklearn.datasets import load_iris"
   ]
  },
  {
   "cell_type": "code",
   "execution_count": 76,
   "metadata": {
    "ExecuteTime": {
     "end_time": "2019-05-07T20:03:52.617617Z",
     "start_time": "2019-05-07T20:03:52.613617Z"
    }
   },
   "outputs": [],
   "source": [
    "%matplotlib inline"
   ]
  },
  {
   "cell_type": "markdown",
   "metadata": {},
   "source": [
    "# Wczytywanie danych"
   ]
  },
  {
   "cell_type": "code",
   "execution_count": 77,
   "metadata": {
    "ExecuteTime": {
     "end_time": "2019-05-07T20:03:52.633621Z",
     "start_time": "2019-05-07T20:03:52.618616Z"
    }
   },
   "outputs": [],
   "source": [
    "iris = load_iris()\n",
    "data = pd.DataFrame(iris.data, columns=iris.feature_names)\n",
    "data['y'] = iris.target"
   ]
  },
  {
   "cell_type": "markdown",
   "metadata": {},
   "source": [
    "Pokaż pierwsze 10 obserwacji, za pomocą odpowiedniej metody wyświetl statystyki opisowe"
   ]
  },
  {
   "cell_type": "code",
   "execution_count": null,
   "metadata": {
    "ExecuteTime": {
     "end_time": "2019-05-07T20:03:52.665629Z",
     "start_time": "2019-05-07T20:03:52.636621Z"
    }
   },
   "outputs": [],
   "source": []
  },
  {
   "cell_type": "code",
   "execution_count": null,
   "metadata": {
    "ExecuteTime": {
     "end_time": "2019-05-07T20:03:52.688634Z",
     "start_time": "2019-05-07T20:03:52.668628Z"
    }
   },
   "outputs": [],
   "source": []
  },
  {
   "cell_type": "markdown",
   "metadata": {},
   "source": [
    "# Exploracja danych"
   ]
  },
  {
   "cell_type": "markdown",
   "metadata": {},
   "source": [
    "Stwórzmy wykres punktowy - zależność długości od szerokości kielicha:\n",
    "\n",
    "``plt.scatter(x,y)``"
   ]
  },
  {
   "cell_type": "code",
   "execution_count": null,
   "metadata": {
    "ExecuteTime": {
     "end_time": "2019-05-07T20:03:52.829667Z",
     "start_time": "2019-05-07T20:03:52.689633Z"
    },
    "scrolled": true
   },
   "outputs": [],
   "source": []
  },
  {
   "cell_type": "markdown",
   "metadata": {},
   "source": [
    "Oraz wykres punktowy - zależność długości i szerokości płatka"
   ]
  },
  {
   "cell_type": "code",
   "execution_count": null,
   "metadata": {
    "ExecuteTime": {
     "end_time": "2019-05-07T20:03:52.945691Z",
     "start_time": "2019-05-07T20:03:52.830667Z"
    }
   },
   "outputs": [],
   "source": []
  },
  {
   "cell_type": "markdown",
   "metadata": {},
   "source": [
    "Możemy zauważyć parę klastrów obserwacji. Wypróbujemy kilka wariantów przy pomocy odpowiednich metod"
   ]
  },
  {
   "cell_type": "markdown",
   "metadata": {},
   "source": [
    "# Metoda k-średnich"
   ]
  },
  {
   "cell_type": "markdown",
   "metadata": {},
   "source": [
    "Wybierz dwie kolumny do klastrowania (będziemy również wizualizować dane za pomocą scatterplota)"
   ]
  },
  {
   "cell_type": "code",
   "execution_count": null,
   "metadata": {
    "ExecuteTime": {
     "end_time": "2019-05-07T20:03:52.949692Z",
     "start_time": "2019-05-07T20:03:52.946691Z"
    }
   },
   "outputs": [],
   "source": []
  },
  {
   "cell_type": "code",
   "execution_count": 33,
   "metadata": {
    "ExecuteTime": {
     "end_time": "2019-05-07T20:03:52.962696Z",
     "start_time": "2019-05-07T20:03:52.950693Z"
    }
   },
   "outputs": [],
   "source": [
    "from sklearn.cluster import KMeans"
   ]
  },
  {
   "cell_type": "markdown",
   "metadata": {},
   "source": [
    "Zdefiniujmy sobie funkcję pomocniczą do robienia wykresu dla zadanego grupowania"
   ]
  },
  {
   "cell_type": "code",
   "execution_count": 79,
   "metadata": {
    "ExecuteTime": {
     "end_time": "2019-05-07T20:03:52.985700Z",
     "start_time": "2019-05-07T20:03:52.976698Z"
    }
   },
   "outputs": [],
   "source": [
    "def print_clustering(data, labels):\n",
    "    labels_and_styles = dict(zip(range(5), list(\"v*+xDop\")))\n",
    "    \n",
    "    for i in range(data.shape[0]):\n",
    "        lab = labels[i]\n",
    "        marker = labels_and_styles.get(lab, '*')\n",
    "        plt.scatter(data.iloc[i, 0], data.iloc[i, 1], marker=labels_and_styles[lab], c='b')\n",
    "    \n",
    "    plt.show()"
   ]
  },
  {
   "cell_type": "markdown",
   "metadata": {},
   "source": [
    "Wypróbujmy algorytm k-średnich dla różnych wartości k"
   ]
  },
  {
   "cell_type": "code",
   "execution_count": 80,
   "metadata": {
    "ExecuteTime": {
     "end_time": "2019-05-07T20:03:53.486813Z",
     "start_time": "2019-05-07T20:03:52.987700Z"
    },
    "scrolled": true
   },
   "outputs": [
    {
     "data": {
      "image/png": "[encoded data removed]",
      "text/plain": [
       "<Figure size 432x288 with 1 Axes>"
      ]
     },
     "metadata": {
      "needs_background": "light"
     },
     "output_type": "display_data"
    }
   ],
   "source": [
    "k_3 = KMeans(n_clusters=3)\n",
    "k_3.fit(data[columns_to_cluster])\n",
    "print_clustering(data[columns_to_cluster], k_3.labels_)"
   ]
  },
  {
   "cell_type": "markdown",
   "metadata": {},
   "source": [
    "k=4"
   ]
  },
  {
   "cell_type": "code",
   "execution_count": null,
   "metadata": {
    "ExecuteTime": {
     "end_time": "2019-05-07T20:03:54.023935Z",
     "start_time": "2019-05-07T20:03:53.488814Z"
    }
   },
   "outputs": [],
   "source": []
  },
  {
   "cell_type": "markdown",
   "metadata": {},
   "source": [
    "k=2"
   ]
  },
  {
   "cell_type": "code",
   "execution_count": null,
   "metadata": {
    "ExecuteTime": {
     "end_time": "2019-05-07T20:03:54.533050Z",
     "start_time": "2019-05-07T20:03:54.024934Z"
    }
   },
   "outputs": [],
   "source": []
  },
  {
   "cell_type": "markdown",
   "metadata": {},
   "source": [
    "# Jakość grupowania"
   ]
  },
  {
   "cell_type": "markdown",
   "metadata": {},
   "source": [
    "**Współczynnik SILHOUETTE**\n",
    "\n",
    "Formally:\n",
    "\n",
    "* a: Średni dystans między elementem klastra a wszystkimi innymi punktami w tym samym klastrze.\n",
    "* b: średni dystans między elementem klastra, a wszystkimi innymi punktami w najbliższym klastrze.\n",
    "\n",
    "\n",
    "$$ s = \\frac{b - a }{max(a,b)} $$\n",
    "\n",
    "\n",
    "Inną metryką poprawności jest **Współczynnik Calińskiego-Harabasza**, \n",
    "\n",
    "* N - liczba obserwacji\n",
    "* k - liczba klastrów\n",
    "\n",
    "$$W_k = \\sum^k_{q=1} \\sum_{x \\in C_1} (x - c_q)^2$$\n",
    "\n",
    "\n",
    "$$B_k = \\sum^k_{q=1} n_q (c_q -c)^2 $$\n",
    "\n",
    "$$calinski(k) = \\frac{Tr(B_k)}{Tr(W_k)} \\times \\frac{N-K}{K-1}$$"
   ]
  },
  {
   "cell_type": "markdown",
   "metadata": {},
   "source": [
    "Napisz pętlę, która przeiteruje przez możliwe k (od 2 do 9), następnie miary dopasowania dodaj do odpowiednich list"
   ]
  },
  {
   "cell_type": "code",
   "execution_count": 85,
   "metadata": {
    "ExecuteTime": {
     "end_time": "2019-05-07T20:03:54.763101Z",
     "start_time": "2019-05-07T20:03:54.536050Z"
    }
   },
   "outputs": [],
   "source": [
    "from sklearn.metrics import silhouette_score, calinski_harabasz_score\n",
    "\n",
    "k_clusters = []\n",
    "silhouette = []\n",
    "calinski = []\n",
    "\n",
    "for k in range(2, 10):\n",
    "    km = KMeans(n_clusters=k)\n",
    "    km.fit(...)\n",
    "    \n",
    "    \n",
    "    k_clusters.append(...)\n",
    "    silhouette.append(...)\n",
    "    calinski.append(...)"
   ]
  },
  {
   "cell_type": "markdown",
   "metadata": {},
   "source": [
    "Wykreśl wartość współczynnika silhouette w zależności od liczby klastrów"
   ]
  },
  {
   "cell_type": "code",
   "execution_count": null,
   "metadata": {
    "ExecuteTime": {
     "end_time": "2019-05-07T20:03:54.875128Z",
     "start_time": "2019-05-07T20:03:54.764101Z"
    },
    "scrolled": true
   },
   "outputs": [],
   "source": []
  },
  {
   "cell_type": "markdown",
   "metadata": {},
   "source": [
    "A także Calińskiego Harabasza:"
   ]
  },
  {
   "cell_type": "code",
   "execution_count": null,
   "metadata": {
    "ExecuteTime": {
     "end_time": "2019-05-07T20:03:55.108178Z",
     "start_time": "2019-05-07T20:03:54.876126Z"
    },
    "scrolled": false
   },
   "outputs": [],
   "source": []
  },
  {
   "cell_type": "markdown",
   "metadata": {},
   "source": [
    "Oraz wartości wewnątrzgrupowej sumy kwadratów:"
   ]
  },
  {
   "cell_type": "code",
   "execution_count": null,
   "metadata": {},
   "outputs": [],
   "source": []
  },
  {
   "cell_type": "markdown",
   "metadata": {},
   "source": [
    "# Inny przykład"
   ]
  },
  {
   "cell_type": "markdown",
   "metadata": {},
   "source": [
    "Wczytujemy fikcyjne dane dotyczące klientów pewnego banku. Trzy zmienne dotyczą:\n",
    "* wieku\n",
    "* przeciętnych zarobków\n",
    "* przeciętnie odkładanych środków na oszczędności (jako % zarobków)\n",
    "\n",
    "Twoim zadaniem będzie dokonanie ich klasteryzacji"
   ]
  },
  {
   "cell_type": "code",
   "execution_count": 91,
   "metadata": {
    "ExecuteTime": {
     "end_time": "2019-05-07T20:03:55.120182Z",
     "start_time": "2019-05-07T20:03:55.113180Z"
    }
   },
   "outputs": [],
   "source": [
    "klienci_banku = pd.read_csv('banking_data.csv')"
   ]
  },
  {
   "cell_type": "code",
   "execution_count": 1,
   "metadata": {
    "ExecuteTime": {
     "end_time": "2019-05-07T20:03:55.345233Z",
     "start_time": "2019-05-07T20:03:55.126188Z"
    },
    "scrolled": true
   },
   "outputs": [
    {
     "ename": "NameError",
     "evalue": "name 'plt' is not defined",
     "output_type": "error",
     "traceback": [
      "\u001b[1;31m---------------------------------------------------------------------------\u001b[0m",
      "\u001b[1;31mNameError\u001b[0m                                 Traceback (most recent call last)",
      "\u001b[1;32m<ipython-input-1-a88df61f5799>\u001b[0m in \u001b[0;36m<module>\u001b[1;34m\u001b[0m\n\u001b[0;32m      1\u001b[0m \u001b[1;32mfrom\u001b[0m \u001b[0mmpl_toolkits\u001b[0m\u001b[1;33m.\u001b[0m\u001b[0mmplot3d\u001b[0m \u001b[1;32mimport\u001b[0m \u001b[0mAxes3D\u001b[0m\u001b[1;33m\u001b[0m\u001b[1;33m\u001b[0m\u001b[0m\n\u001b[0;32m      2\u001b[0m \u001b[1;33m\u001b[0m\u001b[0m\n\u001b[1;32m----> 3\u001b[1;33m \u001b[0mfig\u001b[0m \u001b[1;33m=\u001b[0m \u001b[0mplt\u001b[0m\u001b[1;33m.\u001b[0m\u001b[0mfigure\u001b[0m\u001b[1;33m(\u001b[0m\u001b[0mfigsize\u001b[0m\u001b[1;33m=\u001b[0m\u001b[1;33m(\u001b[0m\u001b[1;36m10\u001b[0m\u001b[1;33m,\u001b[0m\u001b[1;36m10\u001b[0m\u001b[1;33m)\u001b[0m\u001b[1;33m)\u001b[0m\u001b[1;33m\u001b[0m\u001b[1;33m\u001b[0m\u001b[0m\n\u001b[0m\u001b[0;32m      4\u001b[0m \u001b[0max\u001b[0m \u001b[1;33m=\u001b[0m \u001b[0mAxes3D\u001b[0m\u001b[1;33m(\u001b[0m\u001b[0mfig\u001b[0m\u001b[1;33m)\u001b[0m\u001b[1;33m\u001b[0m\u001b[1;33m\u001b[0m\u001b[0m\n\u001b[0;32m      5\u001b[0m \u001b[0max\u001b[0m\u001b[1;33m.\u001b[0m\u001b[0mscatter\u001b[0m\u001b[1;33m(\u001b[0m\u001b[0mklienci_banku\u001b[0m\u001b[1;33m[\u001b[0m\u001b[1;34m'zarobki'\u001b[0m\u001b[1;33m]\u001b[0m\u001b[1;33m,\u001b[0m \u001b[0mklienci_banku\u001b[0m\u001b[1;33m[\u001b[0m\u001b[1;34m'oszczednosci'\u001b[0m\u001b[1;33m]\u001b[0m\u001b[1;33m,\u001b[0m \u001b[0mklienci_banku\u001b[0m\u001b[1;33m[\u001b[0m\u001b[1;34m'wiek'\u001b[0m\u001b[1;33m]\u001b[0m\u001b[1;33m)\u001b[0m\u001b[1;33m\u001b[0m\u001b[1;33m\u001b[0m\u001b[0m\n",
      "\u001b[1;31mNameError\u001b[0m: name 'plt' is not defined"
     ]
    }
   ],
   "source": [
    "from mpl_toolkits.mplot3d import Axes3D\n",
    "\n",
    "fig = plt.figure(figsize=(10,10))\n",
    "ax = Axes3D(fig)\n",
    "ax.scatter(klienci_banku['zarobki'], klienci_banku['oszczednosci'], klienci_banku['wiek'])\n",
    "ax.set_xlabel('Zarobki')\n",
    "ax.set_ylabel('Oszczednosci')\n",
    "ax.set_zlabel('Wiek')\n",
    "ax.view_init(39, 30)\n",
    "plt.show()"
   ]
  },
  {
   "cell_type": "markdown",
   "metadata": {},
   "source": [
    "Ale najpierw, policz z odległość między pierwszym i drugim klientem ze zbioru (odległością euklidesową). Aby to zrobić, stwórz funkcję, która przyjmuje dwa wektory i zwraca jedną wartość będącą odległością euklidesową między tymi wektorami"
   ]
  },
  {
   "cell_type": "code",
   "execution_count": 2,
   "metadata": {
    "ExecuteTime": {
     "end_time": "2019-05-07T20:03:55.354236Z",
     "start_time": "2019-05-07T20:03:55.346232Z"
    }
   },
   "outputs": [
    {
     "ename": "TypeError",
     "evalue": "euclidean_distance() missing 1 required positional argument: 'row2'",
     "output_type": "error",
     "traceback": [
      "\u001b[1;31m---------------------------------------------------------------------------\u001b[0m",
      "\u001b[1;31mTypeError\u001b[0m                                 Traceback (most recent call last)",
      "\u001b[1;32m<ipython-input-2-aa32380bdaa4>\u001b[0m in \u001b[0;36m<module>\u001b[1;34m\u001b[0m\n\u001b[0;32m      2\u001b[0m     \u001b[1;32mreturn\u001b[0m \u001b[1;33m...\u001b[0m\u001b[1;33m\u001b[0m\u001b[1;33m\u001b[0m\u001b[0m\n\u001b[0;32m      3\u001b[0m \u001b[1;33m\u001b[0m\u001b[0m\n\u001b[1;32m----> 4\u001b[1;33m \u001b[0meuclidean_distance\u001b[0m\u001b[1;33m(\u001b[0m\u001b[1;33m...\u001b[0m\u001b[1;33m)\u001b[0m\u001b[1;33m\u001b[0m\u001b[1;33m\u001b[0m\u001b[0m\n\u001b[0m",
      "\u001b[1;31mTypeError\u001b[0m: euclidean_distance() missing 1 required positional argument: 'row2'"
     ]
    }
   ],
   "source": [
    "def euclidean_distance(row1, row2):\n",
    "    return ...\n",
    "\n",
    "euclidean_distance(...)"
   ]
  },
  {
   "cell_type": "markdown",
   "metadata": {},
   "source": [
    "Dokonaj standaryzacji danych (od każdej zmiennej odejmij średnią, i podziel przez jej odchylenie standardowe)"
   ]
  },
  {
   "cell_type": "code",
   "execution_count": 104,
   "metadata": {
    "ExecuteTime": {
     "end_time": "2019-05-07T20:03:55.377242Z",
     "start_time": "2019-05-07T20:03:55.355235Z"
    }
   },
   "outputs": [],
   "source": [
    "from sklearn.preprocessing import StandardScaler\n",
    "\n",
    "scaler = StandardScaler()"
   ]
  },
  {
   "cell_type": "code",
   "execution_count": 106,
   "metadata": {},
   "outputs": [],
   "source": [
    "klienci_banku[klienci_banku.columns] = scaler..."
   ]
  },
  {
   "cell_type": "markdown",
   "metadata": {},
   "source": [
    "Wyświetl za pomocą metod ``.mean_``, ``.scale_`` informację o średniej i odchyleniu jakie były zastosowane w standaryzacji"
   ]
  },
  {
   "cell_type": "code",
   "execution_count": null,
   "metadata": {},
   "outputs": [],
   "source": []
  },
  {
   "cell_type": "code",
   "execution_count": null,
   "metadata": {},
   "outputs": [],
   "source": []
  },
  {
   "cell_type": "code",
   "execution_count": null,
   "metadata": {
    "scrolled": true
   },
   "outputs": [],
   "source": []
  },
  {
   "cell_type": "markdown",
   "metadata": {},
   "source": [
    "Przedstaw ramkę"
   ]
  },
  {
   "cell_type": "code",
   "execution_count": null,
   "metadata": {
    "ExecuteTime": {
     "end_time": "2019-05-07T20:03:55.389245Z",
     "start_time": "2019-05-07T20:03:55.379242Z"
    }
   },
   "outputs": [],
   "source": []
  },
  {
   "cell_type": "markdown",
   "metadata": {},
   "source": [
    "Podaj odległość euklidesową po standaryzacji"
   ]
  },
  {
   "cell_type": "code",
   "execution_count": 3,
   "metadata": {
    "ExecuteTime": {
     "end_time": "2019-05-07T20:03:55.396244Z",
     "start_time": "2019-05-07T20:03:55.390244Z"
    }
   },
   "outputs": [
    {
     "ename": "TypeError",
     "evalue": "euclidean_distance() missing 1 required positional argument: 'row2'",
     "output_type": "error",
     "traceback": [
      "\u001b[1;31m---------------------------------------------------------------------------\u001b[0m",
      "\u001b[1;31mTypeError\u001b[0m                                 Traceback (most recent call last)",
      "\u001b[1;32m<ipython-input-3-370e15ba7eca>\u001b[0m in \u001b[0;36m<module>\u001b[1;34m\u001b[0m\n\u001b[0;32m      1\u001b[0m \u001b[1;31m# odległość euklidesowa po standaryzacji:\u001b[0m\u001b[1;33m\u001b[0m\u001b[1;33m\u001b[0m\u001b[1;33m\u001b[0m\u001b[0m\n\u001b[1;32m----> 2\u001b[1;33m \u001b[0meuclidean_distance\u001b[0m\u001b[1;33m(\u001b[0m\u001b[1;33m...\u001b[0m\u001b[1;33m)\u001b[0m\u001b[1;33m\u001b[0m\u001b[1;33m\u001b[0m\u001b[0m\n\u001b[0m",
      "\u001b[1;31mTypeError\u001b[0m: euclidean_distance() missing 1 required positional argument: 'row2'"
     ]
    }
   ],
   "source": [
    "# odległość euklidesowa po standaryzacji:\n",
    "euclidean_distance(...)"
   ]
  },
  {
   "cell_type": "markdown",
   "metadata": {},
   "source": [
    "Dokonaj klastrowania metodą k-średnich. Przyjmij liczbę skupień jako 3"
   ]
  },
  {
   "cell_type": "code",
   "execution_count": null,
   "metadata": {
    "ExecuteTime": {
     "end_time": "2019-05-07T20:03:55.430250Z",
     "start_time": "2019-05-07T20:03:55.397245Z"
    }
   },
   "outputs": [],
   "source": []
  },
  {
   "cell_type": "markdown",
   "metadata": {},
   "source": [
    "Do którego skupienia przyporządkowano poszczególne obserwacje?"
   ]
  },
  {
   "cell_type": "code",
   "execution_count": null,
   "metadata": {
    "ExecuteTime": {
     "end_time": "2019-05-07T20:03:55.435252Z",
     "start_time": "2019-05-07T20:03:55.431250Z"
    }
   },
   "outputs": [],
   "source": []
  },
  {
   "cell_type": "markdown",
   "metadata": {},
   "source": [
    "Jakie są centra skupień? jak byś je scharakteryzował? \n",
    "Żeby dane powróciły do poprzedniej formy sprzed standaryzacji wykorzystaj metodę ``inverse_transform()`` obiektu scaler"
   ]
  },
  {
   "cell_type": "code",
   "execution_count": null,
   "metadata": {
    "ExecuteTime": {
     "end_time": "2019-05-07T20:03:55.443253Z",
     "start_time": "2019-05-07T20:03:55.436251Z"
    }
   },
   "outputs": [],
   "source": []
  },
  {
   "cell_type": "markdown",
   "metadata": {
    "ExecuteTime": {
     "end_time": "2019-03-22T23:51:15.356133Z",
     "start_time": "2019-03-22T23:51:15.353132Z"
    }
   },
   "source": [
    "Przedstaw na wykresie 3D dane, a kolorem oznacz numer skupiska.\n",
    "W ``ax.scatter`` dodaj parametr ``c=`` i przypisz do niego etykiety grupy do jakich zostały przypisane"
   ]
  },
  {
   "cell_type": "code",
   "execution_count": null,
   "metadata": {
    "ExecuteTime": {
     "end_time": "2019-05-07T20:03:55.663303Z",
     "start_time": "2019-05-07T20:03:55.444253Z"
    }
   },
   "outputs": [],
   "source": []
  },
  {
   "cell_type": "markdown",
   "metadata": {},
   "source": [
    "Przedstaw miary jakości klastrowania dla tego modelu. Uwzględnij wewnątrzklastrową sumę ochyleń"
   ]
  },
  {
   "cell_type": "code",
   "execution_count": null,
   "metadata": {
    "ExecuteTime": {
     "end_time": "2019-05-07T20:03:55.675306Z",
     "start_time": "2019-05-07T20:03:55.665304Z"
    }
   },
   "outputs": [],
   "source": []
  },
  {
   "cell_type": "markdown",
   "metadata": {},
   "source": [
    "Za pomocą pętli, przeanalizuj modele k-means dla k z zakresu (2,14), i porównaj miary jakości dopasowania. Ile klastrów byś wybrał?"
   ]
  },
  {
   "cell_type": "code",
   "execution_count": null,
   "metadata": {
    "ExecuteTime": {
     "end_time": "2019-05-07T20:03:56.178420Z",
     "start_time": "2019-05-07T20:03:55.677306Z"
    }
   },
   "outputs": [],
   "source": []
  },
  {
   "cell_type": "markdown",
   "metadata": {},
   "source": [
    "Wyświetl wykresy różnych metryk poprawności w zależności od liczby wybranych klastrów:"
   ]
  },
  {
   "cell_type": "code",
   "execution_count": null,
   "metadata": {
    "ExecuteTime": {
     "end_time": "2019-05-07T20:03:56.331454Z",
     "start_time": "2019-05-07T20:03:56.181419Z"
    }
   },
   "outputs": [],
   "source": []
  },
  {
   "cell_type": "code",
   "execution_count": null,
   "metadata": {
    "ExecuteTime": {
     "end_time": "2019-05-07T20:03:56.466484Z",
     "start_time": "2019-05-07T20:03:56.333455Z"
    }
   },
   "outputs": [],
   "source": []
  },
  {
   "cell_type": "code",
   "execution_count": null,
   "metadata": {
    "ExecuteTime": {
     "end_time": "2019-05-07T20:03:56.579510Z",
     "start_time": "2019-05-07T20:03:56.469485Z"
    }
   },
   "outputs": [],
   "source": []
  },
  {
   "cell_type": "markdown",
   "metadata": {
    "ExecuteTime": {
     "end_time": "2019-03-22T23:55:39.113589Z",
     "start_time": "2019-03-22T23:55:39.108586Z"
    }
   },
   "source": [
    "Dokonaj grupowania za pomocą wybranego k, stwórzy wykres 3D z klastrami, wyświetl informacje o średnich i scharakteryzuj tak powstałe klastry klientów banku"
   ]
  },
  {
   "cell_type": "code",
   "execution_count": null,
   "metadata": {
    "ExecuteTime": {
     "end_time": "2019-05-07T20:03:56.782559Z",
     "start_time": "2019-05-07T20:03:56.580510Z"
    }
   },
   "outputs": [],
   "source": []
  },
  {
   "cell_type": "code",
   "execution_count": null,
   "metadata": {
    "ExecuteTime": {
     "end_time": "2019-05-07T20:03:56.789558Z",
     "start_time": "2019-05-07T20:03:56.785558Z"
    }
   },
   "outputs": [],
   "source": []
  },
  {
   "cell_type": "markdown",
   "metadata": {},
   "source": [
    "# Metoda aglomeracyjna"
   ]
  },
  {
   "cell_type": "markdown",
   "metadata": {},
   "source": [
    "Przeanalizujemy dane o tych samych klientach banku"
   ]
  },
  {
   "cell_type": "code",
   "execution_count": null,
   "metadata": {},
   "outputs": [],
   "source": []
  },
  {
   "cell_type": "code",
   "execution_count": 136,
   "metadata": {
    "ExecuteTime": {
     "end_time": "2019-05-07T20:03:58.465935Z",
     "start_time": "2019-05-07T20:03:56.790558Z"
    }
   },
   "outputs": [],
   "source": [
    "from scipy.cluster.hierarchy import dendrogram, linkage, fcluster\n",
    "# stwórzmy macierz połączeń\n",
    "linkage_matrix = linkage(klienci_banku, 'ward')"
   ]
  },
  {
   "cell_type": "code",
   "execution_count": 137,
   "metadata": {},
   "outputs": [
    {
     "data": {
      "text/plain": [
       "array([[143.        , 186.        ,   0.01583355,   2.        ],\n",
       "       [250.        , 258.        ,   0.0164815 ,   2.        ],\n",
       "       [217.        , 220.        ,   0.01794004,   2.        ],\n",
       "       [ 36.        , 154.        ,   0.01807331,   2.        ],\n",
       "       [142.        , 264.        ,   0.0264094 ,   2.        ],\n",
       "       [238.        , 292.        ,   0.02748254,   2.        ],\n",
       "       [ 64.        , 200.        ,   0.04153154,   2.        ],\n",
       "       [131.        , 189.        ,   0.0432363 ,   2.        ],\n",
       "       [ 69.        , 169.        ,   0.04392908,   2.        ],\n",
       "       [126.        , 152.        ,   0.04435238,   2.        ],\n",
       "       [ 14.        ,  94.        ,   0.04515882,   2.        ],\n",
       "       [191.        , 305.        ,   0.05159059,   2.        ],\n",
       "       [ 55.        , 293.        ,   0.05504662,   2.        ],\n",
       "       [ 77.        , 133.        ,   0.05790951,   2.        ],\n",
       "       [ 53.        , 271.        ,   0.05994129,   2.        ],\n",
       "       [233.        , 269.        ,   0.07327072,   2.        ],\n",
       "       [ 56.        , 216.        ,   0.07835897,   2.        ],\n",
       "       [ 22.        ,  98.        ,   0.07930551,   2.        ],\n",
       "       [ 33.        , 317.        ,   0.08043475,   3.        ],\n",
       "       [ 25.        ,  74.        ,   0.08612089,   2.        ],\n",
       "       [ 90.        , 157.        ,   0.0861429 ,   2.        ],\n",
       "       [ 49.        , 178.        ,   0.09369088,   2.        ],\n",
       "       [160.        , 302.        ,   0.09694519,   2.        ],\n",
       "       [ 46.        , 172.        ,   0.097459  ,   2.        ],\n",
       "       [153.        , 275.        ,   0.09841602,   2.        ],\n",
       "       [119.        , 135.        ,   0.09911611,   2.        ],\n",
       "       [ 26.        , 115.        ,   0.1058521 ,   2.        ],\n",
       "       [181.        , 287.        ,   0.10759142,   2.        ],\n",
       "       [  2.        , 262.        ,   0.10875596,   2.        ],\n",
       "       [ 11.        , 205.        ,   0.11589663,   2.        ],\n",
       "       [ 24.        ,  57.        ,   0.1171729 ,   2.        ],\n",
       "       [ 31.        , 118.        ,   0.11764893,   2.        ],\n",
       "       [ 52.        , 108.        ,   0.11867585,   2.        ],\n",
       "       [ 87.        , 319.        ,   0.12018645,   3.        ],\n",
       "       [122.        , 297.        ,   0.12022008,   2.        ],\n",
       "       [124.        , 180.        ,   0.12067708,   2.        ],\n",
       "       [ 10.        , 325.        ,   0.12117024,   3.        ],\n",
       "       [145.        , 295.        ,   0.12254929,   2.        ],\n",
       "       [117.        , 184.        ,   0.12503482,   2.        ],\n",
       "       [247.        , 304.        ,   0.12642272,   2.        ],\n",
       "       [234.        , 299.        ,   0.13137698,   2.        ],\n",
       "       [114.        , 120.        ,   0.13166991,   2.        ],\n",
       "       [174.        , 309.        ,   0.13285749,   2.        ],\n",
       "       [111.        , 209.        ,   0.13448452,   2.        ],\n",
       "       [101.        , 218.        ,   0.13624107,   2.        ],\n",
       "       [159.        , 201.        ,   0.1366609 ,   2.        ],\n",
       "       [ 82.        , 341.        ,   0.13842334,   3.        ],\n",
       "       [215.        , 327.        ,   0.13878291,   3.        ],\n",
       "       [268.        , 345.        ,   0.13953993,   3.        ],\n",
       "       [132.        , 173.        ,   0.13968688,   2.        ],\n",
       "       [144.        , 282.        ,   0.14068269,   2.        ],\n",
       "       [ 97.        , 290.        ,   0.14221164,   2.        ],\n",
       "       [ 15.        , 321.        ,   0.14262371,   3.        ],\n",
       "       [236.        , 352.        ,   0.14299176,   3.        ],\n",
       "       [ 30.        , 346.        ,   0.14365511,   3.        ],\n",
       "       [105.        , 256.        ,   0.14404522,   2.        ],\n",
       "       [177.        , 187.        ,   0.14582162,   2.        ],\n",
       "       [227.        , 251.        ,   0.14609961,   2.        ],\n",
       "       [  7.        , 134.        ,   0.1461557 ,   2.        ],\n",
       "       [222.        , 311.        ,   0.14801625,   2.        ],\n",
       "       [228.        , 329.        ,   0.15039357,   3.        ],\n",
       "       [229.        , 316.        ,   0.15241088,   3.        ],\n",
       "       [318.        , 320.        ,   0.15450194,   4.        ],\n",
       "       [ 35.        , 339.        ,   0.15462639,   3.        ],\n",
       "       [252.        , 274.        ,   0.15716457,   2.        ],\n",
       "       [ 80.        , 315.        ,   0.15751887,   3.        ],\n",
       "       [113.        , 127.        ,   0.15753577,   2.        ],\n",
       "       [ 54.        , 167.        ,   0.16131061,   2.        ],\n",
       "       [ 34.        , 277.        ,   0.16609858,   2.        ],\n",
       "       [286.        , 335.        ,   0.16646233,   3.        ],\n",
       "       [ 86.        , 151.        ,   0.16652825,   2.        ],\n",
       "       [185.        , 356.        ,   0.16968377,   3.        ],\n",
       "       [355.        , 379.        ,   0.17087307,   4.        ],\n",
       "       [ 66.        , 248.        ,   0.17256308,   2.        ],\n",
       "       [ 84.        , 354.        ,   0.1729482 ,   3.        ],\n",
       "       [ 63.        , 288.        ,   0.17680197,   2.        ],\n",
       "       [ 85.        , 362.        ,   0.18048414,   4.        ],\n",
       "       [332.        , 333.        ,   0.18201212,   5.        ],\n",
       "       [ 67.        , 294.        ,   0.1823168 ,   2.        ],\n",
       "       [272.        , 276.        ,   0.18347084,   2.        ],\n",
       "       [ 12.        , 147.        ,   0.18427365,   2.        ],\n",
       "       [165.        , 207.        ,   0.18862164,   2.        ],\n",
       "       [230.        , 306.        ,   0.19034353,   2.        ],\n",
       "       [ 39.        , 314.        ,   0.19082319,   2.        ],\n",
       "       [  6.        , 123.        ,   0.19139589,   2.        ],\n",
       "       [103.        , 344.        ,   0.19172541,   3.        ],\n",
       "       [260.        , 384.        ,   0.19282241,   4.        ],\n",
       "       [139.        , 263.        ,   0.19656939,   2.        ],\n",
       "       [ 79.        , 221.        ,   0.20087942,   2.        ],\n",
       "       [171.        , 359.        ,   0.20348006,   3.        ],\n",
       "       [ 70.        , 298.        ,   0.20382674,   2.        ],\n",
       "       [273.        , 353.        ,   0.20481259,   3.        ],\n",
       "       [196.        , 392.        ,   0.20564502,   6.        ],\n",
       "       [ 47.        ,  50.        ,   0.21200004,   2.        ],\n",
       "       [  9.        ,  88.        ,   0.21591515,   2.        ],\n",
       "       [ 59.        ,  78.        ,   0.21691873,   2.        ],\n",
       "       [102.        , 188.        ,   0.21728185,   2.        ],\n",
       "       [104.        , 267.        ,   0.2174386 ,   2.        ],\n",
       "       [112.        , 149.        ,   0.21746005,   2.        ],\n",
       "       [ 45.        , 343.        ,   0.21838838,   3.        ],\n",
       "       [110.        , 378.        ,   0.21919158,   4.        ],\n",
       "       [ 29.        , 163.        ,   0.22133945,   2.        ],\n",
       "       [244.        , 368.        ,   0.22564478,   4.        ],\n",
       "       [ 27.        , 300.        ,   0.22585937,   2.        ],\n",
       "       [ 99.        , 243.        ,   0.23599712,   2.        ],\n",
       "       [199.        , 202.        ,   0.23781406,   2.        ],\n",
       "       [ 28.        , 376.        ,   0.23914197,   4.        ],\n",
       "       [326.        , 340.        ,   0.23973581,   4.        ],\n",
       "       [225.        , 380.        ,   0.24551704,   4.        ],\n",
       "       [141.        , 197.        ,   0.24764996,   2.        ],\n",
       "       [ 83.        , 402.        ,   0.25200554,   3.        ],\n",
       "       [310.        , 324.        ,   0.25202232,   3.        ],\n",
       "       [323.        , 387.        ,   0.25332168,   6.        ],\n",
       "       [ 16.        , 285.        ,   0.25349924,   2.        ],\n",
       "       [ 41.        , 283.        ,   0.25561745,   2.        ],\n",
       "       [  4.        , 303.        ,   0.25605501,   2.        ],\n",
       "       [ 92.        , 183.        ,   0.25814954,   2.        ],\n",
       "       [ 48.        , 204.        ,   0.25912469,   2.        ],\n",
       "       [  1.        , 279.        ,   0.26020512,   2.        ],\n",
       "       [ 42.        , 366.        ,   0.26084394,   3.        ],\n",
       "       [289.        , 342.        ,   0.26129941,   3.        ],\n",
       "       [195.        , 240.        ,   0.26161767,   2.        ],\n",
       "       [214.        , 394.        ,   0.26246338,   3.        ],\n",
       "       [138.        , 395.        ,   0.26250836,   3.        ],\n",
       "       [ 20.        , 330.        ,   0.26465645,   3.        ],\n",
       "       [296.        , 337.        ,   0.26612105,   3.        ],\n",
       "       [ 76.        , 265.        ,   0.2687755 ,   2.        ],\n",
       "       [ 65.        , 164.        ,   0.27015447,   2.        ],\n",
       "       [ 71.        , 254.        ,   0.27270917,   2.        ],\n",
       "       [116.        , 198.        ,   0.27294365,   2.        ],\n",
       "       [239.        , 307.        ,   0.27522439,   2.        ],\n",
       "       [245.        , 351.        ,   0.27770913,   4.        ],\n",
       "       [170.        , 224.        ,   0.28331317,   2.        ],\n",
       "       [371.        , 417.        ,   0.28938545,   6.        ],\n",
       "       [146.        , 162.        ,   0.29018864,   2.        ],\n",
       "       [331.        , 403.        ,   0.29222654,   4.        ],\n",
       "       [ 40.        , 391.        ,   0.2931371 ,   5.        ],\n",
       "       [109.        , 396.        ,   0.29439365,   3.        ],\n",
       "       [156.        , 400.        ,   0.29618754,   4.        ],\n",
       "       [ 96.        , 179.        ,   0.29799447,   2.        ],\n",
       "       [107.        , 367.        ,   0.29827975,   4.        ],\n",
       "       [100.        , 374.        ,   0.29986717,   3.        ],\n",
       "       [106.        , 405.        ,   0.30252181,   3.        ],\n",
       "       [246.        , 284.        ,   0.30324956,   2.        ],\n",
       "       [322.        , 385.        ,   0.3071297 ,   4.        ],\n",
       "       [241.        , 375.        ,   0.30826569,   4.        ],\n",
       "       [406.        , 418.        ,   0.3101277 ,   5.        ],\n",
       "       [ 21.        , 281.        ,   0.3137043 ,   2.        ],\n",
       "       [136.        , 372.        ,   0.31581502,   3.        ],\n",
       "       [347.        , 364.        ,   0.31932818,   4.        ],\n",
       "       [350.        , 370.        ,   0.32200103,   4.        ],\n",
       "       [301.        , 422.        ,   0.32383943,   5.        ],\n",
       "       [208.        , 261.        ,   0.33067555,   2.        ],\n",
       "       [ 17.        , 210.        ,   0.33207251,   2.        ],\n",
       "       [150.        , 386.        ,   0.33490589,   4.        ],\n",
       "       [336.        , 410.        ,   0.33492274,   4.        ],\n",
       "       [381.        , 424.        ,   0.34251923,   4.        ],\n",
       "       [ 81.        , 158.        ,   0.34263578,   2.        ],\n",
       "       [ 91.        , 242.        ,   0.34294876,   2.        ],\n",
       "       [401.        , 421.        ,   0.34821224,   8.        ],\n",
       "       [ 43.        , 453.        ,   0.35221303,   5.        ],\n",
       "       [166.        , 373.        ,   0.35597107,   3.        ],\n",
       "       [ 95.        , 182.        ,   0.35676939,   2.        ],\n",
       "       [125.        , 416.        ,   0.36026888,   3.        ],\n",
       "       [231.        , 433.        ,   0.3603776 ,   3.        ],\n",
       "       [  5.        , 259.        ,   0.36446068,   2.        ],\n",
       "       [255.        , 425.        ,   0.37088206,   4.        ],\n",
       "       [161.        , 206.        ,   0.37364115,   2.        ],\n",
       "       [399.        , 411.        ,   0.37454834,   4.        ],\n",
       "       [129.        , 360.        ,   0.37491766,   3.        ],\n",
       "       [ 18.        ,  58.        ,   0.38575528,   2.        ],\n",
       "       [148.        , 459.        ,   0.3913885 ,   5.        ],\n",
       "       [427.        , 476.        ,   0.40068341,   9.        ],\n",
       "       [280.        , 443.        ,   0.40129044,   3.        ],\n",
       "       [ 62.        , 408.        ,   0.41007958,   3.        ],\n",
       "       [ 51.        , 349.        ,   0.41064449,   3.        ],\n",
       "       [ 44.        ,  73.        ,   0.41073478,   2.        ],\n",
       "       [348.        , 407.        ,   0.41129994,   9.        ],\n",
       "       [361.        , 435.        ,   0.41397924,   6.        ],\n",
       "       [  0.        , 176.        ,   0.41456884,   2.        ],\n",
       "       [312.        , 461.        ,   0.418028  ,   6.        ],\n",
       "       [ 61.        , 249.        ,   0.42027997,   2.        ],\n",
       "       [ 89.        , 192.        ,   0.42492786,   2.        ],\n",
       "       [ 19.        , 447.        ,   0.42998224,   3.        ],\n",
       "       [338.        , 409.        ,   0.43278186,   4.        ],\n",
       "       [388.        , 389.        ,   0.43564974,   5.        ],\n",
       "       [193.        , 213.        ,   0.44126148,   2.        ],\n",
       "       [419.        , 469.        ,   0.44448563,   6.        ],\n",
       "       [334.        , 369.        ,   0.45512376,   5.        ],\n",
       "       [155.        , 398.        ,   0.45938435,   3.        ],\n",
       "       [278.        , 426.        ,   0.4701348 ,   4.        ],\n",
       "       [451.        , 455.        ,   0.47656229,   9.        ],\n",
       "       [212.        , 454.        ,   0.47783591,   3.        ],\n",
       "       [128.        , 257.        ,   0.4792537 ,   2.        ],\n",
       "       [404.        , 444.        ,   0.48091771,   5.        ],\n",
       "       [363.        , 486.        ,   0.48980907,   8.        ],\n",
       "       [140.        , 413.        ,   0.49433845,   3.        ],\n",
       "       [440.        , 464.        ,   0.49682309,   7.        ],\n",
       "       [382.        , 434.        ,   0.50104535,   5.        ],\n",
       "       [211.        , 235.        ,   0.50346688,   2.        ],\n",
       "       [ 32.        , 428.        ,   0.51012535,   3.        ],\n",
       "       [175.        , 478.        ,   0.51534584,   4.        ],\n",
       "       [137.        , 203.        ,   0.51802302,   2.        ],\n",
       "       [466.        , 490.        ,   0.52298789,   8.        ],\n",
       "       [414.        , 475.        ,   0.528816  ,   8.        ],\n",
       "       [237.        , 393.        ,   0.54960018,   3.        ],\n",
       "       [358.        , 429.        ,   0.54985431,   4.        ],\n",
       "       [446.        , 492.        ,   0.55748808,  13.        ],\n",
       "       [390.        , 488.        ,   0.5599168 ,   5.        ],\n",
       "       [223.        , 497.        ,   0.56173176,   3.        ],\n",
       "       [291.        , 505.        ,   0.56323025,   5.        ],\n",
       "       [377.        , 415.        ,   0.5793464 ,   8.        ],\n",
       "       [ 93.        , 439.        ,   0.58103361,   4.        ],\n",
       "       [437.        , 460.        ,   0.60201961,   7.        ],\n",
       "       [219.        , 436.        ,   0.6027476 ,   3.        ],\n",
       "       [ 60.        , 487.        ,   0.6081691 ,  10.        ],\n",
       "       [ 23.        , 519.        ,   0.62084342,   9.        ],\n",
       "       [397.        , 482.        ,   0.62439051,   4.        ],\n",
       "       [ 37.        , 313.        ,   0.62949339,   2.        ],\n",
       "       [ 72.        , 491.        ,   0.62963138,   3.        ],\n",
       "       [232.        , 445.        ,   0.63648548,   3.        ],\n",
       "       [423.        , 474.        ,   0.65769067,  12.        ],\n",
       "       [328.        , 471.        ,   0.66409264,   6.        ],\n",
       "       [194.        , 270.        ,   0.66502162,   2.        ],\n",
       "       [452.        , 525.        ,   0.67438472,   8.        ],\n",
       "       [383.        , 511.        ,   0.6798321 ,   5.        ],\n",
       "       [  3.        , 489.        ,   0.68169495,   4.        ],\n",
       "       [ 38.        , 477.        ,   0.68544175,   3.        ],\n",
       "       [484.        , 510.        ,   0.68752035,  11.        ],\n",
       "       [448.        , 456.        ,   0.68913164,   9.        ],\n",
       "       [442.        , 472.        ,   0.69339935,   4.        ],\n",
       "       [431.        , 479.        ,   0.69448078,   5.        ],\n",
       "       [430.        , 528.        ,   0.70014506,   9.        ],\n",
       "       [450.        , 458.        ,   0.70445445,   6.        ],\n",
       "       [121.        , 463.        ,   0.71293812,   4.        ],\n",
       "       [507.        , 529.        ,   0.72876697,   6.        ],\n",
       "       [420.        , 498.        ,   0.73067572,   5.        ],\n",
       "       [412.        , 508.        ,   0.73783285,   4.        ],\n",
       "       [473.        , 499.        ,   0.73916761,   6.        ],\n",
       "       [501.        , 515.        ,   0.75963083,   5.        ],\n",
       "       [ 75.        , 537.        ,   0.78915641,   7.        ],\n",
       "       [457.        , 495.        ,   0.79253539,   9.        ],\n",
       "       [226.        , 308.        ,   0.80115347,   2.        ],\n",
       "       [470.        , 506.        ,   0.80328493,  13.        ],\n",
       "       [441.        , 493.        ,   0.80636348,   8.        ],\n",
       "       [ 68.        , 494.        ,   0.80789008,   3.        ],\n",
       "       [190.        , 524.        ,   0.8090369 ,   4.        ],\n",
       "       [465.        , 516.        ,   0.8102072 ,   8.        ],\n",
       "       [468.        , 521.        ,   0.86022386,   6.        ],\n",
       "       [538.        , 560.        ,   0.87568611,   5.        ],\n",
       "       [266.        , 533.        ,   0.89550217,   3.        ],\n",
       "       [449.        , 523.        ,   0.89911192,   7.        ],\n",
       "       [168.        , 517.        ,   0.90383047,   3.        ],\n",
       "       [357.        , 514.        ,   0.91899025,   4.        ],\n",
       "       [462.        , 480.        ,   0.93524515,   4.        ],\n",
       "       [503.        , 512.        ,   0.94690198,  12.        ],\n",
       "       [522.        , 526.        ,   0.94872565,  21.        ],\n",
       "       [467.        , 551.        ,   0.95247983,   7.        ],\n",
       "       [509.        , 544.        ,   0.97707355,  14.        ],\n",
       "       [500.        , 553.        ,   1.00874673,  11.        ],\n",
       "       [365.        , 496.        ,   1.01394227,   4.        ],\n",
       "       [432.        , 546.        ,   1.02356468,   7.        ],\n",
       "       [518.        , 559.        ,   1.0663991 ,  16.        ],\n",
       "       [ 13.        , 566.        ,   1.10124493,   8.        ],\n",
       "       [130.        , 549.        ,   1.11932404,   5.        ],\n",
       "       [483.        , 554.        ,   1.15607756,   9.        ],\n",
       "       [481.        , 557.        ,   1.19129762,   6.        ],\n",
       "       [485.        , 540.        ,   1.24429044,   7.        ],\n",
       "       [532.        , 562.        ,   1.24903246,  12.        ],\n",
       "       [502.        , 576.        ,   1.26010392,  13.        ],\n",
       "       [527.        , 569.        ,   1.26190534,   8.        ],\n",
       "       [545.        , 552.        ,   1.27594581,   8.        ],\n",
       "       [530.        , 581.        ,   1.27716789,  16.        ],\n",
       "       [535.        , 543.        ,   1.28495655,  14.        ],\n",
       "       [563.        , 575.        ,   1.28644655,  10.        ],\n",
       "       [253.        , 564.        ,   1.29463407,   6.        ],\n",
       "       [561.        , 573.        ,   1.3440704 ,  18.        ],\n",
       "       [541.        , 558.        ,   1.4282727 ,  17.        ],\n",
       "       [534.        , 565.        ,   1.43579591,   6.        ],\n",
       "       [536.        , 555.        ,   1.44145284,  19.        ],\n",
       "       [513.        , 571.        ,   1.50175685,  26.        ],\n",
       "       [548.        , 594.        ,   1.56651349,  25.        ],\n",
       "       [504.        , 590.        ,   1.61832524,   9.        ],\n",
       "       [438.        , 531.        ,   1.69926503,  12.        ],\n",
       "       [547.        , 574.        ,   1.7141938 ,  20.        ],\n",
       "       [556.        , 578.        ,   1.771972  ,  17.        ],\n",
       "       [542.        , 583.        ,   1.82295674,  15.        ],\n",
       "       [550.        , 579.        ,   1.95987221,  11.        ],\n",
       "       [570.        , 598.        ,   2.00197267,  24.        ],\n",
       "       [572.        , 582.        ,   2.05595459,  14.        ],\n",
       "       [539.        , 589.        ,   2.15399938,  18.        ],\n",
       "       [568.        , 601.        ,   2.21524002,  19.        ],\n",
       "       [577.        , 595.        ,   2.26822579,  42.        ],\n",
       "       [584.        , 588.        ,   2.34538709,  27.        ],\n",
       "       [585.        , 593.        ,   2.35514557,  14.        ],\n",
       "       [  8.        , 580.        ,   2.61279555,  10.        ],\n",
       "       [592.        , 604.        ,   2.70263967,  31.        ],\n",
       "       [567.        , 586.        ,   2.96505241,  11.        ],\n",
       "       [587.        , 608.        ,   3.06625717,  43.        ],\n",
       "       [596.        , 600.        ,   3.09185519,  42.        ],\n",
       "       [520.        , 599.        ,   3.20461752,  23.        ],\n",
       "       [609.        , 612.        ,   3.81591054,  25.        ],\n",
       "       [602.        , 606.        ,   3.89016777,  30.        ],\n",
       "       [591.        , 605.        ,   4.29352931,  36.        ],\n",
       "       [610.        , 613.        ,   4.30696999,  53.        ],\n",
       "       [597.        , 616.        ,   5.19349035,  34.        ],\n",
       "       [611.        , 614.        ,   5.31070607,  73.        ],\n",
       "       [603.        , 615.        ,   6.18140954,  47.        ],\n",
       "       [618.        , 621.        ,   7.60024236, 109.        ],\n",
       "       [617.        , 620.        ,   9.2502213 ,  64.        ],\n",
       "       [619.        , 622.        ,  10.62273603, 100.        ],\n",
       "       [607.        , 625.        ,  14.34022553, 142.        ],\n",
       "       [623.        , 626.        ,  20.44128694, 251.        ],\n",
       "       [624.        , 627.        ,  25.76521169, 315.        ]])"
      ]
     },
     "execution_count": 137,
     "metadata": {},
     "output_type": "execute_result"
    }
   ],
   "source": [
    "linkage_matrix"
   ]
  },
  {
   "cell_type": "markdown",
   "metadata": {},
   "source": [
    "Tworzymy wykres dendrogramu:"
   ]
  },
  {
   "cell_type": "code",
   "execution_count": null,
   "metadata": {},
   "outputs": [],
   "source": []
  },
  {
   "cell_type": "markdown",
   "metadata": {},
   "source": [
    "Za pomocą odpowiednich współczynników sprawdź, które z rodzajów połączeń między klastrami daje najlepsze wyniki. Zajrzyj do dokumentacji funkcji linkage (np ``single, complete, average, weighted, centroid, median``)"
   ]
  },
  {
   "cell_type": "code",
   "execution_count": null,
   "metadata": {
    "ExecuteTime": {
     "end_time": "2019-05-07T20:04:00.053457Z",
     "start_time": "2019-05-07T20:03:58.467935Z"
    }
   },
   "outputs": [],
   "source": []
  },
  {
   "cell_type": "markdown",
   "metadata": {},
   "source": [
    "Za pomocą funkcji ``fluster`` możemy automatycznie przypisać każdemu obiektowi numer jego klastra określając zadaną przez nas liczbę klastrów ``criterion='maxclust'`` bądź odległości przy której podzielić klastry: ``criterion='distance'``"
   ]
  },
  {
   "cell_type": "code",
   "execution_count": null,
   "metadata": {
    "ExecuteTime": {
     "end_time": "2019-05-07T20:04:01.635601Z",
     "start_time": "2019-05-07T20:04:00.054456Z"
    },
    "scrolled": true
   },
   "outputs": [],
   "source": []
  },
  {
   "cell_type": "markdown",
   "metadata": {},
   "source": [
    "Za pomocą współczynnika silhouette porównaj jakość klastrowania hierarchicznego dla danych podzielonych na trzy klastry za pomocą:\n",
    "- metody warda\n",
    "- metody pojedynczego łączenia\n",
    "- metody średniej"
   ]
  },
  {
   "cell_type": "code",
   "execution_count": null,
   "metadata": {
    "ExecuteTime": {
     "end_time": "2019-05-07T20:04:01.655608Z",
     "start_time": "2019-05-07T20:04:01.639602Z"
    }
   },
   "outputs": [],
   "source": []
  },
  {
   "cell_type": "markdown",
   "metadata": {},
   "source": [
    "## Grupowanie k-modes"
   ]
  },
  {
   "cell_type": "markdown",
   "metadata": {},
   "source": [
    "Wczytaj dane dotyczące klientów banku z pliku csv ``bankmarketing.csv`` bądź ze strony: https://www.kaggle.com/ashydv/bank-marketing"
   ]
  },
  {
   "cell_type": "code",
   "execution_count": 169,
   "metadata": {},
   "outputs": [],
   "source": [
    "data = pd.read_csv('bankmarketing.csv')"
   ]
  },
  {
   "cell_type": "markdown",
   "metadata": {},
   "source": [
    "Wyświetl typy danych, i za pomocą metody .value_counts() podaj statystyki dla zmiennych 'job', 'marital', 'education', 'housing'"
   ]
  },
  {
   "cell_type": "code",
   "execution_count": null,
   "metadata": {},
   "outputs": [],
   "source": []
  },
  {
   "cell_type": "code",
   "execution_count": null,
   "metadata": {},
   "outputs": [],
   "source": []
  },
  {
   "cell_type": "code",
   "execution_count": null,
   "metadata": {},
   "outputs": [],
   "source": []
  },
  {
   "cell_type": "code",
   "execution_count": null,
   "metadata": {},
   "outputs": [],
   "source": []
  },
  {
   "cell_type": "code",
   "execution_count": null,
   "metadata": {},
   "outputs": [],
   "source": []
  },
  {
   "cell_type": "markdown",
   "metadata": {},
   "source": [
    "Za pomocą funkcji pd.bin przekonwertuj wiek do zmiennej kategorialnej. Kategorie - [0-20], [20-30], [30-40] itd... (zobacz wcześniej jaka jest wartość maksymalna i minimalna"
   ]
  },
  {
   "cell_type": "code",
   "execution_count": null,
   "metadata": {},
   "outputs": [],
   "source": []
  },
  {
   "cell_type": "markdown",
   "metadata": {},
   "source": [
    "Stwórz nową ramkę tylko z pięcioma zmiennymi kategorialnymi i opisz ją za pomocą metody .describe()"
   ]
  },
  {
   "cell_type": "code",
   "execution_count": null,
   "metadata": {},
   "outputs": [],
   "source": []
  },
  {
   "cell_type": "markdown",
   "metadata": {},
   "source": [
    "Zakoduj wszystkie z pięciu zmiennych za pomocą modułu preprocessing"
   ]
  },
  {
   "cell_type": "code",
   "execution_count": 4,
   "metadata": {},
   "outputs": [],
   "source": [
    "from sklearn import preprocessing\n",
    "le = preprocessing.LabelEncoder()\n"
   ]
  },
  {
   "cell_type": "code",
   "execution_count": null,
   "metadata": {},
   "outputs": [],
   "source": []
  },
  {
   "cell_type": "markdown",
   "metadata": {},
   "source": [
    "Zainstaluj, zaimportuj i wykorzystaj bibliotekę k-modes, a także uzyj jej do klastrowania cech klientów"
   ]
  },
  {
   "cell_type": "code",
   "execution_count": 182,
   "metadata": {},
   "outputs": [],
   "source": [
    "from kmodes.kmodes import KModes"
   ]
  },
  {
   "cell_type": "code",
   "execution_count": 5,
   "metadata": {
    "scrolled": true
   },
   "outputs": [
    {
     "ename": "NameError",
     "evalue": "name 'KModes' is not defined",
     "output_type": "error",
     "traceback": [
      "\u001b[1;31m---------------------------------------------------------------------------\u001b[0m",
      "\u001b[1;31mNameError\u001b[0m                                 Traceback (most recent call last)",
      "\u001b[1;32m<ipython-input-5-50abb2e41ce3>\u001b[0m in \u001b[0;36m<module>\u001b[1;34m\u001b[0m\n\u001b[1;32m----> 1\u001b[1;33m \u001b[0mkm\u001b[0m \u001b[1;33m=\u001b[0m \u001b[0mKModes\u001b[0m\u001b[1;33m(\u001b[0m\u001b[0mn_clusters\u001b[0m\u001b[1;33m=\u001b[0m\u001b[1;36m2\u001b[0m\u001b[1;33m,\u001b[0m \u001b[0minit\u001b[0m \u001b[1;33m=\u001b[0m \u001b[1;34m\"Huang\"\u001b[0m\u001b[1;33m,\u001b[0m \u001b[0mn_init\u001b[0m \u001b[1;33m=\u001b[0m \u001b[1;36m5\u001b[0m\u001b[1;33m,\u001b[0m \u001b[0mverbose\u001b[0m\u001b[1;33m=\u001b[0m\u001b[1;36m1\u001b[0m\u001b[1;33m)\u001b[0m\u001b[1;33m\u001b[0m\u001b[1;33m\u001b[0m\u001b[0m\n\u001b[0m\u001b[0;32m      2\u001b[0m \u001b[0mfitClusters_cao\u001b[0m \u001b[1;33m=\u001b[0m \u001b[0mkm\u001b[0m\u001b[1;33m.\u001b[0m\u001b[0mfit_predict\u001b[0m\u001b[1;33m(\u001b[0m\u001b[0mbank_cust\u001b[0m\u001b[1;33m)\u001b[0m\u001b[1;33m\u001b[0m\u001b[1;33m\u001b[0m\u001b[0m\n",
      "\u001b[1;31mNameError\u001b[0m: name 'KModes' is not defined"
     ]
    }
   ],
   "source": [
    "km = KModes(n_clusters=2, init = \"Huang\", n_init = 5, verbose=1)\n",
    "fitClusters_cao = km.fit_predict(bank_cust)"
   ]
  },
  {
   "cell_type": "code",
   "execution_count": 6,
   "metadata": {},
   "outputs": [
    {
     "ename": "NameError",
     "evalue": "name 'km' is not defined",
     "output_type": "error",
     "traceback": [
      "\u001b[1;31m---------------------------------------------------------------------------\u001b[0m",
      "\u001b[1;31mNameError\u001b[0m                                 Traceback (most recent call last)",
      "\u001b[1;32m<ipython-input-6-9fa498bee02d>\u001b[0m in \u001b[0;36m<module>\u001b[1;34m\u001b[0m\n\u001b[1;32m----> 1\u001b[1;33m \u001b[0mkm\u001b[0m\u001b[1;33m.\u001b[0m\u001b[0mcluster_centroids_\u001b[0m\u001b[1;33m\u001b[0m\u001b[1;33m\u001b[0m\u001b[0m\n\u001b[0m",
      "\u001b[1;31mNameError\u001b[0m: name 'km' is not defined"
     ]
    }
   ],
   "source": [
    "km.cluster_centroids_"
   ]
  },
  {
   "cell_type": "markdown",
   "metadata": {},
   "source": [
    "Przeprowadź analizę wartości funkcji kosztu w zależności od liczby k"
   ]
  },
  {
   "cell_type": "code",
   "execution_count": null,
   "metadata": {},
   "outputs": [],
   "source": []
  },
  {
   "cell_type": "markdown",
   "metadata": {},
   "source": [
    "I przedstaw na wykresie:"
   ]
  },
  {
   "cell_type": "code",
   "execution_count": null,
   "metadata": {},
   "outputs": [],
   "source": []
  },
  {
   "cell_type": "code",
   "execution_count": null,
   "metadata": {},
   "outputs": [],
   "source": []
  },
  {
   "cell_type": "markdown",
   "metadata": {},
   "source": [
    "Informację o numerze klastra połącz z oryginalną ramką danych, a następnie wyświetl informacje o elementach z klastra"
   ]
  },
  {
   "cell_type": "code",
   "execution_count": null,
   "metadata": {
    "scrolled": false
   },
   "outputs": [],
   "source": []
  },
  {
   "cell_type": "code",
   "execution_count": null,
   "metadata": {},
   "outputs": [],
   "source": []
  },
  {
   "cell_type": "markdown",
   "metadata": {},
   "source": [
    "Dla każdego klastra przedstaw statystyki częstości według danej ramki. Będzie to kwestia zrobienia pętli po zmiennych i wyprintowania: ``value_counts(normalize=True)``dla każdej kolumny."
   ]
  },
  {
   "cell_type": "code",
   "execution_count": null,
   "metadata": {},
   "outputs": [],
   "source": []
  },
  {
   "cell_type": "markdown",
   "metadata": {},
   "source": [
    "## DBSCAN"
   ]
  },
  {
   "cell_type": "code",
   "execution_count": 8,
   "metadata": {},
   "outputs": [],
   "source": [
    "from sklearn.cluster import DBSCAN"
   ]
  },
  {
   "cell_type": "markdown",
   "metadata": {},
   "source": [
    "Dokonaj klasteryzacji metodą DBSCAN"
   ]
  },
  {
   "cell_type": "code",
   "execution_count": 9,
   "metadata": {},
   "outputs": [
    {
     "ename": "NameError",
     "evalue": "name 'klienci_banku' is not defined",
     "output_type": "error",
     "traceback": [
      "\u001b[1;31m---------------------------------------------------------------------------\u001b[0m",
      "\u001b[1;31mNameError\u001b[0m                                 Traceback (most recent call last)",
      "\u001b[1;32m<ipython-input-9-ac8c4668d622>\u001b[0m in \u001b[0;36m<module>\u001b[1;34m\u001b[0m\n\u001b[1;32m----> 1\u001b[1;33m \u001b[0mclus\u001b[0m \u001b[1;33m=\u001b[0m \u001b[0mDBSCAN\u001b[0m\u001b[1;33m(\u001b[0m\u001b[0meps\u001b[0m\u001b[1;33m=\u001b[0m\u001b[1;36m1\u001b[0m\u001b[1;33m,\u001b[0m \u001b[0mmin_samples\u001b[0m\u001b[1;33m=\u001b[0m\u001b[1;36m2\u001b[0m\u001b[1;33m)\u001b[0m\u001b[1;33m.\u001b[0m\u001b[0mfit_predict\u001b[0m\u001b[1;33m(\u001b[0m\u001b[0mklienci_banku\u001b[0m\u001b[1;33m)\u001b[0m\u001b[1;33m\u001b[0m\u001b[1;33m\u001b[0m\u001b[0m\n\u001b[0m",
      "\u001b[1;31mNameError\u001b[0m: name 'klienci_banku' is not defined"
     ]
    }
   ],
   "source": [
    "clus = DBSCAN(eps=1, min_samples=2).fit_predict(klienci_banku)"
   ]
  },
  {
   "cell_type": "markdown",
   "metadata": {},
   "source": [
    "Wyświetl klastry do których należy każda z obserwacji"
   ]
  },
  {
   "cell_type": "code",
   "execution_count": 233,
   "metadata": {},
   "outputs": [
    {
     "data": {
      "text/plain": [
       "array([ 0,  1,  1,  1,  1,  0,  1,  1, -1,  1,  1,  1,  1, -1,  1,  1,  1,\n",
       "        1,  1,  1,  0,  0,  1,  1,  1,  1,  1,  1,  1,  1,  1,  1,  1,  1,\n",
       "        1,  1,  1,  2,  1,  0,  1,  1,  1,  1,  0,  1,  1,  1,  1,  1,  1,\n",
       "        1,  1,  1,  1,  1,  1,  1,  1,  1,  1,  1,  1,  1,  1,  0,  1,  1,\n",
       "        0,  1,  1,  1,  0,  0,  1,  1,  1,  1,  1,  1,  1,  0,  1,  1,  1,\n",
       "        1,  1,  1,  1,  1,  1,  1,  1,  0,  1,  1,  1,  1,  1,  1,  1,  1,\n",
       "        1,  1,  0,  1,  1,  1,  1,  1,  1,  1,  1,  1,  1,  1,  1,  1,  1,\n",
       "        1,  1,  1,  1,  1,  1,  1,  1,  1,  0,  1, -1,  1,  1,  1,  1,  1,\n",
       "        1,  0,  1,  1,  1,  1,  1,  1,  1,  1,  1,  1,  1,  1,  1,  1,  1,\n",
       "        1,  1,  0,  1,  1,  0,  1,  1,  1,  1,  1,  0,  1,  1,  1,  0,  1,\n",
       "        1,  1,  1,  1,  1,  1,  0,  1,  1,  1,  1,  1,  1,  1,  1,  1,  1,\n",
       "        1,  1,  1,  1,  1,  1,  1,  0,  1,  1,  1,  1,  1,  1,  1,  1,  0,\n",
       "        1,  1,  1,  1,  1,  1,  1,  1,  1,  1,  1,  1,  1,  1,  1,  1,  1,\n",
       "        1,  1,  1,  1,  1,  1,  1,  1,  1,  1,  1,  1,  0,  1,  1,  1,  1,\n",
       "        1,  1,  1,  1,  1,  1,  1,  1,  1,  1,  1,  1,  1,  1,  1, -1,  1,\n",
       "        1,  1,  0,  1,  0,  1,  1,  1,  1,  1,  1,  2,  0,  1,  0,  0,  1,\n",
       "        1,  1,  1,  1,  1,  1,  1,  1,  1,  0,  1,  1,  1,  1,  1,  1,  1,\n",
       "        1,  1,  1,  1,  1,  1,  1,  1,  1,  1,  1,  1,  1,  1,  1,  1,  1,\n",
       "        1,  1,  1,  1,  1,  1,  1,  2,  0], dtype=int64)"
      ]
     },
     "execution_count": 233,
     "metadata": {},
     "output_type": "execute_result"
    }
   ],
   "source": [
    "clus"
   ]
  },
  {
   "cell_type": "markdown",
   "metadata": {},
   "source": [
    "A także przedstaw na wykresie 3D"
   ]
  },
  {
   "cell_type": "code",
   "execution_count": 234,
   "metadata": {
    "scrolled": true
   },
   "outputs": [
    {
     "data": {
      "image/png": "[encoded data removed]",
      "text/plain": [
       "<Figure size 720x576 with 1 Axes>"
      ]
     },
     "metadata": {
      "needs_background": "light"
     },
     "output_type": "display_data"
    }
   ],
   "source": [
    "fig = plt.figure(figsize=(10,8))\n",
    "ax = Axes3D(fig)\n",
    "ax.scatter(klienci_banku['zarobki'], klienci_banku['oszczednosci'], klienci_banku['wiek'], c=clus,depthshade=False)\n",
    "plt.show()"
   ]
  },
  {
   "cell_type": "markdown",
   "metadata": {},
   "source": [
    "## Porównanie metod clusteringu na danych o różnej strukturze"
   ]
  },
  {
   "cell_type": "code",
   "execution_count": 12,
   "metadata": {},
   "outputs": [],
   "source": [
    "from sklearn import datasets\n",
    "\n",
    "n_samples = 1500\n",
    "noisy_circles = datasets.make_circles(n_samples=n_samples, factor=.5, noise=.05)\n",
    "noisy_moons = datasets.make_moons(n_samples=n_samples, noise=.05)\n",
    "blobs = datasets.make_blobs(n_samples=n_samples, random_state=8)\n",
    "no_structure = np.random.rand(n_samples, 2), None\n",
    "\n",
    "random_state = 170\n",
    "X, y = datasets.make_blobs(n_samples=n_samples, random_state=random_state)\n",
    "transformation = [[0.6, -0.6], [-0.4, 0.8]]\n",
    "X_aniso = np.dot(X, transformation)\n",
    "aniso = (X_aniso, y)\n",
    "\n",
    "varied = datasets.make_blobs(n_samples=n_samples, cluster_std=[1.0, 2.5, 0.5],random_state=random_state)"
   ]
  },
  {
   "cell_type": "markdown",
   "metadata": {},
   "source": [
    "Powyżej wygenerowano kilka zbiorów danych 2D o różnej strukturze. Twoim zadaniem jest dokonanie klasteryzacji wszystkimi poznanymi metodami (k-means, hierarchiczne, dbscan), oraz przedstawienie wizualnie efektów klastrowania dla każdego ze zbiorów danych. Przykładowe klastrowanie k-means dla zbioru noisy_circles:"
   ]
  },
  {
   "cell_type": "code",
   "execution_count": 32,
   "metadata": {},
   "outputs": [
    {
     "data": {
      "text/plain": [
       "<matplotlib.collections.PathCollection at 0x15abe9c1688>"
      ]
     },
     "execution_count": 32,
     "metadata": {},
     "output_type": "execute_result"
    },
    {
     "data": {
      "image/png": "[encoded data removed]",
      "text/plain": [
       "<Figure size 432x288 with 1 Axes>"
      ]
     },
     "metadata": {
      "needs_background": "light"
     },
     "output_type": "display_data"
    }
   ],
   "source": [
    "plt.scatter(noisy_circles[0][:,0], noisy_circles[0][:,1])"
   ]
  },
  {
   "cell_type": "code",
   "execution_count": 36,
   "metadata": {},
   "outputs": [],
   "source": [
    "km_noisy = KMeans(n_clusters=2)\n",
    "labels = km_noisy.fit_predict(noisy_circles[0])"
   ]
  },
  {
   "cell_type": "code",
   "execution_count": 41,
   "metadata": {},
   "outputs": [
    {
     "data": {
      "text/plain": [
       "<matplotlib.collections.PathCollection at 0x15abfc9cb88>"
      ]
     },
     "execution_count": 41,
     "metadata": {},
     "output_type": "execute_result"
    },
    {
     "data": {
      "image/png": "[encoded data removed]",
      "text/plain": [
       "<Figure size 432x288 with 1 Axes>"
      ]
     },
     "metadata": {
      "needs_background": "light"
     },
     "output_type": "display_data"
    }
   ],
   "source": [
    "plt.scatter(noisy_circles[0][:,0], noisy_circles[0][:,1], c=labels)"
   ]
  }
 ],
 "metadata": {
  "kernelspec": {
   "display_name": "Python 3",
   "language": "python",
   "name": "python3"
  },
  "language_info": {
   "codemirror_mode": {
    "name": "ipython",
    "version": 3
   },
   "file_extension": ".py",
   "mimetype": "text/x-python",
   "name": "python",
   "nbconvert_exporter": "python",
   "pygments_lexer": "ipython3",
   "version": "3.7.4"
  },
  "toc": {
   "base_numbering": 1,
   "nav_menu": {},
   "number_sections": true,
   "sideBar": true,
   "skip_h1_title": false,
   "title_cell": "Table of Contents",
   "title_sidebar": "Contents",
   "toc_cell": false,
   "toc_position": {},
   "toc_section_display": true,
   "toc_window_display": false
  },
  "varInspector": {
   "cols": {
    "lenName": 16,
    "lenType": 16,
    "lenVar": 40
   },
   "kernels_config": {
    "python": {
     "delete_cmd_postfix": "",
     "delete_cmd_prefix": "del ",
     "library": "var_list.py",
     "varRefreshCmd": "print(var_dic_list())"
    },
    "r": {
     "delete_cmd_postfix": ") ",
     "delete_cmd_prefix": "rm(",
     "library": "var_list.r",
     "varRefreshCmd": "cat(var_dic_list()) "
    }
   },
   "types_to_exclude": [
    "module",
    "function",
    "builtin_function_or_method",
    "instance",
    "_Feature"
   ],
   "window_display": false
  }
 },
 "nbformat": 4,
 "nbformat_minor": 2
}
