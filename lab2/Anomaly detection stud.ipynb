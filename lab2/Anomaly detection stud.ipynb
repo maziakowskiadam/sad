{
 "cells": [
  {
   "cell_type": "markdown",
   "metadata": {},
   "source": [
    "## Import pakietów"
   ]
  },
  {
   "cell_type": "code",
   "execution_count": null,
   "metadata": {
    "ExecuteTime": {
     "end_time": "2020-04-03T18:16:11.704502Z",
     "start_time": "2020-04-03T18:16:10.653981Z"
    }
   },
   "outputs": [],
   "source": [
    "%matplotlib inline\n",
    "import numpy as np\n",
    "import pandas as pd\n",
    "\n",
    "from matplotlib import pyplot as plt\n",
    "from sklearn.datasets import make_regression"
   ]
  },
  {
   "cell_type": "markdown",
   "metadata": {},
   "source": [
    "## Jak obserwacja odstająca może wpłynąć na model?"
   ]
  },
  {
   "cell_type": "markdown",
   "metadata": {},
   "source": [
    "Wygenerujmy sobie losowy zbiór danych do stworzenia prostego modelu regresji:"
   ]
  },
  {
   "cell_type": "code",
   "execution_count": null,
   "metadata": {
    "ExecuteTime": {
     "end_time": "2020-04-03T18:29:56.924676Z",
     "start_time": "2020-04-03T18:29:56.919690Z"
    }
   },
   "outputs": [],
   "source": [
    "x, y = make_regression(\n",
    "    30, n_features=1, n_informative=1, random_state=123, noise=15\n",
    ")\n",
    "x = x.flatten()"
   ]
  },
  {
   "cell_type": "code",
   "execution_count": null,
   "metadata": {
    "ExecuteTime": {
     "end_time": "2020-04-03T18:29:57.797000Z",
     "start_time": "2020-04-03T18:29:57.646434Z"
    },
    "scrolled": false
   },
   "outputs": [],
   "source": []
  },
  {
   "cell_type": "markdown",
   "metadata": {},
   "source": [
    "Za pomocą funkcji ``np.polyfit()`` dopasuj prostą regresji do tych danych i zapisz współczynniki do zmiennych ``a, b``"
   ]
  },
  {
   "cell_type": "code",
   "execution_count": null,
   "metadata": {
    "ExecuteTime": {
     "end_time": "2020-04-03T20:59:50.665090Z",
     "start_time": "2020-04-03T20:59:50.648127Z"
    }
   },
   "outputs": [],
   "source": []
  },
  {
   "cell_type": "markdown",
   "metadata": {},
   "source": [
    "Tak prezentuje się postać analityczna regresji liniowej:"
   ]
  },
  {
   "cell_type": "code",
   "execution_count": null,
   "metadata": {
    "ExecuteTime": {
     "end_time": "2020-04-03T18:30:02.282393Z",
     "start_time": "2020-04-03T18:30:02.278438Z"
    }
   },
   "outputs": [],
   "source": []
  },
  {
   "cell_type": "markdown",
   "metadata": {},
   "source": [
    "Nanieśmy ją na wykres:"
   ]
  },
  {
   "cell_type": "code",
   "execution_count": null,
   "metadata": {
    "ExecuteTime": {
     "end_time": "2020-04-03T18:30:03.810853Z",
     "start_time": "2020-04-03T18:30:03.639274Z"
    },
    "scrolled": false
   },
   "outputs": [],
   "source": []
  },
  {
   "cell_type": "markdown",
   "metadata": {},
   "source": [
    "Dodajmy do danych punkt ``(3, -400)``:"
   ]
  },
  {
   "cell_type": "code",
   "execution_count": null,
   "metadata": {
    "ExecuteTime": {
     "end_time": "2020-04-03T18:35:24.197677Z",
     "start_time": "2020-04-03T18:35:24.193689Z"
    }
   },
   "outputs": [],
   "source": []
  },
  {
   "cell_type": "markdown",
   "metadata": {},
   "source": [
    "Stwórzmy wykres punktowy:"
   ]
  },
  {
   "cell_type": "code",
   "execution_count": null,
   "metadata": {
    "ExecuteTime": {
     "end_time": "2020-04-03T18:35:25.442553Z",
     "start_time": "2020-04-03T18:35:25.271006Z"
    },
    "scrolled": true
   },
   "outputs": [],
   "source": []
  },
  {
   "cell_type": "markdown",
   "metadata": {},
   "source": [
    "Dopasujmy prostą regresji do danych z uwzględnieniem obserwacji odstającej:"
   ]
  },
  {
   "cell_type": "code",
   "execution_count": null,
   "metadata": {
    "ExecuteTime": {
     "end_time": "2020-04-03T18:35:27.069235Z",
     "start_time": "2020-04-03T18:35:27.065267Z"
    }
   },
   "outputs": [],
   "source": []
  },
  {
   "cell_type": "markdown",
   "metadata": {},
   "source": [
    "Jak wygląda postać analityczna regresji?"
   ]
  },
  {
   "cell_type": "code",
   "execution_count": null,
   "metadata": {
    "ExecuteTime": {
     "end_time": "2020-04-03T18:35:29.639242Z",
     "start_time": "2020-04-03T18:35:29.635251Z"
    }
   },
   "outputs": [],
   "source": []
  },
  {
   "cell_type": "markdown",
   "metadata": {},
   "source": [
    "Na jednym wykresie przedstaw dane, oryginalną prostą regresji, oraz prostą regresji uwzględniającą obserwację odstającą"
   ]
  },
  {
   "cell_type": "code",
   "execution_count": null,
   "metadata": {
    "ExecuteTime": {
     "end_time": "2020-04-03T18:35:30.838818Z",
     "start_time": "2020-04-03T18:35:30.640806Z"
    },
    "scrolled": true
   },
   "outputs": [],
   "source": []
  },
  {
   "cell_type": "markdown",
   "metadata": {},
   "source": [
    "## Wykrywanie obserwacji odstających - jednowymiarowych"
   ]
  },
  {
   "cell_type": "markdown",
   "metadata": {},
   "source": [
    "Wczytaj dane dotyczące wysokości budynków we Wrocławiu."
   ]
  },
  {
   "cell_type": "code",
   "execution_count": null,
   "metadata": {
    "ExecuteTime": {
     "end_time": "2020-04-03T18:45:44.078150Z",
     "start_time": "2020-04-03T18:45:43.898634Z"
    }
   },
   "outputs": [],
   "source": [
    "wysokosc = pd.read_csv('wysokosc_budynkow.csv')"
   ]
  },
  {
   "cell_type": "markdown",
   "metadata": {},
   "source": [
    "Co przedstawiają poniższe dane?"
   ]
  },
  {
   "cell_type": "code",
   "execution_count": null,
   "metadata": {
    "ExecuteTime": {
     "end_time": "2020-04-03T18:46:36.395281Z",
     "start_time": "2020-04-03T18:46:36.384805Z"
    }
   },
   "outputs": [],
   "source": []
  },
  {
   "cell_type": "markdown",
   "metadata": {},
   "source": [
    "Wyświetl podstawowe statystyki opisowe dotyczące wysokości budynków we Wrocławiu:"
   ]
  },
  {
   "cell_type": "code",
   "execution_count": null,
   "metadata": {
    "ExecuteTime": {
     "end_time": "2020-04-03T18:47:10.953129Z",
     "start_time": "2020-04-03T18:47:10.940141Z"
    }
   },
   "outputs": [],
   "source": []
  },
  {
   "cell_type": "markdown",
   "metadata": {},
   "source": [
    "Stwórz histogram wysokości budynków. Wybierz odpowiednią wartość parametru bins, żeby rozrzut danych był lepiej widocznych. Usuń siatkę"
   ]
  },
  {
   "cell_type": "code",
   "execution_count": null,
   "metadata": {
    "ExecuteTime": {
     "end_time": "2020-04-03T18:47:55.978038Z",
     "start_time": "2020-04-03T18:47:55.708762Z"
    }
   },
   "outputs": [],
   "source": []
  },
  {
   "cell_type": "markdown",
   "metadata": {},
   "source": [
    "Stwórz wykres pudełkowy dla tej zmiennej:"
   ]
  },
  {
   "cell_type": "code",
   "execution_count": null,
   "metadata": {
    "ExecuteTime": {
     "end_time": "2020-04-03T18:57:35.428163Z",
     "start_time": "2020-04-03T18:57:35.267556Z"
    },
    "scrolled": true
   },
   "outputs": [],
   "source": []
  },
  {
   "cell_type": "markdown",
   "metadata": {},
   "source": [
    "### IQR (rozstęp ćwiartkowy)"
   ]
  },
  {
   "cell_type": "markdown",
   "metadata": {},
   "source": [
    "Rozstęp ćwiartkowy jest pozycyjną miarą rozproszenia wykorzystującą wartości kwartyla trzeciego i pierwszego.\n",
    "\n",
    "$IQR = Q_3 - Q_1$\n",
    "\n",
    "Za obserwację odstającą uważa się obserwację, która jest wyższa od wartości $Q3$ o $1.5 * IQR$ oraz niższa od wartości $Q1$ o $1.5 * IQR$ - jest to domyślna granica 'wąsów' w wykresie pudełkowym. \n",
    "\n",
    "Oblicz wartości kwartyla1 i kwartyla3, następnie oblicz IQR. Wskaż które z wartości wychodzą poza zakres"
   ]
  },
  {
   "cell_type": "code",
   "execution_count": null,
   "metadata": {
    "ExecuteTime": {
     "end_time": "2020-04-03T19:12:11.354079Z",
     "start_time": "2020-04-03T19:12:11.342115Z"
    }
   },
   "outputs": [],
   "source": []
  },
  {
   "cell_type": "code",
   "execution_count": null,
   "metadata": {
    "ExecuteTime": {
     "end_time": "2020-04-03T19:12:14.979211Z",
     "start_time": "2020-04-03T19:12:14.961251Z"
    }
   },
   "outputs": [],
   "source": []
  },
  {
   "cell_type": "markdown",
   "metadata": {},
   "source": [
    "Za pomocą pythona możemy wyciągnąć informacje o outlierach z wykresu:"
   ]
  },
  {
   "cell_type": "code",
   "execution_count": null,
   "metadata": {
    "ExecuteTime": {
     "end_time": "2020-04-03T18:57:55.224750Z",
     "start_time": "2020-04-03T18:57:55.219764Z"
    }
   },
   "outputs": [],
   "source": []
  },
  {
   "cell_type": "markdown",
   "metadata": {},
   "source": [
    "### Z-score"
   ]
  },
  {
   "cell_type": "markdown",
   "metadata": {},
   "source": [
    "Z-score określa o ile odchyleń standardowych od średniej wartości zmiennej odchyla się konkretna zmienna. Jednostki z wysoką wartością bezwzględną z-score (powyżej 3) można określić jako obserwacje odstające"
   ]
  },
  {
   "cell_type": "code",
   "execution_count": null,
   "metadata": {
    "ExecuteTime": {
     "end_time": "2020-04-03T18:58:33.000920Z",
     "start_time": "2020-04-03T18:58:32.995934Z"
    }
   },
   "outputs": [],
   "source": [
    "from scipy.stats import zscore"
   ]
  },
  {
   "cell_type": "code",
   "execution_count": null,
   "metadata": {
    "ExecuteTime": {
     "end_time": "2020-04-03T18:59:15.196710Z",
     "start_time": "2020-04-03T18:59:15.186736Z"
    }
   },
   "outputs": [],
   "source": []
  },
  {
   "cell_type": "code",
   "execution_count": null,
   "metadata": {
    "ExecuteTime": {
     "end_time": "2020-04-03T19:09:11.236771Z",
     "start_time": "2020-04-03T19:09:11.222830Z"
    }
   },
   "outputs": [],
   "source": []
  },
  {
   "cell_type": "markdown",
   "metadata": {},
   "source": [
    "## Dane wielowymiarowe - przykładowe dane"
   ]
  },
  {
   "cell_type": "markdown",
   "metadata": {},
   "source": [
    "Wygenerujmy dwuwymiarowe dane za pomocą ``make_blobs`` w bibliotece ``sklearn``"
   ]
  },
  {
   "cell_type": "code",
   "execution_count": null,
   "metadata": {
    "ExecuteTime": {
     "end_time": "2020-04-03T19:47:39.633956Z",
     "start_time": "2020-04-03T19:47:39.630963Z"
    }
   },
   "outputs": [],
   "source": [
    "from sklearn.datasets import make_blobs"
   ]
  },
  {
   "cell_type": "markdown",
   "metadata": {},
   "source": [
    "Wygenerujmy dwa klastry danych (łącznie 100 elementów) określonymi przez dwie zmienne:"
   ]
  },
  {
   "cell_type": "code",
   "execution_count": null,
   "metadata": {
    "ExecuteTime": {
     "end_time": "2020-04-03T19:46:51.064321Z",
     "start_time": "2020-04-03T19:46:51.059335Z"
    }
   },
   "outputs": [],
   "source": [
    "dane, klaster = make_blobs(\n",
    "    n_samples=100, n_features=2, centers=np.array([[0,0], [8,8]]), cluster_std=0.5\n",
    ")"
   ]
  },
  {
   "cell_type": "code",
   "execution_count": null,
   "metadata": {
    "ExecuteTime": {
     "end_time": "2020-04-03T19:49:34.562431Z",
     "start_time": "2020-04-03T19:49:34.544462Z"
    },
    "scrolled": true
   },
   "outputs": [],
   "source": []
  },
  {
   "cell_type": "markdown",
   "metadata": {},
   "source": [
    "Przedstawmy te obserwacje na wykresie:"
   ]
  },
  {
   "cell_type": "code",
   "execution_count": null,
   "metadata": {
    "ExecuteTime": {
     "end_time": "2020-04-03T19:50:07.878542Z",
     "start_time": "2020-04-03T19:50:07.710995Z"
    }
   },
   "outputs": [],
   "source": []
  },
  {
   "cell_type": "markdown",
   "metadata": {},
   "source": [
    "Wygenerujmy kilkanaście obserwacji z rozkładu jednostajnego:"
   ]
  },
  {
   "cell_type": "code",
   "execution_count": null,
   "metadata": {
    "ExecuteTime": {
     "end_time": "2020-04-03T19:50:27.267921Z",
     "start_time": "2020-04-03T19:50:27.263901Z"
    }
   },
   "outputs": [],
   "source": []
  },
  {
   "cell_type": "code",
   "execution_count": null,
   "metadata": {
    "ExecuteTime": {
     "end_time": "2020-04-03T19:50:25.436856Z",
     "start_time": "2020-04-03T19:50:25.432880Z"
    }
   },
   "outputs": [],
   "source": []
  },
  {
   "cell_type": "code",
   "execution_count": null,
   "metadata": {
    "ExecuteTime": {
     "end_time": "2020-04-03T19:50:31.678159Z",
     "start_time": "2020-04-03T19:50:31.504624Z"
    }
   },
   "outputs": [],
   "source": []
  },
  {
   "cell_type": "markdown",
   "metadata": {},
   "source": [
    "Połączmy oba zbiory danych:"
   ]
  },
  {
   "cell_type": "code",
   "execution_count": null,
   "metadata": {
    "ExecuteTime": {
     "end_time": "2020-04-03T19:51:53.150834Z",
     "start_time": "2020-04-03T19:51:53.146845Z"
    }
   },
   "outputs": [],
   "source": []
  },
  {
   "cell_type": "code",
   "execution_count": null,
   "metadata": {
    "ExecuteTime": {
     "end_time": "2020-04-03T19:52:26.309551Z",
     "start_time": "2020-04-03T19:52:26.137975Z"
    }
   },
   "outputs": [],
   "source": []
  },
  {
   "cell_type": "markdown",
   "metadata": {},
   "source": [
    "### Isolation Forest"
   ]
  },
  {
   "cell_type": "markdown",
   "metadata": {},
   "source": [
    "Zaimportujmy odpowiednią klasę:"
   ]
  },
  {
   "cell_type": "code",
   "execution_count": null,
   "metadata": {
    "ExecuteTime": {
     "end_time": "2020-04-03T19:53:20.583258Z",
     "start_time": "2020-04-03T19:53:20.579270Z"
    }
   },
   "outputs": [],
   "source": [
    "from sklearn.ensemble import IsolationForest"
   ]
  },
  {
   "cell_type": "code",
   "execution_count": null,
   "metadata": {
    "ExecuteTime": {
     "end_time": "2020-04-03T19:56:51.772838Z",
     "start_time": "2020-04-03T19:56:51.765856Z"
    }
   },
   "outputs": [],
   "source": []
  },
  {
   "cell_type": "markdown",
   "metadata": {},
   "source": [
    "Za pomocą metody ``.fit`` dopasuj model do połączonych danych:"
   ]
  },
  {
   "cell_type": "code",
   "execution_count": null,
   "metadata": {
    "ExecuteTime": {
     "end_time": "2020-04-03T19:57:30.290141Z",
     "start_time": "2020-04-03T19:57:30.145722Z"
    }
   },
   "outputs": [],
   "source": []
  },
  {
   "cell_type": "markdown",
   "metadata": {},
   "source": [
    "Za pomocą metody ``predict`` dokonaj predykcji - czy dana obserwacja jest odstająca?"
   ]
  },
  {
   "cell_type": "code",
   "execution_count": null,
   "metadata": {
    "ExecuteTime": {
     "end_time": "2020-04-03T19:57:59.260861Z",
     "start_time": "2020-04-03T19:57:59.210036Z"
    }
   },
   "outputs": [],
   "source": []
  },
  {
   "cell_type": "markdown",
   "metadata": {},
   "source": [
    "Stwórz wykres punktowy, na którym kolorem oznaczysz, które z obserwacji są odstające"
   ]
  },
  {
   "cell_type": "code",
   "execution_count": null,
   "metadata": {
    "ExecuteTime": {
     "end_time": "2020-04-03T19:58:25.625486Z",
     "start_time": "2020-04-03T19:58:25.402533Z"
    }
   },
   "outputs": [],
   "source": []
  },
  {
   "cell_type": "markdown",
   "metadata": {},
   "source": [
    "Za pomocą metody ``score_samples`` wskaż szansę na to, że dany obiekt nie jest anomalią, a następnie przedstaw rozkład tych wartości, a na wykresie punktowym kolorem oznacz score"
   ]
  },
  {
   "cell_type": "code",
   "execution_count": null,
   "metadata": {
    "ExecuteTime": {
     "end_time": "2020-04-03T20:00:17.650705Z",
     "start_time": "2020-04-03T20:00:17.600837Z"
    }
   },
   "outputs": [],
   "source": []
  },
  {
   "cell_type": "code",
   "execution_count": null,
   "metadata": {
    "ExecuteTime": {
     "end_time": "2020-04-03T20:00:41.497703Z",
     "start_time": "2020-04-03T20:00:41.240392Z"
    }
   },
   "outputs": [],
   "source": []
  },
  {
   "cell_type": "code",
   "execution_count": null,
   "metadata": {
    "ExecuteTime": {
     "end_time": "2020-04-03T20:00:57.034224Z",
     "start_time": "2020-04-03T20:00:56.800880Z"
    }
   },
   "outputs": [],
   "source": []
  },
  {
   "cell_type": "markdown",
   "metadata": {
    "ExecuteTime": {
     "end_time": "2020-04-03T19:58:45.614863Z",
     "start_time": "2020-04-03T19:58:45.560041Z"
    }
   },
   "source": [
    "Bazując na histogramie w jaki sposób ustaliłbyś wartość graniczną poniżej której dana wartość nie jest odstającą? Ile powinno być obserwacji odstających? Czy zgadza się to z wartością parametru contamination?"
   ]
  },
  {
   "cell_type": "code",
   "execution_count": null,
   "metadata": {},
   "outputs": [],
   "source": []
  },
  {
   "cell_type": "markdown",
   "metadata": {},
   "source": [
    "Przykład przerobiony na bazie:\n",
    "https://scikit-learn.org/stable/auto_examples/ensemble/plot_isolation_forest.html"
   ]
  },
  {
   "cell_type": "code",
   "execution_count": null,
   "metadata": {
    "ExecuteTime": {
     "end_time": "2020-04-03T20:04:34.259895Z",
     "start_time": "2020-04-03T20:04:34.207035Z"
    }
   },
   "outputs": [],
   "source": []
  },
  {
   "cell_type": "markdown",
   "metadata": {},
   "source": [
    "Zwizualizuj za pomocą poniższego kodu wartości 'scoringu na anomalie dla całej przestrzeni ``x = (-3,12) oraz y=(-3,12)``"
   ]
  },
  {
   "cell_type": "code",
   "execution_count": null,
   "metadata": {
    "ExecuteTime": {
     "end_time": "2020-04-03T20:11:59.308124Z",
     "start_time": "2020-04-03T20:11:58.431409Z"
    }
   },
   "outputs": [],
   "source": [
    "# tworzymy przestrzeń punktów\n",
    "xx, yy = np.meshgrid(np.linspace(-3, 12, 200), np.linspace(-3, 13, 200))\n",
    "\n",
    "# Używamy .decision_function obiektu typu Isolation Forest dla każdego z tych punktów\n",
    "Z = las.decision_function(np.c_[xx.ravel(), yy.ravel()])\n",
    "Z = Z.reshape(xx.shape)\n",
    "\n",
    "plt.title(\"IsolationForest\")\n",
    "plt.contourf(xx, yy, Z, cmap=plt.cm.hot)\n",
    "\n",
    "b1 = plt.scatter(polaczone[:, 0], polaczone[:, 1], c='white',s=20, edgecolor='k')\n",
    "\n",
    "plt.xlim((-3, 12))\n",
    "plt.ylim((-3, 12))\n",
    "\n",
    "plt.show()"
   ]
  },
  {
   "cell_type": "markdown",
   "metadata": {},
   "source": [
    "### Local Outlier Factor"
   ]
  },
  {
   "cell_type": "markdown",
   "metadata": {},
   "source": [
    "Skorzystajmy ponownie z ramki z połączonymi danymi"
   ]
  },
  {
   "cell_type": "code",
   "execution_count": null,
   "metadata": {
    "ExecuteTime": {
     "end_time": "2020-04-03T20:46:24.281240Z",
     "start_time": "2020-04-03T20:46:24.270267Z"
    }
   },
   "outputs": [],
   "source": []
  },
  {
   "cell_type": "markdown",
   "metadata": {},
   "source": [
    "Algorytm Local Outlier Factor jest w swym działaniu podobny do algorytmu K-Najbliższych Sąsiadów. Mierzy on zależność między gęstością punktów dookoła danego punktu. Jednym z parametrów jest liczba sąsiadów. "
   ]
  },
  {
   "cell_type": "code",
   "execution_count": null,
   "metadata": {
    "ExecuteTime": {
     "end_time": "2020-04-03T20:49:00.414863Z",
     "start_time": "2020-04-03T20:49:00.411120Z"
    }
   },
   "outputs": [],
   "source": [
    "from sklearn.neighbors import LocalOutlierFactor"
   ]
  },
  {
   "cell_type": "markdown",
   "metadata": {},
   "source": [
    "Stwórz obiekt klasy ``LocalOutlierFactor``, ustaw parametr ``novelty=True``, i dopasuj wygenerowane dane do modelu"
   ]
  },
  {
   "cell_type": "code",
   "execution_count": null,
   "metadata": {
    "ExecuteTime": {
     "end_time": "2020-04-03T20:51:16.902616Z",
     "start_time": "2020-04-03T20:51:16.898625Z"
    }
   },
   "outputs": [],
   "source": []
  },
  {
   "cell_type": "code",
   "execution_count": null,
   "metadata": {
    "ExecuteTime": {
     "end_time": "2020-04-03T20:51:17.977208Z",
     "start_time": "2020-04-03T20:51:17.969231Z"
    },
    "scrolled": true
   },
   "outputs": [],
   "source": []
  },
  {
   "cell_type": "markdown",
   "metadata": {},
   "source": [
    "Dokonaj predykcji"
   ]
  },
  {
   "cell_type": "code",
   "execution_count": null,
   "metadata": {
    "ExecuteTime": {
     "end_time": "2020-04-03T20:52:52.808918Z",
     "start_time": "2020-04-03T20:52:52.801970Z"
    }
   },
   "outputs": [],
   "source": []
  },
  {
   "cell_type": "markdown",
   "metadata": {},
   "source": [
    "Przedstaw predykcje na wykresie"
   ]
  },
  {
   "cell_type": "code",
   "execution_count": null,
   "metadata": {
    "ExecuteTime": {
     "end_time": "2020-04-03T20:51:19.456585Z",
     "start_time": "2020-04-03T20:51:19.274486Z"
    }
   },
   "outputs": [],
   "source": []
  },
  {
   "cell_type": "markdown",
   "metadata": {},
   "source": [
    "Przedstaw wynik ``decision_function`` na wykresie:"
   ]
  },
  {
   "cell_type": "code",
   "execution_count": null,
   "metadata": {
    "ExecuteTime": {
     "end_time": "2020-04-03T20:53:24.364969Z",
     "start_time": "2020-04-03T20:53:24.178506Z"
    },
    "scrolled": true
   },
   "outputs": [],
   "source": []
  },
  {
   "cell_type": "markdown",
   "metadata": {},
   "source": [
    "Przedstaw przestrzeń decyzyjną algorytmu LOF:"
   ]
  },
  {
   "cell_type": "code",
   "execution_count": null,
   "metadata": {
    "ExecuteTime": {
     "end_time": "2020-04-03T20:54:08.329551Z",
     "start_time": "2020-04-03T20:54:08.050300Z"
    }
   },
   "outputs": [],
   "source": [
    "# tworzymy przestrzeń punktów\n",
    "xx, yy = np.meshgrid(np.linspace(-3, 12, 200), np.linspace(-3, 13, 200))\n",
    "\n",
    "# Używamy .decision_function obiektu typu Isolation Forest dla każdego z tych punktów\n",
    "Z = lof.decision_function(np.c_[xx.ravel(), yy.ravel()])\n",
    "Z = Z.reshape(xx.shape)\n",
    "\n",
    "plt.title(\"Local Outlier Factor\")\n",
    "plt.contourf(xx, yy, Z, cmap=plt.cm.hot)\n",
    "\n",
    "b1 = plt.scatter(polaczone[:, 0], polaczone[:, 1], c='white',s=20, edgecolor='k')\n",
    "\n",
    "plt.xlim((-3, 12))\n",
    "plt.ylim((-3, 12))\n",
    "\n",
    "plt.show()"
   ]
  },
  {
   "cell_type": "markdown",
   "metadata": {},
   "source": [
    "## Case 1 - wypadki we Wrocławiu"
   ]
  },
  {
   "cell_type": "markdown",
   "metadata": {},
   "source": [
    "Gdzie we Wrocławiu miały miejsce nietypowe wypadki jeśli chodzi o liczbę uczestników, zmarłych?"
   ]
  },
  {
   "cell_type": "markdown",
   "metadata": {},
   "source": [
    "Pobierz dane dotyczące wypadków w roku 2019"
   ]
  },
  {
   "cell_type": "code",
   "execution_count": null,
   "metadata": {
    "ExecuteTime": {
     "end_time": "2020-04-03T20:41:08.706009Z",
     "start_time": "2020-04-03T20:41:08.681077Z"
    }
   },
   "outputs": [],
   "source": []
  },
  {
   "cell_type": "markdown",
   "metadata": {},
   "source": [
    "Jakie mamy informacje w tej ramce?"
   ]
  },
  {
   "cell_type": "code",
   "execution_count": null,
   "metadata": {
    "ExecuteTime": {
     "end_time": "2020-04-03T20:38:13.074699Z",
     "start_time": "2020-04-03T20:38:13.064728Z"
    }
   },
   "outputs": [],
   "source": []
  },
  {
   "cell_type": "code",
   "execution_count": null,
   "metadata": {
    "ExecuteTime": {
     "end_time": "2020-04-03T20:38:19.262792Z",
     "start_time": "2020-04-03T20:38:19.216868Z"
    }
   },
   "outputs": [],
   "source": []
  },
  {
   "cell_type": "markdown",
   "metadata": {},
   "source": [
    "Ile mamy obserwacji?"
   ]
  },
  {
   "cell_type": "code",
   "execution_count": null,
   "metadata": {
    "ExecuteTime": {
     "end_time": "2020-04-03T20:36:25.301032Z",
     "start_time": "2020-04-03T20:36:25.295062Z"
    }
   },
   "outputs": [],
   "source": []
  },
  {
   "cell_type": "markdown",
   "metadata": {},
   "source": [
    "Ile było ofiar śmiertelnych. Ile osób odniosło ciężkie rany?"
   ]
  },
  {
   "cell_type": "code",
   "execution_count": null,
   "metadata": {
    "ExecuteTime": {
     "end_time": "2020-04-03T20:41:51.271888Z",
     "start_time": "2020-04-03T20:41:51.075492Z"
    }
   },
   "outputs": [],
   "source": []
  },
  {
   "cell_type": "code",
   "execution_count": null,
   "metadata": {
    "ExecuteTime": {
     "end_time": "2020-04-03T20:41:58.964196Z",
     "start_time": "2020-04-03T20:41:58.434046Z"
    },
    "scrolled": false
   },
   "outputs": [],
   "source": []
  },
  {
   "cell_type": "markdown",
   "metadata": {},
   "source": [
    "Stwórz model Isolation forest na zmiennych: 'POJ_SUMA', 'UCZ_SUMA', 'CR_SUMA', 'Z_SUMA'\n",
    "Przedstaw histogram wartości pobranych z funkcji 'score_"
   ]
  },
  {
   "cell_type": "code",
   "execution_count": null,
   "metadata": {
    "ExecuteTime": {
     "end_time": "2020-04-03T20:43:05.439292Z",
     "start_time": "2020-04-03T20:43:05.043690Z"
    },
    "scrolled": true
   },
   "outputs": [],
   "source": []
  },
  {
   "cell_type": "code",
   "execution_count": null,
   "metadata": {
    "ExecuteTime": {
     "end_time": "2020-04-03T20:44:04.471859Z",
     "start_time": "2020-04-03T20:44:04.003644Z"
    }
   },
   "outputs": [],
   "source": []
  },
  {
   "cell_type": "markdown",
   "metadata": {},
   "source": [
    "Dokonaj predykcji nietypowości obserwacji za pomocą metody ``predict``"
   ]
  },
  {
   "cell_type": "code",
   "execution_count": null,
   "metadata": {
    "ExecuteTime": {
     "end_time": "2020-04-03T20:44:58.583389Z",
     "start_time": "2020-04-03T20:44:58.330617Z"
    }
   },
   "outputs": [],
   "source": []
  },
  {
   "cell_type": "markdown",
   "metadata": {},
   "source": [
    "Przedstaw geograficznie rozkład zdarzeń drogowych, jako kolor przyjmij to czy wypadek został uznany za anomalię bądź nie"
   ]
  },
  {
   "cell_type": "code",
   "execution_count": null,
   "metadata": {
    "ExecuteTime": {
     "end_time": "2020-04-03T20:45:28.048985Z",
     "start_time": "2020-04-03T20:45:26.601407Z"
    }
   },
   "outputs": [],
   "source": []
  },
  {
   "cell_type": "markdown",
   "metadata": {},
   "source": [
    "## Case 2 - Kardiotokografia"
   ]
  },
  {
   "cell_type": "markdown",
   "metadata": {},
   "source": [
    "Ze strony https://archive.ics.uci.edu/ml/datasets/Cardiotocography pobrano zbiór danych dotyczących analizy danych z kardiotokografii - zapisów z monitorowania acji serca płodu.\n",
    "\n",
    "Za pomocą automatycznych metod chcemy przewidzieć, czy dany przypadek można uznać za zagrożony. Zmienna ``NSP`` przyjmuje 3 wartości. ``1`` - z płodem wszystko w porządku, ``2`` przypadek podejrzany, ``3`` - Występuje patologia. Z analizy wyłącz zmienne z kategorii 'Classification' - więcej informacji w załączonym obrazku\n",
    "\n",
    "Twoim zadaniem jest wstępna analiza danych:\n",
    "\n",
    "* liczba zmiennych, ich typy, wraz z podstawowymi vizualizacjami (histogramy)\n",
    "* analiza zbalansowania klasy wyjściowej\n",
    "* podział zbioru na treningowy i testowy\n",
    "* stworzenie modelu klasyfikacji (może to być np. RandomForest)\n",
    "* stworzenie wykresu istotności zmiennych (np. z RandomForesta)\n",
    "* wykres punktowy dla dwóch lub trzech najbardziej istotnych zmiennych z zaznaczniem która jest anomalią\n",
    "* zbadanie skuteczności klasyfikacji \n",
    "* wykrycie anomalii za pomocą poznanych dzisiaj algorytmów\n",
    "* porównanie skuteczności klasyfikatora z metodą do wykrywania anomalii"
   ]
  },
  {
   "cell_type": "code",
   "execution_count": null,
   "metadata": {
    "ExecuteTime": {
     "end_time": "2020-04-03T21:39:16.805556Z",
     "start_time": "2020-04-03T21:39:16.782537Z"
    }
   },
   "outputs": [],
   "source": []
  }
 ],
 "metadata": {
  "kernelspec": {
   "display_name": "Python 3",
   "language": "python",
   "name": "python3"
  },
  "language_info": {
   "codemirror_mode": {
    "name": "ipython",
    "version": 3
   },
   "file_extension": ".py",
   "mimetype": "text/x-python",
   "name": "python",
   "nbconvert_exporter": "python",
   "pygments_lexer": "ipython3",
   "version": "3.6.10"
  },
  "toc": {
   "base_numbering": 1,
   "nav_menu": {},
   "number_sections": true,
   "sideBar": true,
   "skip_h1_title": false,
   "title_cell": "Table of Contents",
   "title_sidebar": "Contents",
   "toc_cell": false,
   "toc_position": {},
   "toc_section_display": true,
   "toc_window_display": false
  },
  "varInspector": {
   "cols": {
    "lenName": 16,
    "lenType": 16,
    "lenVar": 40
   },
   "kernels_config": {
    "python": {
     "delete_cmd_postfix": "",
     "delete_cmd_prefix": "del ",
     "library": "var_list.py",
     "varRefreshCmd": "print(var_dic_list())"
    },
    "r": {
     "delete_cmd_postfix": ") ",
     "delete_cmd_prefix": "rm(",
     "library": "var_list.r",
     "varRefreshCmd": "cat(var_dic_list()) "
    }
   },
   "types_to_exclude": [
    "module",
    "function",
    "builtin_function_or_method",
    "instance",
    "_Feature"
   ],
   "window_display": false
  }
 },
 "nbformat": 4,
 "nbformat_minor": 2
}
