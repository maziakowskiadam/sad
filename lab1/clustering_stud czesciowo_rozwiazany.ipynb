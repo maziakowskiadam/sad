{
 "cells": [
  {
   "cell_type": "markdown",
   "metadata": {},
   "source": [
    "# Intro\n",
    "\n",
    "W tym notebooku pokażemy jak w pythonie dokonać klasteryzacji danych numerycznych. Wykorzystamy nieśmiertelny zbiór danych Iris, który opisuje kwiaty z gatunku irysów.\n",
    "Jest to prawdopobnie najpopularniejszy zbiór danych zawarty w literatuze do wykrywania wzorców w danych. Artykuł Fisher'a jest klasykiem w tej dziedzinie, i jest często cytowany po dziś dzień. Zbiór danych posiada 150 obserwacji (3 klasy kwiatów po 50 obserwacji).\n",
    "\n",
    "\n",
    "\n",
    "Zmienne:\n",
    "\n",
    "1. długość kielicha (sepal) w cm\n",
    "2. szerokość kielicha w cm\n",
    "3. długość płatka (petal) w cm\n",
    "4. szerokość płatka in cm\n",
    "5. klasa:\n",
    "-- Iris Setosa\n",
    "-- Iris Versicolour\n",
    "-- Iris Virginica"
   ]
  },
  {
   "cell_type": "markdown",
   "metadata": {},
   "source": [
    "# Import bibliotek"
   ]
  },
  {
   "cell_type": "code",
   "execution_count": 26,
   "metadata": {
    "ExecuteTime": {
     "end_time": "2020-03-29T08:42:30.418236Z",
     "start_time": "2020-03-29T08:42:30.413249Z"
    }
   },
   "outputs": [],
   "source": [
    "import sklearn.cluster as clust\n",
    "import pandas as pd\n",
    "import numpy as np\n",
    "import matplotlib.pyplot as plt\n",
    "\n",
    "from sklearn.datasets import load_iris"
   ]
  },
  {
   "cell_type": "code",
   "execution_count": 27,
   "metadata": {
    "ExecuteTime": {
     "end_time": "2020-03-29T08:42:37.335569Z",
     "start_time": "2020-03-29T08:42:37.325597Z"
    }
   },
   "outputs": [],
   "source": [
    "%matplotlib inline"
   ]
  },
  {
   "cell_type": "markdown",
   "metadata": {},
   "source": [
    "# Wczytywanie danych"
   ]
  },
  {
   "cell_type": "code",
   "execution_count": 28,
   "metadata": {
    "ExecuteTime": {
     "end_time": "2020-03-29T08:42:59.145168Z",
     "start_time": "2020-03-29T08:42:59.134158Z"
    }
   },
   "outputs": [],
   "source": [
    "iris = load_iris()\n",
    "data = pd.DataFrame(iris.data, columns=iris.feature_names)\n",
    "data['y'] = iris.target"
   ]
  },
  {
   "cell_type": "markdown",
   "metadata": {},
   "source": [
    "Pokaż pierwsze 10 obserwacji, za pomocą odpowiedniej metody wyświetl statystyki opisowe"
   ]
  },
  {
   "cell_type": "code",
   "execution_count": 29,
   "metadata": {
    "ExecuteTime": {
     "end_time": "2020-03-29T08:43:55.406250Z",
     "start_time": "2020-03-29T08:43:55.389300Z"
    }
   },
   "outputs": [
    {
     "data": {
      "text/html": [
       "<div>\n",
       "<style scoped>\n",
       "    .dataframe tbody tr th:only-of-type {\n",
       "        vertical-align: middle;\n",
       "    }\n",
       "\n",
       "    .dataframe tbody tr th {\n",
       "        vertical-align: top;\n",
       "    }\n",
       "\n",
       "    .dataframe thead th {\n",
       "        text-align: right;\n",
       "    }\n",
       "</style>\n",
       "<table border=\"1\" class=\"dataframe\">\n",
       "  <thead>\n",
       "    <tr style=\"text-align: right;\">\n",
       "      <th></th>\n",
       "      <th>sepal length (cm)</th>\n",
       "      <th>sepal width (cm)</th>\n",
       "      <th>petal length (cm)</th>\n",
       "      <th>petal width (cm)</th>\n",
       "      <th>y</th>\n",
       "    </tr>\n",
       "  </thead>\n",
       "  <tbody>\n",
       "    <tr>\n",
       "      <td>0</td>\n",
       "      <td>5.1</td>\n",
       "      <td>3.5</td>\n",
       "      <td>1.4</td>\n",
       "      <td>0.2</td>\n",
       "      <td>0</td>\n",
       "    </tr>\n",
       "    <tr>\n",
       "      <td>1</td>\n",
       "      <td>4.9</td>\n",
       "      <td>3.0</td>\n",
       "      <td>1.4</td>\n",
       "      <td>0.2</td>\n",
       "      <td>0</td>\n",
       "    </tr>\n",
       "    <tr>\n",
       "      <td>2</td>\n",
       "      <td>4.7</td>\n",
       "      <td>3.2</td>\n",
       "      <td>1.3</td>\n",
       "      <td>0.2</td>\n",
       "      <td>0</td>\n",
       "    </tr>\n",
       "    <tr>\n",
       "      <td>3</td>\n",
       "      <td>4.6</td>\n",
       "      <td>3.1</td>\n",
       "      <td>1.5</td>\n",
       "      <td>0.2</td>\n",
       "      <td>0</td>\n",
       "    </tr>\n",
       "    <tr>\n",
       "      <td>4</td>\n",
       "      <td>5.0</td>\n",
       "      <td>3.6</td>\n",
       "      <td>1.4</td>\n",
       "      <td>0.2</td>\n",
       "      <td>0</td>\n",
       "    </tr>\n",
       "    <tr>\n",
       "      <td>5</td>\n",
       "      <td>5.4</td>\n",
       "      <td>3.9</td>\n",
       "      <td>1.7</td>\n",
       "      <td>0.4</td>\n",
       "      <td>0</td>\n",
       "    </tr>\n",
       "    <tr>\n",
       "      <td>6</td>\n",
       "      <td>4.6</td>\n",
       "      <td>3.4</td>\n",
       "      <td>1.4</td>\n",
       "      <td>0.3</td>\n",
       "      <td>0</td>\n",
       "    </tr>\n",
       "    <tr>\n",
       "      <td>7</td>\n",
       "      <td>5.0</td>\n",
       "      <td>3.4</td>\n",
       "      <td>1.5</td>\n",
       "      <td>0.2</td>\n",
       "      <td>0</td>\n",
       "    </tr>\n",
       "    <tr>\n",
       "      <td>8</td>\n",
       "      <td>4.4</td>\n",
       "      <td>2.9</td>\n",
       "      <td>1.4</td>\n",
       "      <td>0.2</td>\n",
       "      <td>0</td>\n",
       "    </tr>\n",
       "    <tr>\n",
       "      <td>9</td>\n",
       "      <td>4.9</td>\n",
       "      <td>3.1</td>\n",
       "      <td>1.5</td>\n",
       "      <td>0.1</td>\n",
       "      <td>0</td>\n",
       "    </tr>\n",
       "  </tbody>\n",
       "</table>\n",
       "</div>"
      ],
      "text/plain": [
       "   sepal length (cm)  sepal width (cm)  petal length (cm)  petal width (cm)  y\n",
       "0                5.1               3.5                1.4               0.2  0\n",
       "1                4.9               3.0                1.4               0.2  0\n",
       "2                4.7               3.2                1.3               0.2  0\n",
       "3                4.6               3.1                1.5               0.2  0\n",
       "4                5.0               3.6                1.4               0.2  0\n",
       "5                5.4               3.9                1.7               0.4  0\n",
       "6                4.6               3.4                1.4               0.3  0\n",
       "7                5.0               3.4                1.5               0.2  0\n",
       "8                4.4               2.9                1.4               0.2  0\n",
       "9                4.9               3.1                1.5               0.1  0"
      ]
     },
     "execution_count": 29,
     "metadata": {},
     "output_type": "execute_result"
    }
   ],
   "source": [
    "data.head(10)"
   ]
  },
  {
   "cell_type": "code",
   "execution_count": 30,
   "metadata": {
    "ExecuteTime": {
     "end_time": "2020-03-29T08:44:23.539166Z",
     "start_time": "2020-03-29T08:44:23.507239Z"
    }
   },
   "outputs": [
    {
     "data": {
      "text/html": [
       "<div>\n",
       "<style scoped>\n",
       "    .dataframe tbody tr th:only-of-type {\n",
       "        vertical-align: middle;\n",
       "    }\n",
       "\n",
       "    .dataframe tbody tr th {\n",
       "        vertical-align: top;\n",
       "    }\n",
       "\n",
       "    .dataframe thead th {\n",
       "        text-align: right;\n",
       "    }\n",
       "</style>\n",
       "<table border=\"1\" class=\"dataframe\">\n",
       "  <thead>\n",
       "    <tr style=\"text-align: right;\">\n",
       "      <th></th>\n",
       "      <th>sepal length (cm)</th>\n",
       "      <th>sepal width (cm)</th>\n",
       "      <th>petal length (cm)</th>\n",
       "      <th>petal width (cm)</th>\n",
       "      <th>y</th>\n",
       "    </tr>\n",
       "  </thead>\n",
       "  <tbody>\n",
       "    <tr>\n",
       "      <td>count</td>\n",
       "      <td>150.000000</td>\n",
       "      <td>150.000000</td>\n",
       "      <td>150.000000</td>\n",
       "      <td>150.000000</td>\n",
       "      <td>150.000000</td>\n",
       "    </tr>\n",
       "    <tr>\n",
       "      <td>mean</td>\n",
       "      <td>5.843333</td>\n",
       "      <td>3.057333</td>\n",
       "      <td>3.758000</td>\n",
       "      <td>1.199333</td>\n",
       "      <td>1.000000</td>\n",
       "    </tr>\n",
       "    <tr>\n",
       "      <td>std</td>\n",
       "      <td>0.828066</td>\n",
       "      <td>0.435866</td>\n",
       "      <td>1.765298</td>\n",
       "      <td>0.762238</td>\n",
       "      <td>0.819232</td>\n",
       "    </tr>\n",
       "    <tr>\n",
       "      <td>min</td>\n",
       "      <td>4.300000</td>\n",
       "      <td>2.000000</td>\n",
       "      <td>1.000000</td>\n",
       "      <td>0.100000</td>\n",
       "      <td>0.000000</td>\n",
       "    </tr>\n",
       "    <tr>\n",
       "      <td>25%</td>\n",
       "      <td>5.100000</td>\n",
       "      <td>2.800000</td>\n",
       "      <td>1.600000</td>\n",
       "      <td>0.300000</td>\n",
       "      <td>0.000000</td>\n",
       "    </tr>\n",
       "    <tr>\n",
       "      <td>50%</td>\n",
       "      <td>5.800000</td>\n",
       "      <td>3.000000</td>\n",
       "      <td>4.350000</td>\n",
       "      <td>1.300000</td>\n",
       "      <td>1.000000</td>\n",
       "    </tr>\n",
       "    <tr>\n",
       "      <td>75%</td>\n",
       "      <td>6.400000</td>\n",
       "      <td>3.300000</td>\n",
       "      <td>5.100000</td>\n",
       "      <td>1.800000</td>\n",
       "      <td>2.000000</td>\n",
       "    </tr>\n",
       "    <tr>\n",
       "      <td>max</td>\n",
       "      <td>7.900000</td>\n",
       "      <td>4.400000</td>\n",
       "      <td>6.900000</td>\n",
       "      <td>2.500000</td>\n",
       "      <td>2.000000</td>\n",
       "    </tr>\n",
       "  </tbody>\n",
       "</table>\n",
       "</div>"
      ],
      "text/plain": [
       "       sepal length (cm)  sepal width (cm)  petal length (cm)  \\\n",
       "count         150.000000        150.000000         150.000000   \n",
       "mean            5.843333          3.057333           3.758000   \n",
       "std             0.828066          0.435866           1.765298   \n",
       "min             4.300000          2.000000           1.000000   \n",
       "25%             5.100000          2.800000           1.600000   \n",
       "50%             5.800000          3.000000           4.350000   \n",
       "75%             6.400000          3.300000           5.100000   \n",
       "max             7.900000          4.400000           6.900000   \n",
       "\n",
       "       petal width (cm)           y  \n",
       "count        150.000000  150.000000  \n",
       "mean           1.199333    1.000000  \n",
       "std            0.762238    0.819232  \n",
       "min            0.100000    0.000000  \n",
       "25%            0.300000    0.000000  \n",
       "50%            1.300000    1.000000  \n",
       "75%            1.800000    2.000000  \n",
       "max            2.500000    2.000000  "
      ]
     },
     "execution_count": 30,
     "metadata": {},
     "output_type": "execute_result"
    }
   ],
   "source": [
    "data.describe()"
   ]
  },
  {
   "cell_type": "markdown",
   "metadata": {},
   "source": [
    "# Exploracja danych"
   ]
  },
  {
   "cell_type": "markdown",
   "metadata": {},
   "source": [
    "Stwórzmy wykres punktowy - zależność długości od szerokości kielicha:\n",
    "\n",
    "``plt.scatter(x,y)``"
   ]
  },
  {
   "cell_type": "code",
   "execution_count": 31,
   "metadata": {
    "ExecuteTime": {
     "end_time": "2020-03-29T08:46:52.986363Z",
     "start_time": "2020-03-29T08:46:52.656246Z"
    },
    "scrolled": true
   },
   "outputs": [
    {
     "data": {
      "text/plain": [
       "Text(0.5, 1.0, 'Zależność długości od szerokości kielicha')"
      ]
     },
     "execution_count": 31,
     "metadata": {},
     "output_type": "execute_result"
    },
    {
     "data": {
      "image/png": "[encoded data removed]",
      "text/plain": [
       "<Figure size 432x288 with 1 Axes>"
      ]
     },
     "metadata": {
      "needs_background": "light"
     },
     "output_type": "display_data"
    }
   ],
   "source": [
    "plt.scatter(data['sepal length (cm)'], data['sepal width (cm)'])\n",
    "plt.xlabel('Długość kielicha')\n",
    "plt.ylabel('Szerokość kielicha')\n",
    "plt.title('Zależność długości od szerokości kielicha')"
   ]
  },
  {
   "cell_type": "markdown",
   "metadata": {},
   "source": [
    "Oraz wykres punktowy - zależność długości i szerokości płatka"
   ]
  },
  {
   "cell_type": "code",
   "execution_count": 32,
   "metadata": {
    "ExecuteTime": {
     "end_time": "2020-03-29T08:48:02.234769Z",
     "start_time": "2020-03-29T08:48:01.972954Z"
    }
   },
   "outputs": [
    {
     "data": {
      "text/plain": [
       "Text(0.5, 1.0, 'Zależność długości od szerokości płatka')"
      ]
     },
     "execution_count": 32,
     "metadata": {},
     "output_type": "execute_result"
    },
    {
     "data": {
      "image/png": "[encoded data removed]",
      "text/plain": [
       "<Figure size 432x288 with 1 Axes>"
      ]
     },
     "metadata": {
      "needs_background": "light"
     },
     "output_type": "display_data"
    }
   ],
   "source": [
    "plt.scatter(data['petal length (cm)'], data['petal width (cm)'])\n",
    "plt.xlabel('Długość płatka')\n",
    "plt.ylabel('Szerokość płatka')\n",
    "plt.title('Zależność długości od szerokości płatka')"
   ]
  },
  {
   "cell_type": "markdown",
   "metadata": {},
   "source": [
    "Możemy zauważyć parę klastrów obserwacji. Wypróbujemy kilka wariantów przy pomocy odpowiednich metod"
   ]
  },
  {
   "cell_type": "markdown",
   "metadata": {},
   "source": [
    "# Metoda k-średnich"
   ]
  },
  {
   "cell_type": "markdown",
   "metadata": {},
   "source": [
    "Wybierz dwie kolumny do klastrowania (będziemy również wizualizować dane za pomocą scatterplota)"
   ]
  },
  {
   "cell_type": "code",
   "execution_count": 33,
   "metadata": {
    "ExecuteTime": {
     "end_time": "2020-03-29T08:49:32.179090Z",
     "start_time": "2020-03-29T08:49:32.176092Z"
    }
   },
   "outputs": [],
   "source": [
    "zmienne_do_klastrowania = ['petal length (cm)', 'petal width (cm)']"
   ]
  },
  {
   "cell_type": "code",
   "execution_count": 34,
   "metadata": {
    "ExecuteTime": {
     "end_time": "2020-03-29T08:50:01.976164Z",
     "start_time": "2020-03-29T08:50:01.973133Z"
    }
   },
   "outputs": [],
   "source": [
    "from sklearn.cluster import KMeans"
   ]
  },
  {
   "cell_type": "markdown",
   "metadata": {},
   "source": [
    "Zdefiniujmy sobie funkcję pomocniczą do robienia wykresu dla zadanego grupowania"
   ]
  },
  {
   "cell_type": "code",
   "execution_count": 35,
   "metadata": {
    "ExecuteTime": {
     "end_time": "2020-03-29T08:50:12.802831Z",
     "start_time": "2020-03-29T08:50:12.795812Z"
    }
   },
   "outputs": [],
   "source": [
    "def print_clustering(data, labels):\n",
    "    labels_and_styles = dict(zip(range(5), list(\"v*+xDop\")))\n",
    "    \n",
    "    for i in range(data.shape[0]):\n",
    "        lab = labels[i]\n",
    "        marker = labels_and_styles.get(lab, '*')\n",
    "        plt.scatter(data.iloc[i, 0], data.iloc[i, 1], marker=labels_and_styles[lab], c='b')\n",
    "    \n",
    "    plt.show()"
   ]
  },
  {
   "cell_type": "markdown",
   "metadata": {},
   "source": [
    "Wypróbujmy algorytm k-średnich dla różnych wartości k"
   ]
  },
  {
   "cell_type": "code",
   "execution_count": 36,
   "metadata": {
    "ExecuteTime": {
     "end_time": "2020-03-29T08:51:53.497767Z",
     "start_time": "2020-03-29T08:51:52.827091Z"
    },
    "scrolled": true
   },
   "outputs": [
    {
     "data": {
      "image/png": "[encoded data removed]",
      "text/plain": [
       "<Figure size 432x288 with 1 Axes>"
      ]
     },
     "metadata": {
      "needs_background": "light"
     },
     "output_type": "display_data"
    }
   ],
   "source": [
    "k_3 = KMeans(n_clusters=3)\n",
    "k_3.fit(data[zmienne_do_klastrowania])\n",
    "print_clustering(data[zmienne_do_klastrowania], k_3.labels_)"
   ]
  },
  {
   "cell_type": "markdown",
   "metadata": {},
   "source": [
    "k=4"
   ]
  },
  {
   "cell_type": "code",
   "execution_count": 37,
   "metadata": {
    "ExecuteTime": {
     "end_time": "2020-03-29T08:55:30.653862Z",
     "start_time": "2020-03-29T08:55:30.036011Z"
    }
   },
   "outputs": [
    {
     "data": {
      "image/png": "[encoded data removed]",
      "text/plain": [
       "<Figure size 432x288 with 1 Axes>"
      ]
     },
     "metadata": {
      "needs_background": "light"
     },
     "output_type": "display_data"
    }
   ],
   "source": [
    "k_4 = KMeans(n_clusters=4)\n",
    "k_4.fit(data[zmienne_do_klastrowania])\n",
    "print_clustering(data[zmienne_do_klastrowania], k_4.labels_)"
   ]
  },
  {
   "cell_type": "markdown",
   "metadata": {},
   "source": [
    "k=2"
   ]
  },
  {
   "cell_type": "code",
   "execution_count": 38,
   "metadata": {
    "ExecuteTime": {
     "end_time": "2020-03-29T08:55:45.696968Z",
     "start_time": "2020-03-29T08:55:45.088057Z"
    }
   },
   "outputs": [
    {
     "data": {
      "image/png": "[encoded data removed]",
      "text/plain": [
       "<Figure size 432x288 with 1 Axes>"
      ]
     },
     "metadata": {
      "needs_background": "light"
     },
     "output_type": "display_data"
    }
   ],
   "source": [
    "k_2 = KMeans(n_clusters=2)\n",
    "k_2.fit(data[zmienne_do_klastrowania])\n",
    "print_clustering(data[zmienne_do_klastrowania], k_2.labels_)"
   ]
  },
  {
   "cell_type": "markdown",
   "metadata": {},
   "source": [
    "# Jakość grupowania"
   ]
  },
  {
   "cell_type": "markdown",
   "metadata": {},
   "source": [
    "**Współczynnik SILHOUETTE**\n",
    "\n",
    "Formally:\n",
    "\n",
    "* a: Średni dystans między elementem klastra a wszystkimi innymi punktami w tym samym klastrze.\n",
    "* b: średni dystans między elementem klastra, a wszystkimi innymi punktami w najbliższym klastrze.\n",
    "\n",
    "\n",
    "$$ s = \\frac{b - a }{max(a,b)} $$\n",
    "\n",
    "\n",
    "Inną metryką poprawności jest **Współczynnik Calińskiego-Harabasza**, \n",
    "\n",
    "* N - liczba obserwacji\n",
    "* k - liczba klastrów\n",
    "\n",
    "$$W_k = \\sum^k_{q=1} \\sum_{x \\in C_1} (x - c_q)^2$$\n",
    "\n",
    "\n",
    "$$B_k = \\sum^k_{q=1} n_q (c_q -c)^2 $$\n",
    "\n",
    "$$calinski(k) = \\frac{Tr(B_k)}{Tr(W_k)} \\times \\frac{N-K}{K-1}$$"
   ]
  },
  {
   "cell_type": "markdown",
   "metadata": {},
   "source": [
    "Napisz pętlę, która przeiteruje przez możliwe k (od 2 do 9), następnie miary dopasowania dodaj do odpowiednich list"
   ]
  },
  {
   "cell_type": "code",
   "execution_count": 39,
   "metadata": {
    "ExecuteTime": {
     "end_time": "2020-03-29T09:03:29.213736Z",
     "start_time": "2020-03-29T09:03:28.873647Z"
    }
   },
   "outputs": [],
   "source": [
    "from sklearn.metrics import silhouette_score, calinski_harabasz_score\n",
    "\n",
    "k_clusters = []\n",
    "silhouette = []\n",
    "calinski = []\n",
    "suma_kwadratow = []\n",
    "\n",
    "for k in range(2, 10):\n",
    "    km = KMeans(n_clusters=k)\n",
    "    km.fit(data[zmienne_do_klastrowania])\n",
    "    \n",
    "    k_clusters.append(k)\n",
    "    silhouette.append(silhouette_score(data[zmienne_do_klastrowania], km.labels_))\n",
    "    calinski.append(calinski_harabasz_score(data[zmienne_do_klastrowania], km.labels_))\n",
    "    suma_kwadratow.append(km.inertia_)"
   ]
  },
  {
   "cell_type": "markdown",
   "metadata": {},
   "source": [
    "Wykreśl wartość współczynnika silhouette w zależności od liczby klastrów"
   ]
  },
  {
   "cell_type": "code",
   "execution_count": 40,
   "metadata": {
    "ExecuteTime": {
     "end_time": "2020-03-29T09:04:27.911519Z",
     "start_time": "2020-03-29T09:04:27.646749Z"
    },
    "scrolled": true
   },
   "outputs": [
    {
     "data": {
      "text/plain": [
       "Text(0, 0.5, 'Współczynnik Silhouette')"
      ]
     },
     "execution_count": 40,
     "metadata": {},
     "output_type": "execute_result"
    },
    {
     "data": {
      "image/png": "[encoded data removed]",
      "text/plain": [
       "<Figure size 432x288 with 1 Axes>"
      ]
     },
     "metadata": {
      "needs_background": "light"
     },
     "output_type": "display_data"
    }
   ],
   "source": [
    "plt.scatter(k_clusters, silhouette)\n",
    "plt.xlabel('Liczba klastrów')\n",
    "plt.ylabel('Współczynnik Silhouette')"
   ]
  },
  {
   "cell_type": "markdown",
   "metadata": {},
   "source": [
    "A także Calińskiego Harabasza:"
   ]
  },
  {
   "cell_type": "code",
   "execution_count": 41,
   "metadata": {
    "ExecuteTime": {
     "end_time": "2020-03-29T09:06:01.620509Z",
     "start_time": "2020-03-29T09:06:01.376157Z"
    },
    "scrolled": false
   },
   "outputs": [
    {
     "data": {
      "text/plain": [
       "Text(0, 0.5, 'Współczynnik C-H')"
      ]
     },
     "execution_count": 41,
     "metadata": {},
     "output_type": "execute_result"
    },
    {
     "data": {
      "image/png": "[encoded data removed]",
      "text/plain": [
       "<Figure size 432x288 with 1 Axes>"
      ]
     },
     "metadata": {
      "needs_background": "light"
     },
     "output_type": "display_data"
    }
   ],
   "source": [
    "plt.scatter(k_clusters, calinski)\n",
    "plt.xlabel('Liczba klastrów')\n",
    "plt.ylabel('Współczynnik C-H')"
   ]
  },
  {
   "cell_type": "markdown",
   "metadata": {},
   "source": [
    "Oraz wartości wewnątrzgrupowej sumy kwadratów:"
   ]
  },
  {
   "cell_type": "code",
   "execution_count": 42,
   "metadata": {
    "ExecuteTime": {
     "end_time": "2020-03-29T09:07:22.983691Z",
     "start_time": "2020-03-29T09:07:22.738954Z"
    }
   },
   "outputs": [
    {
     "data": {
      "text/plain": [
       "Text(0, 0.5, 'Suma kwadratów')"
      ]
     },
     "execution_count": 42,
     "metadata": {},
     "output_type": "execute_result"
    },
    {
     "data": {
      "image/png": "[encoded data removed]",
      "text/plain": [
       "<Figure size 432x288 with 1 Axes>"
      ]
     },
     "metadata": {
      "needs_background": "light"
     },
     "output_type": "display_data"
    }
   ],
   "source": [
    "plt.scatter(k_clusters, suma_kwadratow)\n",
    "plt.xlabel('Liczba klastrów')\n",
    "plt.ylabel('Suma kwadratów')"
   ]
  },
  {
   "cell_type": "markdown",
   "metadata": {},
   "source": [
    "# Inny przykład"
   ]
  },
  {
   "cell_type": "markdown",
   "metadata": {},
   "source": [
    "Wczytujemy fikcyjne dane dotyczące klientów pewnego banku. Trzy zmienne dotyczą:\n",
    "* wieku\n",
    "* przeciętnych zarobków\n",
    "* przeciętnie odkładanych środków na oszczędności (jako % zarobków)\n",
    "\n",
    "Twoim zadaniem będzie dokonanie ich klasteryzacji"
   ]
  },
  {
   "cell_type": "code",
   "execution_count": 43,
   "metadata": {
    "ExecuteTime": {
     "end_time": "2020-03-29T09:08:17.856615Z",
     "start_time": "2020-03-29T09:08:17.848637Z"
    }
   },
   "outputs": [],
   "source": [
    "klienci_banku = pd.read_csv('banking_data.csv')"
   ]
  },
  {
   "cell_type": "code",
   "execution_count": 44,
   "metadata": {
    "ExecuteTime": {
     "end_time": "2020-03-29T09:08:27.692084Z",
     "start_time": "2020-03-29T09:08:27.681113Z"
    }
   },
   "outputs": [
    {
     "data": {
      "text/html": [
       "<div>\n",
       "<style scoped>\n",
       "    .dataframe tbody tr th:only-of-type {\n",
       "        vertical-align: middle;\n",
       "    }\n",
       "\n",
       "    .dataframe tbody tr th {\n",
       "        vertical-align: top;\n",
       "    }\n",
       "\n",
       "    .dataframe thead th {\n",
       "        text-align: right;\n",
       "    }\n",
       "</style>\n",
       "<table border=\"1\" class=\"dataframe\">\n",
       "  <thead>\n",
       "    <tr style=\"text-align: right;\">\n",
       "      <th></th>\n",
       "      <th>oszczednosci</th>\n",
       "      <th>wiek</th>\n",
       "      <th>zarobki</th>\n",
       "    </tr>\n",
       "  </thead>\n",
       "  <tbody>\n",
       "    <tr>\n",
       "      <td>0</td>\n",
       "      <td>0.134</td>\n",
       "      <td>50</td>\n",
       "      <td>7141.52</td>\n",
       "    </tr>\n",
       "    <tr>\n",
       "      <td>1</td>\n",
       "      <td>0.125</td>\n",
       "      <td>34</td>\n",
       "      <td>4841.35</td>\n",
       "    </tr>\n",
       "    <tr>\n",
       "      <td>2</td>\n",
       "      <td>0.048</td>\n",
       "      <td>34</td>\n",
       "      <td>2415.62</td>\n",
       "    </tr>\n",
       "    <tr>\n",
       "      <td>3</td>\n",
       "      <td>0.241</td>\n",
       "      <td>30</td>\n",
       "      <td>2610.52</td>\n",
       "    </tr>\n",
       "    <tr>\n",
       "      <td>4</td>\n",
       "      <td>0.081</td>\n",
       "      <td>45</td>\n",
       "      <td>2431.64</td>\n",
       "    </tr>\n",
       "  </tbody>\n",
       "</table>\n",
       "</div>"
      ],
      "text/plain": [
       "   oszczednosci  wiek  zarobki\n",
       "0         0.134    50  7141.52\n",
       "1         0.125    34  4841.35\n",
       "2         0.048    34  2415.62\n",
       "3         0.241    30  2610.52\n",
       "4         0.081    45  2431.64"
      ]
     },
     "execution_count": 44,
     "metadata": {},
     "output_type": "execute_result"
    }
   ],
   "source": [
    "klienci_banku.head()"
   ]
  },
  {
   "cell_type": "code",
   "execution_count": 45,
   "metadata": {
    "ExecuteTime": {
     "end_time": "2020-03-29T09:11:06.849976Z",
     "start_time": "2020-03-29T09:11:06.829033Z"
    }
   },
   "outputs": [
    {
     "data": {
      "text/html": [
       "<div>\n",
       "<style scoped>\n",
       "    .dataframe tbody tr th:only-of-type {\n",
       "        vertical-align: middle;\n",
       "    }\n",
       "\n",
       "    .dataframe tbody tr th {\n",
       "        vertical-align: top;\n",
       "    }\n",
       "\n",
       "    .dataframe thead th {\n",
       "        text-align: right;\n",
       "    }\n",
       "</style>\n",
       "<table border=\"1\" class=\"dataframe\">\n",
       "  <thead>\n",
       "    <tr style=\"text-align: right;\">\n",
       "      <th></th>\n",
       "      <th>oszczednosci</th>\n",
       "      <th>wiek</th>\n",
       "      <th>zarobki</th>\n",
       "    </tr>\n",
       "  </thead>\n",
       "  <tbody>\n",
       "    <tr>\n",
       "      <td>count</td>\n",
       "      <td>315.000000</td>\n",
       "      <td>315.000000</td>\n",
       "      <td>315.000000</td>\n",
       "    </tr>\n",
       "    <tr>\n",
       "      <td>mean</td>\n",
       "      <td>0.187254</td>\n",
       "      <td>31.533333</td>\n",
       "      <td>3805.114444</td>\n",
       "    </tr>\n",
       "    <tr>\n",
       "      <td>std</td>\n",
       "      <td>0.128894</td>\n",
       "      <td>8.532516</td>\n",
       "      <td>1478.558643</td>\n",
       "    </tr>\n",
       "    <tr>\n",
       "      <td>min</td>\n",
       "      <td>0.000000</td>\n",
       "      <td>18.000000</td>\n",
       "      <td>2016.190000</td>\n",
       "    </tr>\n",
       "    <tr>\n",
       "      <td>25%</td>\n",
       "      <td>0.062000</td>\n",
       "      <td>25.000000</td>\n",
       "      <td>2551.080000</td>\n",
       "    </tr>\n",
       "    <tr>\n",
       "      <td>50%</td>\n",
       "      <td>0.215000</td>\n",
       "      <td>31.000000</td>\n",
       "      <td>3477.910000</td>\n",
       "    </tr>\n",
       "    <tr>\n",
       "      <td>75%</td>\n",
       "      <td>0.287500</td>\n",
       "      <td>37.000000</td>\n",
       "      <td>4530.805000</td>\n",
       "    </tr>\n",
       "    <tr>\n",
       "      <td>max</td>\n",
       "      <td>0.486000</td>\n",
       "      <td>54.000000</td>\n",
       "      <td>7972.000000</td>\n",
       "    </tr>\n",
       "  </tbody>\n",
       "</table>\n",
       "</div>"
      ],
      "text/plain": [
       "       oszczednosci        wiek      zarobki\n",
       "count    315.000000  315.000000   315.000000\n",
       "mean       0.187254   31.533333  3805.114444\n",
       "std        0.128894    8.532516  1478.558643\n",
       "min        0.000000   18.000000  2016.190000\n",
       "25%        0.062000   25.000000  2551.080000\n",
       "50%        0.215000   31.000000  3477.910000\n",
       "75%        0.287500   37.000000  4530.805000\n",
       "max        0.486000   54.000000  7972.000000"
      ]
     },
     "execution_count": 45,
     "metadata": {},
     "output_type": "execute_result"
    }
   ],
   "source": [
    "klienci_banku.describe()"
   ]
  },
  {
   "cell_type": "code",
   "execution_count": 46,
   "metadata": {
    "ExecuteTime": {
     "end_time": "2020-03-29T09:10:01.988452Z",
     "start_time": "2020-03-29T09:10:01.772560Z"
    },
    "scrolled": false
   },
   "outputs": [
    {
     "data": {
      "image/png": "[encoded data removed]",
      "text/plain": [
       "<Figure size 432x432 with 1 Axes>"
      ]
     },
     "metadata": {
      "needs_background": "light"
     },
     "output_type": "display_data"
    }
   ],
   "source": [
    "from mpl_toolkits.mplot3d import Axes3D\n",
    "\n",
    "fig = plt.figure(figsize=(6,6))\n",
    "ax = Axes3D(fig)\n",
    "ax.scatter(klienci_banku['zarobki'], klienci_banku['oszczednosci'], klienci_banku['wiek'], depthshade=False)\n",
    "ax.set_xlabel('Zarobki')\n",
    "ax.set_ylabel('Oszczednosci')\n",
    "ax.set_zlabel('Wiek')\n",
    "ax.view_init(39, 30)\n",
    "plt.show()"
   ]
  },
  {
   "cell_type": "markdown",
   "metadata": {},
   "source": [
    "Ale najpierw, policz z odległość między pierwszym i drugim klientem ze zbioru (odległością euklidesową). Aby to zrobić, stwórz funkcję, która przyjmuje dwa wektory i zwraca jedną wartość będącą odległością euklidesową między tymi wektorami"
   ]
  },
  {
   "cell_type": "code",
   "execution_count": 47,
   "metadata": {
    "ExecuteTime": {
     "end_time": "2020-03-29T09:22:05.137093Z",
     "start_time": "2020-03-29T09:22:05.120139Z"
    }
   },
   "outputs": [
    {
     "data": {
      "text/plain": [
       "2300.2256474052715"
      ]
     },
     "execution_count": 47,
     "metadata": {},
     "output_type": "execute_result"
    }
   ],
   "source": [
    "def euclidean_distance(row1, row2):\n",
    "    return np.sqrt(np.sum((row1 - row2) ** 2))\n",
    "\n",
    "euclidean_distance(klienci_banku.iloc[0], klienci_banku.iloc[1])"
   ]
  },
  {
   "cell_type": "code",
   "execution_count": 48,
   "metadata": {
    "ExecuteTime": {
     "end_time": "2020-03-29T09:22:26.489809Z",
     "start_time": "2020-03-29T09:22:26.482829Z"
    }
   },
   "outputs": [
    {
     "name": "stdout",
     "output_type": "stream",
     "text": [
      "oszczednosci       0.134\n",
      "wiek              50.000\n",
      "zarobki         7141.520\n",
      "Name: 0, dtype: float64\n",
      "oszczednosci       0.125\n",
      "wiek              34.000\n",
      "zarobki         4841.350\n",
      "Name: 1, dtype: float64\n"
     ]
    }
   ],
   "source": [
    "print(klienci_banku.iloc[0])\n",
    "print(klienci_banku.iloc[1])"
   ]
  },
  {
   "cell_type": "markdown",
   "metadata": {},
   "source": [
    "Dokonaj standaryzacji danych (od każdej zmiennej odejmij średnią, i podziel przez jej odchylenie standardowe)"
   ]
  },
  {
   "cell_type": "code",
   "execution_count": 49,
   "metadata": {
    "ExecuteTime": {
     "end_time": "2020-03-29T09:52:20.195714Z",
     "start_time": "2020-03-29T09:52:20.191722Z"
    }
   },
   "outputs": [],
   "source": [
    "from sklearn.preprocessing import StandardScaler\n",
    "\n",
    "scaler = StandardScaler()"
   ]
  },
  {
   "cell_type": "code",
   "execution_count": 50,
   "metadata": {
    "ExecuteTime": {
     "end_time": "2020-03-29T09:52:28.649645Z",
     "start_time": "2020-03-29T09:52:28.636670Z"
    }
   },
   "outputs": [
    {
     "data": {
      "text/html": [
       "<div>\n",
       "<style scoped>\n",
       "    .dataframe tbody tr th:only-of-type {\n",
       "        vertical-align: middle;\n",
       "    }\n",
       "\n",
       "    .dataframe tbody tr th {\n",
       "        vertical-align: top;\n",
       "    }\n",
       "\n",
       "    .dataframe thead th {\n",
       "        text-align: right;\n",
       "    }\n",
       "</style>\n",
       "<table border=\"1\" class=\"dataframe\">\n",
       "  <thead>\n",
       "    <tr style=\"text-align: right;\">\n",
       "      <th></th>\n",
       "      <th>oszczednosci</th>\n",
       "      <th>wiek</th>\n",
       "      <th>zarobki</th>\n",
       "    </tr>\n",
       "  </thead>\n",
       "  <tbody>\n",
       "    <tr>\n",
       "      <td>0</td>\n",
       "      <td>0.134</td>\n",
       "      <td>50</td>\n",
       "      <td>7141.52</td>\n",
       "    </tr>\n",
       "    <tr>\n",
       "      <td>1</td>\n",
       "      <td>0.125</td>\n",
       "      <td>34</td>\n",
       "      <td>4841.35</td>\n",
       "    </tr>\n",
       "    <tr>\n",
       "      <td>2</td>\n",
       "      <td>0.048</td>\n",
       "      <td>34</td>\n",
       "      <td>2415.62</td>\n",
       "    </tr>\n",
       "    <tr>\n",
       "      <td>3</td>\n",
       "      <td>0.241</td>\n",
       "      <td>30</td>\n",
       "      <td>2610.52</td>\n",
       "    </tr>\n",
       "    <tr>\n",
       "      <td>4</td>\n",
       "      <td>0.081</td>\n",
       "      <td>45</td>\n",
       "      <td>2431.64</td>\n",
       "    </tr>\n",
       "    <tr>\n",
       "      <td>...</td>\n",
       "      <td>...</td>\n",
       "      <td>...</td>\n",
       "      <td>...</td>\n",
       "    </tr>\n",
       "    <tr>\n",
       "      <td>310</td>\n",
       "      <td>0.326</td>\n",
       "      <td>25</td>\n",
       "      <td>2389.32</td>\n",
       "    </tr>\n",
       "    <tr>\n",
       "      <td>311</td>\n",
       "      <td>0.390</td>\n",
       "      <td>22</td>\n",
       "      <td>2952.41</td>\n",
       "    </tr>\n",
       "    <tr>\n",
       "      <td>312</td>\n",
       "      <td>0.297</td>\n",
       "      <td>30</td>\n",
       "      <td>2921.88</td>\n",
       "    </tr>\n",
       "    <tr>\n",
       "      <td>313</td>\n",
       "      <td>0.435</td>\n",
       "      <td>49</td>\n",
       "      <td>6403.51</td>\n",
       "    </tr>\n",
       "    <tr>\n",
       "      <td>314</td>\n",
       "      <td>0.211</td>\n",
       "      <td>47</td>\n",
       "      <td>6663.28</td>\n",
       "    </tr>\n",
       "  </tbody>\n",
       "</table>\n",
       "<p>315 rows × 3 columns</p>\n",
       "</div>"
      ],
      "text/plain": [
       "     oszczednosci  wiek  zarobki\n",
       "0           0.134    50  7141.52\n",
       "1           0.125    34  4841.35\n",
       "2           0.048    34  2415.62\n",
       "3           0.241    30  2610.52\n",
       "4           0.081    45  2431.64\n",
       "..            ...   ...      ...\n",
       "310         0.326    25  2389.32\n",
       "311         0.390    22  2952.41\n",
       "312         0.297    30  2921.88\n",
       "313         0.435    49  6403.51\n",
       "314         0.211    47  6663.28\n",
       "\n",
       "[315 rows x 3 columns]"
      ]
     },
     "execution_count": 50,
     "metadata": {},
     "output_type": "execute_result"
    }
   ],
   "source": [
    "klienci_banku"
   ]
  },
  {
   "cell_type": "code",
   "execution_count": 51,
   "metadata": {
    "ExecuteTime": {
     "end_time": "2020-03-29T09:53:25.643218Z",
     "start_time": "2020-03-29T09:53:25.636245Z"
    }
   },
   "outputs": [],
   "source": [
    "np.set_printoptions(suppress=True)\n",
    "klienci_standaryzowani = pd.DataFrame(\n",
    "    scaler.fit_transform(klienci_banku), columns=klienci_banku.columns\n",
    ")"
   ]
  },
  {
   "cell_type": "markdown",
   "metadata": {},
   "source": [
    "Wyświetl za pomocą metod ``.mean_``, ``.scale_`` informację o średniej i odchyleniu jakie były zastosowane w standaryzacji"
   ]
  },
  {
   "cell_type": "code",
   "execution_count": 52,
   "metadata": {
    "ExecuteTime": {
     "end_time": "2020-03-29T09:53:27.339030Z",
     "start_time": "2020-03-29T09:53:27.334088Z"
    }
   },
   "outputs": [
    {
     "data": {
      "text/plain": [
       "array([   0.18725397,   31.53333333, 3805.11444444])"
      ]
     },
     "execution_count": 52,
     "metadata": {},
     "output_type": "execute_result"
    }
   ],
   "source": [
    "scaler.mean_"
   ]
  },
  {
   "cell_type": "code",
   "execution_count": 53,
   "metadata": {
    "ExecuteTime": {
     "end_time": "2020-03-29T09:53:30.693573Z",
     "start_time": "2020-03-29T09:53:30.687118Z"
    }
   },
   "outputs": [
    {
     "data": {
      "text/plain": [
       "array([   0.12868924,    8.51896111, 1476.20985914])"
      ]
     },
     "execution_count": 53,
     "metadata": {},
     "output_type": "execute_result"
    }
   ],
   "source": [
    "scaler.scale_"
   ]
  },
  {
   "cell_type": "markdown",
   "metadata": {},
   "source": [
    "Przedstaw ramkę"
   ]
  },
  {
   "cell_type": "code",
   "execution_count": null,
   "metadata": {
    "ExecuteTime": {
     "end_time": "2019-05-07T20:03:55.389245Z",
     "start_time": "2019-05-07T20:03:55.379242Z"
    }
   },
   "outputs": [],
   "source": []
  },
  {
   "cell_type": "markdown",
   "metadata": {},
   "source": [
    "Podaj odległość euklidesową po standaryzacji"
   ]
  },
  {
   "cell_type": "code",
   "execution_count": 54,
   "metadata": {
    "ExecuteTime": {
     "end_time": "2020-03-29T09:26:30.392489Z",
     "start_time": "2020-03-29T09:26:30.384520Z"
    }
   },
   "outputs": [
    {
     "data": {
      "text/plain": [
       "2.4413620201799358"
      ]
     },
     "execution_count": 54,
     "metadata": {},
     "output_type": "execute_result"
    }
   ],
   "source": [
    "# odległość euklidesowa po standaryzacji:\n",
    "euclidean_distance(klienci_standaryzowani.iloc[0], klienci_standaryzowani.iloc[1])"
   ]
  },
  {
   "cell_type": "markdown",
   "metadata": {},
   "source": [
    "Dokonaj klastrowania metodą k-średnich. Przyjmij liczbę skupień jako 3"
   ]
  },
  {
   "cell_type": "code",
   "execution_count": 55,
   "metadata": {
    "ExecuteTime": {
     "end_time": "2020-03-29T09:31:03.147349Z",
     "start_time": "2020-03-29T09:31:03.111446Z"
    }
   },
   "outputs": [
    {
     "data": {
      "text/plain": [
       "KMeans(algorithm='auto', copy_x=True, init='k-means++', max_iter=300,\n",
       "       n_clusters=3, n_init=10, n_jobs=None, precompute_distances='auto',\n",
       "       random_state=None, tol=0.0001, verbose=0)"
      ]
     },
     "execution_count": 55,
     "metadata": {},
     "output_type": "execute_result"
    }
   ],
   "source": [
    "km = KMeans(n_clusters=3)\n",
    "km.fit(klienci_standaryzowani)"
   ]
  },
  {
   "cell_type": "code",
   "execution_count": 56,
   "metadata": {
    "ExecuteTime": {
     "end_time": "2020-03-29T09:54:19.719969Z",
     "start_time": "2020-03-29T09:54:19.711991Z"
    }
   },
   "outputs": [
    {
     "data": {
      "text/plain": [
       "array([[   0.05933571,   29.68571429, 3179.73735714],\n",
       "       [   0.29755085,   28.55084746, 3373.68567797],\n",
       "       [   0.27310526,   42.24561404, 6234.26157895]])"
      ]
     },
     "execution_count": 56,
     "metadata": {},
     "output_type": "execute_result"
    }
   ],
   "source": [
    "scaler.inverse_transform(km.cluster_centers_)"
   ]
  },
  {
   "cell_type": "markdown",
   "metadata": {},
   "source": [
    "Do którego skupienia przyporządkowano poszczególne obserwacje?"
   ]
  },
  {
   "cell_type": "code",
   "execution_count": 57,
   "metadata": {
    "ExecuteTime": {
     "end_time": "2020-03-29T09:31:13.606572Z",
     "start_time": "2020-03-29T09:31:13.599596Z"
    }
   },
   "outputs": [
    {
     "data": {
      "text/plain": [
       "array([2, 0, 0, 1, 0, 2, 0, 0, 2, 0, 0, 0, 0, 1, 0, 1, 0, 1, 1, 1, 2, 2,\n",
       "       0, 0, 0, 0, 0, 1, 1, 2, 0, 0, 0, 0, 1, 0, 0, 2, 2, 2, 1, 1, 0, 0,\n",
       "       2, 0, 0, 1, 2, 1, 1, 0, 0, 0, 0, 1, 1, 0, 1, 1, 0, 1, 1, 1, 1, 2,\n",
       "       0, 0, 2, 0, 1, 1, 2, 2, 0, 1, 0, 1, 1, 1, 1, 2, 0, 0, 0, 1, 0, 0,\n",
       "       0, 1, 1, 0, 0, 2, 0, 1, 2, 0, 0, 0, 1, 1, 0, 0, 2, 2, 1, 1, 0, 1,\n",
       "       0, 1, 1, 1, 0, 0, 1, 1, 0, 0, 0, 2, 0, 0, 2, 2, 1, 1, 2, 0, 2, 0,\n",
       "       0, 1, 0, 0, 2, 2, 0, 0, 1, 1, 0, 1, 0, 1, 1, 0, 0, 1, 1, 0, 1, 0,\n",
       "       0, 2, 0, 1, 2, 0, 0, 1, 1, 2, 2, 1, 0, 0, 2, 0, 1, 1, 0, 0, 1, 2,\n",
       "       2, 1, 1, 2, 2, 0, 1, 0, 1, 0, 1, 1, 0, 0, 1, 0, 1, 0, 2, 2, 0, 1,\n",
       "       1, 1, 1, 0, 1, 2, 2, 0, 1, 1, 1, 1, 1, 1, 2, 0, 0, 1, 1, 0, 1, 2,\n",
       "       0, 1, 1, 1, 1, 1, 0, 2, 0, 1, 1, 0, 0, 2, 0, 1, 1, 0, 0, 0, 2, 0,\n",
       "       0, 0, 1, 0, 1, 0, 0, 0, 1, 2, 0, 2, 1, 0, 2, 2, 1, 2, 1, 1, 0, 0,\n",
       "       0, 0, 2, 2, 0, 2, 2, 0, 0, 1, 0, 0, 0, 1, 1, 0, 1, 2, 1, 1, 1, 0,\n",
       "       1, 0, 1, 0, 0, 1, 0, 1, 0, 1, 0, 0, 1, 0, 1, 0, 0, 0, 0, 0, 1, 0,\n",
       "       0, 1, 1, 1, 1, 2, 2])"
      ]
     },
     "execution_count": 57,
     "metadata": {},
     "output_type": "execute_result"
    }
   ],
   "source": [
    "km.labels_"
   ]
  },
  {
   "cell_type": "markdown",
   "metadata": {},
   "source": [
    "Jakie są centra skupień? jak byś je scharakteryzował? \n",
    "Żeby dane powróciły do poprzedniej formy sprzed standaryzacji wykorzystaj metodę ``inverse_transform()`` obiektu scaler"
   ]
  },
  {
   "cell_type": "code",
   "execution_count": 58,
   "metadata": {
    "ExecuteTime": {
     "end_time": "2020-03-29T09:31:49.427438Z",
     "start_time": "2020-03-29T09:31:49.423474Z"
    }
   },
   "outputs": [
    {
     "data": {
      "text/plain": [
       "array([[   0.05933571,   29.68571429, 3179.73735714],\n",
       "       [   0.29755085,   28.55084746, 3373.68567797],\n",
       "       [   0.27310526,   42.24561404, 6234.26157895]])"
      ]
     },
     "execution_count": 58,
     "metadata": {},
     "output_type": "execute_result"
    }
   ],
   "source": [
    "scaler.inverse_transform(km.cluster_centers_)"
   ]
  },
  {
   "cell_type": "markdown",
   "metadata": {
    "ExecuteTime": {
     "end_time": "2019-03-22T23:51:15.356133Z",
     "start_time": "2019-03-22T23:51:15.353132Z"
    }
   },
   "source": [
    "Przedstaw na wykresie 3D dane, a kolorem oznacz numer skupiska.\n",
    "W ``ax.scatter`` dodaj parametr ``c=`` i przypisz do niego etykiety grupy do jakich zostały przypisane"
   ]
  },
  {
   "cell_type": "code",
   "execution_count": 59,
   "metadata": {
    "ExecuteTime": {
     "end_time": "2020-03-29T09:33:34.717459Z",
     "start_time": "2020-03-29T09:33:34.494988Z"
    }
   },
   "outputs": [
    {
     "data": {
      "image/png": "[encoded data removed]",
      "text/plain": [
       "<Figure size 432x432 with 1 Axes>"
      ]
     },
     "metadata": {
      "needs_background": "light"
     },
     "output_type": "display_data"
    }
   ],
   "source": [
    "from mpl_toolkits.mplot3d import Axes3D\n",
    "\n",
    "fig = plt.figure(figsize=(6,6))\n",
    "ax = Axes3D(fig)\n",
    "ax.scatter(klienci_banku['zarobki'], klienci_banku['oszczednosci'], klienci_banku['wiek'], c=km.labels_, depthshade=False)\n",
    "ax.set_xlabel('Zarobki')\n",
    "ax.set_ylabel('Oszczednosci')\n",
    "ax.set_zlabel('Wiek')\n",
    "ax.view_init(10, 40)\n",
    "plt.show()"
   ]
  },
  {
   "cell_type": "markdown",
   "metadata": {},
   "source": [
    "Przedstaw miary jakości klastrowania dla tego modelu. Uwzględnij wewnątrzklastrową sumę ochyleń"
   ]
  },
  {
   "cell_type": "code",
   "execution_count": null,
   "metadata": {
    "ExecuteTime": {
     "end_time": "2019-05-07T20:03:55.675306Z",
     "start_time": "2019-05-07T20:03:55.665304Z"
    }
   },
   "outputs": [],
   "source": []
  },
  {
   "cell_type": "markdown",
   "metadata": {},
   "source": [
    "Za pomocą pętli, przeanalizuj modele k-means dla k z zakresu (2,14), i porównaj miary jakości dopasowania. Ile klastrów byś wybrał?"
   ]
  },
  {
   "cell_type": "code",
   "execution_count": 60,
   "metadata": {
    "ExecuteTime": {
     "end_time": "2020-03-29T09:43:39.325180Z",
     "start_time": "2020-03-29T09:43:38.553770Z"
    }
   },
   "outputs": [],
   "source": [
    "k_clusters = []\n",
    "silhouette = []\n",
    "calinski = []\n",
    "suma_kwadratow = []\n",
    "\n",
    "for k in range(2, 15):\n",
    "    km = KMeans(n_clusters=k)\n",
    "    km.fit(klienci_standaryzowani)\n",
    "    \n",
    "    k_clusters.append(k)\n",
    "    silhouette.append(silhouette_score(klienci_standaryzowani, km.labels_))\n",
    "    calinski.append(calinski_harabasz_score(klienci_standaryzowani, km.labels_))\n",
    "    suma_kwadratow.append(km.inertia_)"
   ]
  },
  {
   "cell_type": "markdown",
   "metadata": {},
   "source": [
    "Wyświetl wykresy różnych metryk poprawności w zależności od liczby wybranych klastrów:"
   ]
  },
  {
   "cell_type": "code",
   "execution_count": 61,
   "metadata": {
    "ExecuteTime": {
     "end_time": "2020-03-29T09:50:59.162480Z",
     "start_time": "2020-03-29T09:50:59.157497Z"
    }
   },
   "outputs": [
    {
     "data": {
      "text/plain": [
       "[0.3697884732373055,\n",
       " 0.38231331451362655,\n",
       " 0.4166006479081841,\n",
       " 0.4086258388270986,\n",
       " 0.4089557483725589,\n",
       " 0.40384961892809096,\n",
       " 0.38670756749515395,\n",
       " 0.390410871508119,\n",
       " 0.3854284435824689,\n",
       " 0.38016426520778324,\n",
       " 0.3880607196222096,\n",
       " 0.3836129124200847,\n",
       " 0.3757904656915498]"
      ]
     },
     "execution_count": 61,
     "metadata": {},
     "output_type": "execute_result"
    }
   ],
   "source": [
    "silhouette"
   ]
  },
  {
   "cell_type": "code",
   "execution_count": 62,
   "metadata": {
    "ExecuteTime": {
     "end_time": "2020-03-29T09:43:59.555168Z",
     "start_time": "2020-03-29T09:43:59.309824Z"
    }
   },
   "outputs": [
    {
     "data": {
      "text/plain": [
       "<matplotlib.collections.PathCollection at 0x26e3ab7b7c8>"
      ]
     },
     "execution_count": 62,
     "metadata": {},
     "output_type": "execute_result"
    },
    {
     "data": {
      "image/png": "[encoded data removed]",
      "text/plain": [
       "<Figure size 432x288 with 1 Axes>"
      ]
     },
     "metadata": {
      "needs_background": "light"
     },
     "output_type": "display_data"
    }
   ],
   "source": [
    "plt.scatter(k_clusters, silhouette)"
   ]
  },
  {
   "cell_type": "code",
   "execution_count": 63,
   "metadata": {
    "ExecuteTime": {
     "end_time": "2020-03-29T09:51:15.186440Z",
     "start_time": "2020-03-29T09:51:14.994446Z"
    }
   },
   "outputs": [
    {
     "data": {
      "text/plain": [
       "<matplotlib.collections.PathCollection at 0x26e3943edc8>"
      ]
     },
     "execution_count": 63,
     "metadata": {},
     "output_type": "execute_result"
    },
    {
     "data": {
      "image/png": "[encoded data removed]",
      "text/plain": [
       "<Figure size 432x288 with 1 Axes>"
      ]
     },
     "metadata": {
      "needs_background": "light"
     },
     "output_type": "display_data"
    }
   ],
   "source": [
    "plt.scatter(k_clusters, calinski)"
   ]
  },
  {
   "cell_type": "code",
   "execution_count": 64,
   "metadata": {
    "ExecuteTime": {
     "end_time": "2020-03-29T09:44:34.394717Z",
     "start_time": "2020-03-29T09:44:34.189755Z"
    },
    "scrolled": false
   },
   "outputs": [
    {
     "data": {
      "text/plain": [
       "<matplotlib.collections.PathCollection at 0x26e393e0b48>"
      ]
     },
     "execution_count": 64,
     "metadata": {},
     "output_type": "execute_result"
    },
    {
     "data": {
      "image/png": "[encoded data removed]",
      "text/plain": [
       "<Figure size 432x288 with 1 Axes>"
      ]
     },
     "metadata": {
      "needs_background": "light"
     },
     "output_type": "display_data"
    }
   ],
   "source": [
    "plt.scatter(k_clusters, suma_kwadratow)"
   ]
  },
  {
   "cell_type": "markdown",
   "metadata": {
    "ExecuteTime": {
     "end_time": "2019-03-22T23:55:39.113589Z",
     "start_time": "2019-03-22T23:55:39.108586Z"
    }
   },
   "source": [
    "Dokonaj grupowania za pomocą wybranego k, stwórzy wykres 3D z klastrami, wyświetl informacje o średnich i scharakteryzuj tak powstałe klastry klientów banku"
   ]
  },
  {
   "cell_type": "code",
   "execution_count": 65,
   "metadata": {
    "ExecuteTime": {
     "end_time": "2020-03-29T09:46:05.997630Z",
     "start_time": "2020-03-29T09:46:05.944767Z"
    }
   },
   "outputs": [
    {
     "data": {
      "text/plain": [
       "KMeans(algorithm='auto', copy_x=True, init='k-means++', max_iter=300,\n",
       "       n_clusters=6, n_init=10, n_jobs=None, precompute_distances='auto',\n",
       "       random_state=None, tol=0.0001, verbose=0)"
      ]
     },
     "execution_count": 65,
     "metadata": {},
     "output_type": "execute_result"
    }
   ],
   "source": [
    "km = KMeans(n_clusters=6)\n",
    "km.fit(klienci_standaryzowani)"
   ]
  },
  {
   "cell_type": "code",
   "execution_count": 66,
   "metadata": {
    "ExecuteTime": {
     "end_time": "2020-03-29T09:46:46.573436Z",
     "start_time": "2020-03-29T09:46:46.554487Z"
    }
   },
   "outputs": [
    {
     "data": {
      "text/html": [
       "<div>\n",
       "<style scoped>\n",
       "    .dataframe tbody tr th:only-of-type {\n",
       "        vertical-align: middle;\n",
       "    }\n",
       "\n",
       "    .dataframe tbody tr th {\n",
       "        vertical-align: top;\n",
       "    }\n",
       "\n",
       "    .dataframe thead th {\n",
       "        text-align: right;\n",
       "    }\n",
       "</style>\n",
       "<table border=\"1\" class=\"dataframe\">\n",
       "  <thead>\n",
       "    <tr style=\"text-align: right;\">\n",
       "      <th></th>\n",
       "      <th>oszczednosci</th>\n",
       "      <th>wiek</th>\n",
       "      <th>zarobki</th>\n",
       "    </tr>\n",
       "  </thead>\n",
       "  <tbody>\n",
       "    <tr>\n",
       "      <td>0</td>\n",
       "      <td>0.310247</td>\n",
       "      <td>26.136986</td>\n",
       "      <td>3010.736301</td>\n",
       "    </tr>\n",
       "    <tr>\n",
       "      <td>1</td>\n",
       "      <td>0.283324</td>\n",
       "      <td>43.852941</td>\n",
       "      <td>7075.559412</td>\n",
       "    </tr>\n",
       "    <tr>\n",
       "      <td>2</td>\n",
       "      <td>0.045544</td>\n",
       "      <td>21.666667</td>\n",
       "      <td>2465.196491</td>\n",
       "    </tr>\n",
       "    <tr>\n",
       "      <td>3</td>\n",
       "      <td>0.040000</td>\n",
       "      <td>38.918919</td>\n",
       "      <td>2612.554865</td>\n",
       "    </tr>\n",
       "    <tr>\n",
       "      <td>4</td>\n",
       "      <td>0.110214</td>\n",
       "      <td>31.142857</td>\n",
       "      <td>4541.606786</td>\n",
       "    </tr>\n",
       "    <tr>\n",
       "      <td>5</td>\n",
       "      <td>0.283724</td>\n",
       "      <td>36.465517</td>\n",
       "      <td>4254.268448</td>\n",
       "    </tr>\n",
       "  </tbody>\n",
       "</table>\n",
       "</div>"
      ],
      "text/plain": [
       "   oszczednosci       wiek      zarobki\n",
       "0      0.310247  26.136986  3010.736301\n",
       "1      0.283324  43.852941  7075.559412\n",
       "2      0.045544  21.666667  2465.196491\n",
       "3      0.040000  38.918919  2612.554865\n",
       "4      0.110214  31.142857  4541.606786\n",
       "5      0.283724  36.465517  4254.268448"
      ]
     },
     "execution_count": 66,
     "metadata": {},
     "output_type": "execute_result"
    }
   ],
   "source": [
    "pd.DataFrame(scaler.inverse_transform(km.cluster_centers_), columns=klienci_banku.columns)"
   ]
  },
  {
   "cell_type": "code",
   "execution_count": 67,
   "metadata": {
    "ExecuteTime": {
     "end_time": "2020-03-29T09:48:57.257647Z",
     "start_time": "2020-03-29T09:48:57.051125Z"
    }
   },
   "outputs": [
    {
     "data": {
      "image/png": "[encoded data removed]",
      "text/plain": [
       "<Figure size 432x432 with 1 Axes>"
      ]
     },
     "metadata": {
      "needs_background": "light"
     },
     "output_type": "display_data"
    }
   ],
   "source": [
    "fig = plt.figure(figsize=(6,6))\n",
    "ax = Axes3D(fig)\n",
    "ax.scatter(klienci_banku['zarobki'], klienci_banku['oszczednosci'], klienci_banku['wiek'], c=km.labels_, depthshade=False)\n",
    "ax.set_xlabel('Zarobki')\n",
    "ax.set_ylabel('Oszczednosci')\n",
    "ax.set_zlabel('Wiek')\n",
    "ax.view_init(45, 45)\n",
    "plt.show()"
   ]
  },
  {
   "cell_type": "markdown",
   "metadata": {},
   "source": [
    "# Metoda aglomeracyjna"
   ]
  },
  {
   "cell_type": "markdown",
   "metadata": {},
   "source": [
    "Przeanalizujemy dane o tych samych klientach banku"
   ]
  },
  {
   "cell_type": "code",
   "execution_count": null,
   "metadata": {},
   "outputs": [],
   "source": []
  },
  {
   "cell_type": "code",
   "execution_count": 80,
   "metadata": {
    "ExecuteTime": {
     "end_time": "2019-05-07T20:03:58.465935Z",
     "start_time": "2019-05-07T20:03:56.790558Z"
    }
   },
   "outputs": [],
   "source": [
    "from scipy.cluster.hierarchy import dendrogram, linkage, fcluster\n",
    "# stwórzmy macierz połączeń\n",
    "linkage_matrix = linkage(klienci_standaryzowani, 'ward')"
   ]
  },
  {
   "cell_type": "code",
   "execution_count": 77,
   "metadata": {},
   "outputs": [
    {
     "data": {
      "text/plain": [
       "array([[143.        , 186.        ,   0.01583355,   2.        ],\n",
       "       [250.        , 258.        ,   0.0164815 ,   2.        ],\n",
       "       [217.        , 220.        ,   0.01794004,   2.        ],\n",
       "       ...,\n",
       "       [614.        , 625.        ,   4.4485954 , 202.        ],\n",
       "       [623.        , 624.        ,   4.8095022 , 113.        ],\n",
       "       [626.        , 627.        ,   5.77602522, 315.        ]])"
      ]
     },
     "execution_count": 77,
     "metadata": {},
     "output_type": "execute_result"
    }
   ],
   "source": [
    "linkage_matrix"
   ]
  },
  {
   "cell_type": "markdown",
   "metadata": {},
   "source": [
    "Tworzymy wykres dendrogramu:"
   ]
  },
  {
   "cell_type": "code",
   "execution_count": 78,
   "metadata": {},
   "outputs": [
    {
     "data": {
      "text/plain": [
       "{'icoord': [[15.0, 15.0, 25.0, 25.0],\n",
       "  [5.0, 5.0, 20.0, 20.0],\n",
       "  [55.0, 55.0, 65.0, 65.0],\n",
       "  [45.0, 45.0, 60.0, 60.0],\n",
       "  [75.0, 75.0, 85.0, 85.0],\n",
       "  [52.5, 52.5, 80.0, 80.0],\n",
       "  [95.0, 95.0, 105.0, 105.0],\n",
       "  [135.0, 135.0, 145.0, 145.0],\n",
       "  [125.0, 125.0, 140.0, 140.0],\n",
       "  [115.0, 115.0, 132.5, 132.5],\n",
       "  [100.0, 100.0, 123.75, 123.75],\n",
       "  [165.0, 165.0, 175.0, 175.0],\n",
       "  [155.0, 155.0, 170.0, 170.0],\n",
       "  [111.875, 111.875, 162.5, 162.5],\n",
       "  [66.25, 66.25, 137.1875, 137.1875],\n",
       "  [35.0, 35.0, 101.71875, 101.71875],\n",
       "  [12.5, 12.5, 68.359375, 68.359375],\n",
       "  [195.0, 195.0, 205.0, 205.0],\n",
       "  [235.0, 235.0, 245.0, 245.0],\n",
       "  [225.0, 225.0, 240.0, 240.0],\n",
       "  [255.0, 255.0, 265.0, 265.0],\n",
       "  [232.5, 232.5, 260.0, 260.0],\n",
       "  [215.0, 215.0, 246.25, 246.25],\n",
       "  [275.0, 275.0, 285.0, 285.0],\n",
       "  [305.0, 305.0, 315.0, 315.0],\n",
       "  [295.0, 295.0, 310.0, 310.0],\n",
       "  [280.0, 280.0, 302.5, 302.5],\n",
       "  [230.625, 230.625, 291.25, 291.25],\n",
       "  [200.0, 200.0, 260.9375, 260.9375],\n",
       "  [185.0, 185.0, 230.46875, 230.46875],\n",
       "  [40.4296875, 40.4296875, 207.734375, 207.734375],\n",
       "  [325.0, 325.0, 335.0, 335.0],\n",
       "  [345.0, 345.0, 355.0, 355.0],\n",
       "  [330.0, 330.0, 350.0, 350.0],\n",
       "  [365.0, 365.0, 375.0, 375.0],\n",
       "  [395.0, 395.0, 405.0, 405.0],\n",
       "  [385.0, 385.0, 400.0, 400.0],\n",
       "  [415.0, 415.0, 425.0, 425.0],\n",
       "  [445.0, 445.0, 455.0, 455.0],\n",
       "  [435.0, 435.0, 450.0, 450.0],\n",
       "  [420.0, 420.0, 442.5, 442.5],\n",
       "  [392.5, 392.5, 431.25, 431.25],\n",
       "  [370.0, 370.0, 411.875, 411.875],\n",
       "  [495.0, 495.0, 505.0, 505.0],\n",
       "  [485.0, 485.0, 500.0, 500.0],\n",
       "  [475.0, 475.0, 492.5, 492.5],\n",
       "  [465.0, 465.0, 483.75, 483.75],\n",
       "  [525.0, 525.0, 535.0, 535.0],\n",
       "  [515.0, 515.0, 530.0, 530.0],\n",
       "  [555.0, 555.0, 565.0, 565.0],\n",
       "  [545.0, 545.0, 560.0, 560.0],\n",
       "  [575.0, 575.0, 585.0, 585.0],\n",
       "  [595.0, 595.0, 605.0, 605.0],\n",
       "  [580.0, 580.0, 600.0, 600.0],\n",
       "  [552.5, 552.5, 590.0, 590.0],\n",
       "  [522.5, 522.5, 571.25, 571.25],\n",
       "  [625.0, 625.0, 635.0, 635.0],\n",
       "  [615.0, 615.0, 630.0, 630.0],\n",
       "  [546.875, 546.875, 622.5, 622.5],\n",
       "  [474.375, 474.375, 584.6875, 584.6875],\n",
       "  [390.9375, 390.9375, 529.53125, 529.53125],\n",
       "  [340.0, 340.0, 460.234375, 460.234375],\n",
       "  [655.0, 655.0, 665.0, 665.0],\n",
       "  [675.0, 675.0, 685.0, 685.0],\n",
       "  [660.0, 660.0, 680.0, 680.0],\n",
       "  [645.0, 645.0, 670.0, 670.0],\n",
       "  [705.0, 705.0, 715.0, 715.0],\n",
       "  [695.0, 695.0, 710.0, 710.0],\n",
       "  [657.5, 657.5, 702.5, 702.5],\n",
       "  [725.0, 725.0, 735.0, 735.0],\n",
       "  [755.0, 755.0, 765.0, 765.0],\n",
       "  [745.0, 745.0, 760.0, 760.0],\n",
       "  [785.0, 785.0, 795.0, 795.0],\n",
       "  [775.0, 775.0, 790.0, 790.0],\n",
       "  [752.5, 752.5, 782.5, 782.5],\n",
       "  [730.0, 730.0, 767.5, 767.5],\n",
       "  [680.0, 680.0, 748.75, 748.75],\n",
       "  [805.0, 805.0, 815.0, 815.0],\n",
       "  [835.0, 835.0, 845.0, 845.0],\n",
       "  [825.0, 825.0, 840.0, 840.0],\n",
       "  [810.0, 810.0, 832.5, 832.5],\n",
       "  [865.0, 865.0, 875.0, 875.0],\n",
       "  [885.0, 885.0, 895.0, 895.0],\n",
       "  [870.0, 870.0, 890.0, 890.0],\n",
       "  [855.0, 855.0, 880.0, 880.0],\n",
       "  [925.0, 925.0, 935.0, 935.0],\n",
       "  [915.0, 915.0, 930.0, 930.0],\n",
       "  [905.0, 905.0, 922.5, 922.5],\n",
       "  [965.0, 965.0, 975.0, 975.0],\n",
       "  [955.0, 955.0, 970.0, 970.0],\n",
       "  [945.0, 945.0, 962.5, 962.5],\n",
       "  [995.0, 995.0, 1005.0, 1005.0],\n",
       "  [985.0, 985.0, 1000.0, 1000.0],\n",
       "  [1025.0, 1025.0, 1035.0, 1035.0],\n",
       "  [1015.0, 1015.0, 1030.0, 1030.0],\n",
       "  [1045.0, 1045.0, 1055.0, 1055.0],\n",
       "  [1022.5, 1022.5, 1050.0, 1050.0],\n",
       "  [992.5, 992.5, 1036.25, 1036.25],\n",
       "  [953.75, 953.75, 1014.375, 1014.375],\n",
       "  [913.75, 913.75, 984.0625, 984.0625],\n",
       "  [867.5, 867.5, 948.90625, 948.90625],\n",
       "  [821.25, 821.25, 908.203125, 908.203125],\n",
       "  [714.375, 714.375, 864.7265625, 864.7265625],\n",
       "  [1065.0, 1065.0, 1075.0, 1075.0],\n",
       "  [1095.0, 1095.0, 1105.0, 1105.0],\n",
       "  [1085.0, 1085.0, 1100.0, 1100.0],\n",
       "  [1070.0, 1070.0, 1092.5, 1092.5],\n",
       "  [1115.0, 1115.0, 1125.0, 1125.0],\n",
       "  [1145.0, 1145.0, 1155.0, 1155.0],\n",
       "  [1165.0, 1165.0, 1175.0, 1175.0],\n",
       "  [1150.0, 1150.0, 1170.0, 1170.0],\n",
       "  [1135.0, 1135.0, 1160.0, 1160.0],\n",
       "  [1120.0, 1120.0, 1147.5, 1147.5],\n",
       "  [1081.25, 1081.25, 1133.75, 1133.75],\n",
       "  [1195.0, 1195.0, 1205.0, 1205.0],\n",
       "  [1185.0, 1185.0, 1200.0, 1200.0],\n",
       "  [1235.0, 1235.0, 1245.0, 1245.0],\n",
       "  [1225.0, 1225.0, 1240.0, 1240.0],\n",
       "  [1275.0, 1275.0, 1285.0, 1285.0],\n",
       "  [1265.0, 1265.0, 1280.0, 1280.0],\n",
       "  [1255.0, 1255.0, 1272.5, 1272.5],\n",
       "  [1232.5, 1232.5, 1263.75, 1263.75],\n",
       "  [1215.0, 1215.0, 1248.125, 1248.125],\n",
       "  [1295.0, 1295.0, 1305.0, 1305.0],\n",
       "  [1315.0, 1315.0, 1325.0, 1325.0],\n",
       "  [1345.0, 1345.0, 1355.0, 1355.0],\n",
       "  [1335.0, 1335.0, 1350.0, 1350.0],\n",
       "  [1320.0, 1320.0, 1342.5, 1342.5],\n",
       "  [1300.0, 1300.0, 1331.25, 1331.25],\n",
       "  [1231.5625, 1231.5625, 1315.625, 1315.625],\n",
       "  [1192.5, 1192.5, 1273.59375, 1273.59375],\n",
       "  [1107.5, 1107.5, 1233.046875, 1233.046875],\n",
       "  [789.55078125, 789.55078125, 1170.2734375, 1170.2734375],\n",
       "  [400.1171875, 400.1171875, 979.912109375, 979.912109375],\n",
       "  [1365.0, 1365.0, 1375.0, 1375.0],\n",
       "  [1385.0, 1385.0, 1395.0, 1395.0],\n",
       "  [1425.0, 1425.0, 1435.0, 1435.0],\n",
       "  [1415.0, 1415.0, 1430.0, 1430.0],\n",
       "  [1405.0, 1405.0, 1422.5, 1422.5],\n",
       "  [1390.0, 1390.0, 1413.75, 1413.75],\n",
       "  [1370.0, 1370.0, 1401.875, 1401.875],\n",
       "  [1445.0, 1445.0, 1455.0, 1455.0],\n",
       "  [1475.0, 1475.0, 1485.0, 1485.0],\n",
       "  [1465.0, 1465.0, 1480.0, 1480.0],\n",
       "  [1450.0, 1450.0, 1472.5, 1472.5],\n",
       "  [1385.9375, 1385.9375, 1461.25, 1461.25],\n",
       "  [1515.0, 1515.0, 1525.0, 1525.0],\n",
       "  [1505.0, 1505.0, 1520.0, 1520.0],\n",
       "  [1545.0, 1545.0, 1555.0, 1555.0],\n",
       "  [1535.0, 1535.0, 1550.0, 1550.0],\n",
       "  [1512.5, 1512.5, 1542.5, 1542.5],\n",
       "  [1575.0, 1575.0, 1585.0, 1585.0],\n",
       "  [1565.0, 1565.0, 1580.0, 1580.0],\n",
       "  [1527.5, 1527.5, 1572.5, 1572.5],\n",
       "  [1595.0, 1595.0, 1605.0, 1605.0],\n",
       "  [1550.0, 1550.0, 1600.0, 1600.0],\n",
       "  [1635.0, 1635.0, 1645.0, 1645.0],\n",
       "  [1625.0, 1625.0, 1640.0, 1640.0],\n",
       "  [1615.0, 1615.0, 1632.5, 1632.5],\n",
       "  [1575.0, 1575.0, 1623.75, 1623.75],\n",
       "  [1495.0, 1495.0, 1599.375, 1599.375],\n",
       "  [1423.59375, 1423.59375, 1547.1875, 1547.1875],\n",
       "  [1665.0, 1665.0, 1675.0, 1675.0],\n",
       "  [1685.0, 1685.0, 1695.0, 1695.0],\n",
       "  [1705.0, 1705.0, 1715.0, 1715.0],\n",
       "  [1725.0, 1725.0, 1735.0, 1735.0],\n",
       "  [1710.0, 1710.0, 1730.0, 1730.0],\n",
       "  [1755.0, 1755.0, 1765.0, 1765.0],\n",
       "  [1775.0, 1775.0, 1785.0, 1785.0],\n",
       "  [1760.0, 1760.0, 1780.0, 1780.0],\n",
       "  [1745.0, 1745.0, 1770.0, 1770.0],\n",
       "  [1720.0, 1720.0, 1757.5, 1757.5],\n",
       "  [1690.0, 1690.0, 1738.75, 1738.75],\n",
       "  [1670.0, 1670.0, 1714.375, 1714.375],\n",
       "  [1795.0, 1795.0, 1805.0, 1805.0],\n",
       "  [1815.0, 1815.0, 1825.0, 1825.0],\n",
       "  [1800.0, 1800.0, 1820.0, 1820.0],\n",
       "  [1835.0, 1835.0, 1845.0, 1845.0],\n",
       "  [1865.0, 1865.0, 1875.0, 1875.0],\n",
       "  [1855.0, 1855.0, 1870.0, 1870.0],\n",
       "  [1840.0, 1840.0, 1862.5, 1862.5],\n",
       "  [1810.0, 1810.0, 1851.25, 1851.25],\n",
       "  [1895.0, 1895.0, 1905.0, 1905.0],\n",
       "  [1885.0, 1885.0, 1900.0, 1900.0],\n",
       "  [1935.0, 1935.0, 1945.0, 1945.0],\n",
       "  [1925.0, 1925.0, 1940.0, 1940.0],\n",
       "  [1955.0, 1955.0, 1965.0, 1965.0],\n",
       "  [1975.0, 1975.0, 1985.0, 1985.0],\n",
       "  [1960.0, 1960.0, 1980.0, 1980.0],\n",
       "  [1932.5, 1932.5, 1970.0, 1970.0],\n",
       "  [1915.0, 1915.0, 1951.25, 1951.25],\n",
       "  [1892.5, 1892.5, 1933.125, 1933.125],\n",
       "  [2005.0, 2005.0, 2015.0, 2015.0],\n",
       "  [1995.0, 1995.0, 2010.0, 2010.0],\n",
       "  [1912.8125, 1912.8125, 2002.5, 2002.5],\n",
       "  [1830.625, 1830.625, 1957.65625, 1957.65625],\n",
       "  [1692.1875, 1692.1875, 1894.140625, 1894.140625],\n",
       "  [1655.0, 1655.0, 1793.1640625, 1793.1640625],\n",
       "  [1485.390625, 1485.390625, 1724.08203125, 1724.08203125],\n",
       "  [690.0146484375, 690.0146484375, 1604.736328125, 1604.736328125],\n",
       "  [124.08203125, 124.08203125, 1147.37548828125, 1147.37548828125],\n",
       "  [2035.0, 2035.0, 2045.0, 2045.0],\n",
       "  [2065.0, 2065.0, 2075.0, 2075.0],\n",
       "  [2055.0, 2055.0, 2070.0, 2070.0],\n",
       "  [2040.0, 2040.0, 2062.5, 2062.5],\n",
       "  [2025.0, 2025.0, 2051.25, 2051.25],\n",
       "  [2085.0, 2085.0, 2095.0, 2095.0],\n",
       "  [2115.0, 2115.0, 2125.0, 2125.0],\n",
       "  [2105.0, 2105.0, 2120.0, 2120.0],\n",
       "  [2090.0, 2090.0, 2112.5, 2112.5],\n",
       "  [2135.0, 2135.0, 2145.0, 2145.0],\n",
       "  [2175.0, 2175.0, 2185.0, 2185.0],\n",
       "  [2165.0, 2165.0, 2180.0, 2180.0],\n",
       "  [2155.0, 2155.0, 2172.5, 2172.5],\n",
       "  [2140.0, 2140.0, 2163.75, 2163.75],\n",
       "  [2205.0, 2205.0, 2215.0, 2215.0],\n",
       "  [2195.0, 2195.0, 2210.0, 2210.0],\n",
       "  [2235.0, 2235.0, 2245.0, 2245.0],\n",
       "  [2225.0, 2225.0, 2240.0, 2240.0],\n",
       "  [2202.5, 2202.5, 2232.5, 2232.5],\n",
       "  [2151.875, 2151.875, 2217.5, 2217.5],\n",
       "  [2101.25, 2101.25, 2184.6875, 2184.6875],\n",
       "  [2255.0, 2255.0, 2265.0, 2265.0],\n",
       "  [2285.0, 2285.0, 2295.0, 2295.0],\n",
       "  [2275.0, 2275.0, 2290.0, 2290.0],\n",
       "  [2305.0, 2305.0, 2315.0, 2315.0],\n",
       "  [2325.0, 2325.0, 2335.0, 2335.0],\n",
       "  [2345.0, 2345.0, 2355.0, 2355.0],\n",
       "  [2330.0, 2330.0, 2350.0, 2350.0],\n",
       "  [2310.0, 2310.0, 2340.0, 2340.0],\n",
       "  [2282.5, 2282.5, 2325.0, 2325.0],\n",
       "  [2260.0, 2260.0, 2303.75, 2303.75],\n",
       "  [2142.96875, 2142.96875, 2281.875, 2281.875],\n",
       "  [2038.125, 2038.125, 2212.421875, 2212.421875],\n",
       "  [2375.0, 2375.0, 2385.0, 2385.0],\n",
       "  [2365.0, 2365.0, 2380.0, 2380.0],\n",
       "  [2395.0, 2395.0, 2405.0, 2405.0],\n",
       "  [2425.0, 2425.0, 2435.0, 2435.0],\n",
       "  [2415.0, 2415.0, 2430.0, 2430.0],\n",
       "  [2445.0, 2445.0, 2455.0, 2455.0],\n",
       "  [2422.5, 2422.5, 2450.0, 2450.0],\n",
       "  [2475.0, 2475.0, 2485.0, 2485.0],\n",
       "  [2465.0, 2465.0, 2480.0, 2480.0],\n",
       "  [2515.0, 2515.0, 2525.0, 2525.0],\n",
       "  [2505.0, 2505.0, 2520.0, 2520.0],\n",
       "  [2495.0, 2495.0, 2512.5, 2512.5],\n",
       "  [2472.5, 2472.5, 2503.75, 2503.75],\n",
       "  [2436.25, 2436.25, 2488.125, 2488.125],\n",
       "  [2400.0, 2400.0, 2462.1875, 2462.1875],\n",
       "  [2372.5, 2372.5, 2431.09375, 2431.09375],\n",
       "  [2545.0, 2545.0, 2555.0, 2555.0],\n",
       "  [2535.0, 2535.0, 2550.0, 2550.0],\n",
       "  [2585.0, 2585.0, 2595.0, 2595.0],\n",
       "  [2575.0, 2575.0, 2590.0, 2590.0],\n",
       "  [2565.0, 2565.0, 2582.5, 2582.5],\n",
       "  [2542.5, 2542.5, 2573.75, 2573.75],\n",
       "  [2605.0, 2605.0, 2615.0, 2615.0],\n",
       "  [2635.0, 2635.0, 2645.0, 2645.0],\n",
       "  [2625.0, 2625.0, 2640.0, 2640.0],\n",
       "  [2655.0, 2655.0, 2665.0, 2665.0],\n",
       "  [2632.5, 2632.5, 2660.0, 2660.0],\n",
       "  [2610.0, 2610.0, 2646.25, 2646.25],\n",
       "  [2558.125, 2558.125, 2628.125, 2628.125],\n",
       "  [2685.0, 2685.0, 2695.0, 2695.0],\n",
       "  [2675.0, 2675.0, 2690.0, 2690.0],\n",
       "  [2725.0, 2725.0, 2735.0, 2735.0],\n",
       "  [2715.0, 2715.0, 2730.0, 2730.0],\n",
       "  [2705.0, 2705.0, 2722.5, 2722.5],\n",
       "  [2682.5, 2682.5, 2713.75, 2713.75],\n",
       "  [2745.0, 2745.0, 2755.0, 2755.0],\n",
       "  [2765.0, 2765.0, 2775.0, 2775.0],\n",
       "  [2750.0, 2750.0, 2770.0, 2770.0],\n",
       "  [2698.125, 2698.125, 2760.0, 2760.0],\n",
       "  [2795.0, 2795.0, 2805.0, 2805.0],\n",
       "  [2815.0, 2815.0, 2825.0, 2825.0],\n",
       "  [2800.0, 2800.0, 2820.0, 2820.0],\n",
       "  [2835.0, 2835.0, 2845.0, 2845.0],\n",
       "  [2810.0, 2810.0, 2840.0, 2840.0],\n",
       "  [2785.0, 2785.0, 2825.0, 2825.0],\n",
       "  [2729.0625, 2729.0625, 2805.0, 2805.0],\n",
       "  [2593.125, 2593.125, 2767.03125, 2767.03125],\n",
       "  [2865.0, 2865.0, 2875.0, 2875.0],\n",
       "  [2855.0, 2855.0, 2870.0, 2870.0],\n",
       "  [2895.0, 2895.0, 2905.0, 2905.0],\n",
       "  [2885.0, 2885.0, 2900.0, 2900.0],\n",
       "  [2915.0, 2915.0, 2925.0, 2925.0],\n",
       "  [2935.0, 2935.0, 2945.0, 2945.0],\n",
       "  [2955.0, 2955.0, 2965.0, 2965.0],\n",
       "  [2940.0, 2940.0, 2960.0, 2960.0],\n",
       "  [2920.0, 2920.0, 2950.0, 2950.0],\n",
       "  [2892.5, 2892.5, 2935.0, 2935.0],\n",
       "  [2862.5, 2862.5, 2913.75, 2913.75],\n",
       "  [2680.078125, 2680.078125, 2888.125, 2888.125],\n",
       "  [2975.0, 2975.0, 2985.0, 2985.0],\n",
       "  [2995.0, 2995.0, 3005.0, 3005.0],\n",
       "  [2980.0, 2980.0, 3000.0, 3000.0],\n",
       "  [3025.0, 3025.0, 3035.0, 3035.0],\n",
       "  [3015.0, 3015.0, 3030.0, 3030.0],\n",
       "  [2990.0, 2990.0, 3022.5, 3022.5],\n",
       "  [3045.0, 3045.0, 3055.0, 3055.0],\n",
       "  [3075.0, 3075.0, 3085.0, 3085.0],\n",
       "  [3065.0, 3065.0, 3080.0, 3080.0],\n",
       "  [3050.0, 3050.0, 3072.5, 3072.5],\n",
       "  [3006.25, 3006.25, 3061.25, 3061.25],\n",
       "  [3135.0, 3135.0, 3145.0, 3145.0],\n",
       "  [3125.0, 3125.0, 3140.0, 3140.0],\n",
       "  [3115.0, 3115.0, 3132.5, 3132.5],\n",
       "  [3105.0, 3105.0, 3123.75, 3123.75],\n",
       "  [3095.0, 3095.0, 3114.375, 3114.375],\n",
       "  [3033.75, 3033.75, 3104.6875, 3104.6875],\n",
       "  [2784.1015625, 2784.1015625, 3069.21875, 3069.21875],\n",
       "  [2401.796875, 2401.796875, 2926.66015625, 2926.66015625],\n",
       "  [2125.2734375, 2125.2734375, 2664.228515625, 2664.228515625],\n",
       "  [635.728759765625, 635.728759765625, 2394.7509765625, 2394.7509765625]],\n",
       " 'dcoord': [[0.0, 0.4249278592034295, 0.4249278592034295, 0.0],\n",
       "  [0.0, 0.562053177619755, 0.562053177619755, 0.4249278592034295],\n",
       "  [0.0, 0.13624107050189124, 0.13624107050189124, 0.0],\n",
       "  [0.0, 0.22983178339243182, 0.22983178339243182, 0.13624107050189124],\n",
       "  [0.0, 0.272943646436092, 0.272943646436092, 0.0],\n",
       "  [0.22983178339243182,\n",
       "   0.46331058860365637,\n",
       "   0.46331058860365637,\n",
       "   0.272943646436092],\n",
       "  [0.0, 0.14582162350009464, 0.14582162350009464, 0.0],\n",
       "  [0.0, 0.12254929037864763, 0.12254929037864763, 0.0],\n",
       "  [0.0, 0.14651000602003048, 0.14651000602003048, 0.12254929037864763],\n",
       "  [0.0, 0.24491114655334378, 0.24491114655334378, 0.14651000602003048],\n",
       "  [0.14582162350009464,\n",
       "   0.2663367180441038,\n",
       "   0.2663367180441038,\n",
       "   0.24491114655334378],\n",
       "  [0.0, 0.14801625180659572, 0.14801625180659572, 0.0],\n",
       "  [0.0, 0.3271090693977375, 0.3271090693977375, 0.14801625180659572],\n",
       "  [0.2663367180441038,\n",
       "   0.4846798911437781,\n",
       "   0.4846798911437781,\n",
       "   0.3271090693977375],\n",
       "  [0.46331058860365637,\n",
       "   0.7594979787862988,\n",
       "   0.7594979787862988,\n",
       "   0.4846798911437781],\n",
       "  [0.0, 0.8448044422729906, 0.8448044422729906, 0.7594979787862988],\n",
       "  [0.562053177619755,\n",
       "   1.0406049662905241,\n",
       "   1.0406049662905241,\n",
       "   0.8448044422729906],\n",
       "  [0.0, 0.2901886370537476, 0.2901886370537476, 0.0],\n",
       "  [0.0, 0.12503482295955637, 0.12503482295955637, 0.0],\n",
       "  [0.0, 0.20163142779096696, 0.20163142779096696, 0.12503482295955637],\n",
       "  [0.0, 0.2258593681204673, 0.2258593681204673, 0.0],\n",
       "  [0.20163142779096696,\n",
       "   0.3104104644754498,\n",
       "   0.3104104644754498,\n",
       "   0.2258593681204673],\n",
       "  [0.0, 0.44033955472454833, 0.44033955472454833, 0.3104104644754498],\n",
       "  [0.0, 0.17680197379954207, 0.17680197379954207, 0.0],\n",
       "  [0.0, 0.2727091727955566, 0.2727091727955566, 0.0],\n",
       "  [0.0, 0.3888316275848663, 0.3888316275848663, 0.2727091727955566],\n",
       "  [0.17680197379954207,\n",
       "   0.5266438057929792,\n",
       "   0.5266438057929792,\n",
       "   0.3888316275848663],\n",
       "  [0.44033955472454833,\n",
       "   0.6566630908553722,\n",
       "   0.6566630908553722,\n",
       "   0.5266438057929792],\n",
       "  [0.2901886370537476,\n",
       "   0.8353702011300038,\n",
       "   0.8353702011300038,\n",
       "   0.6566630908553722],\n",
       "  [0.0, 1.315551107916332, 1.315551107916332, 0.8353702011300038],\n",
       "  [1.0406049662905241,\n",
       "   2.053846736864741,\n",
       "   2.053846736864741,\n",
       "   1.315551107916332],\n",
       "  [0.0, 0.33207250833513413, 0.33207250833513413, 0.0],\n",
       "  [0.0, 0.4202799664782025, 0.4202799664782025, 0.0],\n",
       "  [0.33207250833513413,\n",
       "   0.8077967986948791,\n",
       "   0.8077967986948791,\n",
       "   0.4202799664782025],\n",
       "  [0.0, 0.3306755493601911, 0.3306755493601911, 0.0],\n",
       "  [0.0, 0.2833131676769597, 0.2833131676769597, 0.0],\n",
       "  [0.0, 0.462677991008605, 0.462677991008605, 0.2833131676769597],\n",
       "  [0.0, 0.23781405830416996, 0.23781405830416996, 0.0],\n",
       "  [0.0, 0.20382674384432056, 0.20382674384432056, 0.0],\n",
       "  [0.0, 0.30081046136023865, 0.30081046136023865, 0.20382674384432056],\n",
       "  [0.23781405830416996,\n",
       "   0.6670908013965886,\n",
       "   0.6670908013965886,\n",
       "   0.30081046136023865],\n",
       "  [0.462677991008605,\n",
       "   0.8302313363537069,\n",
       "   0.8302313363537069,\n",
       "   0.6670908013965886],\n",
       "  [0.3306755493601911,\n",
       "   1.0945258260301731,\n",
       "   1.0945258260301731,\n",
       "   0.8302313363537069],\n",
       "  [0.0, 0.04435238429725888, 0.04435238429725888, 0.0],\n",
       "  [0.0, 0.22369719844523478, 0.22369719844523478, 0.04435238429725888],\n",
       "  [0.0, 0.46753317812489287, 0.46753317812489287, 0.22369719844523478],\n",
       "  [0.0, 0.5284807705451642, 0.5284807705451642, 0.46753317812489287],\n",
       "  [0.0, 0.21200003650909988, 0.21200003650909988, 0.0],\n",
       "  [0.0, 0.3851172445362009, 0.3851172445362009, 0.21200003650909988],\n",
       "  [0.0, 0.18862164037826895, 0.18862164037826895, 0.0],\n",
       "  [0.0, 0.32174393616328123, 0.32174393616328123, 0.18862164037826895],\n",
       "  [0.0, 0.13448452144996156, 0.13448452144996156, 0.0],\n",
       "  [0.0, 0.2556174487983906, 0.2556174487983906, 0.0],\n",
       "  [0.13448452144996156,\n",
       "   0.47464288041200914,\n",
       "   0.47464288041200914,\n",
       "   0.2556174487983906],\n",
       "  [0.32174393616328123,\n",
       "   0.6508082366846607,\n",
       "   0.6508082366846607,\n",
       "   0.47464288041200914],\n",
       "  [0.3851172445362009,\n",
       "   0.7709954171303733,\n",
       "   0.7709954171303733,\n",
       "   0.6508082366846607],\n",
       "  [0.0, 0.14068269205061773, 0.14068269205061773, 0.0],\n",
       "  [0.0, 0.7765929145217327, 0.7765929145217327, 0.14068269205061773],\n",
       "  [0.7709954171303733,\n",
       "   0.9838270639640865,\n",
       "   0.9838270639640865,\n",
       "   0.7765929145217327],\n",
       "  [0.5284807705451642,\n",
       "   1.2386667115554046,\n",
       "   1.2386667115554046,\n",
       "   0.9838270639640865],\n",
       "  [1.0945258260301731,\n",
       "   1.611666903839768,\n",
       "   1.611666903839768,\n",
       "   1.2386667115554046],\n",
       "  [0.8077967986948791,\n",
       "   1.7821658666637796,\n",
       "   1.7821658666637796,\n",
       "   1.611666903839768],\n",
       "  [0.0, 0.05159059173927701, 0.05159059173927701, 0.0],\n",
       "  [0.0, 0.09911611354945327, 0.09911611354945327, 0.0],\n",
       "  [0.05159059173927701,\n",
       "   0.22666366305108163,\n",
       "   0.22666366305108163,\n",
       "   0.09911611354945327],\n",
       "  [0.0, 0.29162377920842253, 0.29162377920842253, 0.22666366305108163],\n",
       "  [0.0, 0.12022008023568141, 0.12022008023568141, 0.0],\n",
       "  [0.0, 0.3635152733026744, 0.3635152733026744, 0.12022008023568141],\n",
       "  [0.29162377920842253,\n",
       "   0.5614173978088115,\n",
       "   0.5614173978088115,\n",
       "   0.3635152733026744],\n",
       "  [0.0, 0.2687754965680843, 0.2687754965680843, 0.0],\n",
       "  [0.0, 0.10585210368209808, 0.10585210368209808, 0.0],\n",
       "  [0.0, 0.13792886494196052, 0.13792886494196052, 0.10585210368209808],\n",
       "  [0.0, 0.10759141712233494, 0.10759141712233494, 0.0],\n",
       "  [0.0, 0.2638500676074778, 0.2638500676074778, 0.10759141712233494],\n",
       "  [0.13792886494196052,\n",
       "   0.3776861331079452,\n",
       "   0.3776861331079452,\n",
       "   0.2638500676074778],\n",
       "  [0.2687754965680843,\n",
       "   0.6304044389604115,\n",
       "   0.6304044389604115,\n",
       "   0.3776861331079452],\n",
       "  [0.5614173978088115,\n",
       "   0.7289464802243993,\n",
       "   0.7289464802243993,\n",
       "   0.6304044389604115],\n",
       "  [0.0, 0.16131060612849377, 0.16131060612849377, 0.0],\n",
       "  [0.0, 0.14221164152420218, 0.14221164152420218, 0.0],\n",
       "  [0.0, 0.2781450637712736, 0.2781450637712736, 0.14221164152420218],\n",
       "  [0.16131060612849377,\n",
       "   0.4277961332006448,\n",
       "   0.4277961332006448,\n",
       "   0.2781450637712736],\n",
       "  [0.0, 0.01807331107751098, 0.01807331107751098, 0.0],\n",
       "  [0.0, 0.02748254236936354, 0.02748254236936354, 0.0],\n",
       "  [0.01807331107751098,\n",
       "   0.13202729868841478,\n",
       "   0.13202729868841478,\n",
       "   0.02748254236936354],\n",
       "  [0.0, 0.26926627721193575, 0.26926627721193575, 0.13202729868841478],\n",
       "  [0.0, 0.09841601620374114, 0.09841601620374114, 0.0],\n",
       "  [0.0, 0.1573249907853991, 0.1573249907853991, 0.09841601620374114],\n",
       "  [0.0, 0.21143084336692117, 0.21143084336692117, 0.1573249907853991],\n",
       "  [0.0, 0.026409402836440693, 0.026409402836440693, 0.0],\n",
       "  [0.0, 0.1171985318737305, 0.1171985318737305, 0.026409402836440693],\n",
       "  [0.0, 0.19871534692811046, 0.19871534692811046, 0.1171985318737305],\n",
       "  [0.0, 0.0451588234985997, 0.0451588234985997, 0.0],\n",
       "  [0.0, 0.1273706465871753, 0.1273706465871753, 0.0451588234985997],\n",
       "  [0.0, 0.017940043309058424, 0.017940043309058424, 0.0],\n",
       "  [0.0, 0.07618286083086122, 0.07618286083086122, 0.017940043309058424],\n",
       "  [0.0, 0.07930551265862827, 0.07930551265862827, 0.0],\n",
       "  [0.07618286083086122,\n",
       "   0.1695510286171417,\n",
       "   0.1695510286171417,\n",
       "   0.07930551265862827],\n",
       "  [0.1273706465871753,\n",
       "   0.27570719925596177,\n",
       "   0.27570719925596177,\n",
       "   0.1695510286171417],\n",
       "  [0.19871534692811046,\n",
       "   0.35494483867248644,\n",
       "   0.35494483867248644,\n",
       "   0.27570719925596177],\n",
       "  [0.21143084336692117,\n",
       "   0.48828498306348855,\n",
       "   0.48828498306348855,\n",
       "   0.35494483867248644],\n",
       "  [0.26926627721193575,\n",
       "   0.6352706668869068,\n",
       "   0.6352706668869068,\n",
       "   0.48828498306348855],\n",
       "  [0.4277961332006448,\n",
       "   0.9576776560283994,\n",
       "   0.9576776560283994,\n",
       "   0.6352706668869068],\n",
       "  [0.7289464802243993,\n",
       "   1.0939769822486063,\n",
       "   1.0939769822486063,\n",
       "   0.9576776560283994],\n",
       "  [0.0, 0.086120886137712, 0.086120886137712, 0.0],\n",
       "  [0.0, 0.11764892545535881, 0.11764892545535881, 0.0],\n",
       "  [0.0, 0.1542078298569818, 0.1542078298569818, 0.11764892545535881],\n",
       "  [0.086120886137712,\n",
       "   0.36985686535279316,\n",
       "   0.36985686535279316,\n",
       "   0.1542078298569818],\n",
       "  [0.0, 0.1186758536555233, 0.1186758536555233, 0.0],\n",
       "  [0.0, 0.09694519425563616, 0.09694519425563616, 0.0],\n",
       "  [0.0, 0.13968688342103444, 0.13968688342103444, 0.0],\n",
       "  [0.09694519425563616,\n",
       "   0.22702595346087243,\n",
       "   0.22702595346087243,\n",
       "   0.13968688342103444],\n",
       "  [0.0, 0.35880017669542635, 0.35880017669542635, 0.22702595346087243],\n",
       "  [0.1186758536555233,\n",
       "   0.400844866169271,\n",
       "   0.400844866169271,\n",
       "   0.35880017669542635],\n",
       "  [0.36985686535279316,\n",
       "   0.7016986371317685,\n",
       "   0.7016986371317685,\n",
       "   0.400844866169271],\n",
       "  [0.0, 0.1842736508712237, 0.1842736508712237, 0.0],\n",
       "  [0.0, 0.25260604125942415, 0.25260604125942415, 0.1842736508712237],\n",
       "  [0.0, 0.1087559640939006, 0.1087559640939006, 0.0],\n",
       "  [0.0, 0.23057260070994928, 0.23057260070994928, 0.1087559640939006],\n",
       "  [0.0, 0.11589663190669715, 0.11589663190669715, 0.0],\n",
       "  [0.0, 0.20126242212787193, 0.20126242212787193, 0.11589663190669715],\n",
       "  [0.0, 0.2870173508962132, 0.2870173508962132, 0.20126242212787193],\n",
       "  [0.23057260070994928,\n",
       "   0.4432977213889287,\n",
       "   0.4432977213889287,\n",
       "   0.2870173508962132],\n",
       "  [0.0, 0.606635988253888, 0.606635988253888, 0.4432977213889287],\n",
       "  [0.0, 0.3429487602649079, 0.3429487602649079, 0.0],\n",
       "  [0.0, 0.21591514683462912, 0.21591514683462912, 0.0],\n",
       "  [0.0, 0.0974589954911559, 0.0974589954911559, 0.0],\n",
       "  [0.0, 0.39377152737367455, 0.39377152737367455, 0.0974589954911559],\n",
       "  [0.21591514683462912,\n",
       "   0.45265632164949565,\n",
       "   0.45265632164949565,\n",
       "   0.39377152737367455],\n",
       "  [0.3429487602649079,\n",
       "   0.7300309663027799,\n",
       "   0.7300309663027799,\n",
       "   0.45265632164949565],\n",
       "  [0.606635988253888,\n",
       "   0.9876407154447808,\n",
       "   0.9876407154447808,\n",
       "   0.7300309663027799],\n",
       "  [0.25260604125942415,\n",
       "   1.1111887511111433,\n",
       "   1.1111887511111433,\n",
       "   0.9876407154447808],\n",
       "  [0.7016986371317685,\n",
       "   1.4260584714457583,\n",
       "   1.4260584714457583,\n",
       "   1.1111887511111433],\n",
       "  [1.0939769822486063,\n",
       "   2.4150139260103183,\n",
       "   2.4150139260103183,\n",
       "   1.4260584714457583],\n",
       "  [1.7821658666637796,\n",
       "   3.022323830623637,\n",
       "   3.022323830623637,\n",
       "   2.4150139260103183],\n",
       "  [0.0, 0.2581495354266579, 0.2581495354266579, 0.0],\n",
       "  [0.0, 0.23599712444513518, 0.23599712444513518, 0.0],\n",
       "  [0.0, 0.1316699081486572, 0.1316699081486572, 0.0],\n",
       "  [0.0, 0.18511537789994637, 0.18511537789994637, 0.1316699081486572],\n",
       "  [0.0, 0.3595540659105135, 0.3595540659105135, 0.18511537789994637],\n",
       "  [0.23599712444513518,\n",
       "   0.5282293980655048,\n",
       "   0.5282293980655048,\n",
       "   0.3595540659105135],\n",
       "  [0.2581495354266579,\n",
       "   0.6686171443634774,\n",
       "   0.6686171443634774,\n",
       "   0.5282293980655048],\n",
       "  [0.0, 0.25912469487413703, 0.25912469487413703, 0.0],\n",
       "  [0.0, 0.2602051180638736, 0.2602051180638736, 0.0],\n",
       "  [0.0, 0.3650849126257172, 0.3650849126257172, 0.2602051180638736],\n",
       "  [0.25912469487413703,\n",
       "   0.8483255697229672,\n",
       "   0.8483255697229672,\n",
       "   0.3650849126257172],\n",
       "  [0.6686171443634774,\n",
       "   0.8965703948017772,\n",
       "   0.8965703948017772,\n",
       "   0.8483255697229672],\n",
       "  [0.0, 0.043929079984114015, 0.043929079984114015, 0.0],\n",
       "  [0.0, 0.15233651522815364, 0.15233651522815364, 0.043929079984114015],\n",
       "  [0.0, 0.13137698464664538, 0.13137698464664538, 0.0],\n",
       "  [0.0, 0.16712743902770266, 0.16712743902770266, 0.13137698464664538],\n",
       "  [0.15233651522815364,\n",
       "   0.2524669694177356,\n",
       "   0.2524669694177356,\n",
       "   0.16712743902770266],\n",
       "  [0.0, 0.14615570138143485, 0.14615570138143485, 0.0],\n",
       "  [0.0, 0.33186803077457633, 0.33186803077457633, 0.14615570138143485],\n",
       "  [0.2524669694177356,\n",
       "   0.3819986745167963,\n",
       "   0.3819986745167963,\n",
       "   0.33186803077457633],\n",
       "  [0.0, 0.39299650876419834, 0.39299650876419834, 0.0],\n",
       "  [0.3819986745167963,\n",
       "   0.6693188769409736,\n",
       "   0.6693188769409736,\n",
       "   0.39299650876419834],\n",
       "  [0.0, 0.1965693884231196, 0.1965693884231196, 0.0],\n",
       "  [0.0, 0.2656220593987221, 0.2656220593987221, 0.1965693884231196],\n",
       "  [0.0, 0.7895144586643152, 0.7895144586643152, 0.2656220593987221],\n",
       "  [0.6693188769409736,\n",
       "   0.8912048316004737,\n",
       "   0.8912048316004737,\n",
       "   0.7895144586643152],\n",
       "  [0.0, 1.0917771790877313, 1.0917771790877313, 0.8912048316004737],\n",
       "  [0.8965703948017772,\n",
       "   1.871860181361862,\n",
       "   1.871860181361862,\n",
       "   1.0917771790877313],\n",
       "  [0.0, 0.3857552788098475, 0.3857552788098475, 0.0],\n",
       "  [0.0, 0.5034668759295736, 0.5034668759295736, 0.0],\n",
       "  [0.0, 0.16609858441557965, 0.16609858441557965, 0.0],\n",
       "  [0.0, 0.2174600464797587, 0.2174600464797587, 0.0],\n",
       "  [0.16609858441557965,\n",
       "   0.4713078252302299,\n",
       "   0.4713078252302299,\n",
       "   0.2174600464797587],\n",
       "  [0.0, 0.09369088396612792, 0.09369088396612792, 0.0],\n",
       "  [0.0, 0.21691872855565225, 0.21691872855565225, 0.0],\n",
       "  [0.09369088396612792,\n",
       "   0.3086771778585121,\n",
       "   0.3086771778585121,\n",
       "   0.21691872855565225],\n",
       "  [0.0, 0.5582377356661948, 0.5582377356661948, 0.3086771778585121],\n",
       "  [0.4713078252302299,\n",
       "   0.7005985675567147,\n",
       "   0.7005985675567147,\n",
       "   0.5582377356661948],\n",
       "  [0.5034668759295736,\n",
       "   0.9754708695218691,\n",
       "   0.9754708695218691,\n",
       "   0.7005985675567147],\n",
       "  [0.3857552788098475,\n",
       "   1.2703135919484854,\n",
       "   1.2703135919484854,\n",
       "   0.9754708695218691],\n",
       "  [0.0, 0.19139589331999743, 0.19139589331999743, 0.0],\n",
       "  [0.0, 0.21728184626476263, 0.21728184626476263, 0.0],\n",
       "  [0.19139589331999743,\n",
       "   0.3929743616308767,\n",
       "   0.3929743616308767,\n",
       "   0.21728184626476263],\n",
       "  [0.0, 0.44126147973862617, 0.44126147973862617, 0.0],\n",
       "  [0.0, 0.25349923971661764, 0.25349923971661764, 0.0],\n",
       "  [0.0, 0.5288162639219101, 0.5288162639219101, 0.25349923971661764],\n",
       "  [0.44126147973862617,\n",
       "   0.7374357840653921,\n",
       "   0.7374357840653921,\n",
       "   0.5288162639219101],\n",
       "  [0.3929743616308767,\n",
       "   0.9262393904414459,\n",
       "   0.9262393904414459,\n",
       "   0.7374357840653921],\n",
       "  [0.0, 0.1366608957911392, 0.1366608957911392, 0.0],\n",
       "  [0.0, 0.3908902971440537, 0.3908902971440537, 0.1366608957911392],\n",
       "  [0.0, 0.1171728955357093, 0.1171728955357093, 0.0],\n",
       "  [0.0, 0.14008450783123827, 0.14008450783123827, 0.1171728955357093],\n",
       "  [0.0, 0.0432363036119863, 0.0432363036119863, 0.0],\n",
       "  [0.0, 0.16652825272323538, 0.16652825272323538, 0.0],\n",
       "  [0.0432363036119863,\n",
       "   0.24053269237033886,\n",
       "   0.24053269237033886,\n",
       "   0.16652825272323538],\n",
       "  [0.14008450783123827,\n",
       "   0.3313510902428794,\n",
       "   0.3313510902428794,\n",
       "   0.24053269237033886],\n",
       "  [0.0, 0.46092362531334774, 0.46092362531334774, 0.3313510902428794],\n",
       "  [0.3908902971440537,\n",
       "   0.506364249718798,\n",
       "   0.506364249718798,\n",
       "   0.46092362531334774],\n",
       "  [0.0, 0.275224390760066, 0.275224390760066, 0.0],\n",
       "  [0.0, 0.6649004572742631, 0.6649004572742631, 0.275224390760066],\n",
       "  [0.506364249718798,\n",
       "   1.0160671857106676,\n",
       "   1.0160671857106676,\n",
       "   0.6649004572742631],\n",
       "  [0.9262393904414459,\n",
       "   1.4613309701043695,\n",
       "   1.4613309701043695,\n",
       "   1.0160671857106676],\n",
       "  [1.2703135919484854,\n",
       "   2.0861777312426217,\n",
       "   2.0861777312426217,\n",
       "   1.4613309701043695],\n",
       "  [0.0, 2.5645112556630028, 2.5645112556630028, 2.0861777312426217],\n",
       "  [1.871860181361862,\n",
       "   3.0436637684722254,\n",
       "   3.0436637684722254,\n",
       "   2.5645112556630028],\n",
       "  [3.022323830623637,\n",
       "   3.889412838275423,\n",
       "   3.889412838275423,\n",
       "   3.0436637684722254],\n",
       "  [2.053846736864741, 4.448595400491088, 4.448595400491088, 3.889412838275423],\n",
       "  [0.0, 0.6650216160124158, 0.6650216160124158, 0.0],\n",
       "  [0.0, 0.4145688390495679, 0.4145688390495679, 0.0],\n",
       "  [0.0, 0.7438310083581083, 0.7438310083581083, 0.4145688390495679],\n",
       "  [0.6650216160124158,\n",
       "   0.8659501583285915,\n",
       "   0.8659501583285915,\n",
       "   0.7438310083581083],\n",
       "  [0.0, 1.4958071893205667, 1.4958071893205667, 0.8659501583285915],\n",
       "  [0.0, 0.3137042964180251, 0.3137042964180251, 0.0],\n",
       "  [0.0, 0.1908231892319805, 0.1908231892319805, 0.0],\n",
       "  [0.0, 0.4680883704058345, 0.4680883704058345, 0.1908231892319805],\n",
       "  [0.3137042964180251,\n",
       "   0.9011313545560125,\n",
       "   0.9011313545560125,\n",
       "   0.4680883704058345],\n",
       "  [0.0, 0.3644606832558076, 0.3644606832558076, 0.0],\n",
       "  [0.0, 0.07327071563534511, 0.07327071563534511, 0.0],\n",
       "  [0.0, 0.2609069030706497, 0.2609069030706497, 0.07327071563534511],\n",
       "  [0.0, 0.5871380953865981, 0.5871380953865981, 0.2609069030706497],\n",
       "  [0.3644606832558076,\n",
       "   0.8394175421911917,\n",
       "   0.8394175421911917,\n",
       "   0.5871380953865981],\n",
       "  [0.0, 0.41073478019037885, 0.41073478019037885, 0.0],\n",
       "  [0.0, 0.7063841487665018, 0.7063841487665018, 0.41073478019037885],\n",
       "  [0.0, 0.629493391226599, 0.629493391226599, 0.0],\n",
       "  [0.0, 0.97817692271189, 0.97817692271189, 0.629493391226599],\n",
       "  [0.7063841487665018,\n",
       "   1.2379386671273873,\n",
       "   1.2379386671273873,\n",
       "   0.97817692271189],\n",
       "  [0.8394175421911917,\n",
       "   1.4941500282194957,\n",
       "   1.4941500282194957,\n",
       "   1.2379386671273873],\n",
       "  [0.9011313545560125,\n",
       "   1.8063571722360812,\n",
       "   1.8063571722360812,\n",
       "   1.4941500282194957],\n",
       "  [0.0, 0.5180230228777694, 0.5180230228777694, 0.0],\n",
       "  [0.0, 0.479253698442514, 0.479253698442514, 0.0],\n",
       "  [0.0, 0.7858853164776076, 0.7858853164776076, 0.479253698442514],\n",
       "  [0.0, 0.34263578258372335, 0.34263578258372335, 0.0],\n",
       "  [0.0, 0.21743859901668955, 0.21743859901668955, 0.0],\n",
       "  [0.0, 0.27015446828533496, 0.27015446828533496, 0.0],\n",
       "  [0.21743859901668955,\n",
       "   0.6591227991591468,\n",
       "   0.6591227991591468,\n",
       "   0.27015446828533496],\n",
       "  [0.34263578258372335,\n",
       "   1.0541296132555389,\n",
       "   1.0541296132555389,\n",
       "   0.6591227991591468],\n",
       "  [0.7858853164776076,\n",
       "   1.3000075868160805,\n",
       "   1.3000075868160805,\n",
       "   1.0541296132555389],\n",
       "  [0.5180230228777694,\n",
       "   2.233614224768201,\n",
       "   2.233614224768201,\n",
       "   1.3000075868160805],\n",
       "  [1.8063571722360812,\n",
       "   2.4446209709112883,\n",
       "   2.4446209709112883,\n",
       "   2.233614224768201],\n",
       "  [1.4958071893205667,\n",
       "   3.4545835769722744,\n",
       "   3.4545835769722744,\n",
       "   2.4446209709112883],\n",
       "  [0.0, 0.18231679688016886, 0.18231679688016886, 0.0],\n",
       "  [0.0, 0.49497438846611735, 0.49497438846611735, 0.18231679688016886],\n",
       "  [0.0, 0.2560550053039949, 0.2560550053039949, 0.0],\n",
       "  [0.0, 0.1264227199390075, 0.1264227199390075, 0.0],\n",
       "  [0.0, 0.1656172066866236, 0.1656172066866236, 0.1264227199390075],\n",
       "  [0.0, 0.17256307591669487, 0.17256307591669487, 0.0],\n",
       "  [0.1656172066866236,\n",
       "   0.3991791459064308,\n",
       "   0.3991791459064308,\n",
       "   0.17256307591669487],\n",
       "  [0.0, 0.183470837026172, 0.183470837026172, 0.0],\n",
       "  [0.0, 0.2602378308615466, 0.2602378308615466, 0.183470837026172],\n",
       "  [0.0, 0.059941288048250774, 0.059941288048250774, 0.0],\n",
       "  [0.0, 0.15849494402807313, 0.15849494402807313, 0.059941288048250774],\n",
       "  [0.0, 0.30486367651609136, 0.30486367651609136, 0.15849494402807313],\n",
       "  [0.2602378308615466,\n",
       "   0.4740234162159131,\n",
       "   0.4740234162159131,\n",
       "   0.30486367651609136],\n",
       "  [0.3991791459064308,\n",
       "   0.5773778633953824,\n",
       "   0.5773778633953824,\n",
       "   0.4740234162159131],\n",
       "  [0.2560550053039949,\n",
       "   0.9028345209199956,\n",
       "   0.9028345209199956,\n",
       "   0.5773778633953824],\n",
       "  [0.49497438846611735,\n",
       "   1.7664906357688077,\n",
       "   1.7664906357688077,\n",
       "   0.9028345209199956],\n",
       "  [0.0, 0.015833553442493774, 0.015833553442493774, 0.0],\n",
       "  [0.0, 0.13923434714391206, 0.13923434714391206, 0.015833553442493774],\n",
       "  [0.0, 0.0550466157749383, 0.0550466157749383, 0.0],\n",
       "  [0.0, 0.15020770073503195, 0.15020770073503195, 0.0550466157749383],\n",
       "  [0.0, 0.2408106497947565, 0.2408106497947565, 0.15020770073503195],\n",
       "  [0.13923434714391206,\n",
       "   0.3462948429883199,\n",
       "   0.3462948429883199,\n",
       "   0.2408106497947565],\n",
       "  [0.0, 0.2175441642453929, 0.2175441642453929, 0.0],\n",
       "  [0.0, 0.041531544406172606, 0.041531544406172606, 0.0],\n",
       "  [0.0, 0.13854456530346734, 0.13854456530346734, 0.041531544406172606],\n",
       "  [0.0, 0.139359255536732, 0.139359255536732, 0.0],\n",
       "  [0.13854456530346734,\n",
       "   0.2680817899029292,\n",
       "   0.2680817899029292,\n",
       "   0.139359255536732],\n",
       "  [0.2175441642453929,\n",
       "   0.3996900688505782,\n",
       "   0.3996900688505782,\n",
       "   0.2680817899029292],\n",
       "  [0.3462948429883199,\n",
       "   0.5971606687385852,\n",
       "   0.5971606687385852,\n",
       "   0.3996900688505782],\n",
       "  [0.0, 0.08614289801210265, 0.08614289801210265, 0.0],\n",
       "  [0.0, 0.16395872538359832, 0.16395872538359832, 0.08614289801210265],\n",
       "  [0.0, 0.016481502390461332, 0.016481502390461332, 0.0],\n",
       "  [0.0, 0.13299968552079153, 0.13299968552079153, 0.016481502390461332],\n",
       "  [0.0, 0.21664090102512484, 0.21664090102512484, 0.13299968552079153],\n",
       "  [0.16395872538359832,\n",
       "   0.29209689121514715,\n",
       "   0.29209689121514715,\n",
       "   0.21664090102512484],\n",
       "  [0.0, 0.15753577187676787, 0.15753577187676787, 0.0],\n",
       "  [0.0, 0.24764996260465005, 0.24764996260465005, 0.0],\n",
       "  [0.15753577187676787,\n",
       "   0.3922214519016756,\n",
       "   0.3922214519016756,\n",
       "   0.24764996260465005],\n",
       "  [0.29209689121514715,\n",
       "   0.44750281526861185,\n",
       "   0.44750281526861185,\n",
       "   0.3922214519016756],\n",
       "  [0.0, 0.07835896843564298, 0.07835896843564298, 0.0],\n",
       "  [0.0, 0.2008794156892737, 0.2008794156892737, 0.0],\n",
       "  [0.07835896843564298,\n",
       "   0.24980263520882748,\n",
       "   0.24980263520882748,\n",
       "   0.2008794156892737],\n",
       "  [0.0, 0.3032495618209093, 0.3032495618209093, 0.0],\n",
       "  [0.24980263520882748,\n",
       "   0.5627359967856366,\n",
       "   0.5627359967856366,\n",
       "   0.3032495618209093],\n",
       "  [0.0, 0.7815238897335964, 0.7815238897335964, 0.5627359967856366],\n",
       "  [0.44750281526861185,\n",
       "   0.878611588986816,\n",
       "   0.878611588986816,\n",
       "   0.7815238897335964],\n",
       "  [0.5971606687385852,\n",
       "   1.3053899796227797,\n",
       "   1.3053899796227797,\n",
       "   0.878611588986816],\n",
       "  [0.0, 0.35676938620644655, 0.35676938620644655, 0.0],\n",
       "  [0.0, 0.707282941808918, 0.707282941808918, 0.35676938620644655],\n",
       "  [0.0, 0.1328574861898169, 0.1328574861898169, 0.0],\n",
       "  [0.0, 0.6053982426445359, 0.6053982426445359, 0.1328574861898169],\n",
       "  [0.0, 0.1903435322074642, 0.1903435322074642, 0.0],\n",
       "  [0.0, 0.05790951303179095, 0.05790951303179095, 0.0],\n",
       "  [0.0, 0.37364114864057524, 0.37364114864057524, 0.0],\n",
       "  [0.05790951303179095,\n",
       "   0.5795003196014671,\n",
       "   0.5795003196014671,\n",
       "   0.37364114864057524],\n",
       "  [0.1903435322074642,\n",
       "   0.6749634321001824,\n",
       "   0.6749634321001824,\n",
       "   0.5795003196014671],\n",
       "  [0.6053982426445359,\n",
       "   1.1245203053831636,\n",
       "   1.1245203053831636,\n",
       "   0.6749634321001824],\n",
       "  [0.707282941808918,\n",
       "   1.4034043566161183,\n",
       "   1.4034043566161183,\n",
       "   1.1245203053831636],\n",
       "  [1.3053899796227797,\n",
       "   1.790733248606037,\n",
       "   1.790733248606037,\n",
       "   1.4034043566161183],\n",
       "  [0.0, 0.12067708243548779, 0.12067708243548779, 0.0],\n",
       "  [0.0, 0.14404521954493787, 0.14404521954493787, 0.0],\n",
       "  [0.12067708243548779,\n",
       "   0.26706905616963056,\n",
       "   0.26706905616963056,\n",
       "   0.14404521954493787],\n",
       "  [0.0, 0.22133945093662344, 0.22133945093662344, 0.0],\n",
       "  [0.0, 0.3708792991898803, 0.3708792991898803, 0.22133945093662344],\n",
       "  [0.26706905616963056,\n",
       "   0.5516575344065247,\n",
       "   0.5516575344065247,\n",
       "   0.3708792991898803],\n",
       "  [0.0, 0.2616176677212391, 0.2616176677212391, 0.0],\n",
       "  [0.0, 0.29799447347124913, 0.29799447347124913, 0.0],\n",
       "  [0.0, 0.5923174718583131, 0.5923174718583131, 0.29799447347124913],\n",
       "  [0.2616176677212391,\n",
       "   0.7043279120691187,\n",
       "   0.7043279120691187,\n",
       "   0.5923174718583131],\n",
       "  [0.5516575344065247,\n",
       "   0.9563875687419782,\n",
       "   0.9563875687419782,\n",
       "   0.7043279120691187],\n",
       "  [0.0, 0.14609961255723475, 0.14609961255723475, 0.0],\n",
       "  [0.0, 0.30073479639153095, 0.30073479639153095, 0.14609961255723475],\n",
       "  [0.0, 0.47027325538886483, 0.47027325538886483, 0.30073479639153095],\n",
       "  [0.0, 0.6502553795464447, 0.6502553795464447, 0.47027325538886483],\n",
       "  [0.0, 1.2679033295550979, 1.2679033295550979, 0.6502553795464447],\n",
       "  [0.9563875687419782,\n",
       "   1.9280128217417303,\n",
       "   1.9280128217417303,\n",
       "   1.2679033295550979],\n",
       "  [1.790733248606037,\n",
       "   2.7007559399432113,\n",
       "   2.7007559399432113,\n",
       "   1.9280128217417303],\n",
       "  [1.7664906357688077,\n",
       "   3.7293142425743517,\n",
       "   3.7293142425743517,\n",
       "   2.7007559399432113],\n",
       "  [3.4545835769722744, 4.80950219582293, 4.80950219582293, 3.7293142425743517],\n",
       "  [4.448595400491088,\n",
       "   5.7760252178030935,\n",
       "   5.7760252178030935,\n",
       "   4.80950219582293]],\n",
       " 'ivl': ['223',\n",
       "  '89',\n",
       "  '192',\n",
       "  '190',\n",
       "  '171',\n",
       "  '101',\n",
       "  '218',\n",
       "  '116',\n",
       "  '198',\n",
       "  '177',\n",
       "  '187',\n",
       "  '244',\n",
       "  '236',\n",
       "  '145',\n",
       "  '295',\n",
       "  '100',\n",
       "  '222',\n",
       "  '311',\n",
       "  '13',\n",
       "  '146',\n",
       "  '162',\n",
       "  '312',\n",
       "  '273',\n",
       "  '117',\n",
       "  '184',\n",
       "  '27',\n",
       "  '300',\n",
       "  '63',\n",
       "  '288',\n",
       "  '280',\n",
       "  '71',\n",
       "  '254',\n",
       "  '17',\n",
       "  '210',\n",
       "  '61',\n",
       "  '249',\n",
       "  '208',\n",
       "  '261',\n",
       "  '19',\n",
       "  '170',\n",
       "  '224',\n",
       "  '199',\n",
       "  '202',\n",
       "  '106',\n",
       "  '70',\n",
       "  '298',\n",
       "  '291',\n",
       "  '278',\n",
       "  '310',\n",
       "  '126',\n",
       "  '152',\n",
       "  '62',\n",
       "  '47',\n",
       "  '50',\n",
       "  '109',\n",
       "  '165',\n",
       "  '207',\n",
       "  '111',\n",
       "  '209',\n",
       "  '41',\n",
       "  '283',\n",
       "  '3',\n",
       "  '144',\n",
       "  '282',\n",
       "  '301',\n",
       "  '191',\n",
       "  '305',\n",
       "  '119',\n",
       "  '135',\n",
       "  '51',\n",
       "  '122',\n",
       "  '297',\n",
       "  '76',\n",
       "  '265',\n",
       "  '82',\n",
       "  '26',\n",
       "  '115',\n",
       "  '289',\n",
       "  '181',\n",
       "  '287',\n",
       "  '54',\n",
       "  '167',\n",
       "  '42',\n",
       "  '97',\n",
       "  '290',\n",
       "  '245',\n",
       "  '36',\n",
       "  '154',\n",
       "  '238',\n",
       "  '292',\n",
       "  '110',\n",
       "  '35',\n",
       "  '153',\n",
       "  '275',\n",
       "  '196',\n",
       "  '87',\n",
       "  '142',\n",
       "  '264',\n",
       "  '10',\n",
       "  '14',\n",
       "  '94',\n",
       "  '33',\n",
       "  '217',\n",
       "  '220',\n",
       "  '22',\n",
       "  '98',\n",
       "  '25',\n",
       "  '74',\n",
       "  '30',\n",
       "  '31',\n",
       "  '118',\n",
       "  '52',\n",
       "  '108',\n",
       "  '296',\n",
       "  '160',\n",
       "  '302',\n",
       "  '132',\n",
       "  '173',\n",
       "  '138',\n",
       "  '12',\n",
       "  '147',\n",
       "  '23',\n",
       "  '45',\n",
       "  '2',\n",
       "  '262',\n",
       "  '156',\n",
       "  '103',\n",
       "  '11',\n",
       "  '205',\n",
       "  '91',\n",
       "  '242',\n",
       "  '9',\n",
       "  '88',\n",
       "  '43',\n",
       "  '46',\n",
       "  '172',\n",
       "  '92',\n",
       "  '183',\n",
       "  '99',\n",
       "  '243',\n",
       "  '150',\n",
       "  '185',\n",
       "  '114',\n",
       "  '120',\n",
       "  '48',\n",
       "  '204',\n",
       "  '231',\n",
       "  '1',\n",
       "  '279',\n",
       "  '226',\n",
       "  '252',\n",
       "  '69',\n",
       "  '169',\n",
       "  '274',\n",
       "  '234',\n",
       "  '299',\n",
       "  '166',\n",
       "  '7',\n",
       "  '134',\n",
       "  '60',\n",
       "  '255',\n",
       "  '308',\n",
       "  '83',\n",
       "  '139',\n",
       "  '263',\n",
       "  '8',\n",
       "  '18',\n",
       "  '58',\n",
       "  '211',\n",
       "  '235',\n",
       "  '34',\n",
       "  '277',\n",
       "  '112',\n",
       "  '149',\n",
       "  '140',\n",
       "  '49',\n",
       "  '178',\n",
       "  '59',\n",
       "  '78',\n",
       "  '6',\n",
       "  '123',\n",
       "  '102',\n",
       "  '188',\n",
       "  '193',\n",
       "  '213',\n",
       "  '32',\n",
       "  '16',\n",
       "  '285',\n",
       "  '129',\n",
       "  '159',\n",
       "  '201',\n",
       "  '148',\n",
       "  '268',\n",
       "  '24',\n",
       "  '57',\n",
       "  '131',\n",
       "  '189',\n",
       "  '86',\n",
       "  '151',\n",
       "  '232',\n",
       "  '239',\n",
       "  '307',\n",
       "  '253',\n",
       "  '194',\n",
       "  '270',\n",
       "  '68',\n",
       "  '0',\n",
       "  '176',\n",
       "  '21',\n",
       "  '281',\n",
       "  '155',\n",
       "  '39',\n",
       "  '314',\n",
       "  '5',\n",
       "  '259',\n",
       "  '93',\n",
       "  '20',\n",
       "  '233',\n",
       "  '269',\n",
       "  '72',\n",
       "  '44',\n",
       "  '73',\n",
       "  '266',\n",
       "  '37',\n",
       "  '313',\n",
       "  '137',\n",
       "  '203',\n",
       "  '168',\n",
       "  '128',\n",
       "  '257',\n",
       "  '81',\n",
       "  '158',\n",
       "  '104',\n",
       "  '267',\n",
       "  '65',\n",
       "  '164',\n",
       "  '237',\n",
       "  '67',\n",
       "  '294',\n",
       "  '4',\n",
       "  '303',\n",
       "  '84',\n",
       "  '247',\n",
       "  '304',\n",
       "  '66',\n",
       "  '248',\n",
       "  '214',\n",
       "  '272',\n",
       "  '276',\n",
       "  '241',\n",
       "  '228',\n",
       "  '53',\n",
       "  '271',\n",
       "  '80',\n",
       "  '143',\n",
       "  '186',\n",
       "  '225',\n",
       "  '260',\n",
       "  '55',\n",
       "  '293',\n",
       "  '85',\n",
       "  '107',\n",
       "  '15',\n",
       "  '64',\n",
       "  '200',\n",
       "  '40',\n",
       "  '215',\n",
       "  '286',\n",
       "  '90',\n",
       "  '157',\n",
       "  '28',\n",
       "  '229',\n",
       "  '250',\n",
       "  '258',\n",
       "  '113',\n",
       "  '127',\n",
       "  '141',\n",
       "  '197',\n",
       "  '75',\n",
       "  '56',\n",
       "  '216',\n",
       "  '79',\n",
       "  '221',\n",
       "  '246',\n",
       "  '284',\n",
       "  '38',\n",
       "  '95',\n",
       "  '182',\n",
       "  '175',\n",
       "  '174',\n",
       "  '309',\n",
       "  '230',\n",
       "  '306',\n",
       "  '77',\n",
       "  '133',\n",
       "  '161',\n",
       "  '206',\n",
       "  '124',\n",
       "  '180',\n",
       "  '105',\n",
       "  '256',\n",
       "  '125',\n",
       "  '29',\n",
       "  '163',\n",
       "  '195',\n",
       "  '240',\n",
       "  '219',\n",
       "  '96',\n",
       "  '179',\n",
       "  '130',\n",
       "  '121',\n",
       "  '212',\n",
       "  '136',\n",
       "  '227',\n",
       "  '251'],\n",
       " 'leaves': [223,\n",
       "  89,\n",
       "  192,\n",
       "  190,\n",
       "  171,\n",
       "  101,\n",
       "  218,\n",
       "  116,\n",
       "  198,\n",
       "  177,\n",
       "  187,\n",
       "  244,\n",
       "  236,\n",
       "  145,\n",
       "  295,\n",
       "  100,\n",
       "  222,\n",
       "  311,\n",
       "  13,\n",
       "  146,\n",
       "  162,\n",
       "  312,\n",
       "  273,\n",
       "  117,\n",
       "  184,\n",
       "  27,\n",
       "  300,\n",
       "  63,\n",
       "  288,\n",
       "  280,\n",
       "  71,\n",
       "  254,\n",
       "  17,\n",
       "  210,\n",
       "  61,\n",
       "  249,\n",
       "  208,\n",
       "  261,\n",
       "  19,\n",
       "  170,\n",
       "  224,\n",
       "  199,\n",
       "  202,\n",
       "  106,\n",
       "  70,\n",
       "  298,\n",
       "  291,\n",
       "  278,\n",
       "  310,\n",
       "  126,\n",
       "  152,\n",
       "  62,\n",
       "  47,\n",
       "  50,\n",
       "  109,\n",
       "  165,\n",
       "  207,\n",
       "  111,\n",
       "  209,\n",
       "  41,\n",
       "  283,\n",
       "  3,\n",
       "  144,\n",
       "  282,\n",
       "  301,\n",
       "  191,\n",
       "  305,\n",
       "  119,\n",
       "  135,\n",
       "  51,\n",
       "  122,\n",
       "  297,\n",
       "  76,\n",
       "  265,\n",
       "  82,\n",
       "  26,\n",
       "  115,\n",
       "  289,\n",
       "  181,\n",
       "  287,\n",
       "  54,\n",
       "  167,\n",
       "  42,\n",
       "  97,\n",
       "  290,\n",
       "  245,\n",
       "  36,\n",
       "  154,\n",
       "  238,\n",
       "  292,\n",
       "  110,\n",
       "  35,\n",
       "  153,\n",
       "  275,\n",
       "  196,\n",
       "  87,\n",
       "  142,\n",
       "  264,\n",
       "  10,\n",
       "  14,\n",
       "  94,\n",
       "  33,\n",
       "  217,\n",
       "  220,\n",
       "  22,\n",
       "  98,\n",
       "  25,\n",
       "  74,\n",
       "  30,\n",
       "  31,\n",
       "  118,\n",
       "  52,\n",
       "  108,\n",
       "  296,\n",
       "  160,\n",
       "  302,\n",
       "  132,\n",
       "  173,\n",
       "  138,\n",
       "  12,\n",
       "  147,\n",
       "  23,\n",
       "  45,\n",
       "  2,\n",
       "  262,\n",
       "  156,\n",
       "  103,\n",
       "  11,\n",
       "  205,\n",
       "  91,\n",
       "  242,\n",
       "  9,\n",
       "  88,\n",
       "  43,\n",
       "  46,\n",
       "  172,\n",
       "  92,\n",
       "  183,\n",
       "  99,\n",
       "  243,\n",
       "  150,\n",
       "  185,\n",
       "  114,\n",
       "  120,\n",
       "  48,\n",
       "  204,\n",
       "  231,\n",
       "  1,\n",
       "  279,\n",
       "  226,\n",
       "  252,\n",
       "  69,\n",
       "  169,\n",
       "  274,\n",
       "  234,\n",
       "  299,\n",
       "  166,\n",
       "  7,\n",
       "  134,\n",
       "  60,\n",
       "  255,\n",
       "  308,\n",
       "  83,\n",
       "  139,\n",
       "  263,\n",
       "  8,\n",
       "  18,\n",
       "  58,\n",
       "  211,\n",
       "  235,\n",
       "  34,\n",
       "  277,\n",
       "  112,\n",
       "  149,\n",
       "  140,\n",
       "  49,\n",
       "  178,\n",
       "  59,\n",
       "  78,\n",
       "  6,\n",
       "  123,\n",
       "  102,\n",
       "  188,\n",
       "  193,\n",
       "  213,\n",
       "  32,\n",
       "  16,\n",
       "  285,\n",
       "  129,\n",
       "  159,\n",
       "  201,\n",
       "  148,\n",
       "  268,\n",
       "  24,\n",
       "  57,\n",
       "  131,\n",
       "  189,\n",
       "  86,\n",
       "  151,\n",
       "  232,\n",
       "  239,\n",
       "  307,\n",
       "  253,\n",
       "  194,\n",
       "  270,\n",
       "  68,\n",
       "  0,\n",
       "  176,\n",
       "  21,\n",
       "  281,\n",
       "  155,\n",
       "  39,\n",
       "  314,\n",
       "  5,\n",
       "  259,\n",
       "  93,\n",
       "  20,\n",
       "  233,\n",
       "  269,\n",
       "  72,\n",
       "  44,\n",
       "  73,\n",
       "  266,\n",
       "  37,\n",
       "  313,\n",
       "  137,\n",
       "  203,\n",
       "  168,\n",
       "  128,\n",
       "  257,\n",
       "  81,\n",
       "  158,\n",
       "  104,\n",
       "  267,\n",
       "  65,\n",
       "  164,\n",
       "  237,\n",
       "  67,\n",
       "  294,\n",
       "  4,\n",
       "  303,\n",
       "  84,\n",
       "  247,\n",
       "  304,\n",
       "  66,\n",
       "  248,\n",
       "  214,\n",
       "  272,\n",
       "  276,\n",
       "  241,\n",
       "  228,\n",
       "  53,\n",
       "  271,\n",
       "  80,\n",
       "  143,\n",
       "  186,\n",
       "  225,\n",
       "  260,\n",
       "  55,\n",
       "  293,\n",
       "  85,\n",
       "  107,\n",
       "  15,\n",
       "  64,\n",
       "  200,\n",
       "  40,\n",
       "  215,\n",
       "  286,\n",
       "  90,\n",
       "  157,\n",
       "  28,\n",
       "  229,\n",
       "  250,\n",
       "  258,\n",
       "  113,\n",
       "  127,\n",
       "  141,\n",
       "  197,\n",
       "  75,\n",
       "  56,\n",
       "  216,\n",
       "  79,\n",
       "  221,\n",
       "  246,\n",
       "  284,\n",
       "  38,\n",
       "  95,\n",
       "  182,\n",
       "  175,\n",
       "  174,\n",
       "  309,\n",
       "  230,\n",
       "  306,\n",
       "  77,\n",
       "  133,\n",
       "  161,\n",
       "  206,\n",
       "  124,\n",
       "  180,\n",
       "  105,\n",
       "  256,\n",
       "  125,\n",
       "  29,\n",
       "  163,\n",
       "  195,\n",
       "  240,\n",
       "  219,\n",
       "  96,\n",
       "  179,\n",
       "  130,\n",
       "  121,\n",
       "  212,\n",
       "  136,\n",
       "  227,\n",
       "  251],\n",
       " 'color_list': ['g',\n",
       "  'g',\n",
       "  'g',\n",
       "  'g',\n",
       "  'g',\n",
       "  'g',\n",
       "  'g',\n",
       "  'g',\n",
       "  'g',\n",
       "  'g',\n",
       "  'g',\n",
       "  'g',\n",
       "  'g',\n",
       "  'g',\n",
       "  'g',\n",
       "  'g',\n",
       "  'g',\n",
       "  'g',\n",
       "  'g',\n",
       "  'g',\n",
       "  'g',\n",
       "  'g',\n",
       "  'g',\n",
       "  'g',\n",
       "  'g',\n",
       "  'g',\n",
       "  'g',\n",
       "  'g',\n",
       "  'g',\n",
       "  'g',\n",
       "  'g',\n",
       "  'r',\n",
       "  'r',\n",
       "  'r',\n",
       "  'r',\n",
       "  'r',\n",
       "  'r',\n",
       "  'r',\n",
       "  'r',\n",
       "  'r',\n",
       "  'r',\n",
       "  'r',\n",
       "  'r',\n",
       "  'r',\n",
       "  'r',\n",
       "  'r',\n",
       "  'r',\n",
       "  'r',\n",
       "  'r',\n",
       "  'r',\n",
       "  'r',\n",
       "  'r',\n",
       "  'r',\n",
       "  'r',\n",
       "  'r',\n",
       "  'r',\n",
       "  'r',\n",
       "  'r',\n",
       "  'r',\n",
       "  'r',\n",
       "  'r',\n",
       "  'r',\n",
       "  'r',\n",
       "  'r',\n",
       "  'r',\n",
       "  'r',\n",
       "  'r',\n",
       "  'r',\n",
       "  'r',\n",
       "  'r',\n",
       "  'r',\n",
       "  'r',\n",
       "  'r',\n",
       "  'r',\n",
       "  'r',\n",
       "  'r',\n",
       "  'r',\n",
       "  'r',\n",
       "  'r',\n",
       "  'r',\n",
       "  'r',\n",
       "  'r',\n",
       "  'r',\n",
       "  'r',\n",
       "  'r',\n",
       "  'r',\n",
       "  'r',\n",
       "  'r',\n",
       "  'r',\n",
       "  'r',\n",
       "  'r',\n",
       "  'r',\n",
       "  'r',\n",
       "  'r',\n",
       "  'r',\n",
       "  'r',\n",
       "  'r',\n",
       "  'r',\n",
       "  'r',\n",
       "  'r',\n",
       "  'r',\n",
       "  'r',\n",
       "  'r',\n",
       "  'r',\n",
       "  'r',\n",
       "  'r',\n",
       "  'r',\n",
       "  'r',\n",
       "  'r',\n",
       "  'r',\n",
       "  'r',\n",
       "  'r',\n",
       "  'r',\n",
       "  'r',\n",
       "  'r',\n",
       "  'r',\n",
       "  'r',\n",
       "  'r',\n",
       "  'r',\n",
       "  'r',\n",
       "  'r',\n",
       "  'r',\n",
       "  'r',\n",
       "  'r',\n",
       "  'r',\n",
       "  'r',\n",
       "  'r',\n",
       "  'r',\n",
       "  'r',\n",
       "  'r',\n",
       "  'r',\n",
       "  'r',\n",
       "  'r',\n",
       "  'r',\n",
       "  'r',\n",
       "  'r',\n",
       "  'r',\n",
       "  'r',\n",
       "  'r',\n",
       "  'r',\n",
       "  'r',\n",
       "  'r',\n",
       "  'r',\n",
       "  'r',\n",
       "  'r',\n",
       "  'r',\n",
       "  'r',\n",
       "  'r',\n",
       "  'r',\n",
       "  'r',\n",
       "  'r',\n",
       "  'r',\n",
       "  'r',\n",
       "  'r',\n",
       "  'r',\n",
       "  'r',\n",
       "  'r',\n",
       "  'r',\n",
       "  'r',\n",
       "  'r',\n",
       "  'r',\n",
       "  'r',\n",
       "  'r',\n",
       "  'r',\n",
       "  'r',\n",
       "  'r',\n",
       "  'r',\n",
       "  'r',\n",
       "  'r',\n",
       "  'r',\n",
       "  'r',\n",
       "  'r',\n",
       "  'r',\n",
       "  'r',\n",
       "  'r',\n",
       "  'r',\n",
       "  'r',\n",
       "  'r',\n",
       "  'r',\n",
       "  'r',\n",
       "  'r',\n",
       "  'r',\n",
       "  'r',\n",
       "  'r',\n",
       "  'r',\n",
       "  'r',\n",
       "  'r',\n",
       "  'r',\n",
       "  'r',\n",
       "  'r',\n",
       "  'r',\n",
       "  'r',\n",
       "  'r',\n",
       "  'r',\n",
       "  'r',\n",
       "  'r',\n",
       "  'r',\n",
       "  'r',\n",
       "  'r',\n",
       "  'r',\n",
       "  'b',\n",
       "  'c',\n",
       "  'c',\n",
       "  'c',\n",
       "  'c',\n",
       "  'c',\n",
       "  'c',\n",
       "  'c',\n",
       "  'c',\n",
       "  'c',\n",
       "  'c',\n",
       "  'c',\n",
       "  'c',\n",
       "  'c',\n",
       "  'c',\n",
       "  'c',\n",
       "  'c',\n",
       "  'c',\n",
       "  'c',\n",
       "  'c',\n",
       "  'c',\n",
       "  'c',\n",
       "  'c',\n",
       "  'c',\n",
       "  'c',\n",
       "  'c',\n",
       "  'c',\n",
       "  'c',\n",
       "  'c',\n",
       "  'c',\n",
       "  'c',\n",
       "  'c',\n",
       "  'c',\n",
       "  'c',\n",
       "  'm',\n",
       "  'm',\n",
       "  'm',\n",
       "  'm',\n",
       "  'm',\n",
       "  'm',\n",
       "  'm',\n",
       "  'm',\n",
       "  'm',\n",
       "  'm',\n",
       "  'm',\n",
       "  'm',\n",
       "  'm',\n",
       "  'm',\n",
       "  'm',\n",
       "  'm',\n",
       "  'm',\n",
       "  'm',\n",
       "  'm',\n",
       "  'm',\n",
       "  'm',\n",
       "  'm',\n",
       "  'm',\n",
       "  'm',\n",
       "  'm',\n",
       "  'm',\n",
       "  'm',\n",
       "  'm',\n",
       "  'm',\n",
       "  'm',\n",
       "  'm',\n",
       "  'm',\n",
       "  'm',\n",
       "  'm',\n",
       "  'm',\n",
       "  'm',\n",
       "  'm',\n",
       "  'm',\n",
       "  'm',\n",
       "  'm',\n",
       "  'm',\n",
       "  'm',\n",
       "  'm',\n",
       "  'm',\n",
       "  'm',\n",
       "  'm',\n",
       "  'm',\n",
       "  'm',\n",
       "  'm',\n",
       "  'm',\n",
       "  'm',\n",
       "  'm',\n",
       "  'm',\n",
       "  'm',\n",
       "  'm',\n",
       "  'm',\n",
       "  'm',\n",
       "  'm',\n",
       "  'm',\n",
       "  'm',\n",
       "  'm',\n",
       "  'm',\n",
       "  'm',\n",
       "  'm',\n",
       "  'm',\n",
       "  'm',\n",
       "  'm',\n",
       "  'm',\n",
       "  'm',\n",
       "  'm',\n",
       "  'm',\n",
       "  'm',\n",
       "  'm',\n",
       "  'm',\n",
       "  'm',\n",
       "  'm',\n",
       "  'm',\n",
       "  'm',\n",
       "  'b',\n",
       "  'b']}"
      ]
     },
     "execution_count": 78,
     "metadata": {},
     "output_type": "execute_result"
    },
    {
     "data": {
      "image/png": "[encoded data removed]",
      "text/plain": [
       "<Figure size 1080x360 with 1 Axes>"
      ]
     },
     "metadata": {
      "needs_background": "light"
     },
     "output_type": "display_data"
    }
   ],
   "source": [
    "plt.figure(figsize=(15, 5))\n",
    "dendrogram(linkage_matrix)"
   ]
  },
  {
   "cell_type": "markdown",
   "metadata": {},
   "source": [
    "Za pomocą odpowiednich współczynników sprawdź, które z rodzajów połączeń między klastrami daje najlepsze wyniki. Zajrzyj do dokumentacji funkcji linkage (np ``single, complete, average, weighted, centroid, median``)"
   ]
  },
  {
   "cell_type": "code",
   "execution_count": null,
   "metadata": {
    "ExecuteTime": {
     "end_time": "2019-05-07T20:04:00.053457Z",
     "start_time": "2019-05-07T20:03:58.467935Z"
    }
   },
   "outputs": [],
   "source": []
  },
  {
   "cell_type": "markdown",
   "metadata": {},
   "source": [
    "Za pomocą funkcji ``fcluster`` możemy automatycznie przypisać każdemu obiektowi numer jego klastra określając zadaną przez nas liczbę klastrów ``criterion='maxclust'`` bądź odległości przy której podzielić klastry: ``criterion='distance'``"
   ]
  },
  {
   "cell_type": "code",
   "execution_count": 81,
   "metadata": {
    "ExecuteTime": {
     "end_time": "2019-05-07T20:04:01.635601Z",
     "start_time": "2019-05-07T20:04:00.054456Z"
    },
    "scrolled": true
   },
   "outputs": [
    {
     "data": {
      "text/plain": [
       "array([1, 3, 3, 2, 3, 1, 3, 3, 3, 3, 3, 3, 3, 2, 3, 2, 3, 2, 2, 2, 1, 1,\n",
       "       3, 3, 3, 3, 3, 2, 2, 1, 3, 3, 3, 3, 2, 3, 3, 1, 1, 1, 2, 2, 3, 3,\n",
       "       1, 3, 3, 2, 3, 2, 2, 3, 3, 3, 3, 2, 2, 3, 2, 2, 3, 2, 2, 2, 2, 1,\n",
       "       3, 3, 1, 3, 2, 2, 1, 1, 3, 2, 3, 2, 2, 2, 2, 1, 3, 3, 3, 2, 3, 3,\n",
       "       3, 2, 2, 3, 3, 1, 3, 1, 1, 3, 3, 3, 2, 2, 3, 3, 1, 1, 2, 2, 3, 2,\n",
       "       3, 2, 2, 2, 3, 3, 2, 2, 3, 3, 3, 1, 3, 3, 1, 1, 2, 2, 1, 3, 1, 3,\n",
       "       3, 2, 3, 3, 1, 1, 3, 3, 2, 2, 3, 2, 2, 2, 2, 3, 3, 2, 3, 3, 2, 3,\n",
       "       3, 1, 3, 2, 1, 3, 3, 1, 2, 1, 1, 2, 3, 3, 1, 3, 2, 2, 3, 3, 1, 1,\n",
       "       1, 2, 2, 1, 1, 3, 1, 3, 2, 3, 2, 2, 3, 3, 2, 3, 2, 3, 1, 1, 3, 2,\n",
       "       2, 2, 2, 3, 2, 1, 3, 3, 1, 2, 2, 2, 2, 1, 1, 3, 3, 2, 2, 3, 2, 1,\n",
       "       3, 2, 2, 2, 2, 2, 3, 1, 3, 2, 1, 3, 3, 1, 3, 1, 2, 3, 3, 3, 1, 3,\n",
       "       3, 3, 2, 3, 2, 3, 3, 2, 2, 1, 3, 1, 2, 3, 1, 1, 2, 1, 2, 2, 3, 3,\n",
       "       3, 3, 1, 1, 3, 1, 1, 3, 3, 2, 3, 3, 3, 2, 2, 3, 2, 1, 2, 2, 2, 3,\n",
       "       2, 3, 2, 3, 3, 2, 3, 2, 3, 2, 3, 3, 2, 3, 2, 3, 3, 3, 3, 3, 1, 3,\n",
       "       3, 1, 2, 2, 2, 1, 1], dtype=int32)"
      ]
     },
     "execution_count": 81,
     "metadata": {},
     "output_type": "execute_result"
    }
   ],
   "source": [
    "fcluster(linkage_matrix, t=3, criterion='maxclust')"
   ]
  },
  {
   "cell_type": "markdown",
   "metadata": {},
   "source": [
    "Za pomocą współczynnika silhouette porównaj jakość klastrowania hierarchicznego dla danych podzielonych na trzy klastry za pomocą:\n",
    "- metody warda\n",
    "- metody pojedynczego łączenia\n",
    "- metody średniej"
   ]
  },
  {
   "cell_type": "code",
   "execution_count": 82,
   "metadata": {
    "ExecuteTime": {
     "end_time": "2019-05-07T20:04:01.655608Z",
     "start_time": "2019-05-07T20:04:01.639602Z"
    }
   },
   "outputs": [],
   "source": [
    "# from sklearn.metrics import silhouette_score\n",
    "\n",
    " \n",
    "\n",
    "# for metryka in ['ward', 'single', 'average']:\n",
    "#     linkage_matrix = linkage(klienci_standaryzowani, metryka)\n",
    "#     predykcje = fcluster(linkage_matrix, t=3, criterion='maxclust')\n",
    "#     score = silhouette_score(klienci_standaryzowani, predykcje)\n",
    "#     print('Metoda: {} osiaga wynik {}'.format(metryka, score))"
   ]
  },
  {
   "cell_type": "code",
   "execution_count": 88,
   "metadata": {},
   "outputs": [
    {
     "name": "stdout",
     "output_type": "stream",
     "text": [
      "Metoda ward osiąga wynik 0.37012544812048165\n",
      "Metoda single osiąga wynik 0.32883824212527024\n",
      "Metoda average osiąga wynik 0.3224250191573211\n"
     ]
    }
   ],
   "source": [
    "from sklearn.metrics import silhouette_score\n",
    "k_clusters = []\n",
    "linkage_ward = linkage(klienci_standaryzowani, 'ward')\n",
    "linkage_single = linkage(klienci_standaryzowani, 'single')\n",
    "linkage_mean = linkage(klienci_standaryzowani, 'average')\n",
    "\n",
    "for metryka in ['ward', 'single', 'average']:\n",
    "    linkage_matrix = linkage(klienci_standaryzowani, metryka)\n",
    "    predykcje = fcluster(linkage_matrix, t=3, criterion='maxclust')\n",
    "    score = silhouette_score(klienci_standaryzowani, predykcje)\n",
    "    print('Metoda {} osiąga wynik {}'.format(metryka, score))"
   ]
  },
  {
   "cell_type": "markdown",
   "metadata": {},
   "source": [
    "## Grupowanie k-modes"
   ]
  },
  {
   "cell_type": "markdown",
   "metadata": {},
   "source": [
    "Wczytaj dane dotyczące klientów banku z pliku csv ``bankmarketing.csv`` bądź ze strony: https://www.kaggle.com/ashydv/bank-marketing"
   ]
  },
  {
   "cell_type": "code",
   "execution_count": 90,
   "metadata": {},
   "outputs": [
    {
     "data": {
      "text/html": [
       "<div>\n",
       "<style scoped>\n",
       "    .dataframe tbody tr th:only-of-type {\n",
       "        vertical-align: middle;\n",
       "    }\n",
       "\n",
       "    .dataframe tbody tr th {\n",
       "        vertical-align: top;\n",
       "    }\n",
       "\n",
       "    .dataframe thead th {\n",
       "        text-align: right;\n",
       "    }\n",
       "</style>\n",
       "<table border=\"1\" class=\"dataframe\">\n",
       "  <thead>\n",
       "    <tr style=\"text-align: right;\">\n",
       "      <th></th>\n",
       "      <th>age</th>\n",
       "      <th>job</th>\n",
       "      <th>marital</th>\n",
       "      <th>education</th>\n",
       "      <th>default</th>\n",
       "      <th>housing</th>\n",
       "      <th>loan</th>\n",
       "      <th>contact</th>\n",
       "      <th>month</th>\n",
       "      <th>day_of_week</th>\n",
       "      <th>...</th>\n",
       "      <th>campaign</th>\n",
       "      <th>pdays</th>\n",
       "      <th>previous</th>\n",
       "      <th>poutcome</th>\n",
       "      <th>emp.var.rate</th>\n",
       "      <th>cons.price.idx</th>\n",
       "      <th>cons.conf.idx</th>\n",
       "      <th>euribor3m</th>\n",
       "      <th>nr.employed</th>\n",
       "      <th>y</th>\n",
       "    </tr>\n",
       "  </thead>\n",
       "  <tbody>\n",
       "    <tr>\n",
       "      <td>0</td>\n",
       "      <td>56</td>\n",
       "      <td>housemaid</td>\n",
       "      <td>married</td>\n",
       "      <td>basic.4y</td>\n",
       "      <td>no</td>\n",
       "      <td>no</td>\n",
       "      <td>no</td>\n",
       "      <td>telephone</td>\n",
       "      <td>may</td>\n",
       "      <td>mon</td>\n",
       "      <td>...</td>\n",
       "      <td>1</td>\n",
       "      <td>999</td>\n",
       "      <td>0</td>\n",
       "      <td>nonexistent</td>\n",
       "      <td>1.1</td>\n",
       "      <td>93.994</td>\n",
       "      <td>-36.4</td>\n",
       "      <td>4.857</td>\n",
       "      <td>5191.0</td>\n",
       "      <td>no</td>\n",
       "    </tr>\n",
       "    <tr>\n",
       "      <td>1</td>\n",
       "      <td>57</td>\n",
       "      <td>services</td>\n",
       "      <td>married</td>\n",
       "      <td>high.school</td>\n",
       "      <td>unknown</td>\n",
       "      <td>no</td>\n",
       "      <td>no</td>\n",
       "      <td>telephone</td>\n",
       "      <td>may</td>\n",
       "      <td>mon</td>\n",
       "      <td>...</td>\n",
       "      <td>1</td>\n",
       "      <td>999</td>\n",
       "      <td>0</td>\n",
       "      <td>nonexistent</td>\n",
       "      <td>1.1</td>\n",
       "      <td>93.994</td>\n",
       "      <td>-36.4</td>\n",
       "      <td>4.857</td>\n",
       "      <td>5191.0</td>\n",
       "      <td>no</td>\n",
       "    </tr>\n",
       "    <tr>\n",
       "      <td>2</td>\n",
       "      <td>37</td>\n",
       "      <td>services</td>\n",
       "      <td>married</td>\n",
       "      <td>high.school</td>\n",
       "      <td>no</td>\n",
       "      <td>yes</td>\n",
       "      <td>no</td>\n",
       "      <td>telephone</td>\n",
       "      <td>may</td>\n",
       "      <td>mon</td>\n",
       "      <td>...</td>\n",
       "      <td>1</td>\n",
       "      <td>999</td>\n",
       "      <td>0</td>\n",
       "      <td>nonexistent</td>\n",
       "      <td>1.1</td>\n",
       "      <td>93.994</td>\n",
       "      <td>-36.4</td>\n",
       "      <td>4.857</td>\n",
       "      <td>5191.0</td>\n",
       "      <td>no</td>\n",
       "    </tr>\n",
       "    <tr>\n",
       "      <td>3</td>\n",
       "      <td>40</td>\n",
       "      <td>admin.</td>\n",
       "      <td>married</td>\n",
       "      <td>basic.6y</td>\n",
       "      <td>no</td>\n",
       "      <td>no</td>\n",
       "      <td>no</td>\n",
       "      <td>telephone</td>\n",
       "      <td>may</td>\n",
       "      <td>mon</td>\n",
       "      <td>...</td>\n",
       "      <td>1</td>\n",
       "      <td>999</td>\n",
       "      <td>0</td>\n",
       "      <td>nonexistent</td>\n",
       "      <td>1.1</td>\n",
       "      <td>93.994</td>\n",
       "      <td>-36.4</td>\n",
       "      <td>4.857</td>\n",
       "      <td>5191.0</td>\n",
       "      <td>no</td>\n",
       "    </tr>\n",
       "    <tr>\n",
       "      <td>4</td>\n",
       "      <td>56</td>\n",
       "      <td>services</td>\n",
       "      <td>married</td>\n",
       "      <td>high.school</td>\n",
       "      <td>no</td>\n",
       "      <td>no</td>\n",
       "      <td>yes</td>\n",
       "      <td>telephone</td>\n",
       "      <td>may</td>\n",
       "      <td>mon</td>\n",
       "      <td>...</td>\n",
       "      <td>1</td>\n",
       "      <td>999</td>\n",
       "      <td>0</td>\n",
       "      <td>nonexistent</td>\n",
       "      <td>1.1</td>\n",
       "      <td>93.994</td>\n",
       "      <td>-36.4</td>\n",
       "      <td>4.857</td>\n",
       "      <td>5191.0</td>\n",
       "      <td>no</td>\n",
       "    </tr>\n",
       "    <tr>\n",
       "      <td>...</td>\n",
       "      <td>...</td>\n",
       "      <td>...</td>\n",
       "      <td>...</td>\n",
       "      <td>...</td>\n",
       "      <td>...</td>\n",
       "      <td>...</td>\n",
       "      <td>...</td>\n",
       "      <td>...</td>\n",
       "      <td>...</td>\n",
       "      <td>...</td>\n",
       "      <td>...</td>\n",
       "      <td>...</td>\n",
       "      <td>...</td>\n",
       "      <td>...</td>\n",
       "      <td>...</td>\n",
       "      <td>...</td>\n",
       "      <td>...</td>\n",
       "      <td>...</td>\n",
       "      <td>...</td>\n",
       "      <td>...</td>\n",
       "      <td>...</td>\n",
       "    </tr>\n",
       "    <tr>\n",
       "      <td>41183</td>\n",
       "      <td>73</td>\n",
       "      <td>retired</td>\n",
       "      <td>married</td>\n",
       "      <td>professional.course</td>\n",
       "      <td>no</td>\n",
       "      <td>yes</td>\n",
       "      <td>no</td>\n",
       "      <td>cellular</td>\n",
       "      <td>nov</td>\n",
       "      <td>fri</td>\n",
       "      <td>...</td>\n",
       "      <td>1</td>\n",
       "      <td>999</td>\n",
       "      <td>0</td>\n",
       "      <td>nonexistent</td>\n",
       "      <td>-1.1</td>\n",
       "      <td>94.767</td>\n",
       "      <td>-50.8</td>\n",
       "      <td>1.028</td>\n",
       "      <td>4963.6</td>\n",
       "      <td>yes</td>\n",
       "    </tr>\n",
       "    <tr>\n",
       "      <td>41184</td>\n",
       "      <td>46</td>\n",
       "      <td>blue-collar</td>\n",
       "      <td>married</td>\n",
       "      <td>professional.course</td>\n",
       "      <td>no</td>\n",
       "      <td>no</td>\n",
       "      <td>no</td>\n",
       "      <td>cellular</td>\n",
       "      <td>nov</td>\n",
       "      <td>fri</td>\n",
       "      <td>...</td>\n",
       "      <td>1</td>\n",
       "      <td>999</td>\n",
       "      <td>0</td>\n",
       "      <td>nonexistent</td>\n",
       "      <td>-1.1</td>\n",
       "      <td>94.767</td>\n",
       "      <td>-50.8</td>\n",
       "      <td>1.028</td>\n",
       "      <td>4963.6</td>\n",
       "      <td>no</td>\n",
       "    </tr>\n",
       "    <tr>\n",
       "      <td>41185</td>\n",
       "      <td>56</td>\n",
       "      <td>retired</td>\n",
       "      <td>married</td>\n",
       "      <td>university.degree</td>\n",
       "      <td>no</td>\n",
       "      <td>yes</td>\n",
       "      <td>no</td>\n",
       "      <td>cellular</td>\n",
       "      <td>nov</td>\n",
       "      <td>fri</td>\n",
       "      <td>...</td>\n",
       "      <td>2</td>\n",
       "      <td>999</td>\n",
       "      <td>0</td>\n",
       "      <td>nonexistent</td>\n",
       "      <td>-1.1</td>\n",
       "      <td>94.767</td>\n",
       "      <td>-50.8</td>\n",
       "      <td>1.028</td>\n",
       "      <td>4963.6</td>\n",
       "      <td>no</td>\n",
       "    </tr>\n",
       "    <tr>\n",
       "      <td>41186</td>\n",
       "      <td>44</td>\n",
       "      <td>technician</td>\n",
       "      <td>married</td>\n",
       "      <td>professional.course</td>\n",
       "      <td>no</td>\n",
       "      <td>no</td>\n",
       "      <td>no</td>\n",
       "      <td>cellular</td>\n",
       "      <td>nov</td>\n",
       "      <td>fri</td>\n",
       "      <td>...</td>\n",
       "      <td>1</td>\n",
       "      <td>999</td>\n",
       "      <td>0</td>\n",
       "      <td>nonexistent</td>\n",
       "      <td>-1.1</td>\n",
       "      <td>94.767</td>\n",
       "      <td>-50.8</td>\n",
       "      <td>1.028</td>\n",
       "      <td>4963.6</td>\n",
       "      <td>yes</td>\n",
       "    </tr>\n",
       "    <tr>\n",
       "      <td>41187</td>\n",
       "      <td>74</td>\n",
       "      <td>retired</td>\n",
       "      <td>married</td>\n",
       "      <td>professional.course</td>\n",
       "      <td>no</td>\n",
       "      <td>yes</td>\n",
       "      <td>no</td>\n",
       "      <td>cellular</td>\n",
       "      <td>nov</td>\n",
       "      <td>fri</td>\n",
       "      <td>...</td>\n",
       "      <td>3</td>\n",
       "      <td>999</td>\n",
       "      <td>1</td>\n",
       "      <td>failure</td>\n",
       "      <td>-1.1</td>\n",
       "      <td>94.767</td>\n",
       "      <td>-50.8</td>\n",
       "      <td>1.028</td>\n",
       "      <td>4963.6</td>\n",
       "      <td>no</td>\n",
       "    </tr>\n",
       "  </tbody>\n",
       "</table>\n",
       "<p>41188 rows × 21 columns</p>\n",
       "</div>"
      ],
      "text/plain": [
       "       age          job  marital            education  default housing loan  \\\n",
       "0       56    housemaid  married             basic.4y       no      no   no   \n",
       "1       57     services  married          high.school  unknown      no   no   \n",
       "2       37     services  married          high.school       no     yes   no   \n",
       "3       40       admin.  married             basic.6y       no      no   no   \n",
       "4       56     services  married          high.school       no      no  yes   \n",
       "...    ...          ...      ...                  ...      ...     ...  ...   \n",
       "41183   73      retired  married  professional.course       no     yes   no   \n",
       "41184   46  blue-collar  married  professional.course       no      no   no   \n",
       "41185   56      retired  married    university.degree       no     yes   no   \n",
       "41186   44   technician  married  professional.course       no      no   no   \n",
       "41187   74      retired  married  professional.course       no     yes   no   \n",
       "\n",
       "         contact month day_of_week  ...  campaign  pdays  previous  \\\n",
       "0      telephone   may         mon  ...         1    999         0   \n",
       "1      telephone   may         mon  ...         1    999         0   \n",
       "2      telephone   may         mon  ...         1    999         0   \n",
       "3      telephone   may         mon  ...         1    999         0   \n",
       "4      telephone   may         mon  ...         1    999         0   \n",
       "...          ...   ...         ...  ...       ...    ...       ...   \n",
       "41183   cellular   nov         fri  ...         1    999         0   \n",
       "41184   cellular   nov         fri  ...         1    999         0   \n",
       "41185   cellular   nov         fri  ...         2    999         0   \n",
       "41186   cellular   nov         fri  ...         1    999         0   \n",
       "41187   cellular   nov         fri  ...         3    999         1   \n",
       "\n",
       "          poutcome emp.var.rate  cons.price.idx  cons.conf.idx  euribor3m  \\\n",
       "0      nonexistent          1.1          93.994          -36.4      4.857   \n",
       "1      nonexistent          1.1          93.994          -36.4      4.857   \n",
       "2      nonexistent          1.1          93.994          -36.4      4.857   \n",
       "3      nonexistent          1.1          93.994          -36.4      4.857   \n",
       "4      nonexistent          1.1          93.994          -36.4      4.857   \n",
       "...            ...          ...             ...            ...        ...   \n",
       "41183  nonexistent         -1.1          94.767          -50.8      1.028   \n",
       "41184  nonexistent         -1.1          94.767          -50.8      1.028   \n",
       "41185  nonexistent         -1.1          94.767          -50.8      1.028   \n",
       "41186  nonexistent         -1.1          94.767          -50.8      1.028   \n",
       "41187      failure         -1.1          94.767          -50.8      1.028   \n",
       "\n",
       "       nr.employed    y  \n",
       "0           5191.0   no  \n",
       "1           5191.0   no  \n",
       "2           5191.0   no  \n",
       "3           5191.0   no  \n",
       "4           5191.0   no  \n",
       "...            ...  ...  \n",
       "41183       4963.6  yes  \n",
       "41184       4963.6   no  \n",
       "41185       4963.6   no  \n",
       "41186       4963.6  yes  \n",
       "41187       4963.6   no  \n",
       "\n",
       "[41188 rows x 21 columns]"
      ]
     },
     "execution_count": 90,
     "metadata": {},
     "output_type": "execute_result"
    }
   ],
   "source": [
    "data = pd.read_csv('bankmarketing.csv')\n",
    "data"
   ]
  },
  {
   "cell_type": "markdown",
   "metadata": {},
   "source": [
    "Wyświetl typy danych, i za pomocą metody .value_counts() podaj statystyki dla zmiennych 'job', 'marital', 'education', 'housing'"
   ]
  },
  {
   "cell_type": "code",
   "execution_count": 99,
   "metadata": {},
   "outputs": [
    {
     "data": {
      "text/plain": [
       "age                 int64\n",
       "job                object\n",
       "marital            object\n",
       "education          object\n",
       "default            object\n",
       "housing            object\n",
       "loan               object\n",
       "contact            object\n",
       "month              object\n",
       "day_of_week        object\n",
       "duration            int64\n",
       "campaign            int64\n",
       "pdays               int64\n",
       "previous            int64\n",
       "poutcome           object\n",
       "emp.var.rate      float64\n",
       "cons.price.idx    float64\n",
       "cons.conf.idx     float64\n",
       "euribor3m         float64\n",
       "nr.employed       float64\n",
       "y                  object\n",
       "dtype: object"
      ]
     },
     "execution_count": 99,
     "metadata": {},
     "output_type": "execute_result"
    }
   ],
   "source": [
    "# data.describe()\n",
    "# data.info()\n",
    "data.dtypes"
   ]
  },
  {
   "cell_type": "code",
   "execution_count": 101,
   "metadata": {},
   "outputs": [
    {
     "data": {
      "text/plain": [
       "admin.           0.253035\n",
       "blue-collar      0.224677\n",
       "technician       0.163713\n",
       "services         0.096363\n",
       "management       0.070992\n",
       "retired          0.041760\n",
       "entrepreneur     0.035350\n",
       "self-employed    0.034500\n",
       "housemaid        0.025736\n",
       "unemployed       0.024619\n",
       "student          0.021244\n",
       "unknown          0.008012\n",
       "Name: job, dtype: float64"
      ]
     },
     "execution_count": 101,
     "metadata": {},
     "output_type": "execute_result"
    }
   ],
   "source": [
    "data['job'].value_counts(normalize=True)\n",
    "# data['job'].value_counts()"
   ]
  },
  {
   "cell_type": "code",
   "execution_count": 94,
   "metadata": {},
   "outputs": [
    {
     "data": {
      "text/plain": [
       "married     24928\n",
       "single      11568\n",
       "divorced     4612\n",
       "unknown        80\n",
       "Name: marital, dtype: int64"
      ]
     },
     "execution_count": 94,
     "metadata": {},
     "output_type": "execute_result"
    }
   ],
   "source": [
    "data['marital'].value_counts()"
   ]
  },
  {
   "cell_type": "code",
   "execution_count": 95,
   "metadata": {},
   "outputs": [
    {
     "data": {
      "text/plain": [
       "university.degree      12168\n",
       "high.school             9515\n",
       "basic.9y                6045\n",
       "professional.course     5243\n",
       "basic.4y                4176\n",
       "basic.6y                2292\n",
       "unknown                 1731\n",
       "illiterate                18\n",
       "Name: education, dtype: int64"
      ]
     },
     "execution_count": 95,
     "metadata": {},
     "output_type": "execute_result"
    }
   ],
   "source": [
    "data['education'].value_counts()"
   ]
  },
  {
   "cell_type": "code",
   "execution_count": 102,
   "metadata": {},
   "outputs": [
    {
     "data": {
      "text/plain": [
       "yes        21576\n",
       "no         18622\n",
       "unknown      990\n",
       "Name: housing, dtype: int64"
      ]
     },
     "execution_count": 102,
     "metadata": {},
     "output_type": "execute_result"
    }
   ],
   "source": [
    "data['housing'].value_counts()"
   ]
  },
  {
   "cell_type": "markdown",
   "metadata": {},
   "source": [
    "Za pomocą funkcji pd.bin przekonwertuj wiek do zmiennej kategorialnej. Kategorie - [0-20], [20-30], [30-40] itd... (zobacz wcześniej jaka jest wartość maksymalna i minimalna"
   ]
  },
  {
   "cell_type": "code",
   "execution_count": 106,
   "metadata": {},
   "outputs": [
    {
     "data": {
      "text/html": [
       "<div>\n",
       "<style scoped>\n",
       "    .dataframe tbody tr th:only-of-type {\n",
       "        vertical-align: middle;\n",
       "    }\n",
       "\n",
       "    .dataframe tbody tr th {\n",
       "        vertical-align: top;\n",
       "    }\n",
       "\n",
       "    .dataframe thead th {\n",
       "        text-align: right;\n",
       "    }\n",
       "</style>\n",
       "<table border=\"1\" class=\"dataframe\">\n",
       "  <thead>\n",
       "    <tr style=\"text-align: right;\">\n",
       "      <th></th>\n",
       "      <th>age</th>\n",
       "      <th>job</th>\n",
       "      <th>marital</th>\n",
       "      <th>education</th>\n",
       "      <th>default</th>\n",
       "      <th>housing</th>\n",
       "      <th>loan</th>\n",
       "      <th>contact</th>\n",
       "      <th>month</th>\n",
       "      <th>day_of_week</th>\n",
       "      <th>...</th>\n",
       "      <th>pdays</th>\n",
       "      <th>previous</th>\n",
       "      <th>poutcome</th>\n",
       "      <th>emp.var.rate</th>\n",
       "      <th>cons.price.idx</th>\n",
       "      <th>cons.conf.idx</th>\n",
       "      <th>euribor3m</th>\n",
       "      <th>nr.employed</th>\n",
       "      <th>y</th>\n",
       "      <th>age_categorized</th>\n",
       "    </tr>\n",
       "  </thead>\n",
       "  <tbody>\n",
       "    <tr>\n",
       "      <td>0</td>\n",
       "      <td>56</td>\n",
       "      <td>housemaid</td>\n",
       "      <td>married</td>\n",
       "      <td>basic.4y</td>\n",
       "      <td>no</td>\n",
       "      <td>no</td>\n",
       "      <td>no</td>\n",
       "      <td>telephone</td>\n",
       "      <td>may</td>\n",
       "      <td>mon</td>\n",
       "      <td>...</td>\n",
       "      <td>999</td>\n",
       "      <td>0</td>\n",
       "      <td>nonexistent</td>\n",
       "      <td>1.1</td>\n",
       "      <td>93.994</td>\n",
       "      <td>-36.4</td>\n",
       "      <td>4.857</td>\n",
       "      <td>5191.0</td>\n",
       "      <td>no</td>\n",
       "      <td>(50, 60]</td>\n",
       "    </tr>\n",
       "    <tr>\n",
       "      <td>1</td>\n",
       "      <td>57</td>\n",
       "      <td>services</td>\n",
       "      <td>married</td>\n",
       "      <td>high.school</td>\n",
       "      <td>unknown</td>\n",
       "      <td>no</td>\n",
       "      <td>no</td>\n",
       "      <td>telephone</td>\n",
       "      <td>may</td>\n",
       "      <td>mon</td>\n",
       "      <td>...</td>\n",
       "      <td>999</td>\n",
       "      <td>0</td>\n",
       "      <td>nonexistent</td>\n",
       "      <td>1.1</td>\n",
       "      <td>93.994</td>\n",
       "      <td>-36.4</td>\n",
       "      <td>4.857</td>\n",
       "      <td>5191.0</td>\n",
       "      <td>no</td>\n",
       "      <td>(50, 60]</td>\n",
       "    </tr>\n",
       "    <tr>\n",
       "      <td>2</td>\n",
       "      <td>37</td>\n",
       "      <td>services</td>\n",
       "      <td>married</td>\n",
       "      <td>high.school</td>\n",
       "      <td>no</td>\n",
       "      <td>yes</td>\n",
       "      <td>no</td>\n",
       "      <td>telephone</td>\n",
       "      <td>may</td>\n",
       "      <td>mon</td>\n",
       "      <td>...</td>\n",
       "      <td>999</td>\n",
       "      <td>0</td>\n",
       "      <td>nonexistent</td>\n",
       "      <td>1.1</td>\n",
       "      <td>93.994</td>\n",
       "      <td>-36.4</td>\n",
       "      <td>4.857</td>\n",
       "      <td>5191.0</td>\n",
       "      <td>no</td>\n",
       "      <td>(30, 40]</td>\n",
       "    </tr>\n",
       "    <tr>\n",
       "      <td>3</td>\n",
       "      <td>40</td>\n",
       "      <td>admin.</td>\n",
       "      <td>married</td>\n",
       "      <td>basic.6y</td>\n",
       "      <td>no</td>\n",
       "      <td>no</td>\n",
       "      <td>no</td>\n",
       "      <td>telephone</td>\n",
       "      <td>may</td>\n",
       "      <td>mon</td>\n",
       "      <td>...</td>\n",
       "      <td>999</td>\n",
       "      <td>0</td>\n",
       "      <td>nonexistent</td>\n",
       "      <td>1.1</td>\n",
       "      <td>93.994</td>\n",
       "      <td>-36.4</td>\n",
       "      <td>4.857</td>\n",
       "      <td>5191.0</td>\n",
       "      <td>no</td>\n",
       "      <td>(30, 40]</td>\n",
       "    </tr>\n",
       "    <tr>\n",
       "      <td>4</td>\n",
       "      <td>56</td>\n",
       "      <td>services</td>\n",
       "      <td>married</td>\n",
       "      <td>high.school</td>\n",
       "      <td>no</td>\n",
       "      <td>no</td>\n",
       "      <td>yes</td>\n",
       "      <td>telephone</td>\n",
       "      <td>may</td>\n",
       "      <td>mon</td>\n",
       "      <td>...</td>\n",
       "      <td>999</td>\n",
       "      <td>0</td>\n",
       "      <td>nonexistent</td>\n",
       "      <td>1.1</td>\n",
       "      <td>93.994</td>\n",
       "      <td>-36.4</td>\n",
       "      <td>4.857</td>\n",
       "      <td>5191.0</td>\n",
       "      <td>no</td>\n",
       "      <td>(50, 60]</td>\n",
       "    </tr>\n",
       "    <tr>\n",
       "      <td>...</td>\n",
       "      <td>...</td>\n",
       "      <td>...</td>\n",
       "      <td>...</td>\n",
       "      <td>...</td>\n",
       "      <td>...</td>\n",
       "      <td>...</td>\n",
       "      <td>...</td>\n",
       "      <td>...</td>\n",
       "      <td>...</td>\n",
       "      <td>...</td>\n",
       "      <td>...</td>\n",
       "      <td>...</td>\n",
       "      <td>...</td>\n",
       "      <td>...</td>\n",
       "      <td>...</td>\n",
       "      <td>...</td>\n",
       "      <td>...</td>\n",
       "      <td>...</td>\n",
       "      <td>...</td>\n",
       "      <td>...</td>\n",
       "      <td>...</td>\n",
       "    </tr>\n",
       "    <tr>\n",
       "      <td>41183</td>\n",
       "      <td>73</td>\n",
       "      <td>retired</td>\n",
       "      <td>married</td>\n",
       "      <td>professional.course</td>\n",
       "      <td>no</td>\n",
       "      <td>yes</td>\n",
       "      <td>no</td>\n",
       "      <td>cellular</td>\n",
       "      <td>nov</td>\n",
       "      <td>fri</td>\n",
       "      <td>...</td>\n",
       "      <td>999</td>\n",
       "      <td>0</td>\n",
       "      <td>nonexistent</td>\n",
       "      <td>-1.1</td>\n",
       "      <td>94.767</td>\n",
       "      <td>-50.8</td>\n",
       "      <td>1.028</td>\n",
       "      <td>4963.6</td>\n",
       "      <td>yes</td>\n",
       "      <td>(70, 100]</td>\n",
       "    </tr>\n",
       "    <tr>\n",
       "      <td>41184</td>\n",
       "      <td>46</td>\n",
       "      <td>blue-collar</td>\n",
       "      <td>married</td>\n",
       "      <td>professional.course</td>\n",
       "      <td>no</td>\n",
       "      <td>no</td>\n",
       "      <td>no</td>\n",
       "      <td>cellular</td>\n",
       "      <td>nov</td>\n",
       "      <td>fri</td>\n",
       "      <td>...</td>\n",
       "      <td>999</td>\n",
       "      <td>0</td>\n",
       "      <td>nonexistent</td>\n",
       "      <td>-1.1</td>\n",
       "      <td>94.767</td>\n",
       "      <td>-50.8</td>\n",
       "      <td>1.028</td>\n",
       "      <td>4963.6</td>\n",
       "      <td>no</td>\n",
       "      <td>(40, 50]</td>\n",
       "    </tr>\n",
       "    <tr>\n",
       "      <td>41185</td>\n",
       "      <td>56</td>\n",
       "      <td>retired</td>\n",
       "      <td>married</td>\n",
       "      <td>university.degree</td>\n",
       "      <td>no</td>\n",
       "      <td>yes</td>\n",
       "      <td>no</td>\n",
       "      <td>cellular</td>\n",
       "      <td>nov</td>\n",
       "      <td>fri</td>\n",
       "      <td>...</td>\n",
       "      <td>999</td>\n",
       "      <td>0</td>\n",
       "      <td>nonexistent</td>\n",
       "      <td>-1.1</td>\n",
       "      <td>94.767</td>\n",
       "      <td>-50.8</td>\n",
       "      <td>1.028</td>\n",
       "      <td>4963.6</td>\n",
       "      <td>no</td>\n",
       "      <td>(50, 60]</td>\n",
       "    </tr>\n",
       "    <tr>\n",
       "      <td>41186</td>\n",
       "      <td>44</td>\n",
       "      <td>technician</td>\n",
       "      <td>married</td>\n",
       "      <td>professional.course</td>\n",
       "      <td>no</td>\n",
       "      <td>no</td>\n",
       "      <td>no</td>\n",
       "      <td>cellular</td>\n",
       "      <td>nov</td>\n",
       "      <td>fri</td>\n",
       "      <td>...</td>\n",
       "      <td>999</td>\n",
       "      <td>0</td>\n",
       "      <td>nonexistent</td>\n",
       "      <td>-1.1</td>\n",
       "      <td>94.767</td>\n",
       "      <td>-50.8</td>\n",
       "      <td>1.028</td>\n",
       "      <td>4963.6</td>\n",
       "      <td>yes</td>\n",
       "      <td>(40, 50]</td>\n",
       "    </tr>\n",
       "    <tr>\n",
       "      <td>41187</td>\n",
       "      <td>74</td>\n",
       "      <td>retired</td>\n",
       "      <td>married</td>\n",
       "      <td>professional.course</td>\n",
       "      <td>no</td>\n",
       "      <td>yes</td>\n",
       "      <td>no</td>\n",
       "      <td>cellular</td>\n",
       "      <td>nov</td>\n",
       "      <td>fri</td>\n",
       "      <td>...</td>\n",
       "      <td>999</td>\n",
       "      <td>1</td>\n",
       "      <td>failure</td>\n",
       "      <td>-1.1</td>\n",
       "      <td>94.767</td>\n",
       "      <td>-50.8</td>\n",
       "      <td>1.028</td>\n",
       "      <td>4963.6</td>\n",
       "      <td>no</td>\n",
       "      <td>(70, 100]</td>\n",
       "    </tr>\n",
       "  </tbody>\n",
       "</table>\n",
       "<p>41188 rows × 22 columns</p>\n",
       "</div>"
      ],
      "text/plain": [
       "       age          job  marital            education  default housing loan  \\\n",
       "0       56    housemaid  married             basic.4y       no      no   no   \n",
       "1       57     services  married          high.school  unknown      no   no   \n",
       "2       37     services  married          high.school       no     yes   no   \n",
       "3       40       admin.  married             basic.6y       no      no   no   \n",
       "4       56     services  married          high.school       no      no  yes   \n",
       "...    ...          ...      ...                  ...      ...     ...  ...   \n",
       "41183   73      retired  married  professional.course       no     yes   no   \n",
       "41184   46  blue-collar  married  professional.course       no      no   no   \n",
       "41185   56      retired  married    university.degree       no     yes   no   \n",
       "41186   44   technician  married  professional.course       no      no   no   \n",
       "41187   74      retired  married  professional.course       no     yes   no   \n",
       "\n",
       "         contact month day_of_week  ...  pdays  previous     poutcome  \\\n",
       "0      telephone   may         mon  ...    999         0  nonexistent   \n",
       "1      telephone   may         mon  ...    999         0  nonexistent   \n",
       "2      telephone   may         mon  ...    999         0  nonexistent   \n",
       "3      telephone   may         mon  ...    999         0  nonexistent   \n",
       "4      telephone   may         mon  ...    999         0  nonexistent   \n",
       "...          ...   ...         ...  ...    ...       ...          ...   \n",
       "41183   cellular   nov         fri  ...    999         0  nonexistent   \n",
       "41184   cellular   nov         fri  ...    999         0  nonexistent   \n",
       "41185   cellular   nov         fri  ...    999         0  nonexistent   \n",
       "41186   cellular   nov         fri  ...    999         0  nonexistent   \n",
       "41187   cellular   nov         fri  ...    999         1      failure   \n",
       "\n",
       "       emp.var.rate cons.price.idx  cons.conf.idx  euribor3m  nr.employed  \\\n",
       "0               1.1         93.994          -36.4      4.857       5191.0   \n",
       "1               1.1         93.994          -36.4      4.857       5191.0   \n",
       "2               1.1         93.994          -36.4      4.857       5191.0   \n",
       "3               1.1         93.994          -36.4      4.857       5191.0   \n",
       "4               1.1         93.994          -36.4      4.857       5191.0   \n",
       "...             ...            ...            ...        ...          ...   \n",
       "41183          -1.1         94.767          -50.8      1.028       4963.6   \n",
       "41184          -1.1         94.767          -50.8      1.028       4963.6   \n",
       "41185          -1.1         94.767          -50.8      1.028       4963.6   \n",
       "41186          -1.1         94.767          -50.8      1.028       4963.6   \n",
       "41187          -1.1         94.767          -50.8      1.028       4963.6   \n",
       "\n",
       "         y  age_categorized  \n",
       "0       no         (50, 60]  \n",
       "1       no         (50, 60]  \n",
       "2       no         (30, 40]  \n",
       "3       no         (30, 40]  \n",
       "4       no         (50, 60]  \n",
       "...    ...              ...  \n",
       "41183  yes        (70, 100]  \n",
       "41184   no         (40, 50]  \n",
       "41185   no         (50, 60]  \n",
       "41186  yes         (40, 50]  \n",
       "41187   no        (70, 100]  \n",
       "\n",
       "[41188 rows x 22 columns]"
      ]
     },
     "execution_count": 106,
     "metadata": {},
     "output_type": "execute_result"
    }
   ],
   "source": [
    "data['age_categorized'] = pd.cut(data['age'], [0, 20, 30, 40, 50, 60, 70, 100] )\n",
    "data\n"
   ]
  },
  {
   "cell_type": "markdown",
   "metadata": {},
   "source": [
    "Stwórz nową ramkę tylko z pięcioma zmiennymi kategorialnymi i opisz ją za pomocą metody .describe()"
   ]
  },
  {
   "cell_type": "code",
   "execution_count": 111,
   "metadata": {},
   "outputs": [
    {
     "data": {
      "text/html": [
       "<div>\n",
       "<style scoped>\n",
       "    .dataframe tbody tr th:only-of-type {\n",
       "        vertical-align: middle;\n",
       "    }\n",
       "\n",
       "    .dataframe tbody tr th {\n",
       "        vertical-align: top;\n",
       "    }\n",
       "\n",
       "    .dataframe thead th {\n",
       "        text-align: right;\n",
       "    }\n",
       "</style>\n",
       "<table border=\"1\" class=\"dataframe\">\n",
       "  <thead>\n",
       "    <tr style=\"text-align: right;\">\n",
       "      <th></th>\n",
       "      <th>age_categorized</th>\n",
       "      <th>job</th>\n",
       "      <th>marital</th>\n",
       "      <th>housing</th>\n",
       "      <th>education</th>\n",
       "    </tr>\n",
       "  </thead>\n",
       "  <tbody>\n",
       "    <tr>\n",
       "      <td>0</td>\n",
       "      <td>(50, 60]</td>\n",
       "      <td>housemaid</td>\n",
       "      <td>married</td>\n",
       "      <td>no</td>\n",
       "      <td>basic.4y</td>\n",
       "    </tr>\n",
       "    <tr>\n",
       "      <td>1</td>\n",
       "      <td>(50, 60]</td>\n",
       "      <td>services</td>\n",
       "      <td>married</td>\n",
       "      <td>no</td>\n",
       "      <td>high.school</td>\n",
       "    </tr>\n",
       "    <tr>\n",
       "      <td>2</td>\n",
       "      <td>(30, 40]</td>\n",
       "      <td>services</td>\n",
       "      <td>married</td>\n",
       "      <td>yes</td>\n",
       "      <td>high.school</td>\n",
       "    </tr>\n",
       "    <tr>\n",
       "      <td>3</td>\n",
       "      <td>(30, 40]</td>\n",
       "      <td>admin.</td>\n",
       "      <td>married</td>\n",
       "      <td>no</td>\n",
       "      <td>basic.6y</td>\n",
       "    </tr>\n",
       "    <tr>\n",
       "      <td>4</td>\n",
       "      <td>(50, 60]</td>\n",
       "      <td>services</td>\n",
       "      <td>married</td>\n",
       "      <td>no</td>\n",
       "      <td>high.school</td>\n",
       "    </tr>\n",
       "    <tr>\n",
       "      <td>...</td>\n",
       "      <td>...</td>\n",
       "      <td>...</td>\n",
       "      <td>...</td>\n",
       "      <td>...</td>\n",
       "      <td>...</td>\n",
       "    </tr>\n",
       "    <tr>\n",
       "      <td>41183</td>\n",
       "      <td>(70, 100]</td>\n",
       "      <td>retired</td>\n",
       "      <td>married</td>\n",
       "      <td>yes</td>\n",
       "      <td>professional.course</td>\n",
       "    </tr>\n",
       "    <tr>\n",
       "      <td>41184</td>\n",
       "      <td>(40, 50]</td>\n",
       "      <td>blue-collar</td>\n",
       "      <td>married</td>\n",
       "      <td>no</td>\n",
       "      <td>professional.course</td>\n",
       "    </tr>\n",
       "    <tr>\n",
       "      <td>41185</td>\n",
       "      <td>(50, 60]</td>\n",
       "      <td>retired</td>\n",
       "      <td>married</td>\n",
       "      <td>yes</td>\n",
       "      <td>university.degree</td>\n",
       "    </tr>\n",
       "    <tr>\n",
       "      <td>41186</td>\n",
       "      <td>(40, 50]</td>\n",
       "      <td>technician</td>\n",
       "      <td>married</td>\n",
       "      <td>no</td>\n",
       "      <td>professional.course</td>\n",
       "    </tr>\n",
       "    <tr>\n",
       "      <td>41187</td>\n",
       "      <td>(70, 100]</td>\n",
       "      <td>retired</td>\n",
       "      <td>married</td>\n",
       "      <td>yes</td>\n",
       "      <td>professional.course</td>\n",
       "    </tr>\n",
       "  </tbody>\n",
       "</table>\n",
       "<p>41188 rows × 5 columns</p>\n",
       "</div>"
      ],
      "text/plain": [
       "      age_categorized          job  marital housing            education\n",
       "0            (50, 60]    housemaid  married      no             basic.4y\n",
       "1            (50, 60]     services  married      no          high.school\n",
       "2            (30, 40]     services  married     yes          high.school\n",
       "3            (30, 40]       admin.  married      no             basic.6y\n",
       "4            (50, 60]     services  married      no          high.school\n",
       "...               ...          ...      ...     ...                  ...\n",
       "41183       (70, 100]      retired  married     yes  professional.course\n",
       "41184        (40, 50]  blue-collar  married      no  professional.course\n",
       "41185        (50, 60]      retired  married     yes    university.degree\n",
       "41186        (40, 50]   technician  married      no  professional.course\n",
       "41187       (70, 100]      retired  married     yes  professional.course\n",
       "\n",
       "[41188 rows x 5 columns]"
      ]
     },
     "execution_count": 111,
     "metadata": {},
     "output_type": "execute_result"
    }
   ],
   "source": [
    "data_cat = data[['age_categorized', 'job', 'marital', 'housing', 'education']]\n",
    "data_cat"
   ]
  },
  {
   "cell_type": "markdown",
   "metadata": {},
   "source": [
    "Zakoduj wszystkie z pięciu zmiennych za pomocą modułu preprocessing"
   ]
  },
  {
   "cell_type": "code",
   "execution_count": 113,
   "metadata": {},
   "outputs": [],
   "source": [
    "from sklearn import preprocessing\n",
    "le = preprocessing.LabelEncoder()\n",
    "new_data = data_cat.apply(le.fit_transform)"
   ]
  },
  {
   "cell_type": "code",
   "execution_count": 115,
   "metadata": {},
   "outputs": [
    {
     "data": {
      "text/html": [
       "<div>\n",
       "<style scoped>\n",
       "    .dataframe tbody tr th:only-of-type {\n",
       "        vertical-align: middle;\n",
       "    }\n",
       "\n",
       "    .dataframe tbody tr th {\n",
       "        vertical-align: top;\n",
       "    }\n",
       "\n",
       "    .dataframe thead th {\n",
       "        text-align: right;\n",
       "    }\n",
       "</style>\n",
       "<table border=\"1\" class=\"dataframe\">\n",
       "  <thead>\n",
       "    <tr style=\"text-align: right;\">\n",
       "      <th></th>\n",
       "      <th>age_categorized</th>\n",
       "      <th>job</th>\n",
       "      <th>marital</th>\n",
       "      <th>housing</th>\n",
       "      <th>education</th>\n",
       "    </tr>\n",
       "  </thead>\n",
       "  <tbody>\n",
       "    <tr>\n",
       "      <td>0</td>\n",
       "      <td>4</td>\n",
       "      <td>3</td>\n",
       "      <td>1</td>\n",
       "      <td>0</td>\n",
       "      <td>0</td>\n",
       "    </tr>\n",
       "    <tr>\n",
       "      <td>1</td>\n",
       "      <td>4</td>\n",
       "      <td>7</td>\n",
       "      <td>1</td>\n",
       "      <td>0</td>\n",
       "      <td>3</td>\n",
       "    </tr>\n",
       "    <tr>\n",
       "      <td>2</td>\n",
       "      <td>2</td>\n",
       "      <td>7</td>\n",
       "      <td>1</td>\n",
       "      <td>2</td>\n",
       "      <td>3</td>\n",
       "    </tr>\n",
       "    <tr>\n",
       "      <td>3</td>\n",
       "      <td>2</td>\n",
       "      <td>0</td>\n",
       "      <td>1</td>\n",
       "      <td>0</td>\n",
       "      <td>1</td>\n",
       "    </tr>\n",
       "    <tr>\n",
       "      <td>4</td>\n",
       "      <td>4</td>\n",
       "      <td>7</td>\n",
       "      <td>1</td>\n",
       "      <td>0</td>\n",
       "      <td>3</td>\n",
       "    </tr>\n",
       "    <tr>\n",
       "      <td>...</td>\n",
       "      <td>...</td>\n",
       "      <td>...</td>\n",
       "      <td>...</td>\n",
       "      <td>...</td>\n",
       "      <td>...</td>\n",
       "    </tr>\n",
       "    <tr>\n",
       "      <td>41183</td>\n",
       "      <td>6</td>\n",
       "      <td>5</td>\n",
       "      <td>1</td>\n",
       "      <td>2</td>\n",
       "      <td>5</td>\n",
       "    </tr>\n",
       "    <tr>\n",
       "      <td>41184</td>\n",
       "      <td>3</td>\n",
       "      <td>1</td>\n",
       "      <td>1</td>\n",
       "      <td>0</td>\n",
       "      <td>5</td>\n",
       "    </tr>\n",
       "    <tr>\n",
       "      <td>41185</td>\n",
       "      <td>4</td>\n",
       "      <td>5</td>\n",
       "      <td>1</td>\n",
       "      <td>2</td>\n",
       "      <td>6</td>\n",
       "    </tr>\n",
       "    <tr>\n",
       "      <td>41186</td>\n",
       "      <td>3</td>\n",
       "      <td>9</td>\n",
       "      <td>1</td>\n",
       "      <td>0</td>\n",
       "      <td>5</td>\n",
       "    </tr>\n",
       "    <tr>\n",
       "      <td>41187</td>\n",
       "      <td>6</td>\n",
       "      <td>5</td>\n",
       "      <td>1</td>\n",
       "      <td>2</td>\n",
       "      <td>5</td>\n",
       "    </tr>\n",
       "  </tbody>\n",
       "</table>\n",
       "<p>41188 rows × 5 columns</p>\n",
       "</div>"
      ],
      "text/plain": [
       "       age_categorized  job  marital  housing  education\n",
       "0                    4    3        1        0          0\n",
       "1                    4    7        1        0          3\n",
       "2                    2    7        1        2          3\n",
       "3                    2    0        1        0          1\n",
       "4                    4    7        1        0          3\n",
       "...                ...  ...      ...      ...        ...\n",
       "41183                6    5        1        2          5\n",
       "41184                3    1        1        0          5\n",
       "41185                4    5        1        2          6\n",
       "41186                3    9        1        0          5\n",
       "41187                6    5        1        2          5\n",
       "\n",
       "[41188 rows x 5 columns]"
      ]
     },
     "execution_count": 115,
     "metadata": {},
     "output_type": "execute_result"
    }
   ],
   "source": [
    "new_data"
   ]
  },
  {
   "cell_type": "markdown",
   "metadata": {},
   "source": [
    "Zainstaluj, zaimportuj i wykorzystaj bibliotekę k-modes, a także uzyj jej do klastrowania cech klientów"
   ]
  },
  {
   "cell_type": "code",
   "execution_count": 117,
   "metadata": {},
   "outputs": [
    {
     "name": "stdout",
     "output_type": "stream",
     "text": [
      "Requirement already satisfied: kmodes in c:\\programdata\\anaconda3\\lib\\site-packages (0.10.2)\n",
      "Requirement already satisfied: scikit-learn>=0.19.0 in c:\\programdata\\anaconda3\\lib\\site-packages (from kmodes) (0.21.3)\n",
      "Requirement already satisfied: numpy>=1.10.4 in c:\\programdata\\anaconda3\\lib\\site-packages (from kmodes) (1.16.5)\n",
      "Requirement already satisfied: joblib>=0.11 in c:\\programdata\\anaconda3\\lib\\site-packages (from kmodes) (0.13.2)\n",
      "Requirement already satisfied: scipy>=0.13.3 in c:\\programdata\\anaconda3\\lib\\site-packages (from kmodes) (1.3.1)\n"
     ]
    }
   ],
   "source": [
    "!pip install kmodes"
   ]
  },
  {
   "cell_type": "code",
   "execution_count": 118,
   "metadata": {},
   "outputs": [],
   "source": [
    "from kmodes.kmodes import KModes"
   ]
  },
  {
   "cell_type": "code",
   "execution_count": 120,
   "metadata": {
    "scrolled": true
   },
   "outputs": [
    {
     "name": "stdout",
     "output_type": "stream",
     "text": [
      "Init: initializing centroids\n",
      "Init: initializing clusters\n",
      "Starting iterations...\n",
      "Run 1, iteration: 1/100, moves: 9839, cost: 103517.0\n",
      "Init: initializing centroids\n",
      "Init: initializing clusters\n",
      "Starting iterations...\n",
      "Run 2, iteration: 1/100, moves: 9806, cost: 100201.0\n",
      "Init: initializing centroids\n",
      "Init: initializing clusters\n",
      "Starting iterations...\n",
      "Run 3, iteration: 1/100, moves: 9131, cost: 101931.0\n",
      "Init: initializing centroids\n",
      "Init: initializing clusters\n",
      "Starting iterations...\n",
      "Run 4, iteration: 1/100, moves: 7391, cost: 102364.0\n",
      "Init: initializing centroids\n",
      "Init: initializing clusters\n",
      "Starting iterations...\n",
      "Run 5, iteration: 1/100, moves: 0, cost: 105890.0\n",
      "Best run was number 2\n"
     ]
    }
   ],
   "source": [
    "km = KModes(n_clusters=2, init = \"Huang\", n_init = 5, verbose=1)\n",
    "fitClusters_cao = km.fit_predict(new_data)"
   ]
  },
  {
   "cell_type": "code",
   "execution_count": null,
   "metadata": {},
   "outputs": [],
   "source": [
    "km.cluster_centroids_"
   ]
  },
  {
   "cell_type": "markdown",
   "metadata": {},
   "source": [
    "Przeprowadź analizę wartości funkcji kosztu w zależności od liczby k"
   ]
  },
  {
   "cell_type": "code",
   "execution_count": 126,
   "metadata": {},
   "outputs": [
    {
     "ename": "KeyboardInterrupt",
     "evalue": "",
     "output_type": "error",
     "traceback": [
      "\u001b[1;31m---------------------------------------------------------------------------\u001b[0m",
      "\u001b[1;31mKeyboardInterrupt\u001b[0m                         Traceback (most recent call last)",
      "\u001b[1;32m<ipython-input-126-1380abfac705>\u001b[0m in \u001b[0;36m<module>\u001b[1;34m\u001b[0m\n\u001b[0;32m      3\u001b[0m \u001b[1;32mfor\u001b[0m \u001b[0mk\u001b[0m \u001b[1;32min\u001b[0m \u001b[0mrange\u001b[0m\u001b[1;33m(\u001b[0m\u001b[1;36m2\u001b[0m\u001b[1;33m,\u001b[0m \u001b[1;36m14\u001b[0m\u001b[1;33m)\u001b[0m\u001b[1;33m:\u001b[0m\u001b[1;33m\u001b[0m\u001b[1;33m\u001b[0m\u001b[0m\n\u001b[0;32m      4\u001b[0m     \u001b[0mkm\u001b[0m \u001b[1;33m=\u001b[0m \u001b[0mKModes\u001b[0m\u001b[1;33m(\u001b[0m\u001b[0mn_clusters\u001b[0m\u001b[1;33m=\u001b[0m\u001b[0mk\u001b[0m\u001b[1;33m,\u001b[0m \u001b[0mn_init\u001b[0m\u001b[1;33m=\u001b[0m\u001b[1;36m3\u001b[0m\u001b[1;33m,\u001b[0m \u001b[0minit\u001b[0m\u001b[1;33m=\u001b[0m\u001b[1;34m'Huang'\u001b[0m\u001b[1;33m)\u001b[0m\u001b[1;33m\u001b[0m\u001b[1;33m\u001b[0m\u001b[0m\n\u001b[1;32m----> 5\u001b[1;33m     \u001b[0mkm\u001b[0m\u001b[1;33m.\u001b[0m\u001b[0mfit\u001b[0m\u001b[1;33m(\u001b[0m\u001b[0mnew_data\u001b[0m\u001b[1;33m)\u001b[0m\u001b[1;33m\u001b[0m\u001b[1;33m\u001b[0m\u001b[0m\n\u001b[0m\u001b[0;32m      6\u001b[0m     \u001b[0mkoszt\u001b[0m\u001b[1;33m.\u001b[0m\u001b[0mappend\u001b[0m\u001b[1;33m(\u001b[0m\u001b[0mkm\u001b[0m\u001b[1;33m.\u001b[0m\u001b[0mcost_\u001b[0m\u001b[1;33m)\u001b[0m\u001b[1;33m\u001b[0m\u001b[1;33m\u001b[0m\u001b[0m\n",
      "\u001b[1;32mC:\\ProgramData\\Anaconda3\\lib\\site-packages\\kmodes\\kmodes.py\u001b[0m in \u001b[0;36mfit\u001b[1;34m(self, X, y, **kwargs)\u001b[0m\n\u001b[0;32m    406\u001b[0m             \u001b[0mself\u001b[0m\u001b[1;33m.\u001b[0m\u001b[0mverbose\u001b[0m\u001b[1;33m,\u001b[0m\u001b[1;33m\u001b[0m\u001b[1;33m\u001b[0m\u001b[0m\n\u001b[0;32m    407\u001b[0m             \u001b[0mrandom_state\u001b[0m\u001b[1;33m,\u001b[0m\u001b[1;33m\u001b[0m\u001b[1;33m\u001b[0m\u001b[0m\n\u001b[1;32m--> 408\u001b[1;33m             \u001b[0mself\u001b[0m\u001b[1;33m.\u001b[0m\u001b[0mn_jobs\u001b[0m\u001b[1;33m,\u001b[0m\u001b[1;33m\u001b[0m\u001b[1;33m\u001b[0m\u001b[0m\n\u001b[0m\u001b[0;32m    409\u001b[0m         )\n\u001b[0;32m    410\u001b[0m         \u001b[1;32mreturn\u001b[0m \u001b[0mself\u001b[0m\u001b[1;33m\u001b[0m\u001b[1;33m\u001b[0m\u001b[0m\n",
      "\u001b[1;32mC:\\ProgramData\\Anaconda3\\lib\\site-packages\\kmodes\\kmodes.py\u001b[0m in \u001b[0;36mk_modes\u001b[1;34m(X, n_clusters, max_iter, dissim, init, n_init, verbose, random_state, n_jobs)\u001b[0m\n\u001b[0;32m    276\u001b[0m         \u001b[1;32mfor\u001b[0m \u001b[0minit_no\u001b[0m \u001b[1;32min\u001b[0m \u001b[0mrange\u001b[0m\u001b[1;33m(\u001b[0m\u001b[0mn_init\u001b[0m\u001b[1;33m)\u001b[0m\u001b[1;33m:\u001b[0m\u001b[1;33m\u001b[0m\u001b[1;33m\u001b[0m\u001b[0m\n\u001b[0;32m    277\u001b[0m             results.append(k_modes_single(X, n_clusters, n_points, n_attrs, max_iter,\n\u001b[1;32m--> 278\u001b[1;33m                                           dissim, init, init_no, verbose, seeds[init_no]))\n\u001b[0m\u001b[0;32m    279\u001b[0m     \u001b[1;32melse\u001b[0m\u001b[1;33m:\u001b[0m\u001b[1;33m\u001b[0m\u001b[1;33m\u001b[0m\u001b[0m\n\u001b[0;32m    280\u001b[0m         results = Parallel(n_jobs=n_jobs, verbose=0)(\n",
      "\u001b[1;32mC:\\ProgramData\\Anaconda3\\lib\\site-packages\\kmodes\\kmodes.py\u001b[0m in \u001b[0;36mk_modes_single\u001b[1;34m(X, n_clusters, n_points, n_attrs, max_iter, dissim, init, init_no, verbose, random_state)\u001b[0m\n\u001b[0;32m    231\u001b[0m             \u001b[0mmembship\u001b[0m\u001b[1;33m,\u001b[0m\u001b[1;33m\u001b[0m\u001b[1;33m\u001b[0m\u001b[0m\n\u001b[0;32m    232\u001b[0m             \u001b[0mdissim\u001b[0m\u001b[1;33m,\u001b[0m\u001b[1;33m\u001b[0m\u001b[1;33m\u001b[0m\u001b[0m\n\u001b[1;32m--> 233\u001b[1;33m             \u001b[0mrandom_state\u001b[0m\u001b[1;33m\u001b[0m\u001b[1;33m\u001b[0m\u001b[0m\n\u001b[0m\u001b[0;32m    234\u001b[0m         )\n\u001b[0;32m    235\u001b[0m         \u001b[1;31m# All points seen in this iteration\u001b[0m\u001b[1;33m\u001b[0m\u001b[1;33m\u001b[0m\u001b[1;33m\u001b[0m\u001b[0m\n",
      "\u001b[1;32mC:\\ProgramData\\Anaconda3\\lib\\site-packages\\kmodes\\kmodes.py\u001b[0m in \u001b[0;36m_k_modes_iter\u001b[1;34m(X, centroids, cl_attr_freq, membship, dissim, random_state)\u001b[0m\n\u001b[0;32m    136\u001b[0m     \u001b[0mmoves\u001b[0m \u001b[1;33m=\u001b[0m \u001b[1;36m0\u001b[0m\u001b[1;33m\u001b[0m\u001b[1;33m\u001b[0m\u001b[0m\n\u001b[0;32m    137\u001b[0m     \u001b[1;32mfor\u001b[0m \u001b[0mipoint\u001b[0m\u001b[1;33m,\u001b[0m \u001b[0mcurpoint\u001b[0m \u001b[1;32min\u001b[0m \u001b[0menumerate\u001b[0m\u001b[1;33m(\u001b[0m\u001b[0mX\u001b[0m\u001b[1;33m)\u001b[0m\u001b[1;33m:\u001b[0m\u001b[1;33m\u001b[0m\u001b[1;33m\u001b[0m\u001b[0m\n\u001b[1;32m--> 138\u001b[1;33m         \u001b[0mclust\u001b[0m \u001b[1;33m=\u001b[0m \u001b[0mnp\u001b[0m\u001b[1;33m.\u001b[0m\u001b[0margmin\u001b[0m\u001b[1;33m(\u001b[0m\u001b[0mdissim\u001b[0m\u001b[1;33m(\u001b[0m\u001b[0mcentroids\u001b[0m\u001b[1;33m,\u001b[0m \u001b[0mcurpoint\u001b[0m\u001b[1;33m,\u001b[0m \u001b[0mX\u001b[0m\u001b[1;33m=\u001b[0m\u001b[0mX\u001b[0m\u001b[1;33m,\u001b[0m \u001b[0mmembship\u001b[0m\u001b[1;33m=\u001b[0m\u001b[0mmembship\u001b[0m\u001b[1;33m)\u001b[0m\u001b[1;33m)\u001b[0m\u001b[1;33m\u001b[0m\u001b[1;33m\u001b[0m\u001b[0m\n\u001b[0m\u001b[0;32m    139\u001b[0m         \u001b[1;32mif\u001b[0m \u001b[0mmembship\u001b[0m\u001b[1;33m[\u001b[0m\u001b[0mclust\u001b[0m\u001b[1;33m,\u001b[0m \u001b[0mipoint\u001b[0m\u001b[1;33m]\u001b[0m\u001b[1;33m:\u001b[0m\u001b[1;33m\u001b[0m\u001b[1;33m\u001b[0m\u001b[0m\n\u001b[0;32m    140\u001b[0m             \u001b[1;31m# Point is already in its right place.\u001b[0m\u001b[1;33m\u001b[0m\u001b[1;33m\u001b[0m\u001b[1;33m\u001b[0m\u001b[0m\n",
      "\u001b[1;32mC:\\ProgramData\\Anaconda3\\lib\\site-packages\\numpy\\core\\fromnumeric.py\u001b[0m in \u001b[0;36margmin\u001b[1;34m(a, axis, out)\u001b[0m\n\u001b[0;32m   1170\u001b[0m \u001b[1;33m\u001b[0m\u001b[0m\n\u001b[0;32m   1171\u001b[0m     \"\"\"\n\u001b[1;32m-> 1172\u001b[1;33m     \u001b[1;32mreturn\u001b[0m \u001b[0m_wrapfunc\u001b[0m\u001b[1;33m(\u001b[0m\u001b[0ma\u001b[0m\u001b[1;33m,\u001b[0m \u001b[1;34m'argmin'\u001b[0m\u001b[1;33m,\u001b[0m \u001b[0maxis\u001b[0m\u001b[1;33m=\u001b[0m\u001b[0maxis\u001b[0m\u001b[1;33m,\u001b[0m \u001b[0mout\u001b[0m\u001b[1;33m=\u001b[0m\u001b[0mout\u001b[0m\u001b[1;33m)\u001b[0m\u001b[1;33m\u001b[0m\u001b[1;33m\u001b[0m\u001b[0m\n\u001b[0m\u001b[0;32m   1173\u001b[0m \u001b[1;33m\u001b[0m\u001b[0m\n\u001b[0;32m   1174\u001b[0m \u001b[1;33m\u001b[0m\u001b[0m\n",
      "\u001b[1;32mC:\\ProgramData\\Anaconda3\\lib\\site-packages\\numpy\\core\\fromnumeric.py\u001b[0m in \u001b[0;36m_wrapfunc\u001b[1;34m(obj, method, *args, **kwds)\u001b[0m\n\u001b[0;32m     54\u001b[0m \u001b[1;32mdef\u001b[0m \u001b[0m_wrapfunc\u001b[0m\u001b[1;33m(\u001b[0m\u001b[0mobj\u001b[0m\u001b[1;33m,\u001b[0m \u001b[0mmethod\u001b[0m\u001b[1;33m,\u001b[0m \u001b[1;33m*\u001b[0m\u001b[0margs\u001b[0m\u001b[1;33m,\u001b[0m \u001b[1;33m**\u001b[0m\u001b[0mkwds\u001b[0m\u001b[1;33m)\u001b[0m\u001b[1;33m:\u001b[0m\u001b[1;33m\u001b[0m\u001b[1;33m\u001b[0m\u001b[0m\n\u001b[0;32m     55\u001b[0m     \u001b[1;32mtry\u001b[0m\u001b[1;33m:\u001b[0m\u001b[1;33m\u001b[0m\u001b[1;33m\u001b[0m\u001b[0m\n\u001b[1;32m---> 56\u001b[1;33m         \u001b[1;32mreturn\u001b[0m \u001b[0mgetattr\u001b[0m\u001b[1;33m(\u001b[0m\u001b[0mobj\u001b[0m\u001b[1;33m,\u001b[0m \u001b[0mmethod\u001b[0m\u001b[1;33m)\u001b[0m\u001b[1;33m(\u001b[0m\u001b[1;33m*\u001b[0m\u001b[0margs\u001b[0m\u001b[1;33m,\u001b[0m \u001b[1;33m**\u001b[0m\u001b[0mkwds\u001b[0m\u001b[1;33m)\u001b[0m\u001b[1;33m\u001b[0m\u001b[1;33m\u001b[0m\u001b[0m\n\u001b[0m\u001b[0;32m     57\u001b[0m \u001b[1;33m\u001b[0m\u001b[0m\n\u001b[0;32m     58\u001b[0m     \u001b[1;31m# An AttributeError occurs if the object does not have\u001b[0m\u001b[1;33m\u001b[0m\u001b[1;33m\u001b[0m\u001b[1;33m\u001b[0m\u001b[0m\n",
      "\u001b[1;31mKeyboardInterrupt\u001b[0m: "
     ]
    }
   ],
   "source": [
    "koszt = []\n",
    "\n",
    "for k in range(2, 14):\n",
    "    km = KModes(n_clusters=k, n_init=3, init='Huang')\n",
    "    km.fit(new_data)\n",
    "    koszt.append(km.cost_)"
   ]
  },
  {
   "cell_type": "markdown",
   "metadata": {},
   "source": [
    "I przedstaw na wykresie:"
   ]
  },
  {
   "cell_type": "code",
   "execution_count": null,
   "metadata": {},
   "outputs": [],
   "source": [
    "plt.plot(list(range(2,14)), koszt)"
   ]
  },
  {
   "cell_type": "code",
   "execution_count": null,
   "metadata": {},
   "outputs": [],
   "source": []
  },
  {
   "cell_type": "markdown",
   "metadata": {},
   "source": [
    "Informację o numerze klastra połącz z oryginalną ramką danych, a następnie wyświetl informacje o elementach z klastra"
   ]
  },
  {
   "cell_type": "code",
   "execution_count": null,
   "metadata": {
    "scrolled": false
   },
   "outputs": [],
   "source": []
  },
  {
   "cell_type": "code",
   "execution_count": null,
   "metadata": {},
   "outputs": [],
   "source": []
  },
  {
   "cell_type": "markdown",
   "metadata": {},
   "source": [
    "Dla każdego klastra przedstaw statystyki częstości według danej ramki. Będzie to kwestia zrobienia pętli po zmiennych i wyprintowania: ``value_counts(normalize=True)``dla każdej kolumny."
   ]
  },
  {
   "cell_type": "code",
   "execution_count": null,
   "metadata": {},
   "outputs": [],
   "source": []
  },
  {
   "cell_type": "markdown",
   "metadata": {},
   "source": [
    "## DBSCAN"
   ]
  },
  {
   "cell_type": "code",
   "execution_count": 8,
   "metadata": {},
   "outputs": [],
   "source": [
    "from sklearn.cluster import DBSCAN"
   ]
  },
  {
   "cell_type": "markdown",
   "metadata": {},
   "source": [
    "Dokonaj klasteryzacji metodą DBSCAN"
   ]
  },
  {
   "cell_type": "code",
   "execution_count": 9,
   "metadata": {},
   "outputs": [
    {
     "ename": "NameError",
     "evalue": "name 'klienci_banku' is not defined",
     "output_type": "error",
     "traceback": [
      "\u001b[1;31m---------------------------------------------------------------------------\u001b[0m",
      "\u001b[1;31mNameError\u001b[0m                                 Traceback (most recent call last)",
      "\u001b[1;32m<ipython-input-9-ac8c4668d622>\u001b[0m in \u001b[0;36m<module>\u001b[1;34m\u001b[0m\n\u001b[1;32m----> 1\u001b[1;33m \u001b[0mclus\u001b[0m \u001b[1;33m=\u001b[0m \u001b[0mDBSCAN\u001b[0m\u001b[1;33m(\u001b[0m\u001b[0meps\u001b[0m\u001b[1;33m=\u001b[0m\u001b[1;36m1\u001b[0m\u001b[1;33m,\u001b[0m \u001b[0mmin_samples\u001b[0m\u001b[1;33m=\u001b[0m\u001b[1;36m2\u001b[0m\u001b[1;33m)\u001b[0m\u001b[1;33m.\u001b[0m\u001b[0mfit_predict\u001b[0m\u001b[1;33m(\u001b[0m\u001b[0mklienci_banku\u001b[0m\u001b[1;33m)\u001b[0m\u001b[1;33m\u001b[0m\u001b[1;33m\u001b[0m\u001b[0m\n\u001b[0m",
      "\u001b[1;31mNameError\u001b[0m: name 'klienci_banku' is not defined"
     ]
    }
   ],
   "source": [
    "clus = DBSCAN(eps=1, min_samples=2).fit_predict(klienci_banku)"
   ]
  },
  {
   "cell_type": "markdown",
   "metadata": {},
   "source": [
    "Wyświetl klastry do których należy każda z obserwacji"
   ]
  },
  {
   "cell_type": "code",
   "execution_count": 233,
   "metadata": {},
   "outputs": [
    {
     "data": {
      "text/plain": [
       "array([ 0,  1,  1,  1,  1,  0,  1,  1, -1,  1,  1,  1,  1, -1,  1,  1,  1,\n",
       "        1,  1,  1,  0,  0,  1,  1,  1,  1,  1,  1,  1,  1,  1,  1,  1,  1,\n",
       "        1,  1,  1,  2,  1,  0,  1,  1,  1,  1,  0,  1,  1,  1,  1,  1,  1,\n",
       "        1,  1,  1,  1,  1,  1,  1,  1,  1,  1,  1,  1,  1,  1,  0,  1,  1,\n",
       "        0,  1,  1,  1,  0,  0,  1,  1,  1,  1,  1,  1,  1,  0,  1,  1,  1,\n",
       "        1,  1,  1,  1,  1,  1,  1,  1,  0,  1,  1,  1,  1,  1,  1,  1,  1,\n",
       "        1,  1,  0,  1,  1,  1,  1,  1,  1,  1,  1,  1,  1,  1,  1,  1,  1,\n",
       "        1,  1,  1,  1,  1,  1,  1,  1,  1,  0,  1, -1,  1,  1,  1,  1,  1,\n",
       "        1,  0,  1,  1,  1,  1,  1,  1,  1,  1,  1,  1,  1,  1,  1,  1,  1,\n",
       "        1,  1,  0,  1,  1,  0,  1,  1,  1,  1,  1,  0,  1,  1,  1,  0,  1,\n",
       "        1,  1,  1,  1,  1,  1,  0,  1,  1,  1,  1,  1,  1,  1,  1,  1,  1,\n",
       "        1,  1,  1,  1,  1,  1,  1,  0,  1,  1,  1,  1,  1,  1,  1,  1,  0,\n",
       "        1,  1,  1,  1,  1,  1,  1,  1,  1,  1,  1,  1,  1,  1,  1,  1,  1,\n",
       "        1,  1,  1,  1,  1,  1,  1,  1,  1,  1,  1,  1,  0,  1,  1,  1,  1,\n",
       "        1,  1,  1,  1,  1,  1,  1,  1,  1,  1,  1,  1,  1,  1,  1, -1,  1,\n",
       "        1,  1,  0,  1,  0,  1,  1,  1,  1,  1,  1,  2,  0,  1,  0,  0,  1,\n",
       "        1,  1,  1,  1,  1,  1,  1,  1,  1,  0,  1,  1,  1,  1,  1,  1,  1,\n",
       "        1,  1,  1,  1,  1,  1,  1,  1,  1,  1,  1,  1,  1,  1,  1,  1,  1,\n",
       "        1,  1,  1,  1,  1,  1,  1,  2,  0], dtype=int64)"
      ]
     },
     "execution_count": 233,
     "metadata": {},
     "output_type": "execute_result"
    }
   ],
   "source": [
    "clus"
   ]
  },
  {
   "cell_type": "markdown",
   "metadata": {},
   "source": [
    "A także przedstaw na wykresie 3D"
   ]
  },
  {
   "cell_type": "code",
   "execution_count": 234,
   "metadata": {
    "scrolled": true
   },
   "outputs": [
    {
     "data": {
      "image/png": "[encoded data removed]",
      "text/plain": [
       "<Figure size 720x576 with 1 Axes>"
      ]
     },
     "metadata": {
      "needs_background": "light"
     },
     "output_type": "display_data"
    }
   ],
   "source": [
    "fig = plt.figure(figsize=(10,8))\n",
    "ax = Axes3D(fig)\n",
    "ax.scatter(klienci_banku['zarobki'], klienci_banku['oszczednosci'], klienci_banku['wiek'], c=clus,depthshade=False)\n",
    "plt.show()"
   ]
  },
  {
   "cell_type": "markdown",
   "metadata": {},
   "source": [
    "## Porównanie metod clusteringu na danych o różnej strukturze"
   ]
  },
  {
   "cell_type": "code",
   "execution_count": 12,
   "metadata": {},
   "outputs": [],
   "source": [
    "from sklearn import datasets\n",
    "\n",
    "n_samples = 1500\n",
    "noisy_circles = datasets.make_circles(n_samples=n_samples, factor=.5, noise=.05)\n",
    "noisy_moons = datasets.make_moons(n_samples=n_samples, noise=.05)\n",
    "blobs = datasets.make_blobs(n_samples=n_samples, random_state=8)\n",
    "no_structure = np.random.rand(n_samples, 2), None\n",
    "\n",
    "random_state = 170\n",
    "X, y = datasets.make_blobs(n_samples=n_samples, random_state=random_state)\n",
    "transformation = [[0.6, -0.6], [-0.4, 0.8]]\n",
    "X_aniso = np.dot(X, transformation)\n",
    "aniso = (X_aniso, y)\n",
    "\n",
    "varied = datasets.make_blobs(n_samples=n_samples, cluster_std=[1.0, 2.5, 0.5],random_state=random_state)"
   ]
  },
  {
   "cell_type": "markdown",
   "metadata": {},
   "source": [
    "Powyżej wygenerowano kilka zbiorów danych 2D o różnej strukturze. Twoim zadaniem jest dokonanie klasteryzacji wszystkimi poznanymi metodami (k-means, hierarchiczne, dbscan), oraz przedstawienie wizualnie efektów klastrowania dla każdego ze zbiorów danych. Przykładowe klastrowanie k-means dla zbioru noisy_circles:"
   ]
  },
  {
   "cell_type": "code",
   "execution_count": 32,
   "metadata": {},
   "outputs": [
    {
     "data": {
      "text/plain": [
       "<matplotlib.collections.PathCollection at 0x15abe9c1688>"
      ]
     },
     "execution_count": 32,
     "metadata": {},
     "output_type": "execute_result"
    },
    {
     "data": {
      "image/png": "[encoded data removed]",
      "text/plain": [
       "<Figure size 432x288 with 1 Axes>"
      ]
     },
     "metadata": {
      "needs_background": "light"
     },
     "output_type": "display_data"
    }
   ],
   "source": [
    "plt.scatter(noisy_circles[0][:,0], noisy_circles[0][:,1])"
   ]
  },
  {
   "cell_type": "code",
   "execution_count": 36,
   "metadata": {},
   "outputs": [],
   "source": [
    "km_noisy = KMeans(n_clusters=2)\n",
    "labels = km_noisy.fit_predict(noisy_circles[0])"
   ]
  },
  {
   "cell_type": "code",
   "execution_count": 41,
   "metadata": {},
   "outputs": [
    {
     "data": {
      "text/plain": [
       "<matplotlib.collections.PathCollection at 0x15abfc9cb88>"
      ]
     },
     "execution_count": 41,
     "metadata": {},
     "output_type": "execute_result"
    },
    {
     "data": {
      "image/png": "[encoded data removed]",
      "text/plain": [
       "<Figure size 432x288 with 1 Axes>"
      ]
     },
     "metadata": {
      "needs_background": "light"
     },
     "output_type": "display_data"
    }
   ],
   "source": [
    "plt.scatter(noisy_circles[0][:,0], noisy_circles[0][:,1], c=labels)"
   ]
  }
 ],
 "metadata": {
  "kernelspec": {
   "display_name": "Python 3",
   "language": "python",
   "name": "python3"
  },
  "language_info": {
   "codemirror_mode": {
    "name": "ipython",
    "version": 3
   },
   "file_extension": ".py",
   "mimetype": "text/x-python",
   "name": "python",
   "nbconvert_exporter": "python",
   "pygments_lexer": "ipython3",
   "version": "3.7.4"
  },
  "toc": {
   "base_numbering": 1,
   "nav_menu": {},
   "number_sections": true,
   "sideBar": true,
   "skip_h1_title": false,
   "title_cell": "Table of Contents",
   "title_sidebar": "Contents",
   "toc_cell": false,
   "toc_position": {},
   "toc_section_display": true,
   "toc_window_display": false
  },
  "varInspector": {
   "cols": {
    "lenName": 16,
    "lenType": 16,
    "lenVar": 40
   },
   "kernels_config": {
    "python": {
     "delete_cmd_postfix": "",
     "delete_cmd_prefix": "del ",
     "library": "var_list.py",
     "varRefreshCmd": "print(var_dic_list())"
    },
    "r": {
     "delete_cmd_postfix": ") ",
     "delete_cmd_prefix": "rm(",
     "library": "var_list.r",
     "varRefreshCmd": "cat(var_dic_list()) "
    }
   },
   "types_to_exclude": [
    "module",
    "function",
    "builtin_function_or_method",
    "instance",
    "_Feature"
   ],
   "window_display": false
  }
 },
 "nbformat": 4,
 "nbformat_minor": 2
}
