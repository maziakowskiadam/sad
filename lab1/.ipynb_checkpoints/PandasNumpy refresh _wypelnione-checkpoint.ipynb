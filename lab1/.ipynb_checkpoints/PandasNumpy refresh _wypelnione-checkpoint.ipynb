{
 "cells": [
  {
   "cell_type": "markdown",
   "metadata": {},
   "source": [
    "Odświeżenie informacji z podstaw pandasa i numpy"
   ]
  },
  {
   "cell_type": "markdown",
   "metadata": {},
   "source": [
    "1. Zaimportuj pakiety pandas, numpy i matplotlib"
   ]
  },
  {
   "cell_type": "code",
   "execution_count": 1,
   "metadata": {
    "ExecuteTime": {
     "end_time": "2020-03-28T10:45:18.367523Z",
     "start_time": "2020-03-28T10:45:18.363535Z"
    }
   },
   "outputs": [],
   "source": [
    "import numpy as np\n",
    "import pandas as pd"
   ]
  },
  {
   "cell_type": "markdown",
   "metadata": {},
   "source": [
    "## Numpy"
   ]
  },
  {
   "cell_type": "markdown",
   "metadata": {},
   "source": [
    "1. Stwórz dziesięcioelementowy wektor składający się wyłącznie z samych zer "
   ]
  },
  {
   "cell_type": "code",
   "execution_count": 2,
   "metadata": {
    "ExecuteTime": {
     "end_time": "2020-03-28T10:46:04.983427Z",
     "start_time": "2020-03-28T10:46:04.978422Z"
    }
   },
   "outputs": [
    {
     "data": {
      "text/plain": [
       "array([0, 0, 0, 0, 0, 0, 0, 0, 0, 0])"
      ]
     },
     "execution_count": 2,
     "metadata": {},
     "output_type": "execute_result"
    }
   ],
   "source": [
    "np.array([0] * 10)"
   ]
  },
  {
   "cell_type": "code",
   "execution_count": 3,
   "metadata": {
    "ExecuteTime": {
     "end_time": "2020-03-28T10:46:22.446824Z",
     "start_time": "2020-03-28T10:46:22.440828Z"
    }
   },
   "outputs": [
    {
     "data": {
      "text/plain": [
       "array([0., 0., 0., 0., 0., 0., 0., 0., 0., 0.])"
      ]
     },
     "execution_count": 3,
     "metadata": {},
     "output_type": "execute_result"
    }
   ],
   "source": [
    "np.zeros(10)"
   ]
  },
  {
   "cell_type": "markdown",
   "metadata": {},
   "source": [
    "2. Stwórz sześcioelementowy wektor składający się z samych jedynek, i zastąp drugi element wartością 4"
   ]
  },
  {
   "cell_type": "code",
   "execution_count": 4,
   "metadata": {
    "ExecuteTime": {
     "end_time": "2020-03-28T10:47:30.232942Z",
     "start_time": "2020-03-28T10:47:30.226958Z"
    }
   },
   "outputs": [
    {
     "data": {
      "text/plain": [
       "array([1., 4., 1., 1., 1., 1.])"
      ]
     },
     "execution_count": 4,
     "metadata": {},
     "output_type": "execute_result"
    }
   ],
   "source": [
    "wektor = np.ones(6)\n",
    "wektor[1] = 4\n",
    "wektor"
   ]
  },
  {
   "cell_type": "markdown",
   "metadata": {},
   "source": [
    "3. Stwórz wektor z wartościami od 1 do 15"
   ]
  },
  {
   "cell_type": "code",
   "execution_count": 5,
   "metadata": {
    "ExecuteTime": {
     "end_time": "2020-03-28T10:48:32.645739Z",
     "start_time": "2020-03-28T10:48:32.639754Z"
    }
   },
   "outputs": [
    {
     "data": {
      "text/plain": [
       "array([ 1,  2,  3,  4,  5,  6,  7,  8,  9, 10, 11, 12, 13, 14, 15])"
      ]
     },
     "execution_count": 5,
     "metadata": {},
     "output_type": "execute_result"
    }
   ],
   "source": [
    "wektor2 = np.arange(1,16)\n",
    "wektor2"
   ]
  },
  {
   "cell_type": "markdown",
   "metadata": {},
   "source": [
    "4. Odwróć kolejność wektora z zad 3."
   ]
  },
  {
   "cell_type": "code",
   "execution_count": 6,
   "metadata": {
    "ExecuteTime": {
     "end_time": "2020-03-28T10:50:05.677956Z",
     "start_time": "2020-03-28T10:50:05.671972Z"
    }
   },
   "outputs": [
    {
     "data": {
      "text/plain": [
       "array([15, 14, 13, 12, 11, 10,  9,  8,  7,  6,  5,  4,  3,  2,  1])"
      ]
     },
     "execution_count": 6,
     "metadata": {},
     "output_type": "execute_result"
    }
   ],
   "source": [
    "wektor2[::-1]"
   ]
  },
  {
   "cell_type": "code",
   "execution_count": 7,
   "metadata": {
    "ExecuteTime": {
     "end_time": "2020-03-28T10:50:51.453537Z",
     "start_time": "2020-03-28T10:50:51.447579Z"
    }
   },
   "outputs": [
    {
     "data": {
      "text/plain": [
       "'DASeibul'"
      ]
     },
     "execution_count": 7,
     "metadata": {},
     "output_type": "execute_result"
    }
   ],
   "source": [
    "tekst = 'lubieSAD'\n",
    "tekst[::-1]"
   ]
  },
  {
   "cell_type": "markdown",
   "metadata": {},
   "source": [
    "5. Stwórz macierz wartości losowych o wymiarze 10 wierszy x 10 kolumn"
   ]
  },
  {
   "cell_type": "code",
   "execution_count": 8,
   "metadata": {
    "ExecuteTime": {
     "end_time": "2020-03-28T10:51:30.382704Z",
     "start_time": "2020-03-28T10:51:30.375723Z"
    }
   },
   "outputs": [
    {
     "data": {
      "text/plain": [
       "array([[0.10461119, 0.14546191, 0.90931697, 0.66135268, 0.16307459,\n",
       "        0.40954279, 0.02239836, 0.39131098, 0.94304023, 0.58885127],\n",
       "       [0.93721354, 0.66346212, 0.83896844, 0.37787088, 0.14306689,\n",
       "        0.54729882, 0.79433692, 0.02336304, 0.96429205, 0.18664509],\n",
       "       [0.90774935, 0.73348113, 0.90726039, 0.30478449, 0.43982242,\n",
       "        0.5811154 , 0.61174727, 0.63900281, 0.42795169, 0.8187998 ],\n",
       "       [0.7143647 , 0.53168432, 0.74440615, 0.29457171, 0.74528164,\n",
       "        0.42624129, 0.45999435, 0.58822619, 0.17057148, 0.83402344],\n",
       "       [0.75105519, 0.5955737 , 0.23912834, 0.4217441 , 0.44036093,\n",
       "        0.57600979, 0.7495589 , 0.07127446, 0.76309209, 0.34535117],\n",
       "       [0.36809515, 0.76864581, 0.34149196, 0.36917081, 0.85366537,\n",
       "        0.2348532 , 0.25471613, 0.68933539, 0.63519704, 0.08359818],\n",
       "       [0.29379625, 0.8746753 , 0.041524  , 0.85084246, 0.84588129,\n",
       "        0.68295366, 0.32811073, 0.64293682, 0.61266712, 0.27761941],\n",
       "       [0.1492464 , 0.80816791, 0.93867347, 0.49280335, 0.74272982,\n",
       "        0.78434546, 0.27404963, 0.22623711, 0.49536577, 0.06152062],\n",
       "       [0.48134652, 0.10681912, 0.9457414 , 0.44351105, 0.28245284,\n",
       "        0.05998123, 0.66224583, 0.16125273, 0.85420324, 0.45200949],\n",
       "       [0.30037582, 0.28641868, 0.69714539, 0.6040375 , 0.4221713 ,\n",
       "        0.57543065, 0.25183533, 0.37878202, 0.36710386, 0.33565674]])"
      ]
     },
     "execution_count": 8,
     "metadata": {},
     "output_type": "execute_result"
    }
   ],
   "source": [
    "macierz = np.random.rand(10, 10)\n",
    "macierz"
   ]
  },
  {
   "cell_type": "markdown",
   "metadata": {},
   "source": [
    "6. Jakim wyrażeniem sprawdzisz wymiary macierzy?"
   ]
  },
  {
   "cell_type": "code",
   "execution_count": 9,
   "metadata": {
    "ExecuteTime": {
     "end_time": "2020-03-28T10:51:59.618750Z",
     "start_time": "2020-03-28T10:51:59.609811Z"
    }
   },
   "outputs": [
    {
     "data": {
      "text/plain": [
       "(10, 10)"
      ]
     },
     "execution_count": 9,
     "metadata": {},
     "output_type": "execute_result"
    }
   ],
   "source": [
    "macierz.shape"
   ]
  },
  {
   "cell_type": "markdown",
   "metadata": {
    "ExecuteTime": {
     "end_time": "2019-03-21T19:16:26.932631Z",
     "start_time": "2019-03-21T19:16:26.929639Z"
    }
   },
   "source": [
    "7. Stwórz macierz 6x6, wypełnij ją zerami, a diagonalną wypełnij liczbami od 1 do 6"
   ]
  },
  {
   "cell_type": "code",
   "execution_count": 10,
   "metadata": {
    "ExecuteTime": {
     "end_time": "2020-03-28T10:55:14.520702Z",
     "start_time": "2020-03-28T10:55:14.513715Z"
    }
   },
   "outputs": [
    {
     "data": {
      "text/plain": [
       "array([[1., 0., 0., 0., 0., 0.],\n",
       "       [0., 2., 0., 0., 0., 0.],\n",
       "       [0., 0., 3., 0., 0., 0.],\n",
       "       [0., 0., 0., 4., 0., 0.],\n",
       "       [0., 0., 0., 0., 5., 0.],\n",
       "       [0., 0., 0., 0., 0., 6.]])"
      ]
     },
     "execution_count": 10,
     "metadata": {},
     "output_type": "execute_result"
    }
   ],
   "source": [
    "macierz_zer = np.zeros((6,6))\n",
    "\n",
    "macierz_zer\n",
    "\n",
    "wektor16 = np.arange(1,7)\n",
    "\n",
    "np.fill_diagonal(macierz_zer, wektor16)\n",
    "\n",
    "macierz_zer"
   ]
  },
  {
   "cell_type": "code",
   "execution_count": 11,
   "metadata": {
    "ExecuteTime": {
     "end_time": "2020-03-28T10:55:56.863380Z",
     "start_time": "2020-03-28T10:55:56.857394Z"
    }
   },
   "outputs": [
    {
     "data": {
      "text/plain": [
       "array([[1, 0, 0, 0, 0, 0],\n",
       "       [0, 2, 0, 0, 0, 0],\n",
       "       [0, 0, 3, 0, 0, 0],\n",
       "       [0, 0, 0, 4, 0, 0],\n",
       "       [0, 0, 0, 0, 5, 0],\n",
       "       [0, 0, 0, 0, 0, 6]])"
      ]
     },
     "execution_count": 11,
     "metadata": {},
     "output_type": "execute_result"
    }
   ],
   "source": [
    "np.diag(wektor16) # 2 sposób"
   ]
  },
  {
   "cell_type": "code",
   "execution_count": 12,
   "metadata": {
    "ExecuteTime": {
     "end_time": "2020-03-28T10:58:13.353314Z",
     "start_time": "2020-03-28T10:58:13.346816Z"
    }
   },
   "outputs": [
    {
     "data": {
      "text/plain": [
       "array([[1., 0., 0., 0., 0., 0.],\n",
       "       [0., 2., 0., 0., 0., 0.],\n",
       "       [0., 0., 3., 0., 0., 0.],\n",
       "       [0., 0., 0., 4., 0., 0.],\n",
       "       [0., 0., 0., 0., 5., 0.],\n",
       "       [0., 0., 0., 0., 0., 6.]])"
      ]
     },
     "execution_count": 12,
     "metadata": {},
     "output_type": "execute_result"
    }
   ],
   "source": [
    "macierz_zer = np.zeros((6,6))\n",
    "macierz_zer\n",
    "\n",
    "macierz_zer[np.diag_indices_from(macierz_zer)] = wektor16\n",
    "\n",
    "macierz_zer"
   ]
  },
  {
   "cell_type": "markdown",
   "metadata": {},
   "source": [
    "8. Stwórz losową macierz o wielkości 8x4, i następnie zestandaryzuj jej kolumny (dla każdej zmiennej, dla każdej jej wartości odejmij wartość średnią, i podziel przez odchylenie standardowe)"
   ]
  },
  {
   "cell_type": "code",
   "execution_count": 13,
   "metadata": {
    "ExecuteTime": {
     "end_time": "2020-03-28T10:59:45.705626Z",
     "start_time": "2020-03-28T10:59:45.698612Z"
    }
   },
   "outputs": [
    {
     "data": {
      "text/plain": [
       "array([[0.76553265, 0.90355521, 0.16062248, 0.10529708],\n",
       "       [0.40041609, 0.08923285, 0.08778375, 0.72785268],\n",
       "       [0.17993118, 0.48158792, 0.40459919, 0.39972671],\n",
       "       [0.34957974, 0.59306593, 0.10818381, 0.43974589],\n",
       "       [0.65399257, 0.49508434, 0.3844519 , 0.88560084],\n",
       "       [0.99538499, 0.93742884, 0.6533359 , 0.82601644],\n",
       "       [0.59325775, 0.31764617, 0.02350953, 0.81587673],\n",
       "       [0.045664  , 0.62591299, 0.70863084, 0.35938613]])"
      ]
     },
     "execution_count": 13,
     "metadata": {},
     "output_type": "execute_result"
    }
   ],
   "source": [
    "np.set_printoptions(suppress=True) # wyłączenie notacji naukowej\n",
    "macierz = np.random.rand(8, 4)\n",
    "macierz"
   ]
  },
  {
   "cell_type": "code",
   "execution_count": 14,
   "metadata": {
    "ExecuteTime": {
     "end_time": "2020-03-28T11:01:19.231074Z",
     "start_time": "2020-03-28T11:01:19.226089Z"
    }
   },
   "outputs": [],
   "source": [
    "srednie = np.mean(macierz, axis=0)\n",
    "odchylenia = np.std(macierz, axis=0)"
   ]
  },
  {
   "cell_type": "code",
   "execution_count": 15,
   "metadata": {
    "ExecuteTime": {
     "end_time": "2020-03-28T11:01:40.159643Z",
     "start_time": "2020-03-28T11:01:40.153659Z"
    }
   },
   "outputs": [
    {
     "data": {
      "text/plain": [
       "array([[ 0.91125632,  1.31991673, -0.63233603, -1.76123632],\n",
       "       [-0.33224539, -1.76766882, -0.92802444,  0.59858161],\n",
       "       [-1.0831655 , -0.28001491,  0.35808601, -0.64519091],\n",
       "       [-0.50538212,  0.14266525, -0.84521049, -0.49349686],\n",
       "       [ 0.53137687, -0.22884186,  0.27629822,  1.19653132],\n",
       "       [ 1.69407968,  1.44835205,  1.36783124,  0.97067465],\n",
       "       [ 0.32452826, -0.90161664, -1.18894525,  0.93223975],\n",
       "       [-1.54044813,  0.2672082 ,  1.59230074, -0.79810324]])"
      ]
     },
     "execution_count": 15,
     "metadata": {},
     "output_type": "execute_result"
    }
   ],
   "source": [
    "(macierz - srednie) / odchylenia"
   ]
  },
  {
   "cell_type": "markdown",
   "metadata": {},
   "source": [
    "9. Z losowej macierzy 6x6:\n",
    "    * wskaż element największy i jego indeks\n",
    "    * wskaż element najmniejszy i jego indeks"
   ]
  },
  {
   "cell_type": "code",
   "execution_count": 16,
   "metadata": {
    "ExecuteTime": {
     "end_time": "2020-03-28T11:03:55.816504Z",
     "start_time": "2020-03-28T11:03:55.809525Z"
    }
   },
   "outputs": [
    {
     "data": {
      "text/plain": [
       "array([[0.43047951, 0.01046295, 0.28274005, 0.06578944, 0.41605194,\n",
       "        0.26606717],\n",
       "       [0.67672712, 0.87051906, 0.44470626, 0.82077449, 0.59980626,\n",
       "        0.28075912],\n",
       "       [0.86561059, 0.5419809 , 0.75520129, 0.02661355, 0.4456212 ,\n",
       "        0.66668162],\n",
       "       [0.14099186, 0.34417579, 0.55299448, 0.11619661, 0.40776742,\n",
       "        0.03735469],\n",
       "       [0.01901304, 0.88538635, 0.83028213, 0.41582756, 0.20991488,\n",
       "        0.36818525],\n",
       "       [0.06417426, 0.64389827, 0.5336475 , 0.61052857, 0.45077371,\n",
       "        0.78816465]])"
      ]
     },
     "execution_count": 16,
     "metadata": {},
     "output_type": "execute_result"
    }
   ],
   "source": [
    "macierz_random = np.random.rand(6,6)\n",
    "macierz_random.max()\n",
    "np.max(macierz_random)\n",
    "macierz_random"
   ]
  },
  {
   "cell_type": "code",
   "execution_count": 17,
   "metadata": {
    "ExecuteTime": {
     "end_time": "2020-03-28T11:04:04.495970Z",
     "start_time": "2020-03-28T11:04:04.489987Z"
    }
   },
   "outputs": [
    {
     "data": {
      "text/plain": [
       "0.8853863487312978"
      ]
     },
     "execution_count": 17,
     "metadata": {},
     "output_type": "execute_result"
    }
   ],
   "source": [
    "macierz_random.max()"
   ]
  },
  {
   "cell_type": "code",
   "execution_count": 18,
   "metadata": {
    "ExecuteTime": {
     "end_time": "2020-03-28T11:05:27.164976Z",
     "start_time": "2020-03-28T11:05:27.159991Z"
    }
   },
   "outputs": [
    {
     "data": {
      "text/plain": [
       "(4, 1)"
      ]
     },
     "execution_count": 18,
     "metadata": {},
     "output_type": "execute_result"
    }
   ],
   "source": [
    "np.unravel_index(macierz_random.argmax(), macierz_random.shape) # 1 wartosc"
   ]
  },
  {
   "cell_type": "code",
   "execution_count": 19,
   "metadata": {
    "ExecuteTime": {
     "end_time": "2020-03-28T11:06:15.681557Z",
     "start_time": "2020-03-28T11:06:15.675573Z"
    }
   },
   "outputs": [
    {
     "data": {
      "text/plain": [
       "(array([4], dtype=int64), array([1], dtype=int64))"
      ]
     },
     "execution_count": 19,
     "metadata": {},
     "output_type": "execute_result"
    }
   ],
   "source": [
    "np.where(macierz_random == macierz_random.max()) # 2 albo wiecej (jeśli takie występują)"
   ]
  },
  {
   "cell_type": "markdown",
   "metadata": {},
   "source": [
    "10. Wszytkie elementy z wektora [1,0,2,3,4,0,2,0,0,2,0] będące powyżej zera, zastąp jedynką"
   ]
  },
  {
   "cell_type": "code",
   "execution_count": 20,
   "metadata": {
    "ExecuteTime": {
     "end_time": "2020-03-28T11:11:14.512951Z",
     "start_time": "2020-03-28T11:11:14.505977Z"
    }
   },
   "outputs": [
    {
     "data": {
      "text/plain": [
       "array([1, 0, 1, 1, 1, 0, 1, 0, 0, 1, 0])"
      ]
     },
     "execution_count": 20,
     "metadata": {},
     "output_type": "execute_result"
    }
   ],
   "source": [
    "wektor = np.array([1,0,2,3,4,0,2,0,0,2,0])\n",
    "wektor[wektor > 0] = 1\n",
    "wektor"
   ]
  },
  {
   "cell_type": "markdown",
   "metadata": {},
   "source": [
    "11. Znajdź niezerowe elementy wektora [0,0,1,2,0,1,13,0,-1]."
   ]
  },
  {
   "cell_type": "code",
   "execution_count": 21,
   "metadata": {
    "ExecuteTime": {
     "end_time": "2020-03-28T11:12:54.756473Z",
     "start_time": "2020-03-28T11:12:54.750489Z"
    }
   },
   "outputs": [
    {
     "name": "stdout",
     "output_type": "stream",
     "text": [
      "[ 1  2  1 13 -1]\n",
      "[ 1  2  1 13 -1]\n"
     ]
    }
   ],
   "source": [
    "wektor2 = np.array([0,0,1,2,0,1,13,0,-1])\n",
    "print(wektor2[wektor2 != 0])\n",
    "print(wektor2[np.nonzero(wektor2)])"
   ]
  },
  {
   "cell_type": "markdown",
   "metadata": {},
   "source": [
    "12. Stwórz losowy wektor 40-elementowy i znajdź jego średnią, medianę, odchylenie standardowe, pierwszy decyl, dziewiąty decyl, kwartyl1 i kwartyl3"
   ]
  },
  {
   "cell_type": "code",
   "execution_count": 22,
   "metadata": {
    "ExecuteTime": {
     "end_time": "2020-03-28T11:15:18.803161Z",
     "start_time": "2020-03-28T11:15:18.798174Z"
    }
   },
   "outputs": [],
   "source": [
    "wektor = np.random.rand(40)"
   ]
  },
  {
   "cell_type": "code",
   "execution_count": 23,
   "metadata": {
    "ExecuteTime": {
     "end_time": "2020-03-28T11:15:19.752548Z",
     "start_time": "2020-03-28T11:15:19.745555Z"
    }
   },
   "outputs": [
    {
     "name": "stdout",
     "output_type": "stream",
     "text": [
      "0.4156859514263349\n",
      "0.3241053098419318\n"
     ]
    }
   ],
   "source": [
    "print(np.mean(wektor))\n",
    "print(np.median(wektor))"
   ]
  },
  {
   "cell_type": "code",
   "execution_count": 24,
   "metadata": {
    "ExecuteTime": {
     "end_time": "2020-03-28T11:15:39.343841Z",
     "start_time": "2020-03-28T11:15:39.336894Z"
    }
   },
   "outputs": [
    {
     "data": {
      "text/plain": [
       "0.3327520754840198"
      ]
     },
     "execution_count": 24,
     "metadata": {},
     "output_type": "execute_result"
    }
   ],
   "source": [
    "np.std(wektor)"
   ]
  },
  {
   "cell_type": "code",
   "execution_count": 25,
   "metadata": {
    "ExecuteTime": {
     "end_time": "2020-03-28T11:19:44.623407Z",
     "start_time": "2020-03-28T11:19:44.616467Z"
    }
   },
   "outputs": [
    {
     "data": {
      "text/plain": [
       "array([0.03349701, 0.11452288, 0.71362547, 0.90115575])"
      ]
     },
     "execution_count": 25,
     "metadata": {},
     "output_type": "execute_result"
    }
   ],
   "source": [
    "np.percentile(wektor, [10, 25, 75, 90])"
   ]
  },
  {
   "cell_type": "markdown",
   "metadata": {},
   "source": [
    "13. Posortuj powyższy wektor"
   ]
  },
  {
   "cell_type": "code",
   "execution_count": 26,
   "metadata": {
    "ExecuteTime": {
     "end_time": "2020-03-28T11:20:08.645751Z",
     "start_time": "2020-03-28T11:20:08.641728Z"
    }
   },
   "outputs": [],
   "source": [
    "wektor.sort()"
   ]
  },
  {
   "cell_type": "code",
   "execution_count": 27,
   "metadata": {
    "ExecuteTime": {
     "end_time": "2020-03-28T11:20:13.591608Z",
     "start_time": "2020-03-28T11:20:13.584627Z"
    }
   },
   "outputs": [
    {
     "data": {
      "text/plain": [
       "array([0.00566193, 0.00693983, 0.00771914, 0.02228109, 0.03474323,\n",
       "       0.04247779, 0.04604615, 0.07977457, 0.08384069, 0.10207487,\n",
       "       0.11867221, 0.12460093, 0.13833197, 0.14489569, 0.21320435,\n",
       "       0.24873524, 0.28895868, 0.31058621, 0.3120448 , 0.32299998,\n",
       "       0.32521064, 0.34559257, 0.3512337 , 0.44375451, 0.4664288 ,\n",
       "       0.46995005, 0.62187635, 0.62253057, 0.64749467, 0.66694054,\n",
       "       0.85368024, 0.8654889 , 0.88514339, 0.88787842, 0.90032867,\n",
       "       0.90080591, 0.90430432, 0.91888144, 0.93555955, 0.95976549])"
      ]
     },
     "execution_count": 27,
     "metadata": {},
     "output_type": "execute_result"
    }
   ],
   "source": [
    "wektor"
   ]
  },
  {
   "cell_type": "markdown",
   "metadata": {},
   "source": [
    "14. Stwórz 10-elementowy wektor z wartościami od 0 do 1, mającymi równe odstępy"
   ]
  },
  {
   "cell_type": "code",
   "execution_count": 28,
   "metadata": {
    "ExecuteTime": {
     "end_time": "2020-03-28T11:20:55.445740Z",
     "start_time": "2020-03-28T11:20:55.435764Z"
    }
   },
   "outputs": [
    {
     "data": {
      "text/plain": [
       "array([0. , 0.1, 0.2, 0.3, 0.4, 0.5, 0.6, 0.7, 0.8, 0.9, 1. ])"
      ]
     },
     "execution_count": 28,
     "metadata": {},
     "output_type": "execute_result"
    }
   ],
   "source": [
    "np.linspace(0,1,11)"
   ]
  },
  {
   "cell_type": "markdown",
   "metadata": {},
   "source": [
    "## Pandas"
   ]
  },
  {
   "cell_type": "markdown",
   "metadata": {},
   "source": [
    "Będziemy pracować na ramce danych (pandas.DataFrame):"
   ]
  },
  {
   "cell_type": "code",
   "execution_count": 29,
   "metadata": {
    "ExecuteTime": {
     "end_time": "2020-03-28T11:32:20.980848Z",
     "start_time": "2020-03-28T11:32:20.972870Z"
    }
   },
   "outputs": [],
   "source": [
    "dane = {\n",
    "    'gender': ['m'] * 5 + ['f'] * 5,\n",
    "    'age': [23, 24, 25, 28, 32, 54, 21, np.nan, 45, np.nan],\n",
    "    'earnings': [2500, np.nan, 2700, 3400, 2500, 2900, 4300, 3400, 3250, 1100]\n",
    "}\n",
    "indeks = ['a', 'b', 'c', 'd', 'e', 'f', 'g', 'h', 'i', 'j']"
   ]
  },
  {
   "cell_type": "markdown",
   "metadata": {
    "ExecuteTime": {
     "end_time": "2019-03-21T19:43:57.751851Z",
     "start_time": "2019-03-21T19:43:57.743859Z"
    }
   },
   "source": [
    "16. Stwórz ramkę danych, w której dane będą zasilone słownikiem 'dane', a indeksy wierszy to lista 'indeks'"
   ]
  },
  {
   "cell_type": "code",
   "execution_count": 30,
   "metadata": {
    "ExecuteTime": {
     "end_time": "2020-03-28T11:32:46.272180Z",
     "start_time": "2020-03-28T11:32:46.266156Z"
    }
   },
   "outputs": [],
   "source": [
    "ramka = pd.DataFrame(dane, index=indeks)"
   ]
  },
  {
   "cell_type": "code",
   "execution_count": 31,
   "metadata": {
    "ExecuteTime": {
     "end_time": "2020-03-28T11:32:50.275901Z",
     "start_time": "2020-03-28T11:32:50.264970Z"
    }
   },
   "outputs": [
    {
     "data": {
      "text/html": [
       "<div>\n",
       "<style scoped>\n",
       "    .dataframe tbody tr th:only-of-type {\n",
       "        vertical-align: middle;\n",
       "    }\n",
       "\n",
       "    .dataframe tbody tr th {\n",
       "        vertical-align: top;\n",
       "    }\n",
       "\n",
       "    .dataframe thead th {\n",
       "        text-align: right;\n",
       "    }\n",
       "</style>\n",
       "<table border=\"1\" class=\"dataframe\">\n",
       "  <thead>\n",
       "    <tr style=\"text-align: right;\">\n",
       "      <th></th>\n",
       "      <th>gender</th>\n",
       "      <th>age</th>\n",
       "      <th>earnings</th>\n",
       "    </tr>\n",
       "  </thead>\n",
       "  <tbody>\n",
       "    <tr>\n",
       "      <td>a</td>\n",
       "      <td>m</td>\n",
       "      <td>23.0</td>\n",
       "      <td>2500.0</td>\n",
       "    </tr>\n",
       "    <tr>\n",
       "      <td>b</td>\n",
       "      <td>m</td>\n",
       "      <td>24.0</td>\n",
       "      <td>NaN</td>\n",
       "    </tr>\n",
       "    <tr>\n",
       "      <td>c</td>\n",
       "      <td>m</td>\n",
       "      <td>25.0</td>\n",
       "      <td>2700.0</td>\n",
       "    </tr>\n",
       "    <tr>\n",
       "      <td>d</td>\n",
       "      <td>m</td>\n",
       "      <td>28.0</td>\n",
       "      <td>3400.0</td>\n",
       "    </tr>\n",
       "    <tr>\n",
       "      <td>e</td>\n",
       "      <td>m</td>\n",
       "      <td>32.0</td>\n",
       "      <td>2500.0</td>\n",
       "    </tr>\n",
       "    <tr>\n",
       "      <td>f</td>\n",
       "      <td>f</td>\n",
       "      <td>54.0</td>\n",
       "      <td>2900.0</td>\n",
       "    </tr>\n",
       "    <tr>\n",
       "      <td>g</td>\n",
       "      <td>f</td>\n",
       "      <td>21.0</td>\n",
       "      <td>4300.0</td>\n",
       "    </tr>\n",
       "    <tr>\n",
       "      <td>h</td>\n",
       "      <td>f</td>\n",
       "      <td>NaN</td>\n",
       "      <td>3400.0</td>\n",
       "    </tr>\n",
       "    <tr>\n",
       "      <td>i</td>\n",
       "      <td>f</td>\n",
       "      <td>45.0</td>\n",
       "      <td>3250.0</td>\n",
       "    </tr>\n",
       "    <tr>\n",
       "      <td>j</td>\n",
       "      <td>f</td>\n",
       "      <td>NaN</td>\n",
       "      <td>1100.0</td>\n",
       "    </tr>\n",
       "  </tbody>\n",
       "</table>\n",
       "</div>"
      ],
      "text/plain": [
       "  gender   age  earnings\n",
       "a      m  23.0    2500.0\n",
       "b      m  24.0       NaN\n",
       "c      m  25.0    2700.0\n",
       "d      m  28.0    3400.0\n",
       "e      m  32.0    2500.0\n",
       "f      f  54.0    2900.0\n",
       "g      f  21.0    4300.0\n",
       "h      f   NaN    3400.0\n",
       "i      f  45.0    3250.0\n",
       "j      f   NaN    1100.0"
      ]
     },
     "execution_count": 31,
     "metadata": {},
     "output_type": "execute_result"
    }
   ],
   "source": [
    "ramka"
   ]
  },
  {
   "cell_type": "markdown",
   "metadata": {},
   "source": [
    "17. Wyświetl typy zmiennych w ramce"
   ]
  },
  {
   "cell_type": "code",
   "execution_count": 32,
   "metadata": {
    "ExecuteTime": {
     "end_time": "2020-03-28T11:33:12.257258Z",
     "start_time": "2020-03-28T11:33:12.250273Z"
    }
   },
   "outputs": [
    {
     "data": {
      "text/plain": [
       "gender       object\n",
       "age         float64\n",
       "earnings    float64\n",
       "dtype: object"
      ]
     },
     "execution_count": 32,
     "metadata": {},
     "output_type": "execute_result"
    }
   ],
   "source": [
    "ramka.dtypes"
   ]
  },
  {
   "cell_type": "code",
   "execution_count": 33,
   "metadata": {
    "ExecuteTime": {
     "end_time": "2020-03-28T11:34:02.950861Z",
     "start_time": "2020-03-28T11:34:02.938894Z"
    }
   },
   "outputs": [
    {
     "name": "stdout",
     "output_type": "stream",
     "text": [
      "<class 'pandas.core.frame.DataFrame'>\n",
      "Index: 10 entries, a to j\n",
      "Data columns (total 3 columns):\n",
      "gender      10 non-null object\n",
      "age         8 non-null float64\n",
      "earnings    9 non-null float64\n",
      "dtypes: float64(2), object(1)\n",
      "memory usage: 320.0+ bytes\n"
     ]
    }
   ],
   "source": [
    "ramka.info()"
   ]
  },
  {
   "cell_type": "markdown",
   "metadata": {},
   "source": [
    "18. Wyświetl podstawowe statystyki opisowe za pomocą odpowiedniej metody"
   ]
  },
  {
   "cell_type": "code",
   "execution_count": 34,
   "metadata": {
    "ExecuteTime": {
     "end_time": "2020-03-28T11:34:30.676096Z",
     "start_time": "2020-03-28T11:34:30.652169Z"
    }
   },
   "outputs": [
    {
     "data": {
      "text/html": [
       "<div>\n",
       "<style scoped>\n",
       "    .dataframe tbody tr th:only-of-type {\n",
       "        vertical-align: middle;\n",
       "    }\n",
       "\n",
       "    .dataframe tbody tr th {\n",
       "        vertical-align: top;\n",
       "    }\n",
       "\n",
       "    .dataframe thead th {\n",
       "        text-align: right;\n",
       "    }\n",
       "</style>\n",
       "<table border=\"1\" class=\"dataframe\">\n",
       "  <thead>\n",
       "    <tr style=\"text-align: right;\">\n",
       "      <th></th>\n",
       "      <th>age</th>\n",
       "      <th>earnings</th>\n",
       "    </tr>\n",
       "  </thead>\n",
       "  <tbody>\n",
       "    <tr>\n",
       "      <td>count</td>\n",
       "      <td>8.000000</td>\n",
       "      <td>9.000000</td>\n",
       "    </tr>\n",
       "    <tr>\n",
       "      <td>mean</td>\n",
       "      <td>31.500000</td>\n",
       "      <td>2894.444444</td>\n",
       "    </tr>\n",
       "    <tr>\n",
       "      <td>std</td>\n",
       "      <td>11.844227</td>\n",
       "      <td>879.077800</td>\n",
       "    </tr>\n",
       "    <tr>\n",
       "      <td>min</td>\n",
       "      <td>21.000000</td>\n",
       "      <td>1100.000000</td>\n",
       "    </tr>\n",
       "    <tr>\n",
       "      <td>25%</td>\n",
       "      <td>23.750000</td>\n",
       "      <td>2500.000000</td>\n",
       "    </tr>\n",
       "    <tr>\n",
       "      <td>50%</td>\n",
       "      <td>26.500000</td>\n",
       "      <td>2900.000000</td>\n",
       "    </tr>\n",
       "    <tr>\n",
       "      <td>75%</td>\n",
       "      <td>35.250000</td>\n",
       "      <td>3400.000000</td>\n",
       "    </tr>\n",
       "    <tr>\n",
       "      <td>max</td>\n",
       "      <td>54.000000</td>\n",
       "      <td>4300.000000</td>\n",
       "    </tr>\n",
       "  </tbody>\n",
       "</table>\n",
       "</div>"
      ],
      "text/plain": [
       "             age     earnings\n",
       "count   8.000000     9.000000\n",
       "mean   31.500000  2894.444444\n",
       "std    11.844227   879.077800\n",
       "min    21.000000  1100.000000\n",
       "25%    23.750000  2500.000000\n",
       "50%    26.500000  2900.000000\n",
       "75%    35.250000  3400.000000\n",
       "max    54.000000  4300.000000"
      ]
     },
     "execution_count": 34,
     "metadata": {},
     "output_type": "execute_result"
    }
   ],
   "source": [
    "ramka.describe()"
   ]
  },
  {
   "cell_type": "markdown",
   "metadata": {},
   "source": [
    "19. Wyświetl pierwsze dwie obserwacje z ramki (dwoma sposobami)"
   ]
  },
  {
   "cell_type": "code",
   "execution_count": 35,
   "metadata": {
    "ExecuteTime": {
     "end_time": "2020-03-28T11:35:37.104478Z",
     "start_time": "2020-03-28T11:35:37.092314Z"
    }
   },
   "outputs": [
    {
     "data": {
      "text/html": [
       "<div>\n",
       "<style scoped>\n",
       "    .dataframe tbody tr th:only-of-type {\n",
       "        vertical-align: middle;\n",
       "    }\n",
       "\n",
       "    .dataframe tbody tr th {\n",
       "        vertical-align: top;\n",
       "    }\n",
       "\n",
       "    .dataframe thead th {\n",
       "        text-align: right;\n",
       "    }\n",
       "</style>\n",
       "<table border=\"1\" class=\"dataframe\">\n",
       "  <thead>\n",
       "    <tr style=\"text-align: right;\">\n",
       "      <th></th>\n",
       "      <th>gender</th>\n",
       "      <th>age</th>\n",
       "      <th>earnings</th>\n",
       "    </tr>\n",
       "  </thead>\n",
       "  <tbody>\n",
       "    <tr>\n",
       "      <td>a</td>\n",
       "      <td>m</td>\n",
       "      <td>23.0</td>\n",
       "      <td>2500.0</td>\n",
       "    </tr>\n",
       "    <tr>\n",
       "      <td>b</td>\n",
       "      <td>m</td>\n",
       "      <td>24.0</td>\n",
       "      <td>NaN</td>\n",
       "    </tr>\n",
       "  </tbody>\n",
       "</table>\n",
       "</div>"
      ],
      "text/plain": [
       "  gender   age  earnings\n",
       "a      m  23.0    2500.0\n",
       "b      m  24.0       NaN"
      ]
     },
     "execution_count": 35,
     "metadata": {},
     "output_type": "execute_result"
    }
   ],
   "source": [
    "ramka.head(2)"
   ]
  },
  {
   "cell_type": "code",
   "execution_count": 36,
   "metadata": {
    "ExecuteTime": {
     "end_time": "2020-03-28T11:36:03.176915Z",
     "start_time": "2020-03-28T11:36:03.160957Z"
    }
   },
   "outputs": [
    {
     "data": {
      "text/html": [
       "<div>\n",
       "<style scoped>\n",
       "    .dataframe tbody tr th:only-of-type {\n",
       "        vertical-align: middle;\n",
       "    }\n",
       "\n",
       "    .dataframe tbody tr th {\n",
       "        vertical-align: top;\n",
       "    }\n",
       "\n",
       "    .dataframe thead th {\n",
       "        text-align: right;\n",
       "    }\n",
       "</style>\n",
       "<table border=\"1\" class=\"dataframe\">\n",
       "  <thead>\n",
       "    <tr style=\"text-align: right;\">\n",
       "      <th></th>\n",
       "      <th>gender</th>\n",
       "      <th>age</th>\n",
       "      <th>earnings</th>\n",
       "    </tr>\n",
       "  </thead>\n",
       "  <tbody>\n",
       "    <tr>\n",
       "      <td>a</td>\n",
       "      <td>m</td>\n",
       "      <td>23.0</td>\n",
       "      <td>2500.0</td>\n",
       "    </tr>\n",
       "    <tr>\n",
       "      <td>b</td>\n",
       "      <td>m</td>\n",
       "      <td>24.0</td>\n",
       "      <td>NaN</td>\n",
       "    </tr>\n",
       "  </tbody>\n",
       "</table>\n",
       "</div>"
      ],
      "text/plain": [
       "  gender   age  earnings\n",
       "a      m  23.0    2500.0\n",
       "b      m  24.0       NaN"
      ]
     },
     "execution_count": 36,
     "metadata": {},
     "output_type": "execute_result"
    }
   ],
   "source": [
    "ramka.iloc[0:2,:]"
   ]
  },
  {
   "cell_type": "code",
   "execution_count": 37,
   "metadata": {
    "ExecuteTime": {
     "end_time": "2020-03-28T11:36:30.323315Z",
     "start_time": "2020-03-28T11:36:30.313343Z"
    }
   },
   "outputs": [
    {
     "data": {
      "text/html": [
       "<div>\n",
       "<style scoped>\n",
       "    .dataframe tbody tr th:only-of-type {\n",
       "        vertical-align: middle;\n",
       "    }\n",
       "\n",
       "    .dataframe tbody tr th {\n",
       "        vertical-align: top;\n",
       "    }\n",
       "\n",
       "    .dataframe thead th {\n",
       "        text-align: right;\n",
       "    }\n",
       "</style>\n",
       "<table border=\"1\" class=\"dataframe\">\n",
       "  <thead>\n",
       "    <tr style=\"text-align: right;\">\n",
       "      <th></th>\n",
       "      <th>gender</th>\n",
       "      <th>age</th>\n",
       "      <th>earnings</th>\n",
       "    </tr>\n",
       "  </thead>\n",
       "  <tbody>\n",
       "    <tr>\n",
       "      <td>a</td>\n",
       "      <td>m</td>\n",
       "      <td>23.0</td>\n",
       "      <td>2500.0</td>\n",
       "    </tr>\n",
       "    <tr>\n",
       "      <td>b</td>\n",
       "      <td>m</td>\n",
       "      <td>24.0</td>\n",
       "      <td>NaN</td>\n",
       "    </tr>\n",
       "  </tbody>\n",
       "</table>\n",
       "</div>"
      ],
      "text/plain": [
       "  gender   age  earnings\n",
       "a      m  23.0    2500.0\n",
       "b      m  24.0       NaN"
      ]
     },
     "execution_count": 37,
     "metadata": {},
     "output_type": "execute_result"
    }
   ],
   "source": [
    "ramka.loc[['a', 'b'], :]"
   ]
  },
  {
   "cell_type": "markdown",
   "metadata": {},
   "source": [
    "20. Wyświetl trzy ostatnie obserwacje z podanej ramki (dwoma sposobami)"
   ]
  },
  {
   "cell_type": "code",
   "execution_count": 38,
   "metadata": {
    "ExecuteTime": {
     "end_time": "2020-03-28T11:37:14.972509Z",
     "start_time": "2020-03-28T11:37:14.962534Z"
    }
   },
   "outputs": [
    {
     "data": {
      "text/html": [
       "<div>\n",
       "<style scoped>\n",
       "    .dataframe tbody tr th:only-of-type {\n",
       "        vertical-align: middle;\n",
       "    }\n",
       "\n",
       "    .dataframe tbody tr th {\n",
       "        vertical-align: top;\n",
       "    }\n",
       "\n",
       "    .dataframe thead th {\n",
       "        text-align: right;\n",
       "    }\n",
       "</style>\n",
       "<table border=\"1\" class=\"dataframe\">\n",
       "  <thead>\n",
       "    <tr style=\"text-align: right;\">\n",
       "      <th></th>\n",
       "      <th>gender</th>\n",
       "      <th>age</th>\n",
       "      <th>earnings</th>\n",
       "    </tr>\n",
       "  </thead>\n",
       "  <tbody>\n",
       "    <tr>\n",
       "      <td>h</td>\n",
       "      <td>f</td>\n",
       "      <td>NaN</td>\n",
       "      <td>3400.0</td>\n",
       "    </tr>\n",
       "    <tr>\n",
       "      <td>i</td>\n",
       "      <td>f</td>\n",
       "      <td>45.0</td>\n",
       "      <td>3250.0</td>\n",
       "    </tr>\n",
       "    <tr>\n",
       "      <td>j</td>\n",
       "      <td>f</td>\n",
       "      <td>NaN</td>\n",
       "      <td>1100.0</td>\n",
       "    </tr>\n",
       "  </tbody>\n",
       "</table>\n",
       "</div>"
      ],
      "text/plain": [
       "  gender   age  earnings\n",
       "h      f   NaN    3400.0\n",
       "i      f  45.0    3250.0\n",
       "j      f   NaN    1100.0"
      ]
     },
     "execution_count": 38,
     "metadata": {},
     "output_type": "execute_result"
    }
   ],
   "source": [
    "ramka.tail(3)"
   ]
  },
  {
   "cell_type": "code",
   "execution_count": 39,
   "metadata": {
    "ExecuteTime": {
     "end_time": "2020-03-28T11:37:29.190228Z",
     "start_time": "2020-03-28T11:37:29.179258Z"
    }
   },
   "outputs": [
    {
     "data": {
      "text/html": [
       "<div>\n",
       "<style scoped>\n",
       "    .dataframe tbody tr th:only-of-type {\n",
       "        vertical-align: middle;\n",
       "    }\n",
       "\n",
       "    .dataframe tbody tr th {\n",
       "        vertical-align: top;\n",
       "    }\n",
       "\n",
       "    .dataframe thead th {\n",
       "        text-align: right;\n",
       "    }\n",
       "</style>\n",
       "<table border=\"1\" class=\"dataframe\">\n",
       "  <thead>\n",
       "    <tr style=\"text-align: right;\">\n",
       "      <th></th>\n",
       "      <th>gender</th>\n",
       "      <th>age</th>\n",
       "      <th>earnings</th>\n",
       "    </tr>\n",
       "  </thead>\n",
       "  <tbody>\n",
       "    <tr>\n",
       "      <td>h</td>\n",
       "      <td>f</td>\n",
       "      <td>NaN</td>\n",
       "      <td>3400.0</td>\n",
       "    </tr>\n",
       "    <tr>\n",
       "      <td>i</td>\n",
       "      <td>f</td>\n",
       "      <td>45.0</td>\n",
       "      <td>3250.0</td>\n",
       "    </tr>\n",
       "    <tr>\n",
       "      <td>j</td>\n",
       "      <td>f</td>\n",
       "      <td>NaN</td>\n",
       "      <td>1100.0</td>\n",
       "    </tr>\n",
       "  </tbody>\n",
       "</table>\n",
       "</div>"
      ],
      "text/plain": [
       "  gender   age  earnings\n",
       "h      f   NaN    3400.0\n",
       "i      f  45.0    3250.0\n",
       "j      f   NaN    1100.0"
      ]
     },
     "execution_count": 39,
     "metadata": {},
     "output_type": "execute_result"
    }
   ],
   "source": [
    "ramka.iloc[-3:,:]"
   ]
  },
  {
   "cell_type": "code",
   "execution_count": 40,
   "metadata": {
    "ExecuteTime": {
     "end_time": "2020-03-28T11:38:01.512331Z",
     "start_time": "2020-03-28T11:38:01.499401Z"
    }
   },
   "outputs": [
    {
     "data": {
      "text/html": [
       "<div>\n",
       "<style scoped>\n",
       "    .dataframe tbody tr th:only-of-type {\n",
       "        vertical-align: middle;\n",
       "    }\n",
       "\n",
       "    .dataframe tbody tr th {\n",
       "        vertical-align: top;\n",
       "    }\n",
       "\n",
       "    .dataframe thead th {\n",
       "        text-align: right;\n",
       "    }\n",
       "</style>\n",
       "<table border=\"1\" class=\"dataframe\">\n",
       "  <thead>\n",
       "    <tr style=\"text-align: right;\">\n",
       "      <th></th>\n",
       "      <th>gender</th>\n",
       "      <th>age</th>\n",
       "      <th>earnings</th>\n",
       "    </tr>\n",
       "  </thead>\n",
       "  <tbody>\n",
       "    <tr>\n",
       "      <td>h</td>\n",
       "      <td>f</td>\n",
       "      <td>NaN</td>\n",
       "      <td>3400.0</td>\n",
       "    </tr>\n",
       "    <tr>\n",
       "      <td>i</td>\n",
       "      <td>f</td>\n",
       "      <td>45.0</td>\n",
       "      <td>3250.0</td>\n",
       "    </tr>\n",
       "    <tr>\n",
       "      <td>j</td>\n",
       "      <td>f</td>\n",
       "      <td>NaN</td>\n",
       "      <td>1100.0</td>\n",
       "    </tr>\n",
       "  </tbody>\n",
       "</table>\n",
       "</div>"
      ],
      "text/plain": [
       "  gender   age  earnings\n",
       "h      f   NaN    3400.0\n",
       "i      f  45.0    3250.0\n",
       "j      f   NaN    1100.0"
      ]
     },
     "execution_count": 40,
     "metadata": {},
     "output_type": "execute_result"
    }
   ],
   "source": [
    "ramka.loc[['h', 'i','j'], :]"
   ]
  },
  {
   "cell_type": "markdown",
   "metadata": {},
   "source": [
    "21. Wyświetl kolumnę 'age' i 'earnings' "
   ]
  },
  {
   "cell_type": "code",
   "execution_count": 41,
   "metadata": {
    "ExecuteTime": {
     "end_time": "2020-03-28T11:38:32.432993Z",
     "start_time": "2020-03-28T11:38:32.421025Z"
    }
   },
   "outputs": [
    {
     "data": {
      "text/html": [
       "<div>\n",
       "<style scoped>\n",
       "    .dataframe tbody tr th:only-of-type {\n",
       "        vertical-align: middle;\n",
       "    }\n",
       "\n",
       "    .dataframe tbody tr th {\n",
       "        vertical-align: top;\n",
       "    }\n",
       "\n",
       "    .dataframe thead th {\n",
       "        text-align: right;\n",
       "    }\n",
       "</style>\n",
       "<table border=\"1\" class=\"dataframe\">\n",
       "  <thead>\n",
       "    <tr style=\"text-align: right;\">\n",
       "      <th></th>\n",
       "      <th>age</th>\n",
       "      <th>earnings</th>\n",
       "    </tr>\n",
       "  </thead>\n",
       "  <tbody>\n",
       "    <tr>\n",
       "      <td>a</td>\n",
       "      <td>23.0</td>\n",
       "      <td>2500.0</td>\n",
       "    </tr>\n",
       "    <tr>\n",
       "      <td>b</td>\n",
       "      <td>24.0</td>\n",
       "      <td>NaN</td>\n",
       "    </tr>\n",
       "    <tr>\n",
       "      <td>c</td>\n",
       "      <td>25.0</td>\n",
       "      <td>2700.0</td>\n",
       "    </tr>\n",
       "    <tr>\n",
       "      <td>d</td>\n",
       "      <td>28.0</td>\n",
       "      <td>3400.0</td>\n",
       "    </tr>\n",
       "    <tr>\n",
       "      <td>e</td>\n",
       "      <td>32.0</td>\n",
       "      <td>2500.0</td>\n",
       "    </tr>\n",
       "    <tr>\n",
       "      <td>f</td>\n",
       "      <td>54.0</td>\n",
       "      <td>2900.0</td>\n",
       "    </tr>\n",
       "    <tr>\n",
       "      <td>g</td>\n",
       "      <td>21.0</td>\n",
       "      <td>4300.0</td>\n",
       "    </tr>\n",
       "    <tr>\n",
       "      <td>h</td>\n",
       "      <td>NaN</td>\n",
       "      <td>3400.0</td>\n",
       "    </tr>\n",
       "    <tr>\n",
       "      <td>i</td>\n",
       "      <td>45.0</td>\n",
       "      <td>3250.0</td>\n",
       "    </tr>\n",
       "    <tr>\n",
       "      <td>j</td>\n",
       "      <td>NaN</td>\n",
       "      <td>1100.0</td>\n",
       "    </tr>\n",
       "  </tbody>\n",
       "</table>\n",
       "</div>"
      ],
      "text/plain": [
       "    age  earnings\n",
       "a  23.0    2500.0\n",
       "b  24.0       NaN\n",
       "c  25.0    2700.0\n",
       "d  28.0    3400.0\n",
       "e  32.0    2500.0\n",
       "f  54.0    2900.0\n",
       "g  21.0    4300.0\n",
       "h   NaN    3400.0\n",
       "i  45.0    3250.0\n",
       "j   NaN    1100.0"
      ]
     },
     "execution_count": 41,
     "metadata": {},
     "output_type": "execute_result"
    }
   ],
   "source": [
    "ramka.loc[:,['age', 'earnings']]"
   ]
  },
  {
   "cell_type": "code",
   "execution_count": 42,
   "metadata": {
    "ExecuteTime": {
     "end_time": "2020-03-28T11:38:51.510236Z",
     "start_time": "2020-03-28T11:38:51.496236Z"
    }
   },
   "outputs": [
    {
     "data": {
      "text/html": [
       "<div>\n",
       "<style scoped>\n",
       "    .dataframe tbody tr th:only-of-type {\n",
       "        vertical-align: middle;\n",
       "    }\n",
       "\n",
       "    .dataframe tbody tr th {\n",
       "        vertical-align: top;\n",
       "    }\n",
       "\n",
       "    .dataframe thead th {\n",
       "        text-align: right;\n",
       "    }\n",
       "</style>\n",
       "<table border=\"1\" class=\"dataframe\">\n",
       "  <thead>\n",
       "    <tr style=\"text-align: right;\">\n",
       "      <th></th>\n",
       "      <th>age</th>\n",
       "      <th>earnings</th>\n",
       "    </tr>\n",
       "  </thead>\n",
       "  <tbody>\n",
       "    <tr>\n",
       "      <td>a</td>\n",
       "      <td>23.0</td>\n",
       "      <td>2500.0</td>\n",
       "    </tr>\n",
       "    <tr>\n",
       "      <td>b</td>\n",
       "      <td>24.0</td>\n",
       "      <td>NaN</td>\n",
       "    </tr>\n",
       "    <tr>\n",
       "      <td>c</td>\n",
       "      <td>25.0</td>\n",
       "      <td>2700.0</td>\n",
       "    </tr>\n",
       "    <tr>\n",
       "      <td>d</td>\n",
       "      <td>28.0</td>\n",
       "      <td>3400.0</td>\n",
       "    </tr>\n",
       "    <tr>\n",
       "      <td>e</td>\n",
       "      <td>32.0</td>\n",
       "      <td>2500.0</td>\n",
       "    </tr>\n",
       "    <tr>\n",
       "      <td>f</td>\n",
       "      <td>54.0</td>\n",
       "      <td>2900.0</td>\n",
       "    </tr>\n",
       "    <tr>\n",
       "      <td>g</td>\n",
       "      <td>21.0</td>\n",
       "      <td>4300.0</td>\n",
       "    </tr>\n",
       "    <tr>\n",
       "      <td>h</td>\n",
       "      <td>NaN</td>\n",
       "      <td>3400.0</td>\n",
       "    </tr>\n",
       "    <tr>\n",
       "      <td>i</td>\n",
       "      <td>45.0</td>\n",
       "      <td>3250.0</td>\n",
       "    </tr>\n",
       "    <tr>\n",
       "      <td>j</td>\n",
       "      <td>NaN</td>\n",
       "      <td>1100.0</td>\n",
       "    </tr>\n",
       "  </tbody>\n",
       "</table>\n",
       "</div>"
      ],
      "text/plain": [
       "    age  earnings\n",
       "a  23.0    2500.0\n",
       "b  24.0       NaN\n",
       "c  25.0    2700.0\n",
       "d  28.0    3400.0\n",
       "e  32.0    2500.0\n",
       "f  54.0    2900.0\n",
       "g  21.0    4300.0\n",
       "h   NaN    3400.0\n",
       "i  45.0    3250.0\n",
       "j   NaN    1100.0"
      ]
     },
     "execution_count": 42,
     "metadata": {},
     "output_type": "execute_result"
    }
   ],
   "source": [
    "ramka[['age', 'earnings']]"
   ]
  },
  {
   "cell_type": "markdown",
   "metadata": {},
   "source": [
    "22. Wyświetl ramkę zawierającą obserwacje nr 1,3,5 z kolumn 'gender' i 'earnings'"
   ]
  },
  {
   "cell_type": "code",
   "execution_count": 43,
   "metadata": {
    "ExecuteTime": {
     "end_time": "2020-03-28T11:40:54.474108Z",
     "start_time": "2020-03-28T11:40:54.463137Z"
    }
   },
   "outputs": [
    {
     "data": {
      "text/html": [
       "<div>\n",
       "<style scoped>\n",
       "    .dataframe tbody tr th:only-of-type {\n",
       "        vertical-align: middle;\n",
       "    }\n",
       "\n",
       "    .dataframe tbody tr th {\n",
       "        vertical-align: top;\n",
       "    }\n",
       "\n",
       "    .dataframe thead th {\n",
       "        text-align: right;\n",
       "    }\n",
       "</style>\n",
       "<table border=\"1\" class=\"dataframe\">\n",
       "  <thead>\n",
       "    <tr style=\"text-align: right;\">\n",
       "      <th></th>\n",
       "      <th>gender</th>\n",
       "      <th>earnings</th>\n",
       "    </tr>\n",
       "  </thead>\n",
       "  <tbody>\n",
       "    <tr>\n",
       "      <td>b</td>\n",
       "      <td>m</td>\n",
       "      <td>NaN</td>\n",
       "    </tr>\n",
       "    <tr>\n",
       "      <td>d</td>\n",
       "      <td>m</td>\n",
       "      <td>3400.0</td>\n",
       "    </tr>\n",
       "    <tr>\n",
       "      <td>f</td>\n",
       "      <td>f</td>\n",
       "      <td>2900.0</td>\n",
       "    </tr>\n",
       "  </tbody>\n",
       "</table>\n",
       "</div>"
      ],
      "text/plain": [
       "  gender  earnings\n",
       "b      m       NaN\n",
       "d      m    3400.0\n",
       "f      f    2900.0"
      ]
     },
     "execution_count": 43,
     "metadata": {},
     "output_type": "execute_result"
    }
   ],
   "source": [
    "ramka.iloc[[1,3,5], [0,2]]"
   ]
  },
  {
   "cell_type": "code",
   "execution_count": 44,
   "metadata": {
    "ExecuteTime": {
     "end_time": "2020-03-28T11:40:20.547125Z",
     "start_time": "2020-03-28T11:40:20.535057Z"
    }
   },
   "outputs": [
    {
     "data": {
      "text/html": [
       "<div>\n",
       "<style scoped>\n",
       "    .dataframe tbody tr th:only-of-type {\n",
       "        vertical-align: middle;\n",
       "    }\n",
       "\n",
       "    .dataframe tbody tr th {\n",
       "        vertical-align: top;\n",
       "    }\n",
       "\n",
       "    .dataframe thead th {\n",
       "        text-align: right;\n",
       "    }\n",
       "</style>\n",
       "<table border=\"1\" class=\"dataframe\">\n",
       "  <thead>\n",
       "    <tr style=\"text-align: right;\">\n",
       "      <th></th>\n",
       "      <th>gender</th>\n",
       "      <th>earnings</th>\n",
       "    </tr>\n",
       "  </thead>\n",
       "  <tbody>\n",
       "    <tr>\n",
       "      <td>b</td>\n",
       "      <td>m</td>\n",
       "      <td>NaN</td>\n",
       "    </tr>\n",
       "    <tr>\n",
       "      <td>d</td>\n",
       "      <td>m</td>\n",
       "      <td>3400.0</td>\n",
       "    </tr>\n",
       "    <tr>\n",
       "      <td>f</td>\n",
       "      <td>f</td>\n",
       "      <td>2900.0</td>\n",
       "    </tr>\n",
       "  </tbody>\n",
       "</table>\n",
       "</div>"
      ],
      "text/plain": [
       "  gender  earnings\n",
       "b      m       NaN\n",
       "d      m    3400.0\n",
       "f      f    2900.0"
      ]
     },
     "execution_count": 44,
     "metadata": {},
     "output_type": "execute_result"
    }
   ],
   "source": [
    "ramka.iloc[[1,3,5],:].loc[:,['gender', 'earnings']]"
   ]
  },
  {
   "cell_type": "markdown",
   "metadata": {
    "ExecuteTime": {
     "end_time": "2019-03-21T19:52:57.810236Z",
     "start_time": "2019-03-21T19:52:57.806236Z"
    }
   },
   "source": [
    "23. Wyświetl obserwacje, w których zarobki są niższe od 3000"
   ]
  },
  {
   "cell_type": "code",
   "execution_count": 45,
   "metadata": {
    "ExecuteTime": {
     "end_time": "2020-03-28T11:41:50.381030Z",
     "start_time": "2020-03-28T11:41:50.369065Z"
    }
   },
   "outputs": [
    {
     "data": {
      "text/html": [
       "<div>\n",
       "<style scoped>\n",
       "    .dataframe tbody tr th:only-of-type {\n",
       "        vertical-align: middle;\n",
       "    }\n",
       "\n",
       "    .dataframe tbody tr th {\n",
       "        vertical-align: top;\n",
       "    }\n",
       "\n",
       "    .dataframe thead th {\n",
       "        text-align: right;\n",
       "    }\n",
       "</style>\n",
       "<table border=\"1\" class=\"dataframe\">\n",
       "  <thead>\n",
       "    <tr style=\"text-align: right;\">\n",
       "      <th></th>\n",
       "      <th>gender</th>\n",
       "      <th>age</th>\n",
       "      <th>earnings</th>\n",
       "    </tr>\n",
       "  </thead>\n",
       "  <tbody>\n",
       "    <tr>\n",
       "      <td>a</td>\n",
       "      <td>m</td>\n",
       "      <td>23.0</td>\n",
       "      <td>2500.0</td>\n",
       "    </tr>\n",
       "    <tr>\n",
       "      <td>c</td>\n",
       "      <td>m</td>\n",
       "      <td>25.0</td>\n",
       "      <td>2700.0</td>\n",
       "    </tr>\n",
       "    <tr>\n",
       "      <td>e</td>\n",
       "      <td>m</td>\n",
       "      <td>32.0</td>\n",
       "      <td>2500.0</td>\n",
       "    </tr>\n",
       "    <tr>\n",
       "      <td>f</td>\n",
       "      <td>f</td>\n",
       "      <td>54.0</td>\n",
       "      <td>2900.0</td>\n",
       "    </tr>\n",
       "    <tr>\n",
       "      <td>j</td>\n",
       "      <td>f</td>\n",
       "      <td>NaN</td>\n",
       "      <td>1100.0</td>\n",
       "    </tr>\n",
       "  </tbody>\n",
       "</table>\n",
       "</div>"
      ],
      "text/plain": [
       "  gender   age  earnings\n",
       "a      m  23.0    2500.0\n",
       "c      m  25.0    2700.0\n",
       "e      m  32.0    2500.0\n",
       "f      f  54.0    2900.0\n",
       "j      f   NaN    1100.0"
      ]
     },
     "execution_count": 45,
     "metadata": {},
     "output_type": "execute_result"
    }
   ],
   "source": [
    "ramka[ramka['earnings'] < 3000]"
   ]
  },
  {
   "cell_type": "markdown",
   "metadata": {},
   "source": [
    "24. Wyświetl obserwacje, w których znajdują się  braki danych"
   ]
  },
  {
   "cell_type": "code",
   "execution_count": 46,
   "metadata": {
    "ExecuteTime": {
     "end_time": "2020-03-28T11:43:07.938840Z",
     "start_time": "2020-03-28T11:43:07.925897Z"
    }
   },
   "outputs": [
    {
     "data": {
      "text/html": [
       "<div>\n",
       "<style scoped>\n",
       "    .dataframe tbody tr th:only-of-type {\n",
       "        vertical-align: middle;\n",
       "    }\n",
       "\n",
       "    .dataframe tbody tr th {\n",
       "        vertical-align: top;\n",
       "    }\n",
       "\n",
       "    .dataframe thead th {\n",
       "        text-align: right;\n",
       "    }\n",
       "</style>\n",
       "<table border=\"1\" class=\"dataframe\">\n",
       "  <thead>\n",
       "    <tr style=\"text-align: right;\">\n",
       "      <th></th>\n",
       "      <th>gender</th>\n",
       "      <th>age</th>\n",
       "      <th>earnings</th>\n",
       "    </tr>\n",
       "  </thead>\n",
       "  <tbody>\n",
       "    <tr>\n",
       "      <td>b</td>\n",
       "      <td>m</td>\n",
       "      <td>24.0</td>\n",
       "      <td>NaN</td>\n",
       "    </tr>\n",
       "    <tr>\n",
       "      <td>h</td>\n",
       "      <td>f</td>\n",
       "      <td>NaN</td>\n",
       "      <td>3400.0</td>\n",
       "    </tr>\n",
       "    <tr>\n",
       "      <td>j</td>\n",
       "      <td>f</td>\n",
       "      <td>NaN</td>\n",
       "      <td>1100.0</td>\n",
       "    </tr>\n",
       "  </tbody>\n",
       "</table>\n",
       "</div>"
      ],
      "text/plain": [
       "  gender   age  earnings\n",
       "b      m  24.0       NaN\n",
       "h      f   NaN    3400.0\n",
       "j      f   NaN    1100.0"
      ]
     },
     "execution_count": 46,
     "metadata": {},
     "output_type": "execute_result"
    }
   ],
   "source": [
    "ramka[ramka.isna().any(axis=1)]"
   ]
  },
  {
   "cell_type": "markdown",
   "metadata": {
    "ExecuteTime": {
     "end_time": "2019-03-21T19:54:35.011423Z",
     "start_time": "2019-03-21T19:54:35.007423Z"
    }
   },
   "source": [
    "25. Wyświetl obserwacje, w których nie znajdują się żadne braki danych"
   ]
  },
  {
   "cell_type": "code",
   "execution_count": 47,
   "metadata": {
    "ExecuteTime": {
     "end_time": "2020-03-28T11:43:51.492449Z",
     "start_time": "2020-03-28T11:43:51.480480Z"
    }
   },
   "outputs": [
    {
     "data": {
      "text/html": [
       "<div>\n",
       "<style scoped>\n",
       "    .dataframe tbody tr th:only-of-type {\n",
       "        vertical-align: middle;\n",
       "    }\n",
       "\n",
       "    .dataframe tbody tr th {\n",
       "        vertical-align: top;\n",
       "    }\n",
       "\n",
       "    .dataframe thead th {\n",
       "        text-align: right;\n",
       "    }\n",
       "</style>\n",
       "<table border=\"1\" class=\"dataframe\">\n",
       "  <thead>\n",
       "    <tr style=\"text-align: right;\">\n",
       "      <th></th>\n",
       "      <th>gender</th>\n",
       "      <th>age</th>\n",
       "      <th>earnings</th>\n",
       "    </tr>\n",
       "  </thead>\n",
       "  <tbody>\n",
       "    <tr>\n",
       "      <td>a</td>\n",
       "      <td>m</td>\n",
       "      <td>23.0</td>\n",
       "      <td>2500.0</td>\n",
       "    </tr>\n",
       "    <tr>\n",
       "      <td>c</td>\n",
       "      <td>m</td>\n",
       "      <td>25.0</td>\n",
       "      <td>2700.0</td>\n",
       "    </tr>\n",
       "    <tr>\n",
       "      <td>d</td>\n",
       "      <td>m</td>\n",
       "      <td>28.0</td>\n",
       "      <td>3400.0</td>\n",
       "    </tr>\n",
       "    <tr>\n",
       "      <td>e</td>\n",
       "      <td>m</td>\n",
       "      <td>32.0</td>\n",
       "      <td>2500.0</td>\n",
       "    </tr>\n",
       "    <tr>\n",
       "      <td>f</td>\n",
       "      <td>f</td>\n",
       "      <td>54.0</td>\n",
       "      <td>2900.0</td>\n",
       "    </tr>\n",
       "    <tr>\n",
       "      <td>g</td>\n",
       "      <td>f</td>\n",
       "      <td>21.0</td>\n",
       "      <td>4300.0</td>\n",
       "    </tr>\n",
       "    <tr>\n",
       "      <td>i</td>\n",
       "      <td>f</td>\n",
       "      <td>45.0</td>\n",
       "      <td>3250.0</td>\n",
       "    </tr>\n",
       "  </tbody>\n",
       "</table>\n",
       "</div>"
      ],
      "text/plain": [
       "  gender   age  earnings\n",
       "a      m  23.0    2500.0\n",
       "c      m  25.0    2700.0\n",
       "d      m  28.0    3400.0\n",
       "e      m  32.0    2500.0\n",
       "f      f  54.0    2900.0\n",
       "g      f  21.0    4300.0\n",
       "i      f  45.0    3250.0"
      ]
     },
     "execution_count": 47,
     "metadata": {},
     "output_type": "execute_result"
    }
   ],
   "source": [
    "ramka[~ramka.isna().any(axis=1)]\n",
    "# https://pandas.pydata.org/pandas-docs/stable/reference/api/pandas.DataFrame.dropna.html"
   ]
  },
  {
   "cell_type": "markdown",
   "metadata": {},
   "source": [
    "26. Wyświetl obserwacje, gdzie wiek jest niższy od 30, zarobki wyższe od 3000"
   ]
  },
  {
   "cell_type": "code",
   "execution_count": 48,
   "metadata": {
    "ExecuteTime": {
     "end_time": "2020-03-28T11:45:10.047230Z",
     "start_time": "2020-03-28T11:45:10.035266Z"
    }
   },
   "outputs": [
    {
     "data": {
      "text/html": [
       "<div>\n",
       "<style scoped>\n",
       "    .dataframe tbody tr th:only-of-type {\n",
       "        vertical-align: middle;\n",
       "    }\n",
       "\n",
       "    .dataframe tbody tr th {\n",
       "        vertical-align: top;\n",
       "    }\n",
       "\n",
       "    .dataframe thead th {\n",
       "        text-align: right;\n",
       "    }\n",
       "</style>\n",
       "<table border=\"1\" class=\"dataframe\">\n",
       "  <thead>\n",
       "    <tr style=\"text-align: right;\">\n",
       "      <th></th>\n",
       "      <th>gender</th>\n",
       "      <th>age</th>\n",
       "      <th>earnings</th>\n",
       "    </tr>\n",
       "  </thead>\n",
       "  <tbody>\n",
       "    <tr>\n",
       "      <td>d</td>\n",
       "      <td>m</td>\n",
       "      <td>28.0</td>\n",
       "      <td>3400.0</td>\n",
       "    </tr>\n",
       "    <tr>\n",
       "      <td>g</td>\n",
       "      <td>f</td>\n",
       "      <td>21.0</td>\n",
       "      <td>4300.0</td>\n",
       "    </tr>\n",
       "  </tbody>\n",
       "</table>\n",
       "</div>"
      ],
      "text/plain": [
       "  gender   age  earnings\n",
       "d      m  28.0    3400.0\n",
       "g      f  21.0    4300.0"
      ]
     },
     "execution_count": 48,
     "metadata": {},
     "output_type": "execute_result"
    }
   ],
   "source": [
    "ramka[(ramka['age'] < 30) & (ramka['earnings'] > 3000)]\n",
    "\n",
    "# more inspiration for SQL-like queries: https://pandas.pydata.org/pandas-docs/stable/reference/api/pandas.DataFrame.query.html "
   ]
  },
  {
   "cell_type": "markdown",
   "metadata": {},
   "source": [
    "27. Wyświetl obserwacje, w których wiek znajduje się w przedziale [20;25]"
   ]
  },
  {
   "cell_type": "code",
   "execution_count": 49,
   "metadata": {
    "ExecuteTime": {
     "end_time": "2020-03-28T11:46:26.297152Z",
     "start_time": "2020-03-28T11:46:26.285184Z"
    }
   },
   "outputs": [
    {
     "data": {
      "text/html": [
       "<div>\n",
       "<style scoped>\n",
       "    .dataframe tbody tr th:only-of-type {\n",
       "        vertical-align: middle;\n",
       "    }\n",
       "\n",
       "    .dataframe tbody tr th {\n",
       "        vertical-align: top;\n",
       "    }\n",
       "\n",
       "    .dataframe thead th {\n",
       "        text-align: right;\n",
       "    }\n",
       "</style>\n",
       "<table border=\"1\" class=\"dataframe\">\n",
       "  <thead>\n",
       "    <tr style=\"text-align: right;\">\n",
       "      <th></th>\n",
       "      <th>gender</th>\n",
       "      <th>age</th>\n",
       "      <th>earnings</th>\n",
       "    </tr>\n",
       "  </thead>\n",
       "  <tbody>\n",
       "    <tr>\n",
       "      <td>a</td>\n",
       "      <td>m</td>\n",
       "      <td>23.0</td>\n",
       "      <td>2500.0</td>\n",
       "    </tr>\n",
       "    <tr>\n",
       "      <td>b</td>\n",
       "      <td>m</td>\n",
       "      <td>24.0</td>\n",
       "      <td>NaN</td>\n",
       "    </tr>\n",
       "    <tr>\n",
       "      <td>c</td>\n",
       "      <td>m</td>\n",
       "      <td>25.0</td>\n",
       "      <td>2700.0</td>\n",
       "    </tr>\n",
       "    <tr>\n",
       "      <td>g</td>\n",
       "      <td>f</td>\n",
       "      <td>21.0</td>\n",
       "      <td>4300.0</td>\n",
       "    </tr>\n",
       "  </tbody>\n",
       "</table>\n",
       "</div>"
      ],
      "text/plain": [
       "  gender   age  earnings\n",
       "a      m  23.0    2500.0\n",
       "b      m  24.0       NaN\n",
       "c      m  25.0    2700.0\n",
       "g      f  21.0    4300.0"
      ]
     },
     "execution_count": 49,
     "metadata": {},
     "output_type": "execute_result"
    }
   ],
   "source": [
    "ramka[ramka['age'].between(20,25)]"
   ]
  },
  {
   "cell_type": "markdown",
   "metadata": {},
   "source": [
    "28. Dodaj nowy wiersz o indeksie 'k' ['f',28, 3300]"
   ]
  },
  {
   "cell_type": "code",
   "execution_count": 50,
   "metadata": {
    "ExecuteTime": {
     "end_time": "2020-03-28T11:46:55.617290Z",
     "start_time": "2020-03-28T11:46:55.605322Z"
    }
   },
   "outputs": [],
   "source": [
    "ramka.loc['k'] = ['f', 28, 3000]"
   ]
  },
  {
   "cell_type": "code",
   "execution_count": 51,
   "metadata": {
    "ExecuteTime": {
     "end_time": "2020-03-28T11:52:00.866556Z",
     "start_time": "2020-03-28T11:52:00.861569Z"
    }
   },
   "outputs": [],
   "source": [
    "ramka.drop('b', inplace=True)"
   ]
  },
  {
   "cell_type": "code",
   "execution_count": 52,
   "metadata": {
    "ExecuteTime": {
     "end_time": "2020-03-28T11:52:05.013462Z",
     "start_time": "2020-03-28T11:52:05.002492Z"
    }
   },
   "outputs": [
    {
     "data": {
      "text/html": [
       "<div>\n",
       "<style scoped>\n",
       "    .dataframe tbody tr th:only-of-type {\n",
       "        vertical-align: middle;\n",
       "    }\n",
       "\n",
       "    .dataframe tbody tr th {\n",
       "        vertical-align: top;\n",
       "    }\n",
       "\n",
       "    .dataframe thead th {\n",
       "        text-align: right;\n",
       "    }\n",
       "</style>\n",
       "<table border=\"1\" class=\"dataframe\">\n",
       "  <thead>\n",
       "    <tr style=\"text-align: right;\">\n",
       "      <th></th>\n",
       "      <th>gender</th>\n",
       "      <th>age</th>\n",
       "      <th>earnings</th>\n",
       "    </tr>\n",
       "  </thead>\n",
       "  <tbody>\n",
       "    <tr>\n",
       "      <td>a</td>\n",
       "      <td>m</td>\n",
       "      <td>23.0</td>\n",
       "      <td>2500.0</td>\n",
       "    </tr>\n",
       "    <tr>\n",
       "      <td>c</td>\n",
       "      <td>m</td>\n",
       "      <td>25.0</td>\n",
       "      <td>2700.0</td>\n",
       "    </tr>\n",
       "    <tr>\n",
       "      <td>d</td>\n",
       "      <td>m</td>\n",
       "      <td>28.0</td>\n",
       "      <td>3400.0</td>\n",
       "    </tr>\n",
       "    <tr>\n",
       "      <td>e</td>\n",
       "      <td>m</td>\n",
       "      <td>32.0</td>\n",
       "      <td>2500.0</td>\n",
       "    </tr>\n",
       "    <tr>\n",
       "      <td>f</td>\n",
       "      <td>f</td>\n",
       "      <td>54.0</td>\n",
       "      <td>2900.0</td>\n",
       "    </tr>\n",
       "    <tr>\n",
       "      <td>g</td>\n",
       "      <td>f</td>\n",
       "      <td>21.0</td>\n",
       "      <td>4300.0</td>\n",
       "    </tr>\n",
       "    <tr>\n",
       "      <td>h</td>\n",
       "      <td>f</td>\n",
       "      <td>NaN</td>\n",
       "      <td>3400.0</td>\n",
       "    </tr>\n",
       "    <tr>\n",
       "      <td>i</td>\n",
       "      <td>f</td>\n",
       "      <td>45.0</td>\n",
       "      <td>3250.0</td>\n",
       "    </tr>\n",
       "    <tr>\n",
       "      <td>j</td>\n",
       "      <td>f</td>\n",
       "      <td>NaN</td>\n",
       "      <td>1100.0</td>\n",
       "    </tr>\n",
       "    <tr>\n",
       "      <td>k</td>\n",
       "      <td>f</td>\n",
       "      <td>28.0</td>\n",
       "      <td>3000.0</td>\n",
       "    </tr>\n",
       "  </tbody>\n",
       "</table>\n",
       "</div>"
      ],
      "text/plain": [
       "  gender   age  earnings\n",
       "a      m  23.0    2500.0\n",
       "c      m  25.0    2700.0\n",
       "d      m  28.0    3400.0\n",
       "e      m  32.0    2500.0\n",
       "f      f  54.0    2900.0\n",
       "g      f  21.0    4300.0\n",
       "h      f   NaN    3400.0\n",
       "i      f  45.0    3250.0\n",
       "j      f   NaN    1100.0\n",
       "k      f  28.0    3000.0"
      ]
     },
     "execution_count": 52,
     "metadata": {},
     "output_type": "execute_result"
    }
   ],
   "source": [
    "ramka"
   ]
  },
  {
   "cell_type": "code",
   "execution_count": 120,
   "metadata": {
    "ExecuteTime": {
     "end_time": "2020-03-28T11:47:03.335955Z",
     "start_time": "2020-03-28T11:47:03.325982Z"
    }
   },
   "outputs": [
    {
     "data": {
      "text/html": [
       "<div>\n",
       "<style scoped>\n",
       "    .dataframe tbody tr th:only-of-type {\n",
       "        vertical-align: middle;\n",
       "    }\n",
       "\n",
       "    .dataframe tbody tr th {\n",
       "        vertical-align: top;\n",
       "    }\n",
       "\n",
       "    .dataframe thead th {\n",
       "        text-align: right;\n",
       "    }\n",
       "</style>\n",
       "<table border=\"1\" class=\"dataframe\">\n",
       "  <thead>\n",
       "    <tr style=\"text-align: right;\">\n",
       "      <th></th>\n",
       "      <th>gender</th>\n",
       "      <th>age</th>\n",
       "      <th>earnings</th>\n",
       "    </tr>\n",
       "  </thead>\n",
       "  <tbody>\n",
       "    <tr>\n",
       "      <td>j</td>\n",
       "      <td>f</td>\n",
       "      <td>NaN</td>\n",
       "      <td>1100.0</td>\n",
       "    </tr>\n",
       "    <tr>\n",
       "      <td>k</td>\n",
       "      <td>f</td>\n",
       "      <td>28.0</td>\n",
       "      <td>3000.0</td>\n",
       "    </tr>\n",
       "  </tbody>\n",
       "</table>\n",
       "</div>"
      ],
      "text/plain": [
       "  gender   age  earnings\n",
       "j      f   NaN    1100.0\n",
       "k      f  28.0    3000.0"
      ]
     },
     "execution_count": 120,
     "metadata": {},
     "output_type": "execute_result"
    }
   ],
   "source": [
    "ramka.tail(2)"
   ]
  },
  {
   "cell_type": "markdown",
   "metadata": {},
   "source": [
    "29. Usuń wiersz 'j' z ramki"
   ]
  },
  {
   "cell_type": "code",
   "execution_count": 122,
   "metadata": {
    "ExecuteTime": {
     "end_time": "2020-03-28T11:47:39.709405Z",
     "start_time": "2020-03-28T11:47:39.704419Z"
    }
   },
   "outputs": [],
   "source": [
    "ramka = ramka.drop('j')"
   ]
  },
  {
   "cell_type": "code",
   "execution_count": 124,
   "metadata": {
    "ExecuteTime": {
     "end_time": "2020-03-28T11:48:16.589897Z",
     "start_time": "2020-03-28T11:48:16.586613Z"
    }
   },
   "outputs": [],
   "source": [
    "# ramka.drop('j', inplace=True)"
   ]
  },
  {
   "cell_type": "markdown",
   "metadata": {
    "ExecuteTime": {
     "end_time": "2019-03-21T19:59:22.558943Z",
     "start_time": "2019-03-21T19:59:22.555943Z"
    }
   },
   "source": [
    "30. Oblicz średnie wynagrodzenie w tym zbiorze"
   ]
  },
  {
   "cell_type": "code",
   "execution_count": null,
   "metadata": {
    "ExecuteTime": {
     "end_time": "2019-03-27T19:58:22.068805Z",
     "start_time": "2019-03-27T19:58:22.064805Z"
    }
   },
   "outputs": [],
   "source": []
  },
  {
   "cell_type": "markdown",
   "metadata": {},
   "source": [
    "31. Oblicz średnie wynagrodzenie wg płci"
   ]
  },
  {
   "cell_type": "code",
   "execution_count": null,
   "metadata": {
    "ExecuteTime": {
     "end_time": "2019-03-27T19:58:49.911127Z",
     "start_time": "2019-03-27T19:58:49.901125Z"
    }
   },
   "outputs": [],
   "source": []
  },
  {
   "cell_type": "markdown",
   "metadata": {},
   "source": [
    "32. Posortuj ramkę względem wieku malejąco"
   ]
  },
  {
   "cell_type": "code",
   "execution_count": null,
   "metadata": {
    "ExecuteTime": {
     "end_time": "2019-03-27T19:59:16.069383Z",
     "start_time": "2019-03-27T19:59:16.061389Z"
    }
   },
   "outputs": [],
   "source": []
  },
  {
   "cell_type": "markdown",
   "metadata": {},
   "source": [
    "33. Zamień w pierwszej kolumnie wszystkie wartości 'f' na 'female', a 'm' na 'male'"
   ]
  },
  {
   "cell_type": "code",
   "execution_count": null,
   "metadata": {
    "ExecuteTime": {
     "end_time": "2019-03-27T19:59:44.916931Z",
     "start_time": "2019-03-27T19:59:44.912930Z"
    }
   },
   "outputs": [],
   "source": []
  },
  {
   "cell_type": "markdown",
   "metadata": {},
   "source": [
    "34. Wskaż ile jest osób z podziałem na płeć w tym zbiorze"
   ]
  },
  {
   "cell_type": "code",
   "execution_count": null,
   "metadata": {
    "ExecuteTime": {
     "end_time": "2019-03-27T20:00:32.463529Z",
     "start_time": "2019-03-27T20:00:32.453535Z"
    }
   },
   "outputs": [],
   "source": []
  },
  {
   "cell_type": "markdown",
   "metadata": {},
   "source": [
    "35. Dla każdej płci wskaż średnie zarobki, i średni wiek"
   ]
  },
  {
   "cell_type": "code",
   "execution_count": null,
   "metadata": {},
   "outputs": [],
   "source": []
  },
  {
   "cell_type": "markdown",
   "metadata": {},
   "source": [
    "## Korelacja i regresja"
   ]
  },
  {
   "cell_type": "markdown",
   "metadata": {
    "ExecuteTime": {
     "end_time": "2019-03-27T20:00:40.806457Z",
     "start_time": "2019-03-27T20:00:40.798464Z"
    }
   },
   "source": [
    "<font color='blue'>**Korelacja** </font>. Do obliczania poziomu zależności liniowej między dwiema zmiennymi (X,Y) używamy współczynnika korelacji liniowej Pearsona. Przyjmuje on wartości z zakresu $[-1,1]$. \n",
    "\n",
    "$$ r_{xy} = \\frac{\\sum_{i=1}^{n}(x_i - \\overline{X})(y_i - \\overline{Y})}{\\sqrt{\\sum_{i=1}^{n}(x_i - \\overline{X})^2(y_i - \\overline{Y})^2}} $$\n",
    "\n",
    "gdzie: $\\overline{Y}, \\overline{X}$ to średnie wartości zmiennych\n",
    "\n",
    "Dodatnia wartość r mówi o tym, że wzrostowi jednej cechy odpowiada wzrost średnich wartości drugiej cechy. Wartość ujemna - wzrostowi wartości jednej cechy odpowiada spadek średnich wartości drugiej cechy. Wartość bezwzględna współczynnika korelacji Pearsona mówi o sile zależności. W pythonie można uzyskać macierz korelacji za pomocą ``np.corrcoef(x,y)``, a następnie wyciągnąć interesujący nas element macierzy. Alternatywą jest ``scipy.stats.pearsonr(x,y)`` i pierwszy element (czyli ten o indeksie zerowym) zwracanej krotki\n",
    "\n",
    "<font color='blue'>**Regresja**</font>\n",
    "\n",
    "O kształcie zależności mówi nam regresja. Dla cech X i Y, między którymi istnieje liniowa zależność korelacyjna można szacować parametry liniowej funkcji regresji.\n",
    "\n",
    "Regresja Y względem X:\n",
    "\n",
    "$$ \\hat{y} = a_y x + b_y$$\n",
    "\n",
    "$Y$ - cecha zależna, objaśniana\n",
    "$X$ - cecha niezależna, objaśniająca\n",
    "$a_y$ - współczynnik kierunkowy regresji, określa o ile jednostek przeciętnie zmieni się wartość cechy Y, gdy wartość cechy X wzrośnie o jedną jednostkę.\n",
    "\n",
    "$$ a_y = \\frac{\\sum_{i=1}^{n}(x_i - \\overline{X})(y_i - \\overline{Y})}{\\sum_{i=1}^{n}(x_i - \\overline{X})^2} $$ \n",
    "\n",
    "$ b_y $ - wyraz wolny\n",
    "$$ b_y = \\overline{Y} - a_y \\overline{X} $$\n",
    "\n",
    "Do oceny jakości dopasowania funkcji regresji możemy wykorzystać współczynnik determinacji $R^2$. Przyjmuje on wartości z zakresu $[0,1]$. Wyższe wartości oznaczają dobre dopasowanie. Mówi też on o tym jaka część zmienności zmiennej objaśnianej jest wyjaśniana przez model.\n",
    "\n",
    "$$ R^2 = r_{xy}^2 = \\frac{(\\hat{y}_t - \\overline{y})^2}{\\sum_{i=1}^{n}(y_t - \\overline{y})^2}$$\n",
    "\n",
    "Współczynnik zbieżności $\\varphi^2$ przyjmuje wartości z zakresu od $[0,1]$, i w przeciwieństwie do współczynnika determinacji dążymy do jak najmniejszej wartości.\n",
    "\n",
    "$$ \\varphi^2 = 1 - R^2 $$\n",
    "\n",
    "W pythonie możemy skorzystać z ``scipy.stats.linregress(x,y)``"
   ]
  },
  {
   "cell_type": "markdown",
   "metadata": {
    "ExecuteTime": {
     "end_time": "2019-04-03T20:22:53.420879Z",
     "start_time": "2019-04-03T20:22:53.413878Z"
    }
   },
   "source": [
    "<font color='red'>**Korelacja i regresja**</font> Chcąc zbadać zależność między ilością emitowanych dziennie w TV reklam pewnego proszku do prania a wysokością obrotów przeprowadzono badanie. Wyniki podano w poniższej tabeli:\n",
    "\n",
    "|Liczba reklam |\t3| \t4| \t5| \t6| \t5| \t7| \n",
    "| --- | --- | --- | --- | --- | --- |--- |\n",
    "|Obroty [tys. zł]| \t12| 13| 16| 18| 15| 22 |\n",
    "\n",
    "a) Sporządzić wykres rozrzutu. Obliczyć współczynnik korelacji Pearsona. Czy istnieje zależność między ilością reklam a wielkością obrotów? Jeżeli zależność istnieje to jaka jest jej siła? \n",
    "\n",
    "b) Wyznaczyć prostą regresji obrotów względem liczby reklam. Podać interpretację parametrów regresji.\n",
    "\n",
    "c) Wyznaczyć prostą regresji liczby reklam względem obrotów. Podać interpretację parametrów regresji.\n",
    "\n",
    "d) Jeśli zwiększymy ilość reklam do 8 dziennie, to jakie będą spodziewane obroty? \n",
    "\n",
    "e) Otrzymano obroty 17 tys. zł, jaka była przypuszczalna liczba reklam dziennie? \n",
    "\n",
    "f) W jakim procencie liczba reklam jest wyjaśniana przez obroty?\n",
    "\n",
    "g) Obliczyć współczynnik zbieżności. Zinterpretować otrzymany wynik. "
   ]
  },
  {
   "cell_type": "code",
   "execution_count": null,
   "metadata": {
    "ExecuteTime": {
     "end_time": "2019-04-19T17:08:32.853669Z",
     "start_time": "2019-04-19T17:08:32.850669Z"
    },
    "scrolled": true
   },
   "outputs": [],
   "source": [
    "reklamy = np.array([3, 4, 5, 6, 5, 7])\n",
    "obroty = np.array([12, 13, 16, 18, 15, 22])\n",
    "\n",
    "# a) wykres rozrzutu\n"
   ]
  },
  {
   "cell_type": "code",
   "execution_count": null,
   "metadata": {
    "ExecuteTime": {
     "end_time": "2019-04-19T17:10:12.877875Z",
     "start_time": "2019-04-19T17:10:12.875874Z"
    }
   },
   "outputs": [],
   "source": [
    "# pearson"
   ]
  },
  {
   "cell_type": "code",
   "execution_count": null,
   "metadata": {
    "ExecuteTime": {
     "end_time": "2019-04-19T16:51:01.601738Z",
     "start_time": "2019-04-19T16:51:01.596737Z"
    }
   },
   "outputs": [],
   "source": [
    "# reklamy względem obrotów"
   ]
  },
  {
   "cell_type": "code",
   "execution_count": null,
   "metadata": {
    "ExecuteTime": {
     "end_time": "2019-04-19T16:51:21.545871Z",
     "start_time": "2019-04-19T16:51:21.542871Z"
    }
   },
   "outputs": [],
   "source": [
    "# obroty  względem reklam"
   ]
  },
  {
   "cell_type": "code",
   "execution_count": null,
   "metadata": {
    "ExecuteTime": {
     "end_time": "2019-04-19T17:10:47.418213Z",
     "start_time": "2019-04-19T17:10:47.415212Z"
    },
    "scrolled": true
   },
   "outputs": [],
   "source": [
    "# ile wyniosą obroty, gdy reklamy = 5"
   ]
  },
  {
   "cell_type": "code",
   "execution_count": null,
   "metadata": {
    "ExecuteTime": {
     "end_time": "2019-04-19T16:52:58.125532Z",
     "start_time": "2019-04-19T16:52:58.120530Z"
    }
   },
   "outputs": [],
   "source": [
    "# ile było reklam jeśli obroty wyniosły 17"
   ]
  },
  {
   "cell_type": "code",
   "execution_count": null,
   "metadata": {
    "ExecuteTime": {
     "end_time": "2019-04-19T16:56:09.765582Z",
     "start_time": "2019-04-19T16:56:09.761581Z"
    }
   },
   "outputs": [],
   "source": [
    "# w ilu % jest wyjaśniana zmienności"
   ]
  },
  {
   "cell_type": "code",
   "execution_count": null,
   "metadata": {
    "ExecuteTime": {
     "end_time": "2019-04-19T16:56:45.975989Z",
     "start_time": "2019-04-19T16:56:45.972988Z"
    }
   },
   "outputs": [],
   "source": [
    "# współczynnik zbieżności"
   ]
  }
 ],
 "metadata": {
  "kernelspec": {
   "display_name": "Python 3",
   "language": "python",
   "name": "python3"
  },
  "language_info": {
   "codemirror_mode": {
    "name": "ipython",
    "version": 3
   },
   "file_extension": ".py",
   "mimetype": "text/x-python",
   "name": "python",
   "nbconvert_exporter": "python",
   "pygments_lexer": "ipython3",
   "version": "3.7.4"
  },
  "toc": {
   "base_numbering": 1,
   "nav_menu": {},
   "number_sections": true,
   "sideBar": true,
   "skip_h1_title": false,
   "title_cell": "Table of Contents",
   "title_sidebar": "Contents",
   "toc_cell": false,
   "toc_position": {
    "height": "calc(100% - 180px)",
    "left": "10px",
    "top": "150px",
    "width": "237.42px"
   },
   "toc_section_display": true,
   "toc_window_display": false
  },
  "varInspector": {
   "cols": {
    "lenName": 16,
    "lenType": 16,
    "lenVar": 40
   },
   "kernels_config": {
    "python": {
     "delete_cmd_postfix": "",
     "delete_cmd_prefix": "del ",
     "library": "var_list.py",
     "varRefreshCmd": "print(var_dic_list())"
    },
    "r": {
     "delete_cmd_postfix": ") ",
     "delete_cmd_prefix": "rm(",
     "library": "var_list.r",
     "varRefreshCmd": "cat(var_dic_list()) "
    }
   },
   "types_to_exclude": [
    "module",
    "function",
    "builtin_function_or_method",
    "instance",
    "_Feature"
   ],
   "window_display": false
  }
 },
 "nbformat": 4,
 "nbformat_minor": 2
}
